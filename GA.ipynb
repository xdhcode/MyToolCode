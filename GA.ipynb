{
 "cells": [
  {
   "cell_type": "code",
   "execution_count": 20,
   "metadata": {},
   "outputs": [],
   "source": [
    "import numpy as np\n",
    "import matplotlib.pyplot as plt\n",
    "%matplotlib qt5\n",
    "from IPython import display\n",
    "from matplotlib import cm\n",
    "from mpl_toolkits.mplot3d import Axes3D"
   ]
  },
  {
   "cell_type": "code",
   "execution_count": 2,
   "metadata": {},
   "outputs": [],
   "source": [
    "DNA_SIZE = 24\n",
    "POP_SIZE = 200\n",
    "CROSSOVER_RATE = 0.8\n",
    "MUTATION_RATE = 0.005\n",
    "N_GENERATIONS = 50\n",
    "X_BOUND = [-3, 3]\n",
    "Y_BOUND = [-3, 3]"
   ]
  },
  {
   "cell_type": "code",
   "execution_count": 3,
   "metadata": {},
   "outputs": [],
   "source": [
    "def F(x, y):\n",
    "    return 3*(1-x)**2*np.exp(-(x**2)-(y+1)**2)- 10*(x/5 - x**3 - y**5)*np.exp(-x**2-y**2)- 1/3**np.exp(-(x+1)**2 - y**2)"
   ]
  },
  {
   "cell_type": "code",
   "execution_count": 22,
   "metadata": {},
   "outputs": [],
   "source": [
    "def plot_3d(ax):\n",
    "    X = np.linspace(*X_BOUND, 100)\n",
    "    Y = np.linspace(*Y_BOUND, 100)\n",
    "    X,Y = np.meshgrid(X, Y)\n",
    "    Z = F(X, Y)\n",
    "    ax.plot_surface(X,Y,Z,rstride=1,cstride=1,cmap=cm.coolwarm)\n",
    "    ax.set_zlim(-10,10)\n",
    "    ax.set_xlabel('x')\n",
    "    ax.set_ylabel('y')\n",
    "    ax.set_zlabel('z')\n",
    "    plt.pause(0.1)\n",
    "    plt.show()"
   ]
  },
  {
   "cell_type": "code",
   "execution_count": 5,
   "metadata": {},
   "outputs": [],
   "source": [
    "def get_fitness(pop): \n",
    "    x,y = translateDNA(pop)\n",
    "    pred = F(x, y)\n",
    "    return (pred - np.min(pred)) + 1e-3 \n",
    "#减去最小的适应度是为了防止适应度出现负数，通过这一步fitness的范围为[0, np.max(pred)-np.min(pred)],\n",
    "#最后在加上一个很小的数防止出现为0的适应度"
   ]
  },
  {
   "cell_type": "code",
   "execution_count": 6,
   "metadata": {},
   "outputs": [],
   "source": [
    "def translateDNA(pop): #pop表示种群矩阵，一行表示一个二进制编码表示的DNA，矩阵的行数为种群数目\n",
    "    x_pop = pop[:,1::2]#奇数列表示X\n",
    "    y_pop = pop[:,::2] #偶数列表示y\n",
    "    #pop:(POP_SIZE,DNA_SIZE)*(DNA_SIZE,1) --> (POP_SIZE,1)\n",
    "    x = x_pop.dot(2**np.arange(DNA_SIZE)[::-1])/float(2**DNA_SIZE-1)*(X_BOUND[1]-X_BOUND[0])+X_BOUND[0]\n",
    "    y = y_pop.dot(2**np.arange(DNA_SIZE)[::-1])/float(2**DNA_SIZE-1)*(Y_BOUND[1]-Y_BOUND[0])+Y_BOUND[0]\n",
    "    return x,y"
   ]
  },
  {
   "cell_type": "code",
   "execution_count": 7,
   "metadata": {},
   "outputs": [],
   "source": [
    "def crossover_and_mutation(pop, CROSSOVER_RATE = 0.8):\n",
    "    new_pop = []\n",
    "    for father in pop:\t\t#遍历种群中的每一个个体，将该个体作为父亲\n",
    "        child = father\t\t#孩子先得到父亲的全部基因（这里我把一串二进制串的那些0，1称为基因）\n",
    "        if np.random.rand() < CROSSOVER_RATE:\t\t\t#产生子代时不是必然发生交叉，而是以一定的概率发生交叉\n",
    "            mother = pop[np.random.randint(POP_SIZE)]\t#再种群中选择另一个个体，并将该个体作为母亲\n",
    "            cross_points = np.random.randint(low=0, high=DNA_SIZE*2)\t#随机产生交叉的点\n",
    "            child[cross_points:] = mother[cross_points:]\t\t#孩子得到位于交叉点后的母亲的基因\n",
    "        mutation(child)\t#每个后代有一定的机率发生变异\n",
    "        new_pop.append(child)\n",
    "    return new_pop"
   ]
  },
  {
   "cell_type": "code",
   "execution_count": 8,
   "metadata": {},
   "outputs": [],
   "source": [
    "def mutation(child, MUTATION_RATE=0.003):\n",
    "    if np.random.rand() < MUTATION_RATE: \t\t\t\t#以MUTATION_RATE的概率进行变异\n",
    "        mutate_point = np.random.randint(0, DNA_SIZE)\t#随机产生一个实数，代表要变异基因的位置\n",
    "        child[mutate_point] = child[mutate_point]^1 \t#将变异点的二进制为反转"
   ]
  },
  {
   "cell_type": "code",
   "execution_count": 9,
   "metadata": {},
   "outputs": [],
   "source": [
    "def select(pop, fitness):    # nature selection wrt pop's fitness\n",
    "    idx = np.random.choice(np.arange(POP_SIZE), size=POP_SIZE, replace=True,p=(fitness)/(fitness.sum()))\n",
    "    return pop[idx]"
   ]
  },
  {
   "cell_type": "code",
   "execution_count": 10,
   "metadata": {},
   "outputs": [],
   "source": [
    "def print_info(pop):\n",
    "    fitness = get_fitness(pop)\n",
    "    max_fitness_index = np.argmax(fitness)\n",
    "    print(\"max_fitness:\", fitness[max_fitness_index])\n",
    "    x,y = translateDNA(pop)\n",
    "    print(\"最优的基因型：\", pop[max_fitness_index])\n",
    "    print(\"(x, y):\", (x[max_fitness_index], y[max_fitness_index]))"
   ]
  },
  {
   "cell_type": "code",
   "execution_count": 23,
   "metadata": {},
   "outputs": [
    {
     "name": "stdout",
     "output_type": "stream",
     "text": [
      "max_fitness: 0.002189844081557645\n",
      "最优的基因型： [1 0 1 1 0 1 0 1 0 1 1 1 0 1 0 1 0 1 0 0 0 0 0 1 0 0 0 0 0 0 1 1 1 1 0 0 1\n",
      " 1 0 1 1 1 1 0 0 1 1 1]\n",
      "(x, y): (-0.010095298891979354, 1.5939036961736504)\n"
     ]
    }
   ],
   "source": [
    "if __name__ == \"__main__\":\n",
    "    fig = plt.figure()\n",
    "    ax = Axes3D(fig)\n",
    "    plt.ion()#将画图模式改为交互模式，程序遇到plt.show不会暂停，而是继续执行\n",
    "    plot_3d(ax)\n",
    "    pop = np.random.randint(2, size=(POP_SIZE, DNA_SIZE*2)) #matrix (POP_SIZE, DNA_SIZE)\n",
    "    for _ in range(N_GENERATIONS):#迭代N代\n",
    "        x,y = translateDNA(pop)\n",
    "        if 'sca' in locals(): \n",
    "            sca.remove()\n",
    "        sca = ax.scatter(x, y, F(x,y), c='black', marker='o');plt.show();plt.pause(0.1)\n",
    "        pop = np.array(crossover_and_mutation(pop, CROSSOVER_RATE))\n",
    "        #F_values = F(translateDNA(pop)[0], translateDNA(pop)[1])#x, y --> Z matrix\n",
    "        fitness = get_fitness(pop)\n",
    "        pop = select(pop, fitness) #选择生成新的种群\n",
    "    print_info(pop)\n",
    "    plt.ioff()\n",
    "    plot_3d(ax)"
   ]
  },
  {
   "cell_type": "code",
   "execution_count": null,
   "metadata": {},
   "outputs": [],
   "source": []
  }
 ],
 "metadata": {
  "kernelspec": {
   "display_name": "Python 3",
   "language": "python",
   "name": "python3"
  },
  "language_info": {
   "codemirror_mode": {
    "name": "ipython",
    "version": 3
   },
   "file_extension": ".py",
   "mimetype": "text/x-python",
   "name": "python",
   "nbconvert_exporter": "python",
   "pygments_lexer": "ipython3",
   "version": "3.7.9"
  }
 },
 "nbformat": 4,
 "nbformat_minor": 4
}
