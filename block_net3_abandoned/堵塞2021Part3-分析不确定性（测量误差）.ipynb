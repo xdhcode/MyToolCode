{
 "cells": [
  {
   "cell_type": "code",
   "execution_count": null,
   "id": "dd09431b",
   "metadata": {},
   "outputs": [],
   "source": [
    "本节内容：\n",
    "将样本的三个变量（堵塞大小、测量误差、用户需求）进行控制变量分析。\n",
    "选择测量误差作为不确定。"
   ]
  },
  {
   "cell_type": "code",
   "execution_count": 1,
   "id": "17124df7",
   "metadata": {
    "ExecuteTime": {
     "end_time": "2022-01-10T08:27:19.281334Z",
     "start_time": "2022-01-10T08:27:17.784478Z"
    }
   },
   "outputs": [
    {
     "name": "stdout",
     "output_type": "stream",
     "text": [
      "E:\\NBCode\\block\\blockagedata\n"
     ]
    }
   ],
   "source": [
    "import torch\n",
    "import torch.nn as nn\n",
    "import torch.nn.functional as F\n",
    "import torch.utils.data as Data\n",
    "from torch.optim import Adam,AdamW\n",
    "from torch.optim.lr_scheduler import LambdaLR\n",
    "from torch.utils.data import DataLoader\n",
    "from prefetch_generator import BackgroundGenerator\n",
    "import pandas as pd\n",
    "import numpy as np\n",
    "from tqdm import tqdm\n",
    "import os\n",
    "import matplotlib\n",
    "import matplotlib.pyplot as plt \n",
    "import hiddenlayer as hl\n",
    "from sklearn.model_selection import train_test_split,StratifiedKFold\n",
    "from sklearn.decomposition import PCA\n",
    "from sklearn.preprocessing import QuantileTransformer,RobustScaler\n",
    "from sklearn.metrics import accuracy_score\n",
    "import lightgbm as lgb\n",
    "#准备文件夹保存数据\n",
    "local_path=os.getcwd()\n",
    "if not os.path.exists(local_path+'\\\\blockagedata'):\n",
    "    os.mkdir(local_path+'\\\\blockagedata')\n",
    "print(local_path+'\\\\blockagedata')\n",
    "#判断是否可以使用GPU\n",
    "device = torch.device(\"cuda:0\" if torch.cuda.is_available() else \"cpu\")"
   ]
  },
  {
   "cell_type": "code",
   "execution_count": 2,
   "id": "6bc7ad27",
   "metadata": {
    "ExecuteTime": {
     "end_time": "2022-01-10T08:27:25.661243Z",
     "start_time": "2022-01-10T08:27:25.622118Z"
    }
   },
   "outputs": [
    {
     "name": "stdout",
     "output_type": "stream",
     "text": [
      "E:\\NBCode\\block\\blockagedata\n"
     ]
    }
   ],
   "source": [
    "import pandas as pd\n",
    "import numpy as np\n",
    "from tqdm import tqdm\n",
    "import os\n",
    "import matplotlib\n",
    "import matplotlib.pyplot as plt \n",
    "from sklearn.model_selection import train_test_split,RandomizedSearchCV,GridSearchCV,StratifiedKFold,cross_validate\n",
    "from sklearn.decomposition import PCA\n",
    "from sklearn.preprocessing import QuantileTransformer\n",
    "from sklearn.metrics import accuracy_score,confusion_matrix\n",
    "from sklearn.pipeline import Pipeline\n",
    "from scipy.stats import loguniform,uniform,randint\n",
    "from sklearn.svm import SVC\n",
    "from sklearn.ensemble import RandomForestClassifier\n",
    "from sklearn.neighbors import KNeighborsClassifier\n",
    "#准备文件夹保存数据\n",
    "local_path=os.getcwd()\n",
    "if not os.path.exists(local_path+'\\\\blockagedata'):\n",
    "    os.mkdir(local_path+'\\\\blockagedata')\n",
    "print(local_path+'\\\\blockagedata')"
   ]
  },
  {
   "cell_type": "markdown",
   "id": "086e5815",
   "metadata": {},
   "source": [
    "# ANN"
   ]
  },
  {
   "cell_type": "code",
   "execution_count": 3,
   "id": "bc5dbf56",
   "metadata": {
    "ExecuteTime": {
     "end_time": "2022-01-10T08:27:27.884549Z",
     "start_time": "2022-01-10T08:27:27.873441Z"
    }
   },
   "outputs": [],
   "source": [
    "class DataLoaderX(DataLoader):\n",
    "    def __iter__(self):\n",
    "        return BackgroundGenerator(super().__iter__())\n",
    "#ANN\n",
    "class ANN(nn.Module):\n",
    "    def __init__(self,d1,hidden_size,d2):\n",
    "        super(ANN,self).__init__()\n",
    "        self.ann=nn.Sequential(nn.BatchNorm1d(d1,momentum=0.5),\n",
    "                               nn.Linear(d1,hidden_size),\n",
    "                               nn.LeakyReLU(),\n",
    "                               nn.BatchNorm1d(hidden_size,momentum=0.5),\n",
    "                               nn.Linear(hidden_size,d2),\n",
    "                               nn.LeakyReLU()\n",
    "                              )\n",
    "    def forward(self,x):\n",
    "        x = self.ann(x)\n",
    "        return x\n",
    "#训练模型\n",
    "def anntrain(args):\n",
    "    model=ANN(d1=args['d1'],hidden_size=args['hidden_size'],d2=args['d2']).to(device)\n",
    "    criterion=nn.CrossEntropyLoss().to(device)\n",
    "    optimizer=AdamW(model.parameters(),lr=args['learning_rate'],weight_decay=args['weight_decay'])\n",
    "    scheduler=LambdaLR(optimizer,verbose=False,lr_lambda=lambda epoch:1/(epoch/100+1))\n",
    "    train_loader=DataLoader(dataset=train_data,batch_size=len(x_train),\n",
    "                                  shuffle=True,num_workers=0)\n",
    "    history1=hl.History()\n",
    "    canvas1=hl.Canvas()\n",
    "    best_acc=0\n",
    "    for epoch in tqdm(range(args['epoches'])):\n",
    "        for step,(batch_x,batch_y) in enumerate(train_loader):\n",
    "            #输出层与标签之间的误差    \n",
    "            model.train()\n",
    "            prediction=model(batch_x)\n",
    "            loss=criterion(prediction,batch_y)\n",
    "            optimizer.zero_grad()\n",
    "            loss.backward()\n",
    "            optimizer.step()\n",
    "            #记录误差曲线和acc曲线\n",
    "            steps=epoch*len(train_loader)+step+1\n",
    "            if steps%25==0:\n",
    "                test_acc=score_model(x_test_tensor,y_test_tensor,model)\n",
    "                best_acc=test_acc if test_acc>best_acc else best_acc\n",
    "                history1.log(steps,train_loss=loss.item(),test_accuracy=test_acc)\n",
    "        scheduler.step()\n",
    "    with canvas1:\n",
    "        canvas1.draw_plot(history1['train_loss'])\n",
    "        canvas1.draw_plot(history1['test_accuracy'])\n",
    "    print('train_loss:%.4f'%loss.item())\n",
    "    print('test_acc:%.4f'%test_acc)\n",
    "    print('best_acc:%.4f'%best_acc)\n",
    "    return model,best_acc\n",
    "#测试数据\n",
    "def run_model(data,model):\n",
    "    model.eval()\n",
    "    torch.no_grad()\n",
    "    prediction=model(data)\n",
    "    return prediction.detach()\n",
    "def score_model(x_tensor,label_tensor,model):\n",
    "    x=run_model(x_tensor,model)\n",
    "    x=torch.argmax(x,1).unsqueeze(1)\n",
    "    score=(x==label_tensor).sum().item()/len(x)\n",
    "    return score"
   ]
  },
  {
   "cell_type": "markdown",
   "id": "e041a9b4",
   "metadata": {},
   "source": [
    "## 得到模型"
   ]
  },
  {
   "cell_type": "code",
   "execution_count": 7,
   "id": "f311d15c",
   "metadata": {
    "ExecuteTime": {
     "end_time": "2022-01-10T08:50:20.303825Z",
     "start_time": "2022-01-10T08:50:19.904424Z"
    }
   },
   "outputs": [],
   "source": [
    "#读取模型数据\n",
    "sample=pd.read_csv(local_path+'\\\\blockagedata\\\\Sample_116.csv',header=0)\n",
    "#划分样本和标签\n",
    "s1=sample.iloc[np.where(sample.loc[:,'dn']==1)[0],:]\n",
    "s2=sample.iloc[np.where(sample.loc[:,'dn']==2)[0],:]\n",
    "s3=sample.iloc[np.where(sample.loc[:,'dn']==3)[0],:]\n",
    "s4=sample.iloc[np.where(sample.loc[:,'dn']==4)[0],:]\n",
    "s5=sample.iloc[np.where(sample.loc[:,'dn']==5)[0],:]\n",
    "s6=sample.iloc[np.where(sample.loc[:,'dn']==6)[0],:]\n",
    "s7=sample.iloc[np.where(sample.loc[:,'dn']==7)[0],:]\n",
    "s8=sample.iloc[np.where(sample.loc[:,'dn']==8)[0],:]\n",
    "s9=sample.iloc[np.where(sample.loc[:,'dn']==9)[0],:]\n",
    "err=0.05\n",
    "ts1=s9.iloc[np.where(s9.loc[:,'time']==6)[0],:]\n",
    "ts2=s9.iloc[np.where(s9.loc[:,'time']==12)[0],:]\n",
    "ts3=s9.iloc[np.where(s9.loc[:,'time']==17)[0],:]\n",
    "ts10=pd.concat([ts1,ts2,ts3,ts1,ts2,ts3,ts1,ts2,ts3,ts1,ts2,ts3,ts1,ts2,ts3],axis=0)\n",
    "np.random.seed(1)\n",
    "ts10_err=ts10.iloc[:,range(96)]*np.random.normal(loc=1,scale=err,size=(1740,96))"
   ]
  },
  {
   "cell_type": "code",
   "execution_count": 8,
   "id": "8555a75f",
   "metadata": {
    "ExecuteTime": {
     "end_time": "2022-01-10T08:50:21.771028Z",
     "start_time": "2022-01-10T08:50:21.766026Z"
    }
   },
   "outputs": [
    {
     "data": {
      "text/plain": [
       "(1740, 99)"
      ]
     },
     "execution_count": 8,
     "metadata": {},
     "output_type": "execute_result"
    }
   ],
   "source": [
    "ts10.shape"
   ]
  },
  {
   "cell_type": "code",
   "execution_count": 66,
   "id": "f9e50e85",
   "metadata": {
    "ExecuteTime": {
     "end_time": "2022-01-07T08:06:02.693317Z",
     "start_time": "2022-01-07T08:06:02.598250Z"
    },
    "collapsed": true
   },
   "outputs": [
    {
     "name": "stdout",
     "output_type": "stream",
     "text": [
      "0 4\n",
      "0 5\n",
      "0 6\n",
      "0 7\n",
      "0 8\n",
      "0 9\n",
      "1 3\n",
      "1 4\n",
      "1 5\n",
      "1 6\n",
      "1 7\n",
      "1 8\n",
      "1 9\n",
      "2 3\n",
      "2 4\n",
      "2 5\n",
      "2 6\n",
      "2 7\n",
      "2 8\n",
      "2 9\n",
      "3 3\n",
      "3 4\n",
      "3 5\n",
      "3 6\n",
      "3 7\n",
      "3 8\n",
      "3 9\n",
      "4 3\n",
      "4 4\n",
      "4 5\n",
      "4 6\n",
      "4 7\n",
      "4 8\n",
      "4 9\n",
      "5 3\n",
      "5 4\n",
      "5 5\n",
      "5 6\n",
      "5 7\n",
      "5 9\n",
      "6 3\n",
      "6 4\n",
      "6 5\n",
      "6 6\n",
      "6 8\n",
      "6 9\n",
      "7 5\n",
      "7 7\n",
      "7 8\n",
      "7 9\n",
      "8 3\n",
      "8 5\n",
      "8 7\n",
      "8 8\n",
      "8 9\n",
      "9 3\n",
      "9 5\n",
      "9 6\n",
      "9 7\n",
      "9 8\n",
      "9 9\n",
      "10 3\n",
      "10 5\n",
      "10 6\n",
      "10 7\n",
      "10 9\n",
      "11 3\n",
      "11 5\n",
      "11 7\n",
      "11 8\n",
      "11 9\n",
      "12 3\n",
      "12 5\n",
      "12 6\n",
      "12 7\n",
      "12 8\n",
      "12 9\n",
      "13 3\n",
      "13 4\n",
      "13 5\n",
      "13 6\n",
      "13 7\n",
      "13 8\n",
      "13 9\n",
      "14 3\n",
      "14 4\n",
      "14 5\n",
      "14 6\n",
      "14 7\n",
      "14 8\n",
      "14 9\n",
      "15 3\n",
      "15 4\n",
      "15 5\n",
      "15 6\n",
      "15 7\n",
      "15 8\n",
      "15 9\n",
      "16 3\n",
      "16 4\n",
      "16 5\n",
      "16 6\n",
      "16 7\n",
      "16 8\n",
      "16 9\n",
      "17 3\n",
      "17 4\n",
      "17 5\n",
      "17 6\n",
      "17 8\n",
      "17 9\n",
      "18 5\n",
      "18 8\n",
      "18 9\n",
      "19 3\n",
      "19 8\n",
      "19 9\n",
      "20 3\n",
      "20 7\n",
      "20 8\n",
      "20 9\n",
      "21 3\n",
      "21 5\n",
      "21 7\n",
      "21 8\n",
      "21 9\n",
      "22 3\n",
      "22 4\n",
      "22 5\n",
      "22 6\n",
      "22 7\n",
      "22 8\n",
      "22 9\n",
      "23 3\n",
      "23 4\n",
      "23 5\n",
      "23 6\n",
      "23 7\n",
      "23 9\n"
     ]
    }
   ],
   "source": [
    "for i in range(24):\n",
    "    s=sample.iloc[np.where(sample.loc[:,'time']==i)[0],:]\n",
    "    for j in range(1,10):\n",
    "        t=s.iloc[np.where(s.loc[:,'dn']==j)[0],:]\n",
    "        if len(t)==116:\n",
    "            print(i,j)"
   ]
  },
  {
   "cell_type": "code",
   "execution_count": 19,
   "id": "2a7c0cbe",
   "metadata": {
    "ExecuteTime": {
     "end_time": "2022-01-07T09:22:57.208923Z",
     "start_time": "2022-01-07T09:20:49.568464Z"
    },
    "scrolled": false
   },
   "outputs": [
    {
     "data": {
      "image/png": "[encoded data removed]",
      "text/plain": [
       "<Figure size 864x576 with 2 Axes>"
      ]
     },
     "metadata": {
      "needs_background": "light"
     },
     "output_type": "display_data"
    },
    {
     "name": "stdout",
     "output_type": "stream",
     "text": [
      "train_loss:0.0003\n",
      "test_acc:0.9943\n",
      "best_acc:0.9971\n",
      "train_acc: 1.0\n",
      "acc: [1.0, 0.9971264367816092, 0.9971264367816092, 0.9971264367816092, 0.9971264367816092]\n",
      "ave_acc 0.9977011494252874\n",
      "score_record: [0.9977011494252874]\n",
      "hs_record: [110]\n"
     ]
    }
   ],
   "source": [
    "#划分样本和标签\n",
    "x=np.array(ts10_err)#.astype(int)\n",
    "y=np.array(ts10.loc[:,'code']).reshape(-1,1).astype(int)\n",
    "#训练模型\n",
    "skf = StratifiedKFold(n_splits=5,shuffle=True,random_state=1)\n",
    "score_record=[]\n",
    "hs_record=[]\n",
    "for hs in range(110,120,10):\n",
    "    params={\n",
    "    \"d1\":96,\n",
    "    \"hidden_size\": hs,\n",
    "    \"d2\":116,\n",
    "    \"learning_rate\":0.01,\n",
    "    \"epoches\":1500,\n",
    "    \"weight_decay\":0.01\n",
    "    }\n",
    "    acc=[]\n",
    "    for train_index, test_index in skf.split(x,y):\n",
    "        x_train, x_test = x[train_index], x[test_index]\n",
    "        y_train, y_test = y[train_index], y[test_index]\n",
    "        #qt\n",
    "        qt = QuantileTransformer(output_distribution = 'uniform' )\n",
    "        x_train = qt.fit_transform(x_train)\n",
    "        x_test = qt.transform(x_test)\n",
    "        #numpy转为张量\n",
    "        x_train_tensor=torch.from_numpy(x_train).float().to(device)\n",
    "        y_train_tensor=torch.from_numpy(y_train).to(device)\n",
    "        x_test_tensor=torch.from_numpy(x_test).float().to(device)\n",
    "        y_test_tensor=torch.from_numpy(y_test).to(device)\n",
    "        train_data=Data.TensorDataset(x_train_tensor,y_train_tensor.long().squeeze())\n",
    "        annmodel,best_acc=anntrain(params)\n",
    "        train_acc=score_model(x_train_tensor,y_train_tensor,annmodel)\n",
    "        print('train_acc:',train_acc)\n",
    "        acc.append(best_acc)\n",
    "        print('acc:',acc)\n",
    "    ave_score=np.mean(acc)\n",
    "    print('ave_acc',ave_score)\n",
    "    score_record.append(ave_score)\n",
    "    hs_record.append(hs)\n",
    "    print('score_record:',score_record)\n",
    "    print('hs_record:',hs_record)"
   ]
  },
  {
   "cell_type": "markdown",
   "id": "51080ad4",
   "metadata": {},
   "source": [
    "## 处理结果"
   ]
  },
  {
   "cell_type": "code",
   "execution_count": null,
   "id": "1effc4c4",
   "metadata": {},
   "outputs": [],
   "source": [
    "torch.save(annmodel.state_dict(),local_path+'\\\\blockagedata\\\\annmodel_hid110.pkl')\n",
    "# model = TheModelClass(...)\n",
    "# model.load_state_dict(torch.load('\\parameter.pkl'))"
   ]
  },
  {
   "cell_type": "code",
   "execution_count": null,
   "id": "bd8e5202",
   "metadata": {},
   "outputs": [],
   "source": [
    "# model = TheModelClass(...)\n",
    "# model.load_state_dict(torch.load('\\parameter.pkl'))\n",
    "pre=run_model(x_test_tensor,annmodel)\n",
    "pre=torch.argmax(pre,1).unsqueeze(1).cpu().numpy()\n",
    "bool1=np.ones([len(pre),1])\n",
    "bool1[np.where(pre.ravel()!=y_test.ravel())]=0\n",
    "pred=pd.DataFrame(pre)\n",
    "S=sample.loc[test_index,:]\n",
    "para=S.iloc[:,range(96,99)].reset_index()\n",
    "bool2=pd.DataFrame(bool1.astype(int))\n",
    "a=pd.concat([pred,para,bool2],axis=1,ignore_index=True)\n",
    "a.columns=['pred','index','true','dn','time','bool']\n",
    "a=a[['index','pred','true','dn','time','bool']]\n",
    "a.to_csv(local_path+'\\\\blockagedata\\\\ann_hid110_test_result.csv',encoding='ascii',index=True)"
   ]
  },
  {
   "cell_type": "code",
   "execution_count": null,
   "id": "a9bd5ebe",
   "metadata": {},
   "outputs": [],
   "source": [
    "from sklearn.metrics import accuracy_score,confusion_matrix\n",
    "cm=pd.DataFrame(confusion_matrix(y_test.ravel(),pre))\n",
    "cm.to_csv(local_path+'\\\\blockagedata\\\\ann_hid110_cm.csv',encoding='ascii',index=True)"
   ]
  },
  {
   "cell_type": "markdown",
   "id": "7b3f0115",
   "metadata": {},
   "source": [
    "# SVM"
   ]
  },
  {
   "cell_type": "code",
   "execution_count": 20,
   "id": "e697fdce",
   "metadata": {
    "ExecuteTime": {
     "end_time": "2022-01-07T09:24:25.530763Z",
     "start_time": "2022-01-07T09:24:22.220343Z"
    },
    "scrolled": true
   },
   "outputs": [
    {
     "name": "stdout",
     "output_type": "stream",
     "text": [
      "train_acc: 1.0\n",
      "acc: [1.0]\n",
      "train_acc: 1.0\n",
      "acc: [1.0, 0.9971264367816092]\n",
      "train_acc: 1.0\n",
      "acc: [1.0, 0.9971264367816092, 0.9971264367816092]\n",
      "train_acc: 1.0\n",
      "acc: [1.0, 0.9971264367816092, 0.9971264367816092, 0.9942528735632183]\n",
      "train_acc: 1.0\n",
      "acc: [1.0, 0.9971264367816092, 0.9971264367816092, 0.9942528735632183, 1.0]\n",
      "ave_acc 0.9977011494252874\n",
      "score_record: [0.9977011494252874]\n"
     ]
    }
   ],
   "source": [
    "#划分样本和标签\n",
    "x=np.array(ts10_err)#.astype(int)\n",
    "y=np.array(ts10.loc[:,'code']).reshape(-1,1).astype(int)\n",
    "#训练模型\n",
    "skf = StratifiedKFold(n_splits=5,shuffle=True,random_state=1)\n",
    "score_record=[]\n",
    "hs_record=[]\n",
    "acc=[]\n",
    "for train_index, test_index in skf.split(x,y):\n",
    "    x_train, x_test = x[train_index], x[test_index]\n",
    "    y_train, y_test = y[train_index], y[test_index]\n",
    "    #qt\n",
    "    qt = QuantileTransformer(output_distribution = 'uniform' )\n",
    "    x_train = qt.fit_transform(x_train)\n",
    "    x_test = qt.transform(x_test)\n",
    "    clf=SVC(decision_function_shape='ovr',kernel='rbf',C=500000,gamma=0.06)\n",
    "    clf.fit(x_train,y_train.ravel())\n",
    "    best_acc=clf.score(x_test,y_test.ravel())\n",
    "    train_acc=clf.score(x_train,y_train.ravel())\n",
    "    print('train_acc:',train_acc)\n",
    "    acc.append(best_acc)\n",
    "    print('acc:',acc)\n",
    "ave_score=np.mean(acc)\n",
    "print('ave_acc',ave_score)\n",
    "score_record.append(ave_score)\n",
    "print('score_record:',score_record)"
   ]
  },
  {
   "cell_type": "code",
   "execution_count": null,
   "id": "505eb3fe",
   "metadata": {},
   "outputs": [],
   "source": [
    "#读取模型数据\n",
    "sample=pd.read_csv(local_path+'\\\\blockagedata\\\\Sample_116.csv',header=0)\n",
    "#划分样本和标签\n",
    "x=np.array(sample.iloc[:,range(0,96)])#.astype(int)\n",
    "y=np.array(sample.loc[:,'code']).reshape(-1,1).astype(int)"
   ]
  },
  {
   "cell_type": "code",
   "execution_count": null,
   "id": "a44530fa",
   "metadata": {},
   "outputs": [],
   "source": [
    "pipe = Pipeline([('scaler', QuantileTransformer(output_distribution = 'uniform')), ('svc', SVC(decision_function_shape='ovr',kernel='rbf'))])\n",
    "param_dist = {'svc__C': [1,10,100,1000,10000,100000,500000,800000,1000000,1200000,1500000],\n",
    " 'svc__gamma': [0.01,0.02,0.03,0.04,0.05,0.06,0.07,0.08,0.09,0.01]}\n",
    "splitter=StratifiedKFold(n_splits=5,random_state=1,shuffle=True)\n",
    "clf = GridSearchCV(estimator=pipe,param_grid=param_dist,cv=splitter,n_jobs=-1,scoring='accuracy',verbose=3)\n",
    "search = clf.fit(x, y.ravel())"
   ]
  },
  {
   "cell_type": "code",
   "execution_count": null,
   "id": "55808446",
   "metadata": {},
   "outputs": [],
   "source": [
    "print('网格搜索-度量记录：',search.cv_results_)  # 包含每次训练的相关信息\n",
    "print('网格搜索-最佳度量值:',search.best_score_)  # 获取最佳度量值\n",
    "print('网格搜索-最佳参数：',search.best_params_)  # 获取最佳度量值时的代定参数的值。是一个字典\n",
    "print('网格搜索-最佳模型：',search.best_estimator_)  # 获取最佳度量时的分类器模型"
   ]
  },
  {
   "cell_type": "code",
   "execution_count": null,
   "id": "cc285638",
   "metadata": {},
   "outputs": [],
   "source": [
    "xx=search.cv_results_['param_svc__C'].data.astype(float)\n",
    "yy=search.cv_results_['param_svc__gamma'].data.astype(float)\n",
    "zz=search.cv_results_['mean_test_score'].astype(float)\n",
    "xx=np.expand_dims(xx,axis=1)\n",
    "yy=np.expand_dims(yy,axis=1)\n",
    "zz=np.expand_dims(zz,axis=1)\n",
    "print(xx.shape)\n",
    "print(yy.shape)\n",
    "print(zz.shape)\n",
    "zxc=pd.DataFrame(np.hstack((xx,yy,zz)))\n",
    "zxc.columns=['C','gamma','acc']\n",
    "zxc=pd.pivot_table(zxc,index=['C'],columns=['gamma'],values=['acc'])\n",
    "zxc.to_csv(local_path+'\\\\blockagedata\\\\svm_finetune_grid_b.csv',encoding='ascii',index=True)"
   ]
  },
  {
   "cell_type": "code",
   "execution_count": null,
   "id": "192214fa",
   "metadata": {},
   "outputs": [],
   "source": [
    "zxc=pd.DataFrame(np.hstack((xx,yy,zz)))\n",
    "zxc.columns=['C','gamma','acc']\n",
    "a=pd.pivot_table(zxc,index=['C'],columns=['gamma'],values=['acc'])\n",
    "a.to_csv(local_path+'\\\\blockagedata\\\\svm_finetune_grid_a.csv',encoding='ascii',index=False)"
   ]
  },
  {
   "cell_type": "markdown",
   "id": "7b51ce5e",
   "metadata": {},
   "source": [
    "# RF"
   ]
  },
  {
   "cell_type": "code",
   "execution_count": 21,
   "id": "35e84fb9",
   "metadata": {
    "ExecuteTime": {
     "end_time": "2022-01-07T09:24:36.331864Z",
     "start_time": "2022-01-07T09:24:33.466114Z"
    },
    "scrolled": true
   },
   "outputs": [
    {
     "name": "stdout",
     "output_type": "stream",
     "text": [
      "train_acc: 1.0\n",
      "acc: [1.0]\n",
      "train_acc: 1.0\n",
      "acc: [1.0, 1.0]\n",
      "train_acc: 1.0\n",
      "acc: [1.0, 1.0, 1.0]\n",
      "train_acc: 1.0\n",
      "acc: [1.0, 1.0, 1.0, 1.0]\n",
      "train_acc: 1.0\n",
      "acc: [1.0, 1.0, 1.0, 1.0, 0.9971264367816092]\n",
      "ave_acc 0.9994252873563217\n",
      "score_record: [0.9994252873563217]\n"
     ]
    }
   ],
   "source": [
    "#划分样本和标签\n",
    "x=np.array(ts10_err)#.astype(int)\n",
    "y=np.array(ts10.loc[:,'code']).reshape(-1,1).astype(int)\n",
    "#训练模型\n",
    "skf = StratifiedKFold(n_splits=5,shuffle=True,random_state=1)\n",
    "score_record=[]\n",
    "hs_record=[]\n",
    "acc=[]\n",
    "for train_index, test_index in skf.split(x,y):\n",
    "    x_train, x_test = x[train_index], x[test_index]\n",
    "    y_train, y_test = y[train_index], y[test_index]\n",
    "    #qt\n",
    "    qt = QuantileTransformer(output_distribution = 'uniform' )\n",
    "    x_train = qt.fit_transform(x_train)\n",
    "    x_test = qt.transform(x_test)\n",
    "    clf=RandomForestClassifier(n_estimators=100,criterion='gini',max_depth=None,min_samples_split=2,n_jobs=-1)\n",
    "    clf.fit(x_train,y_train.ravel())\n",
    "    best_acc=clf.score(x_test,y_test.ravel())\n",
    "    train_acc=clf.score(x_train,y_train.ravel())\n",
    "    print('train_acc:',train_acc)\n",
    "    acc.append(best_acc)\n",
    "    print('acc:',acc)\n",
    "ave_score=np.mean(acc)\n",
    "print('ave_acc',ave_score)\n",
    "score_record.append(ave_score)\n",
    "print('score_record:',score_record)"
   ]
  },
  {
   "cell_type": "code",
   "execution_count": null,
   "id": "0c46b78f",
   "metadata": {},
   "outputs": [],
   "source": [
    "pipe = Pipeline([('scaler', QuantileTransformer(output_distribution = 'uniform')), ('rfc', RandomForestClassifier(criterion='gini',))])\n",
    "param_dist = {'rfc__n_estimators': randint(10, 500),\n",
    " 'rfc__min_samples_split': randint(2, 1000),\n",
    " 'rfc__max_depth': randint(2, 100)}\n",
    "splitter=StratifiedKFold(n_splits=5,random_state=1,shuffle=True)\n",
    "clf = RandomizedSearchCV(estimator=pipe,param_distributions=param_dist,n_iter=10,cv=splitter,random_state=11,n_jobs=-1,scoring='accuracy',verbose=3)\n",
    "search = clf.fit(x, y.ravel())"
   ]
  },
  {
   "cell_type": "markdown",
   "id": "26a85d4f",
   "metadata": {},
   "source": [
    "# KNN"
   ]
  },
  {
   "cell_type": "code",
   "execution_count": 22,
   "id": "348c90b8",
   "metadata": {
    "ExecuteTime": {
     "end_time": "2022-01-07T09:24:43.767733Z",
     "start_time": "2022-01-07T09:24:42.846504Z"
    },
    "scrolled": true
   },
   "outputs": [
    {
     "name": "stdout",
     "output_type": "stream",
     "text": [
      "train_acc: 1.0\n",
      "acc: [0.985632183908046]\n",
      "train_acc: 1.0\n",
      "acc: [0.985632183908046, 0.9827586206896551]\n",
      "train_acc: 1.0\n",
      "acc: [0.985632183908046, 0.9827586206896551, 0.9913793103448276]\n",
      "train_acc: 1.0\n",
      "acc: [0.985632183908046, 0.9827586206896551, 0.9913793103448276, 0.9827586206896551]\n",
      "train_acc: 1.0\n",
      "acc: [0.985632183908046, 0.9827586206896551, 0.9913793103448276, 0.9827586206896551, 0.9942528735632183]\n",
      "ave_acc 0.9873563218390805\n",
      "score_record: [0.9873563218390805]\n"
     ]
    }
   ],
   "source": [
    "#划分样本和标签\n",
    "x=np.array(ts10_err)#.astype(int)\n",
    "y=np.array(ts10.loc[:,'code']).reshape(-1,1).astype(int)\n",
    "#训练模型\n",
    "skf = StratifiedKFold(n_splits=5,shuffle=True,random_state=1)\n",
    "score_record=[]\n",
    "hs_record=[]\n",
    "acc=[]\n",
    "for train_index, test_index in skf.split(x,y):\n",
    "    x_train, x_test = x[train_index], x[test_index]\n",
    "    y_train, y_test = y[train_index], y[test_index]\n",
    "    #qt\n",
    "    qt = QuantileTransformer(output_distribution = 'uniform' )\n",
    "    x_train = qt.fit_transform(x_train)\n",
    "    x_test = qt.transform(x_test)\n",
    "    clf=KNeighborsClassifier(n_neighbors=1)\n",
    "    clf.fit(x_train,y_train.ravel())\n",
    "    best_acc=clf.score(x_test,y_test.ravel())\n",
    "    train_acc=clf.score(x_train,y_train.ravel())\n",
    "    print('train_acc:',train_acc)\n",
    "    acc.append(best_acc)\n",
    "    print('acc:',acc)\n",
    "ave_score=np.mean(acc)\n",
    "print('ave_acc',ave_score)\n",
    "score_record.append(ave_score)\n",
    "print('score_record:',score_record)"
   ]
  },
  {
   "cell_type": "code",
   "execution_count": null,
   "id": "f3ad4ab6",
   "metadata": {},
   "outputs": [],
   "source": [
    "pipe = Pipeline([('scaler', QuantileTransformer(output_distribution = 'uniform')), ('knn', KNeighborsClassifier())])\n",
    "param_dist = {'knn__n_neighbors': [1,2,3,4,5,6,7,8,9]}\n",
    "splitter=StratifiedKFold(n_splits=5,random_state=1,shuffle=True)\n",
    "clf = RandomizedSearchCV(estimator=pipe,param_distributions=param_dist,n_iter=9,cv=splitter,random_state=1,n_jobs=-1,scoring='accuracy',verbose=3)\n",
    "search = clf.fit(x, y.ravel())"
   ]
  },
  {
   "cell_type": "code",
   "execution_count": null,
   "id": "128b8608",
   "metadata": {},
   "outputs": [],
   "source": [
    "print('网格搜索-度量记录：',search.cv_results_)  # 包含每次训练的相关信息\n",
    "print('网格搜索-最佳度量值:',search.best_score_)  # 获取最佳度量值\n",
    "print('网格搜索-最佳参数：',search.best_params_)  # 获取最佳度量值时的代定参数的值。是一个字典\n",
    "print('网格搜索-最佳模型：',search.best_estimator_)  # 获取最佳度量时的分类器模型"
   ]
  },
  {
   "cell_type": "code",
   "execution_count": null,
   "id": "3b569ad6",
   "metadata": {},
   "outputs": [],
   "source": [
    "xx=search.cv_results_['param_knn__n_neighbors'].data.astype(float)\n",
    "zz=search.cv_results_['mean_test_score'].astype(float)\n",
    "xx=np.expand_dims(xx,axis=1)\n",
    "zz=np.expand_dims(zz,axis=1)\n",
    "print(xx.shape)\n",
    "print(zz.shape)\n",
    "zxc=pd.DataFrame(np.hstack((xx,zz)))\n",
    "zxc.columns=['k','acc']\n",
    "# zxc=pd.pivot_table(zxc,index=['C'],columns=['gamma'],values=['acc'])\n",
    "# zxc.to_csv(local_path+'\\\\blokagedata\\\\svm_finetune_grid_b.csv',encoding='ascii',index=True)"
   ]
  }
 ],
 "metadata": {
  "kernelspec": {
   "display_name": "Python 3",
   "language": "python",
   "name": "python3"
  },
  "language_info": {
   "codemirror_mode": {
    "name": "ipython",
    "version": 3
   },
   "file_extension": ".py",
   "mimetype": "text/x-python",
   "name": "python",
   "nbconvert_exporter": "python",
   "pygments_lexer": "ipython3",
   "version": "3.8.8"
  },
  "toc": {
   "base_numbering": 1,
   "nav_menu": {},
   "number_sections": true,
   "sideBar": true,
   "skip_h1_title": false,
   "title_cell": "Table of Contents",
   "title_sidebar": "Contents",
   "toc_cell": false,
   "toc_position": {},
   "toc_section_display": true,
   "toc_window_display": false
  },
  "varInspector": {
   "cols": {
    "lenName": 16,
    "lenType": 16,
    "lenVar": 40
   },
   "kernels_config": {
    "python": {
     "delete_cmd_postfix": "",
     "delete_cmd_prefix": "del ",
     "library": "var_list.py",
     "varRefreshCmd": "print(var_dic_list())"
    },
    "r": {
     "delete_cmd_postfix": ") ",
     "delete_cmd_prefix": "rm(",
     "library": "var_list.r",
     "varRefreshCmd": "cat(var_dic_list()) "
    }
   },
   "types_to_exclude": [
    "module",
    "function",
    "builtin_function_or_method",
    "instance",
    "_Feature"
   ],
   "window_display": false
  }
 },
 "nbformat": 4,
 "nbformat_minor": 5
}
