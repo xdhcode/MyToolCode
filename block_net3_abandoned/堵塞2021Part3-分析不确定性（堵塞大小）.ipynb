{
 "cells": [
  {
   "cell_type": "code",
   "execution_count": null,
   "id": "fe97eed0",
   "metadata": {},
   "outputs": [],
   "source": [
    "本节内容：\n",
    "将样本的三个变量（堵塞大小、测量误差、用户需求）进行控制变量分析。\n",
    "选择堵塞大小作为不确定。"
   ]
  },
  {
   "cell_type": "code",
   "execution_count": 1,
   "id": "b279d942",
   "metadata": {
    "ExecuteTime": {
     "end_time": "2022-01-10T06:13:33.536956Z",
     "start_time": "2022-01-10T06:13:30.950198Z"
    }
   },
   "outputs": [
    {
     "name": "stdout",
     "output_type": "stream",
     "text": [
      "E:\\NBCode\\block\\blockagedata\n"
     ]
    }
   ],
   "source": [
    "import torch\n",
    "import torch.nn as nn\n",
    "import torch.nn.functional as F\n",
    "import torch.utils.data as Data\n",
    "from torch.optim import Adam,AdamW\n",
    "from torch.optim.lr_scheduler import LambdaLR\n",
    "from torch.utils.data import DataLoader\n",
    "from prefetch_generator import BackgroundGenerator\n",
    "import pandas as pd\n",
    "import numpy as np\n",
    "from tqdm import tqdm\n",
    "import os\n",
    "import matplotlib\n",
    "import matplotlib.pyplot as plt \n",
    "import hiddenlayer as hl\n",
    "from sklearn.model_selection import train_test_split,StratifiedKFold\n",
    "from sklearn.decomposition import PCA\n",
    "from sklearn.preprocessing import QuantileTransformer,RobustScaler,PowerTransformer,StandardScaler\n",
    "from sklearn.metrics import accuracy_score\n",
    "import lightgbm as lgb\n",
    "#准备文件夹保存数据\n",
    "local_path=os.getcwd()\n",
    "if not os.path.exists(local_path+'\\\\blockagedata'):\n",
    "    os.mkdir(local_path+'\\\\blockagedata')\n",
    "print(local_path+'\\\\blockagedata')\n",
    "#判断是否可以使用GPU\n",
    "device = torch.device(\"cuda:0\" if torch.cuda.is_available() else \"cpu\")"
   ]
  },
  {
   "cell_type": "code",
   "execution_count": 2,
   "id": "737b6be8",
   "metadata": {
    "ExecuteTime": {
     "end_time": "2022-01-10T06:13:35.499201Z",
     "start_time": "2022-01-10T06:13:35.416335Z"
    }
   },
   "outputs": [
    {
     "name": "stdout",
     "output_type": "stream",
     "text": [
      "E:\\NBCode\\block\\blockagedata\n"
     ]
    }
   ],
   "source": [
    "import pandas as pd\n",
    "import numpy as np\n",
    "from tqdm import tqdm\n",
    "import os\n",
    "import matplotlib\n",
    "import matplotlib.pyplot as plt \n",
    "from sklearn.model_selection import train_test_split,RandomizedSearchCV,GridSearchCV,StratifiedKFold,cross_validate\n",
    "from sklearn.decomposition import PCA\n",
    "from sklearn.preprocessing import QuantileTransformer\n",
    "from sklearn.metrics import accuracy_score,confusion_matrix\n",
    "from sklearn.pipeline import Pipeline\n",
    "from scipy.stats import loguniform,uniform,randint\n",
    "from sklearn.svm import SVC\n",
    "from sklearn.ensemble import RandomForestClassifier\n",
    "from sklearn.neighbors import KNeighborsClassifier\n",
    "#准备文件夹保存数据\n",
    "local_path=os.getcwd()\n",
    "if not os.path.exists(local_path+'\\\\blockagedata'):\n",
    "    os.mkdir(local_path+'\\\\blockagedata')\n",
    "print(local_path+'\\\\blockagedata')"
   ]
  },
  {
   "cell_type": "markdown",
   "id": "48d0d1f2",
   "metadata": {},
   "source": [
    "# ANN"
   ]
  },
  {
   "cell_type": "code",
   "execution_count": 3,
   "id": "0c641e2a",
   "metadata": {
    "ExecuteTime": {
     "end_time": "2022-01-10T06:14:39.166451Z",
     "start_time": "2022-01-10T06:14:39.156469Z"
    }
   },
   "outputs": [],
   "source": [
    "class DataLoaderX(DataLoader):\n",
    "    def __iter__(self):\n",
    "        return BackgroundGenerator(super().__iter__())\n",
    "#ANN\n",
    "class ANN(nn.Module):\n",
    "    def __init__(self,d1,hidden_size,d2):\n",
    "        super(ANN,self).__init__()\n",
    "        self.ann=nn.Sequential(nn.BatchNorm1d(d1,momentum=0.5),\n",
    "                               nn.Linear(d1,hidden_size),\n",
    "                               nn.LeakyReLU(),\n",
    "                               nn.BatchNorm1d(hidden_size,momentum=0.5),\n",
    "                               nn.Linear(hidden_size,d2),\n",
    "                               nn.LeakyReLU()\n",
    "                              )\n",
    "    def forward(self,x):\n",
    "        x = self.ann(x)\n",
    "        return x\n",
    "#训练模型\n",
    "def anntrain(args):\n",
    "    model=ANN(d1=args['d1'],hidden_size=args['hidden_size'],d2=args['d2']).to(device)\n",
    "    criterion=nn.CrossEntropyLoss().to(device)\n",
    "    optimizer=AdamW(model.parameters(),lr=args['learning_rate'],weight_decay=args['weight_decay'])\n",
    "    scheduler=LambdaLR(optimizer,verbose=False,lr_lambda=lambda epoch:1/(epoch/100+1))\n",
    "    train_loader=DataLoader(dataset=train_data,batch_size=len(x_train),\n",
    "                                  shuffle=True,num_workers=0)\n",
    "    history1=hl.History()\n",
    "    canvas1=hl.Canvas()\n",
    "    best_acc=0\n",
    "    for epoch in tqdm(range(args['epoches'])):\n",
    "        for step,(batch_x,batch_y) in enumerate(train_loader):\n",
    "            #输出层与标签之间的误差    \n",
    "            model.train()\n",
    "            prediction=model(batch_x)\n",
    "            loss=criterion(prediction,batch_y)\n",
    "            optimizer.zero_grad()\n",
    "            loss.backward()\n",
    "            optimizer.step()\n",
    "            #记录误差曲线和acc曲线\n",
    "            steps=epoch*len(train_loader)+step+1\n",
    "            if steps%25==0:\n",
    "                test_acc=score_model(x_test_tensor,y_test_tensor,model)\n",
    "                best_acc=test_acc if test_acc>best_acc else best_acc\n",
    "                history1.log(steps,train_loss=loss.item(),test_accuracy=test_acc)\n",
    "        scheduler.step()\n",
    "    with canvas1:\n",
    "        canvas1.draw_plot(history1['train_loss'])\n",
    "        canvas1.draw_plot(history1['test_accuracy'])\n",
    "    print('train_loss:%.4f'%loss.item())\n",
    "    print('test_acc:%.4f'%test_acc)\n",
    "    print('best_acc:%.4f'%best_acc)\n",
    "    return model,best_acc\n",
    "#测试数据\n",
    "def run_model(data,model):\n",
    "    model.eval()\n",
    "    torch.no_grad()\n",
    "    prediction=model(data)\n",
    "    return prediction.detach()\n",
    "def score_model(x_tensor,label_tensor,model):\n",
    "    x=run_model(x_tensor,model)\n",
    "    x=torch.argmax(x,1).unsqueeze(1)\n",
    "    score=(x==label_tensor).sum().item()/len(x)\n",
    "    return score"
   ]
  },
  {
   "cell_type": "markdown",
   "id": "37230181",
   "metadata": {},
   "source": [
    "## 得到模型"
   ]
  },
  {
   "cell_type": "code",
   "execution_count": 4,
   "id": "65f2184b",
   "metadata": {
    "ExecuteTime": {
     "end_time": "2022-01-10T06:31:32.312527Z",
     "start_time": "2022-01-10T06:31:31.924426Z"
    }
   },
   "outputs": [],
   "source": [
    "#读取模型数据\n",
    "sample=pd.read_csv(local_path+'\\\\blockagedata\\\\Sample_116.csv',header=0)\n",
    "#划分样本和标签\n",
    "t0=sample.iloc[np.where(sample.loc[:,'time']==0)[0],:]\n",
    "t1=sample.iloc[np.where(sample.loc[:,'time']==1)[0],:]\n",
    "t2=sample.iloc[np.where(sample.loc[:,'time']==2)[0],:]\n",
    "t3=sample.iloc[np.where(sample.loc[:,'time']==3)[0],:]\n",
    "t4=sample.iloc[np.where(sample.loc[:,'time']==4)[0],:]\n",
    "t5=sample.iloc[np.where(sample.loc[:,'time']==5)[0],:]\n",
    "t6=sample.iloc[np.where(sample.loc[:,'time']==6)[0],:]\n",
    "t7=sample.iloc[np.where(sample.loc[:,'time']==7)[0],:]\n",
    "t8=sample.iloc[np.where(sample.loc[:,'time']==8)[0],:]\n",
    "t9=sample.iloc[np.where(sample.loc[:,'time']==9)[0],:]\n",
    "t10=sample.iloc[np.where(sample.loc[:,'time']==10)[0],:]\n",
    "t11=sample.iloc[np.where(sample.loc[:,'time']==11)[0],:]\n",
    "t12=sample.iloc[np.where(sample.loc[:,'time']==12)[0],:]\n",
    "t13=sample.iloc[np.where(sample.loc[:,'time']==13)[0],:]\n",
    "t14=sample.iloc[np.where(sample.loc[:,'time']==14)[0],:]\n",
    "t15=sample.iloc[np.where(sample.loc[:,'time']==15)[0],:]\n",
    "t16=sample.iloc[np.where(sample.loc[:,'time']==16)[0],:]\n",
    "t17=sample.iloc[np.where(sample.loc[:,'time']==17)[0],:]\n",
    "t18=sample.iloc[np.where(sample.loc[:,'time']==18)[0],:]\n",
    "t19=sample.iloc[np.where(sample.loc[:,'time']==19)[0],:]\n",
    "t20=sample.iloc[np.where(sample.loc[:,'time']==20)[0],:]\n",
    "t21=sample.iloc[np.where(sample.loc[:,'time']==21)[0],:]\n",
    "t22=sample.iloc[np.where(sample.loc[:,'time']==22)[0],:]\n",
    "t23=sample.iloc[np.where(sample.loc[:,'time']==23)[0],:]"
   ]
  },
  {
   "cell_type": "code",
   "execution_count": 10,
   "id": "d33e6b9f",
   "metadata": {
    "ExecuteTime": {
     "end_time": "2022-01-10T07:55:19.400596Z",
     "start_time": "2022-01-10T07:54:29.853509Z"
    }
   },
   "outputs": [
    {
     "data": {
      "image/png": "[encoded data removed]",
      "text/plain": [
       "<Figure size 864x576 with 2 Axes>"
      ]
     },
     "metadata": {
      "needs_background": "light"
     },
     "output_type": "display_data"
    },
    {
     "name": "stdout",
     "output_type": "stream",
     "text": [
      "train_loss:0.0038\n",
      "test_acc:0.9823\n",
      "best_acc:0.9872\n",
      "train_acc: 0.9987946966653274\n",
      "acc: [0.9871589085072231]\n",
      "ave_acc 0.9871589085072231\n",
      "score_record: [0.9871589085072231]\n",
      "hs_record: [110]\n"
     ]
    }
   ],
   "source": [
    "t=pd.concat([t6,t12,t17],axis=0)\n",
    "x=np.array(t.iloc[:,range(0,96)])#.astype(int)\n",
    "y=np.array(t.loc[:,'code']).reshape(-1,1).astype(int)\n",
    "#训练模型\n",
    "skf = StratifiedKFold(n_splits=5,shuffle=True,random_state=1)\n",
    "score_record=[]\n",
    "hs_record=[]\n",
    "for hs in range(110,120,10):\n",
    "    params={\n",
    "    \"d1\":96,\n",
    "    \"hidden_size\": hs,\n",
    "    \"d2\":116,\n",
    "    \"learning_rate\":0.01,\n",
    "    \"epoches\":1500,\n",
    "    \"weight_decay\":0.01\n",
    "    }\n",
    "    acc=[]\n",
    "    for train_index, test_index in skf.split(x,y):\n",
    "        x_train, x_test = x[train_index], x[test_index]\n",
    "        y_train, y_test = y[train_index], y[test_index]\n",
    "        #qt\n",
    "        qt = QuantileTransformer(output_distribution = 'uniform' )\n",
    "#         qt = PowerTransformer()\n",
    "#         qt = RobustScaler()\n",
    "#         qt = StandardScaler()\n",
    "        x_train = qt.fit_transform(x_train)\n",
    "        x_test = qt.transform(x_test)\n",
    "        #numpy转为张量\n",
    "        x_train_tensor=torch.from_numpy(x_train).float().to(device)\n",
    "        y_train_tensor=torch.from_numpy(y_train).to(device)\n",
    "        x_test_tensor=torch.from_numpy(x_test).float().to(device)\n",
    "        y_test_tensor=torch.from_numpy(y_test).to(device)\n",
    "        train_data=Data.TensorDataset(x_train_tensor,y_train_tensor.long().squeeze())\n",
    "        annmodel,best_acc=anntrain(params)\n",
    "        train_acc=score_model(x_train_tensor,y_train_tensor,annmodel)\n",
    "        print('train_acc:',train_acc)\n",
    "        acc.append(best_acc)\n",
    "        print('acc:',acc)\n",
    "        break\n",
    "    ave_score=np.mean(acc)\n",
    "    print('ave_acc',ave_score)\n",
    "    score_record.append(ave_score)\n",
    "    hs_record.append(hs)\n",
    "    print('score_record:',score_record)\n",
    "    print('hs_record:',hs_record)"
   ]
  },
  {
   "cell_type": "code",
   "execution_count": 26,
   "id": "0d1117ce",
   "metadata": {
    "ExecuteTime": {
     "end_time": "2022-01-06T09:05:11.775316Z",
     "start_time": "2022-01-06T08:38:58.572112Z"
    },
    "collapsed": true
   },
   "outputs": [
    {
     "data": {
      "image/png": "[encoded data removed]",
      "text/plain": [
       "<Figure size 864x576 with 2 Axes>"
      ]
     },
     "metadata": {
      "needs_background": "light"
     },
     "output_type": "display_data"
    },
    {
     "name": "stdout",
     "output_type": "stream",
     "text": [
      "train_loss:0.0009\n",
      "test_acc:0.9126\n",
      "best_acc:0.9272\n",
      "train_acc: 1.0\n",
      "acc: [0.9516908212560387, 0.8985507246376812, 0.9271844660194175, 0.941747572815534, 0.9271844660194175]\n",
      "ave_acc 0.9292716101496177\n",
      "score_record: [0.9292716101496177]\n",
      "hs_record: [110]\n"
     ]
    }
   ],
   "source": [
    "t_score=[]\n",
    "for t,i in zip([t0,t1,t2,t3,t4,t5,t6,t7,t8,t9,t10,t11,t12,t13,t14,t15,t16,t17,t18,t19,t20,t21,t22,t23],range(24)):\n",
    "    #划分样本和标签\n",
    "    x=np.array(t.iloc[:,range(0,96)])#.astype(int)\n",
    "    y=np.array(t.loc[:,'code']).reshape(-1,1).astype(int)\n",
    "    #训练模型\n",
    "    skf = StratifiedKFold(n_splits=5,shuffle=True,random_state=1)\n",
    "    score_record=[]\n",
    "    hs_record=[]\n",
    "    for hs in range(110,120,10):\n",
    "        params={\n",
    "        \"d1\":96,\n",
    "        \"hidden_size\": hs,\n",
    "        \"d2\":116,\n",
    "        \"learning_rate\":0.01,\n",
    "        \"epoches\":1500,\n",
    "        \"weight_decay\":0.01\n",
    "        }\n",
    "        acc=[]\n",
    "        for train_index, test_index in skf.split(x,y):\n",
    "            x_train, x_test = x[train_index], x[test_index]\n",
    "            y_train, y_test = y[train_index], y[test_index]\n",
    "            #qt\n",
    "            qt = QuantileTransformer(output_distribution = 'uniform' )\n",
    "    #         qt = PowerTransformer()\n",
    "    #         qt = RobustScaler()\n",
    "    #         qt = StandardScaler()\n",
    "            x_train = qt.fit_transform(x_train)\n",
    "            x_test = qt.transform(x_test)\n",
    "            #numpy转为张量\n",
    "            x_train_tensor=torch.from_numpy(x_train).float().to(device)\n",
    "            y_train_tensor=torch.from_numpy(y_train).to(device)\n",
    "            x_test_tensor=torch.from_numpy(x_test).float().to(device)\n",
    "            y_test_tensor=torch.from_numpy(y_test).to(device)\n",
    "            train_data=Data.TensorDataset(x_train_tensor,y_train_tensor.long().squeeze())\n",
    "            annmodel,best_acc=anntrain(params)\n",
    "            train_acc=score_model(x_train_tensor,y_train_tensor,annmodel)\n",
    "            print('train_acc:',train_acc)\n",
    "            acc.append(best_acc)\n",
    "            print('acc:',acc)\n",
    "        ave_score=np.mean(acc)\n",
    "        print('ave_acc',ave_score)\n",
    "        score_record.append(ave_score)\n",
    "        hs_record.append(hs)\n",
    "        print('score_record:',score_record)\n",
    "        print('hs_record:',hs_record)\n",
    "    t_score.append([i,ave_score])\n",
    "    print(i)"
   ]
  },
  {
   "cell_type": "code",
   "execution_count": 28,
   "id": "c63a710d",
   "metadata": {
    "ExecuteTime": {
     "end_time": "2022-01-06T09:56:32.926378Z",
     "start_time": "2022-01-06T09:56:32.922390Z"
    },
    "collapsed": true
   },
   "outputs": [
    {
     "data": {
      "text/plain": [
       "[0.9282163125556963,\n",
       " 0.9477041414567797,\n",
       " 0.9536742846525454,\n",
       " 0.9506214530275316,\n",
       " 0.9651423479198911,\n",
       " 0.9447493081937995,\n",
       " 0.9585377183203269,\n",
       " 0.9536231884057973,\n",
       " 0.9662114455592716,\n",
       " 0.9653056484578224,\n",
       " 0.9652777777777777,\n",
       " 0.9662114455592716,\n",
       " 0.9662857673727239,\n",
       " 0.9535340743867549,\n",
       " 0.961352657004831,\n",
       " 0.9458937198067634,\n",
       " 0.9545893719806763,\n",
       " 0.96626254180602,\n",
       " 0.9468599033816425,\n",
       " 0.9594435154217763,\n",
       " 0.9546358231140839,\n",
       " 0.9536696395392047,\n",
       " 0.9555555555555555,\n",
       " 0.9292716101496177]"
      ]
     },
     "execution_count": 28,
     "metadata": {},
     "output_type": "execute_result"
    }
   ],
   "source": [
    "t_score"
   ]
  },
  {
   "cell_type": "markdown",
   "id": "8dd8d232",
   "metadata": {},
   "source": [
    "## 处理结果"
   ]
  },
  {
   "cell_type": "code",
   "execution_count": 13,
   "id": "41975c6a",
   "metadata": {
    "ExecuteTime": {
     "end_time": "2022-01-10T07:56:32.848805Z",
     "start_time": "2022-01-10T07:56:32.831726Z"
    }
   },
   "outputs": [],
   "source": [
    "torch.save(annmodel.state_dict(),local_path+'\\\\models\\\\ann_hid110_diameter.pkl')\n",
    "# model = TheModelClass(...)\n",
    "# model.load_state_dict(torch.load('\\parameter.pkl'))"
   ]
  },
  {
   "cell_type": "code",
   "execution_count": 49,
   "id": "b06f5429",
   "metadata": {
    "ExecuteTime": {
     "end_time": "2022-01-10T08:21:23.549739Z",
     "start_time": "2022-01-10T08:21:23.521726Z"
    }
   },
   "outputs": [],
   "source": [
    "# model = TheModelClass(...)\n",
    "# model.load_state_dict(torch.load('\\parameter.pkl'))\n",
    "pre=run_model(x_test_tensor,annmodel)\n",
    "pre=torch.argmax(pre,1).unsqueeze(1).cpu().numpy()\n",
    "bool1=np.ones([len(pre),1])\n",
    "bool1[np.where(pre.ravel()!=y_test.ravel())]=0\n",
    "pred=pd.DataFrame(pre)\n",
    "S=t.loc[t.index[test_index],:]\n",
    "para=S.iloc[:,range(96,99)].reset_index()\n",
    "bool2=pd.DataFrame(bool1.astype(int))\n",
    "a=pd.concat([pred,para,bool2],axis=1,ignore_index=True)\n",
    "a.columns=['pred','index','true','dn','time','bool']\n",
    "a=a[['index','pred','true','dn','time','bool']]\n",
    "a.to_csv(local_path+'\\\\blockagedata\\\\ann_hid110_diameter_test_result.csv',encoding='ascii',index=True)\n",
    "a=np.array(a)\n",
    "abc=pd.DataFrame([])\n",
    "for i in range(1,10):\n",
    "    b=a[np.where(a[:,3]==i)]\n",
    "    whole_number=len(b)\n",
    "    true_number=np.sum(b[:,-1])\n",
    "    false_number=whole_number-true_number\n",
    "    abc.loc[i,0]=whole_number\n",
    "    abc.loc[i,1]=true_number\n",
    "    abc.loc[i,2]=false_number\n",
    "    abc.loc[i,3]=true_number/whole_number\n",
    "abc.columns=['whole','true','false','accuracy']\n",
    "a=np.array(a)\n",
    "abc=pd.DataFrame([])\n",
    "for i in range(1,10):\n",
    "    b=a[np.where(a[:,3]==i)]\n",
    "    whole_number=len(b)\n",
    "    true_number=np.sum(b[:,-1])\n",
    "    false_number=whole_number-true_number\n",
    "    abc.loc[i,0]=whole_number\n",
    "    abc.loc[i,1]=true_number\n",
    "    abc.loc[i,2]=false_number\n",
    "    abc.loc[i,3]=true_number/whole_number\n",
    "abc.columns=['whole','true','false','accuracy']\n",
    "abc.to_csv(local_path+'\\\\blockagedata\\\\ann_hid110_diameter_test_result_post.csv',encoding='ascii',index=True)"
   ]
  },
  {
   "cell_type": "code",
   "execution_count": null,
   "id": "9b8440b7",
   "metadata": {},
   "outputs": [],
   "source": [
    "from sklearn.metrics import accuracy_score,confusion_matrix\n",
    "cm=pd.DataFrame(confusion_matrix(y_test.ravel(),pre))\n",
    "cm.to_csv(local_path+'\\\\blockagedata\\\\ann_hid110_cm.csv',encoding='ascii',index=True)"
   ]
  },
  {
   "cell_type": "markdown",
   "id": "53a82c91",
   "metadata": {},
   "source": [
    "# SVM"
   ]
  },
  {
   "cell_type": "code",
   "execution_count": null,
   "id": "510684c5",
   "metadata": {},
   "outputs": [],
   "source": [
    "X_train,X_test,y_train,y_test=train_test_split(x,y,test_size=0.2,random_state=1,stratify=y)\n",
    "qt=QuantileTransformer(output_distribution = 'uniform')\n",
    "x_train=X_train[:,range(0,96)]\n",
    "x_test=X_test[:,range(0,96)]\n",
    "x_train=qt.fit_transform(x_train)\n",
    "x_test=qt.transform(x_test)\n",
    "clf=SVC(decision_function_shape='ovr',kernel='rbf',C=500000,gamma=0.06)\n",
    "clf.fit(x_train,y_train.ravel())\n",
    "score=clf.score(x_test,y_test.ravel())"
   ]
  },
  {
   "cell_type": "code",
   "execution_count": 40,
   "id": "7bc47838",
   "metadata": {
    "ExecuteTime": {
     "end_time": "2022-01-10T08:13:57.670930Z",
     "start_time": "2022-01-10T08:13:56.297893Z"
    }
   },
   "outputs": [
    {
     "name": "stdout",
     "output_type": "stream",
     "text": [
      "train_acc: 1.0\n",
      "acc: [0.9791332263242376]\n",
      "ave_acc 0.9791332263242376\n"
     ]
    }
   ],
   "source": [
    "t=pd.concat([t6,t12,t17],axis=0)\n",
    "#划分样本和标签\n",
    "x=np.array(t.iloc[:,range(0,96)])#.astype(int)\n",
    "y=np.array(t.loc[:,'code']).reshape(-1,1).astype(int)\n",
    "#训练模型\n",
    "skf = StratifiedKFold(n_splits=5,shuffle=True,random_state=1)\n",
    "acc=[]\n",
    "for train_index, test_index in skf.split(x,y):\n",
    "    x_train, x_test = x[train_index], x[test_index]\n",
    "    y_train, y_test = y[train_index], y[test_index]\n",
    "    #qt\n",
    "    qt = QuantileTransformer(output_distribution = 'uniform' )\n",
    "#         qt = PowerTransformer()\n",
    "#         qt = RobustScaler()\n",
    "#         qt = StandardScaler()\n",
    "    x_train = qt.fit_transform(x_train)\n",
    "    x_test = qt.transform(x_test)\n",
    "\n",
    "    clf=SVC(decision_function_shape='ovr',kernel='rbf',C=500000,gamma=0.06)\n",
    "    clf.fit(x_train,y_train.ravel())\n",
    "    best_acc=clf.score(x_test,y_test.ravel())\n",
    "    train_acc=clf.score(x_train,y_train.ravel())\n",
    "    print('train_acc:',train_acc)\n",
    "    acc.append(best_acc)\n",
    "    print('acc:',acc)\n",
    "    break\n",
    "ave_score=np.mean(acc)\n",
    "print('ave_acc',ave_score)"
   ]
  },
  {
   "cell_type": "code",
   "execution_count": 50,
   "id": "1e82b31d",
   "metadata": {
    "ExecuteTime": {
     "end_time": "2022-01-10T08:21:46.958326Z",
     "start_time": "2022-01-10T08:21:46.762073Z"
    }
   },
   "outputs": [],
   "source": [
    "import joblib\n",
    "joblib.dump(clf, local_path+'\\\\models\\\\svm_diameter.pkl') \n",
    "# clf = joblib.load(local_path+'\\\\models\\\\svm_diameter.pkl') \n",
    "pre=clf.predict(x_test_tensor)\n",
    "bool1=np.ones([len(pre),1])\n",
    "bool1[np.where(pre.ravel()!=y_test.ravel())]=0\n",
    "pred=pd.DataFrame(pre)\n",
    "S=t.loc[t.index[test_index],:]\n",
    "para=S.iloc[:,range(96,99)].reset_index()\n",
    "bool2=pd.DataFrame(bool1.astype(int))\n",
    "a=pd.concat([pred,para,bool2],axis=1,ignore_index=True)\n",
    "a.columns=['pred','index','true','dn','time','bool']\n",
    "a=a[['index','pred','true','dn','time','bool']]\n",
    "a.to_csv(local_path+'\\\\blockagedata\\\\svm_diameter_test_result.csv',encoding='ascii',index=True)\n",
    "a=np.array(a)\n",
    "abc=pd.DataFrame([])\n",
    "for i in range(1,10):\n",
    "    b=a[np.where(a[:,3]==i)]\n",
    "    whole_number=len(b)\n",
    "    true_number=np.sum(b[:,-1])\n",
    "    false_number=whole_number-true_number\n",
    "    abc.loc[i,0]=whole_number\n",
    "    abc.loc[i,1]=true_number\n",
    "    abc.loc[i,2]=false_number\n",
    "    abc.loc[i,3]=true_number/whole_number\n",
    "abc.columns=['whole','true','false','accuracy']\n",
    "abc.to_csv(local_path+'\\\\blockagedata\\\\svm_diameter_test_result_post.csv',encoding='ascii',index=True)"
   ]
  },
  {
   "cell_type": "code",
   "execution_count": 40,
   "id": "f5f6c588",
   "metadata": {
    "ExecuteTime": {
     "end_time": "2022-01-06T10:24:25.146475Z",
     "start_time": "2022-01-06T10:23:49.696319Z"
    },
    "scrolled": true
   },
   "outputs": [
    {
     "name": "stderr",
     "output_type": "stream",
     "text": [
      "E:\\Anaconda3\\lib\\site-packages\\sklearn\\preprocessing\\_data.py:2612: UserWarning: n_quantiles (1000) is greater than the total number of samples (824). n_quantiles is set to n_samples.\n",
      "  warnings.warn(\"n_quantiles (%s) is greater than the total number \"\n"
     ]
    },
    {
     "name": "stdout",
     "output_type": "stream",
     "text": [
      "train_acc: 1.0\n",
      "acc: [0.8840579710144928]\n"
     ]
    },
    {
     "name": "stderr",
     "output_type": "stream",
     "text": [
      "E:\\Anaconda3\\lib\\site-packages\\sklearn\\preprocessing\\_data.py:2612: UserWarning: n_quantiles (1000) is greater than the total number of samples (825). n_quantiles is set to n_samples.\n",
      "  warnings.warn(\"n_quantiles (%s) is greater than the total number \"\n"
     ]
    },
    {
     "name": "stdout",
     "output_type": "stream",
     "text": [
      "train_acc: 1.0\n",
      "acc: [0.8840579710144928, 0.9077669902912622]\n"
     ]
    },
    {
     "name": "stderr",
     "output_type": "stream",
     "text": [
      "E:\\Anaconda3\\lib\\site-packages\\sklearn\\preprocessing\\_data.py:2612: UserWarning: n_quantiles (1000) is greater than the total number of samples (825). n_quantiles is set to n_samples.\n",
      "  warnings.warn(\"n_quantiles (%s) is greater than the total number \"\n"
     ]
    },
    {
     "name": "stdout",
     "output_type": "stream",
     "text": [
      "train_acc: 1.0\n",
      "acc: [0.8840579710144928, 0.9077669902912622, 0.8883495145631068]\n"
     ]
    },
    {
     "name": "stderr",
     "output_type": "stream",
     "text": [
      "E:\\Anaconda3\\lib\\site-packages\\sklearn\\preprocessing\\_data.py:2612: UserWarning: n_quantiles (1000) is greater than the total number of samples (825). n_quantiles is set to n_samples.\n",
      "  warnings.warn(\"n_quantiles (%s) is greater than the total number \"\n"
     ]
    },
    {
     "name": "stdout",
     "output_type": "stream",
     "text": [
      "train_acc: 1.0\n",
      "acc: [0.8840579710144928, 0.9077669902912622, 0.8883495145631068, 0.8932038834951457]\n"
     ]
    },
    {
     "name": "stderr",
     "output_type": "stream",
     "text": [
      "E:\\Anaconda3\\lib\\site-packages\\sklearn\\preprocessing\\_data.py:2612: UserWarning: n_quantiles (1000) is greater than the total number of samples (825). n_quantiles is set to n_samples.\n",
      "  warnings.warn(\"n_quantiles (%s) is greater than the total number \"\n"
     ]
    },
    {
     "name": "stdout",
     "output_type": "stream",
     "text": [
      "train_acc: 1.0\n",
      "acc: [0.8840579710144928, 0.9077669902912622, 0.8883495145631068, 0.8932038834951457, 0.8689320388349514]\n",
      "ave_acc 0.8884620796397918\n"
     ]
    },
    {
     "name": "stderr",
     "output_type": "stream",
     "text": [
      "E:\\Anaconda3\\lib\\site-packages\\sklearn\\preprocessing\\_data.py:2612: UserWarning: n_quantiles (1000) is greater than the total number of samples (826). n_quantiles is set to n_samples.\n",
      "  warnings.warn(\"n_quantiles (%s) is greater than the total number \"\n"
     ]
    },
    {
     "name": "stdout",
     "output_type": "stream",
     "text": [
      "train_acc: 1.0\n",
      "acc: [0.8985507246376812]\n"
     ]
    },
    {
     "name": "stderr",
     "output_type": "stream",
     "text": [
      "E:\\Anaconda3\\lib\\site-packages\\sklearn\\preprocessing\\_data.py:2612: UserWarning: n_quantiles (1000) is greater than the total number of samples (826). n_quantiles is set to n_samples.\n",
      "  warnings.warn(\"n_quantiles (%s) is greater than the total number \"\n"
     ]
    },
    {
     "name": "stdout",
     "output_type": "stream",
     "text": [
      "train_acc: 1.0\n",
      "acc: [0.8985507246376812, 0.893719806763285]\n"
     ]
    },
    {
     "name": "stderr",
     "output_type": "stream",
     "text": [
      "E:\\Anaconda3\\lib\\site-packages\\sklearn\\preprocessing\\_data.py:2612: UserWarning: n_quantiles (1000) is greater than the total number of samples (826). n_quantiles is set to n_samples.\n",
      "  warnings.warn(\"n_quantiles (%s) is greater than the total number \"\n"
     ]
    },
    {
     "name": "stdout",
     "output_type": "stream",
     "text": [
      "train_acc: 1.0\n",
      "acc: [0.8985507246376812, 0.893719806763285, 0.9033816425120773]\n"
     ]
    },
    {
     "name": "stderr",
     "output_type": "stream",
     "text": [
      "E:\\Anaconda3\\lib\\site-packages\\sklearn\\preprocessing\\_data.py:2612: UserWarning: n_quantiles (1000) is greater than the total number of samples (827). n_quantiles is set to n_samples.\n",
      "  warnings.warn(\"n_quantiles (%s) is greater than the total number \"\n"
     ]
    },
    {
     "name": "stdout",
     "output_type": "stream",
     "text": [
      "train_acc: 1.0\n",
      "acc: [0.8985507246376812, 0.893719806763285, 0.9033816425120773, 0.8883495145631068]\n"
     ]
    },
    {
     "name": "stderr",
     "output_type": "stream",
     "text": [
      "E:\\Anaconda3\\lib\\site-packages\\sklearn\\preprocessing\\_data.py:2612: UserWarning: n_quantiles (1000) is greater than the total number of samples (827). n_quantiles is set to n_samples.\n",
      "  warnings.warn(\"n_quantiles (%s) is greater than the total number \"\n"
     ]
    },
    {
     "name": "stdout",
     "output_type": "stream",
     "text": [
      "train_acc: 1.0\n",
      "acc: [0.8985507246376812, 0.893719806763285, 0.9033816425120773, 0.8883495145631068, 0.883495145631068]\n",
      "ave_acc 0.8934993668214437\n"
     ]
    },
    {
     "name": "stderr",
     "output_type": "stream",
     "text": [
      "E:\\Anaconda3\\lib\\site-packages\\sklearn\\preprocessing\\_data.py:2612: UserWarning: n_quantiles (1000) is greater than the total number of samples (828). n_quantiles is set to n_samples.\n",
      "  warnings.warn(\"n_quantiles (%s) is greater than the total number \"\n"
     ]
    },
    {
     "name": "stdout",
     "output_type": "stream",
     "text": [
      "train_acc: 1.0\n",
      "acc: [0.9038461538461539]\n"
     ]
    },
    {
     "name": "stderr",
     "output_type": "stream",
     "text": [
      "E:\\Anaconda3\\lib\\site-packages\\sklearn\\preprocessing\\_data.py:2612: UserWarning: n_quantiles (1000) is greater than the total number of samples (829). n_quantiles is set to n_samples.\n",
      "  warnings.warn(\"n_quantiles (%s) is greater than the total number \"\n"
     ]
    },
    {
     "name": "stdout",
     "output_type": "stream",
     "text": [
      "train_acc: 1.0\n",
      "acc: [0.9038461538461539, 0.9178743961352657]\n"
     ]
    },
    {
     "name": "stderr",
     "output_type": "stream",
     "text": [
      "E:\\Anaconda3\\lib\\site-packages\\sklearn\\preprocessing\\_data.py:2612: UserWarning: n_quantiles (1000) is greater than the total number of samples (829). n_quantiles is set to n_samples.\n",
      "  warnings.warn(\"n_quantiles (%s) is greater than the total number \"\n"
     ]
    },
    {
     "name": "stdout",
     "output_type": "stream",
     "text": [
      "train_acc: 1.0\n",
      "acc: [0.9038461538461539, 0.9178743961352657, 0.9227053140096618]\n"
     ]
    },
    {
     "name": "stderr",
     "output_type": "stream",
     "text": [
      "E:\\Anaconda3\\lib\\site-packages\\sklearn\\preprocessing\\_data.py:2612: UserWarning: n_quantiles (1000) is greater than the total number of samples (829). n_quantiles is set to n_samples.\n",
      "  warnings.warn(\"n_quantiles (%s) is greater than the total number \"\n"
     ]
    },
    {
     "name": "stdout",
     "output_type": "stream",
     "text": [
      "train_acc: 1.0\n",
      "acc: [0.9038461538461539, 0.9178743961352657, 0.9227053140096618, 0.8888888888888888]\n"
     ]
    },
    {
     "name": "stderr",
     "output_type": "stream",
     "text": [
      "E:\\Anaconda3\\lib\\site-packages\\sklearn\\preprocessing\\_data.py:2612: UserWarning: n_quantiles (1000) is greater than the total number of samples (829). n_quantiles is set to n_samples.\n",
      "  warnings.warn(\"n_quantiles (%s) is greater than the total number \"\n"
     ]
    },
    {
     "name": "stdout",
     "output_type": "stream",
     "text": [
      "train_acc: 1.0\n",
      "acc: [0.9038461538461539, 0.9178743961352657, 0.9227053140096618, 0.8888888888888888, 0.9227053140096618]\n",
      "ave_acc 0.9112040133779263\n"
     ]
    },
    {
     "name": "stderr",
     "output_type": "stream",
     "text": [
      "E:\\Anaconda3\\lib\\site-packages\\sklearn\\preprocessing\\_data.py:2612: UserWarning: n_quantiles (1000) is greater than the total number of samples (826). n_quantiles is set to n_samples.\n",
      "  warnings.warn(\"n_quantiles (%s) is greater than the total number \"\n"
     ]
    },
    {
     "name": "stdout",
     "output_type": "stream",
     "text": [
      "train_acc: 1.0\n",
      "acc: [0.9178743961352657]\n"
     ]
    },
    {
     "name": "stderr",
     "output_type": "stream",
     "text": [
      "E:\\Anaconda3\\lib\\site-packages\\sklearn\\preprocessing\\_data.py:2612: UserWarning: n_quantiles (1000) is greater than the total number of samples (826). n_quantiles is set to n_samples.\n",
      "  warnings.warn(\"n_quantiles (%s) is greater than the total number \"\n"
     ]
    },
    {
     "name": "stdout",
     "output_type": "stream",
     "text": [
      "train_acc: 1.0\n",
      "acc: [0.9178743961352657, 0.9323671497584541]\n"
     ]
    },
    {
     "name": "stderr",
     "output_type": "stream",
     "text": [
      "E:\\Anaconda3\\lib\\site-packages\\sklearn\\preprocessing\\_data.py:2612: UserWarning: n_quantiles (1000) is greater than the total number of samples (826). n_quantiles is set to n_samples.\n",
      "  warnings.warn(\"n_quantiles (%s) is greater than the total number \"\n"
     ]
    },
    {
     "name": "stdout",
     "output_type": "stream",
     "text": [
      "train_acc: 1.0\n",
      "acc: [0.9178743961352657, 0.9323671497584541, 0.927536231884058]\n"
     ]
    },
    {
     "name": "stderr",
     "output_type": "stream",
     "text": [
      "E:\\Anaconda3\\lib\\site-packages\\sklearn\\preprocessing\\_data.py:2612: UserWarning: n_quantiles (1000) is greater than the total number of samples (827). n_quantiles is set to n_samples.\n",
      "  warnings.warn(\"n_quantiles (%s) is greater than the total number \"\n"
     ]
    },
    {
     "name": "stdout",
     "output_type": "stream",
     "text": [
      "train_acc: 1.0\n",
      "acc: [0.9178743961352657, 0.9323671497584541, 0.927536231884058, 0.9223300970873787]\n"
     ]
    },
    {
     "name": "stderr",
     "output_type": "stream",
     "text": [
      "E:\\Anaconda3\\lib\\site-packages\\sklearn\\preprocessing\\_data.py:2612: UserWarning: n_quantiles (1000) is greater than the total number of samples (827). n_quantiles is set to n_samples.\n",
      "  warnings.warn(\"n_quantiles (%s) is greater than the total number \"\n"
     ]
    },
    {
     "name": "stdout",
     "output_type": "stream",
     "text": [
      "train_acc: 1.0\n",
      "acc: [0.9178743961352657, 0.9323671497584541, 0.927536231884058, 0.9223300970873787, 0.941747572815534]\n",
      "ave_acc 0.9283710895361381\n"
     ]
    },
    {
     "name": "stderr",
     "output_type": "stream",
     "text": [
      "E:\\Anaconda3\\lib\\site-packages\\sklearn\\preprocessing\\_data.py:2612: UserWarning: n_quantiles (1000) is greater than the total number of samples (826). n_quantiles is set to n_samples.\n",
      "  warnings.warn(\"n_quantiles (%s) is greater than the total number \"\n"
     ]
    },
    {
     "name": "stdout",
     "output_type": "stream",
     "text": [
      "train_acc: 1.0\n",
      "acc: [0.927536231884058]\n"
     ]
    },
    {
     "name": "stderr",
     "output_type": "stream",
     "text": [
      "E:\\Anaconda3\\lib\\site-packages\\sklearn\\preprocessing\\_data.py:2612: UserWarning: n_quantiles (1000) is greater than the total number of samples (826). n_quantiles is set to n_samples.\n",
      "  warnings.warn(\"n_quantiles (%s) is greater than the total number \"\n"
     ]
    },
    {
     "name": "stdout",
     "output_type": "stream",
     "text": [
      "train_acc: 1.0\n",
      "acc: [0.927536231884058, 0.9516908212560387]\n"
     ]
    },
    {
     "name": "stderr",
     "output_type": "stream",
     "text": [
      "E:\\Anaconda3\\lib\\site-packages\\sklearn\\preprocessing\\_data.py:2612: UserWarning: n_quantiles (1000) is greater than the total number of samples (826). n_quantiles is set to n_samples.\n",
      "  warnings.warn(\"n_quantiles (%s) is greater than the total number \"\n"
     ]
    },
    {
     "name": "stdout",
     "output_type": "stream",
     "text": [
      "train_acc: 1.0\n",
      "acc: [0.927536231884058, 0.9516908212560387, 0.9178743961352657]\n"
     ]
    },
    {
     "name": "stderr",
     "output_type": "stream",
     "text": [
      "E:\\Anaconda3\\lib\\site-packages\\sklearn\\preprocessing\\_data.py:2612: UserWarning: n_quantiles (1000) is greater than the total number of samples (827). n_quantiles is set to n_samples.\n",
      "  warnings.warn(\"n_quantiles (%s) is greater than the total number \"\n"
     ]
    },
    {
     "name": "stdout",
     "output_type": "stream",
     "text": [
      "train_acc: 1.0\n",
      "acc: [0.927536231884058, 0.9516908212560387, 0.9178743961352657, 0.941747572815534]\n"
     ]
    },
    {
     "name": "stderr",
     "output_type": "stream",
     "text": [
      "E:\\Anaconda3\\lib\\site-packages\\sklearn\\preprocessing\\_data.py:2612: UserWarning: n_quantiles (1000) is greater than the total number of samples (827). n_quantiles is set to n_samples.\n",
      "  warnings.warn(\"n_quantiles (%s) is greater than the total number \"\n"
     ]
    },
    {
     "name": "stdout",
     "output_type": "stream",
     "text": [
      "train_acc: 1.0\n",
      "acc: [0.927536231884058, 0.9516908212560387, 0.9178743961352657, 0.941747572815534, 0.9368932038834952]\n",
      "ave_acc 0.9351484451948784\n"
     ]
    },
    {
     "name": "stderr",
     "output_type": "stream",
     "text": [
      "E:\\Anaconda3\\lib\\site-packages\\sklearn\\preprocessing\\_data.py:2612: UserWarning: n_quantiles (1000) is greater than the total number of samples (825). n_quantiles is set to n_samples.\n",
      "  warnings.warn(\"n_quantiles (%s) is greater than the total number \"\n"
     ]
    },
    {
     "name": "stdout",
     "output_type": "stream",
     "text": [
      "train_acc: 1.0\n",
      "acc: [0.927536231884058]\n"
     ]
    },
    {
     "name": "stderr",
     "output_type": "stream",
     "text": [
      "E:\\Anaconda3\\lib\\site-packages\\sklearn\\preprocessing\\_data.py:2612: UserWarning: n_quantiles (1000) is greater than the total number of samples (825). n_quantiles is set to n_samples.\n",
      "  warnings.warn(\"n_quantiles (%s) is greater than the total number \"\n"
     ]
    },
    {
     "name": "stdout",
     "output_type": "stream",
     "text": [
      "train_acc: 1.0\n",
      "acc: [0.927536231884058, 0.8985507246376812]\n"
     ]
    },
    {
     "name": "stderr",
     "output_type": "stream",
     "text": [
      "E:\\Anaconda3\\lib\\site-packages\\sklearn\\preprocessing\\_data.py:2612: UserWarning: n_quantiles (1000) is greater than the total number of samples (826). n_quantiles is set to n_samples.\n",
      "  warnings.warn(\"n_quantiles (%s) is greater than the total number \"\n"
     ]
    },
    {
     "name": "stdout",
     "output_type": "stream",
     "text": [
      "train_acc: 1.0\n",
      "acc: [0.927536231884058, 0.8985507246376812, 0.8980582524271845]\n"
     ]
    },
    {
     "name": "stderr",
     "output_type": "stream",
     "text": [
      "E:\\Anaconda3\\lib\\site-packages\\sklearn\\preprocessing\\_data.py:2612: UserWarning: n_quantiles (1000) is greater than the total number of samples (826). n_quantiles is set to n_samples.\n",
      "  warnings.warn(\"n_quantiles (%s) is greater than the total number \"\n"
     ]
    },
    {
     "name": "stdout",
     "output_type": "stream",
     "text": [
      "train_acc: 1.0\n",
      "acc: [0.927536231884058, 0.8985507246376812, 0.8980582524271845, 0.8883495145631068]\n"
     ]
    },
    {
     "name": "stderr",
     "output_type": "stream",
     "text": [
      "E:\\Anaconda3\\lib\\site-packages\\sklearn\\preprocessing\\_data.py:2612: UserWarning: n_quantiles (1000) is greater than the total number of samples (826). n_quantiles is set to n_samples.\n",
      "  warnings.warn(\"n_quantiles (%s) is greater than the total number \"\n"
     ]
    },
    {
     "name": "stdout",
     "output_type": "stream",
     "text": [
      "train_acc: 1.0\n",
      "acc: [0.927536231884058, 0.8985507246376812, 0.8980582524271845, 0.8883495145631068, 0.9271844660194175]\n",
      "ave_acc 0.9079358379062896\n"
     ]
    },
    {
     "name": "stderr",
     "output_type": "stream",
     "text": [
      "E:\\Anaconda3\\lib\\site-packages\\sklearn\\preprocessing\\_data.py:2612: UserWarning: n_quantiles (1000) is greater than the total number of samples (829). n_quantiles is set to n_samples.\n",
      "  warnings.warn(\"n_quantiles (%s) is greater than the total number \"\n"
     ]
    },
    {
     "name": "stdout",
     "output_type": "stream",
     "text": [
      "train_acc: 1.0\n",
      "acc: [0.9278846153846154]\n"
     ]
    },
    {
     "name": "stderr",
     "output_type": "stream",
     "text": [
      "E:\\Anaconda3\\lib\\site-packages\\sklearn\\preprocessing\\_data.py:2612: UserWarning: n_quantiles (1000) is greater than the total number of samples (829). n_quantiles is set to n_samples.\n",
      "  warnings.warn(\"n_quantiles (%s) is greater than the total number \"\n"
     ]
    },
    {
     "name": "stdout",
     "output_type": "stream",
     "text": [
      "train_acc: 1.0\n",
      "acc: [0.9278846153846154, 0.9086538461538461]\n"
     ]
    },
    {
     "name": "stderr",
     "output_type": "stream",
     "text": [
      "E:\\Anaconda3\\lib\\site-packages\\sklearn\\preprocessing\\_data.py:2612: UserWarning: n_quantiles (1000) is greater than the total number of samples (830). n_quantiles is set to n_samples.\n",
      "  warnings.warn(\"n_quantiles (%s) is greater than the total number \"\n"
     ]
    },
    {
     "name": "stdout",
     "output_type": "stream",
     "text": [
      "train_acc: 1.0\n",
      "acc: [0.9278846153846154, 0.9086538461538461, 0.9371980676328503]\n"
     ]
    },
    {
     "name": "stderr",
     "output_type": "stream",
     "text": [
      "E:\\Anaconda3\\lib\\site-packages\\sklearn\\preprocessing\\_data.py:2612: UserWarning: n_quantiles (1000) is greater than the total number of samples (830). n_quantiles is set to n_samples.\n",
      "  warnings.warn(\"n_quantiles (%s) is greater than the total number \"\n"
     ]
    },
    {
     "name": "stdout",
     "output_type": "stream",
     "text": [
      "train_acc: 1.0\n",
      "acc: [0.9278846153846154, 0.9086538461538461, 0.9371980676328503, 0.9468599033816425]\n"
     ]
    },
    {
     "name": "stderr",
     "output_type": "stream",
     "text": [
      "E:\\Anaconda3\\lib\\site-packages\\sklearn\\preprocessing\\_data.py:2612: UserWarning: n_quantiles (1000) is greater than the total number of samples (830). n_quantiles is set to n_samples.\n",
      "  warnings.warn(\"n_quantiles (%s) is greater than the total number \"\n"
     ]
    },
    {
     "name": "stdout",
     "output_type": "stream",
     "text": [
      "train_acc: 1.0\n",
      "acc: [0.9278846153846154, 0.9086538461538461, 0.9371980676328503, 0.9468599033816425, 0.9227053140096618]\n",
      "ave_acc 0.9286603493125233\n"
     ]
    },
    {
     "name": "stderr",
     "output_type": "stream",
     "text": [
      "E:\\Anaconda3\\lib\\site-packages\\sklearn\\preprocessing\\_data.py:2612: UserWarning: n_quantiles (1000) is greater than the total number of samples (828). n_quantiles is set to n_samples.\n",
      "  warnings.warn(\"n_quantiles (%s) is greater than the total number \"\n"
     ]
    },
    {
     "name": "stdout",
     "output_type": "stream",
     "text": [
      "train_acc: 1.0\n",
      "acc: [0.927536231884058]\n"
     ]
    },
    {
     "name": "stderr",
     "output_type": "stream",
     "text": [
      "E:\\Anaconda3\\lib\\site-packages\\sklearn\\preprocessing\\_data.py:2612: UserWarning: n_quantiles (1000) is greater than the total number of samples (828). n_quantiles is set to n_samples.\n",
      "  warnings.warn(\"n_quantiles (%s) is greater than the total number \"\n"
     ]
    },
    {
     "name": "stdout",
     "output_type": "stream",
     "text": [
      "train_acc: 1.0\n",
      "acc: [0.927536231884058, 0.9468599033816425]\n"
     ]
    },
    {
     "name": "stderr",
     "output_type": "stream",
     "text": [
      "E:\\Anaconda3\\lib\\site-packages\\sklearn\\preprocessing\\_data.py:2612: UserWarning: n_quantiles (1000) is greater than the total number of samples (828). n_quantiles is set to n_samples.\n",
      "  warnings.warn(\"n_quantiles (%s) is greater than the total number \"\n"
     ]
    },
    {
     "name": "stdout",
     "output_type": "stream",
     "text": [
      "train_acc: 1.0\n",
      "acc: [0.927536231884058, 0.9468599033816425, 0.9371980676328503]\n"
     ]
    },
    {
     "name": "stderr",
     "output_type": "stream",
     "text": [
      "E:\\Anaconda3\\lib\\site-packages\\sklearn\\preprocessing\\_data.py:2612: UserWarning: n_quantiles (1000) is greater than the total number of samples (828). n_quantiles is set to n_samples.\n",
      "  warnings.warn(\"n_quantiles (%s) is greater than the total number \"\n"
     ]
    },
    {
     "name": "stdout",
     "output_type": "stream",
     "text": [
      "train_acc: 1.0\n",
      "acc: [0.927536231884058, 0.9468599033816425, 0.9371980676328503, 0.9033816425120773]\n"
     ]
    },
    {
     "name": "stderr",
     "output_type": "stream",
     "text": [
      "E:\\Anaconda3\\lib\\site-packages\\sklearn\\preprocessing\\_data.py:2612: UserWarning: n_quantiles (1000) is greater than the total number of samples (828). n_quantiles is set to n_samples.\n",
      "  warnings.warn(\"n_quantiles (%s) is greater than the total number \"\n"
     ]
    },
    {
     "name": "stdout",
     "output_type": "stream",
     "text": [
      "train_acc: 1.0\n",
      "acc: [0.927536231884058, 0.9468599033816425, 0.9371980676328503, 0.9033816425120773, 0.9420289855072463]\n",
      "ave_acc 0.9314009661835749\n"
     ]
    },
    {
     "name": "stderr",
     "output_type": "stream",
     "text": [
      "E:\\Anaconda3\\lib\\site-packages\\sklearn\\preprocessing\\_data.py:2612: UserWarning: n_quantiles (1000) is greater than the total number of samples (828). n_quantiles is set to n_samples.\n",
      "  warnings.warn(\"n_quantiles (%s) is greater than the total number \"\n"
     ]
    },
    {
     "name": "stdout",
     "output_type": "stream",
     "text": [
      "train_acc: 1.0\n",
      "acc: [0.9423076923076923]\n"
     ]
    },
    {
     "name": "stderr",
     "output_type": "stream",
     "text": [
      "E:\\Anaconda3\\lib\\site-packages\\sklearn\\preprocessing\\_data.py:2612: UserWarning: n_quantiles (1000) is greater than the total number of samples (829). n_quantiles is set to n_samples.\n",
      "  warnings.warn(\"n_quantiles (%s) is greater than the total number \"\n"
     ]
    },
    {
     "name": "stdout",
     "output_type": "stream",
     "text": [
      "train_acc: 1.0\n",
      "acc: [0.9423076923076923, 0.9420289855072463]\n"
     ]
    },
    {
     "name": "stderr",
     "output_type": "stream",
     "text": [
      "E:\\Anaconda3\\lib\\site-packages\\sklearn\\preprocessing\\_data.py:2612: UserWarning: n_quantiles (1000) is greater than the total number of samples (829). n_quantiles is set to n_samples.\n",
      "  warnings.warn(\"n_quantiles (%s) is greater than the total number \"\n"
     ]
    },
    {
     "name": "stdout",
     "output_type": "stream",
     "text": [
      "train_acc: 1.0\n",
      "acc: [0.9423076923076923, 0.9420289855072463, 0.9468599033816425]\n"
     ]
    },
    {
     "name": "stderr",
     "output_type": "stream",
     "text": [
      "E:\\Anaconda3\\lib\\site-packages\\sklearn\\preprocessing\\_data.py:2612: UserWarning: n_quantiles (1000) is greater than the total number of samples (829). n_quantiles is set to n_samples.\n",
      "  warnings.warn(\"n_quantiles (%s) is greater than the total number \"\n"
     ]
    },
    {
     "name": "stdout",
     "output_type": "stream",
     "text": [
      "train_acc: 1.0\n",
      "acc: [0.9423076923076923, 0.9420289855072463, 0.9468599033816425, 0.9468599033816425]\n"
     ]
    },
    {
     "name": "stderr",
     "output_type": "stream",
     "text": [
      "E:\\Anaconda3\\lib\\site-packages\\sklearn\\preprocessing\\_data.py:2612: UserWarning: n_quantiles (1000) is greater than the total number of samples (829). n_quantiles is set to n_samples.\n",
      "  warnings.warn(\"n_quantiles (%s) is greater than the total number \"\n"
     ]
    },
    {
     "name": "stdout",
     "output_type": "stream",
     "text": [
      "train_acc: 1.0\n",
      "acc: [0.9423076923076923, 0.9420289855072463, 0.9468599033816425, 0.9468599033816425, 0.927536231884058]\n",
      "ave_acc 0.9411185432924561\n"
     ]
    },
    {
     "name": "stderr",
     "output_type": "stream",
     "text": [
      "E:\\Anaconda3\\lib\\site-packages\\sklearn\\preprocessing\\_data.py:2612: UserWarning: n_quantiles (1000) is greater than the total number of samples (830). n_quantiles is set to n_samples.\n",
      "  warnings.warn(\"n_quantiles (%s) is greater than the total number \"\n"
     ]
    },
    {
     "name": "stdout",
     "output_type": "stream",
     "text": [
      "train_acc: 1.0\n",
      "acc: [0.9423076923076923]\n"
     ]
    },
    {
     "name": "stderr",
     "output_type": "stream",
     "text": [
      "E:\\Anaconda3\\lib\\site-packages\\sklearn\\preprocessing\\_data.py:2612: UserWarning: n_quantiles (1000) is greater than the total number of samples (830). n_quantiles is set to n_samples.\n",
      "  warnings.warn(\"n_quantiles (%s) is greater than the total number \"\n"
     ]
    },
    {
     "name": "stdout",
     "output_type": "stream",
     "text": [
      "train_acc: 1.0\n",
      "acc: [0.9423076923076923, 0.9519230769230769]\n"
     ]
    },
    {
     "name": "stderr",
     "output_type": "stream",
     "text": [
      "E:\\Anaconda3\\lib\\site-packages\\sklearn\\preprocessing\\_data.py:2612: UserWarning: n_quantiles (1000) is greater than the total number of samples (830). n_quantiles is set to n_samples.\n",
      "  warnings.warn(\"n_quantiles (%s) is greater than the total number \"\n"
     ]
    },
    {
     "name": "stdout",
     "output_type": "stream",
     "text": [
      "train_acc: 1.0\n",
      "acc: [0.9423076923076923, 0.9519230769230769, 0.9471153846153846]\n"
     ]
    },
    {
     "name": "stderr",
     "output_type": "stream",
     "text": [
      "E:\\Anaconda3\\lib\\site-packages\\sklearn\\preprocessing\\_data.py:2612: UserWarning: n_quantiles (1000) is greater than the total number of samples (831). n_quantiles is set to n_samples.\n",
      "  warnings.warn(\"n_quantiles (%s) is greater than the total number \"\n"
     ]
    },
    {
     "name": "stdout",
     "output_type": "stream",
     "text": [
      "train_acc: 1.0\n",
      "acc: [0.9423076923076923, 0.9519230769230769, 0.9471153846153846, 0.9420289855072463]\n"
     ]
    },
    {
     "name": "stderr",
     "output_type": "stream",
     "text": [
      "E:\\Anaconda3\\lib\\site-packages\\sklearn\\preprocessing\\_data.py:2612: UserWarning: n_quantiles (1000) is greater than the total number of samples (831). n_quantiles is set to n_samples.\n",
      "  warnings.warn(\"n_quantiles (%s) is greater than the total number \"\n"
     ]
    },
    {
     "name": "stdout",
     "output_type": "stream",
     "text": [
      "train_acc: 1.0\n",
      "acc: [0.9423076923076923, 0.9519230769230769, 0.9471153846153846, 0.9420289855072463, 0.9468599033816425]\n",
      "ave_acc 0.9460470085470085\n"
     ]
    },
    {
     "name": "stderr",
     "output_type": "stream",
     "text": [
      "E:\\Anaconda3\\lib\\site-packages\\sklearn\\preprocessing\\_data.py:2612: UserWarning: n_quantiles (1000) is greater than the total number of samples (829). n_quantiles is set to n_samples.\n",
      "  warnings.warn(\"n_quantiles (%s) is greater than the total number \"\n"
     ]
    },
    {
     "name": "stdout",
     "output_type": "stream",
     "text": [
      "train_acc: 1.0\n",
      "acc: [0.9471153846153846]\n"
     ]
    },
    {
     "name": "stderr",
     "output_type": "stream",
     "text": [
      "E:\\Anaconda3\\lib\\site-packages\\sklearn\\preprocessing\\_data.py:2612: UserWarning: n_quantiles (1000) is greater than the total number of samples (829). n_quantiles is set to n_samples.\n",
      "  warnings.warn(\"n_quantiles (%s) is greater than the total number \"\n"
     ]
    },
    {
     "name": "stdout",
     "output_type": "stream",
     "text": [
      "train_acc: 1.0\n",
      "acc: [0.9471153846153846, 0.9567307692307693]\n"
     ]
    },
    {
     "name": "stderr",
     "output_type": "stream",
     "text": [
      "E:\\Anaconda3\\lib\\site-packages\\sklearn\\preprocessing\\_data.py:2612: UserWarning: n_quantiles (1000) is greater than the total number of samples (830). n_quantiles is set to n_samples.\n",
      "  warnings.warn(\"n_quantiles (%s) is greater than the total number \"\n"
     ]
    },
    {
     "name": "stdout",
     "output_type": "stream",
     "text": [
      "train_acc: 1.0\n",
      "acc: [0.9471153846153846, 0.9567307692307693, 0.961352657004831]\n"
     ]
    },
    {
     "name": "stderr",
     "output_type": "stream",
     "text": [
      "E:\\Anaconda3\\lib\\site-packages\\sklearn\\preprocessing\\_data.py:2612: UserWarning: n_quantiles (1000) is greater than the total number of samples (830). n_quantiles is set to n_samples.\n",
      "  warnings.warn(\"n_quantiles (%s) is greater than the total number \"\n"
     ]
    },
    {
     "name": "stdout",
     "output_type": "stream",
     "text": [
      "train_acc: 1.0\n",
      "acc: [0.9471153846153846, 0.9567307692307693, 0.961352657004831, 0.9516908212560387]\n"
     ]
    },
    {
     "name": "stderr",
     "output_type": "stream",
     "text": [
      "E:\\Anaconda3\\lib\\site-packages\\sklearn\\preprocessing\\_data.py:2612: UserWarning: n_quantiles (1000) is greater than the total number of samples (830). n_quantiles is set to n_samples.\n",
      "  warnings.warn(\"n_quantiles (%s) is greater than the total number \"\n"
     ]
    },
    {
     "name": "stdout",
     "output_type": "stream",
     "text": [
      "train_acc: 1.0\n",
      "acc: [0.9471153846153846, 0.9567307692307693, 0.961352657004831, 0.9516908212560387, 0.9130434782608695]\n",
      "ave_acc 0.9459866220735785\n"
     ]
    },
    {
     "name": "stderr",
     "output_type": "stream",
     "text": [
      "E:\\Anaconda3\\lib\\site-packages\\sklearn\\preprocessing\\_data.py:2612: UserWarning: n_quantiles (1000) is greater than the total number of samples (828). n_quantiles is set to n_samples.\n",
      "  warnings.warn(\"n_quantiles (%s) is greater than the total number \"\n"
     ]
    },
    {
     "name": "stdout",
     "output_type": "stream",
     "text": [
      "train_acc: 1.0\n",
      "acc: [0.9519230769230769]\n"
     ]
    },
    {
     "name": "stderr",
     "output_type": "stream",
     "text": [
      "E:\\Anaconda3\\lib\\site-packages\\sklearn\\preprocessing\\_data.py:2612: UserWarning: n_quantiles (1000) is greater than the total number of samples (829). n_quantiles is set to n_samples.\n",
      "  warnings.warn(\"n_quantiles (%s) is greater than the total number \"\n"
     ]
    },
    {
     "name": "stdout",
     "output_type": "stream",
     "text": [
      "train_acc: 1.0\n",
      "acc: [0.9519230769230769, 0.9516908212560387]\n"
     ]
    },
    {
     "name": "stderr",
     "output_type": "stream",
     "text": [
      "E:\\Anaconda3\\lib\\site-packages\\sklearn\\preprocessing\\_data.py:2612: UserWarning: n_quantiles (1000) is greater than the total number of samples (829). n_quantiles is set to n_samples.\n",
      "  warnings.warn(\"n_quantiles (%s) is greater than the total number \"\n"
     ]
    },
    {
     "name": "stdout",
     "output_type": "stream",
     "text": [
      "train_acc: 1.0\n",
      "acc: [0.9519230769230769, 0.9516908212560387, 0.9227053140096618]\n"
     ]
    },
    {
     "name": "stderr",
     "output_type": "stream",
     "text": [
      "E:\\Anaconda3\\lib\\site-packages\\sklearn\\preprocessing\\_data.py:2612: UserWarning: n_quantiles (1000) is greater than the total number of samples (829). n_quantiles is set to n_samples.\n",
      "  warnings.warn(\"n_quantiles (%s) is greater than the total number \"\n"
     ]
    },
    {
     "name": "stdout",
     "output_type": "stream",
     "text": [
      "train_acc: 1.0\n",
      "acc: [0.9519230769230769, 0.9516908212560387, 0.9227053140096618, 0.961352657004831]\n"
     ]
    },
    {
     "name": "stderr",
     "output_type": "stream",
     "text": [
      "E:\\Anaconda3\\lib\\site-packages\\sklearn\\preprocessing\\_data.py:2612: UserWarning: n_quantiles (1000) is greater than the total number of samples (829). n_quantiles is set to n_samples.\n",
      "  warnings.warn(\"n_quantiles (%s) is greater than the total number \"\n"
     ]
    },
    {
     "name": "stdout",
     "output_type": "stream",
     "text": [
      "train_acc: 1.0\n",
      "acc: [0.9519230769230769, 0.9516908212560387, 0.9227053140096618, 0.961352657004831, 0.927536231884058]\n",
      "ave_acc 0.9430416202155332\n"
     ]
    },
    {
     "name": "stderr",
     "output_type": "stream",
     "text": [
      "E:\\Anaconda3\\lib\\site-packages\\sklearn\\preprocessing\\_data.py:2612: UserWarning: n_quantiles (1000) is greater than the total number of samples (830). n_quantiles is set to n_samples.\n",
      "  warnings.warn(\"n_quantiles (%s) is greater than the total number \"\n"
     ]
    },
    {
     "name": "stdout",
     "output_type": "stream",
     "text": [
      "train_acc: 1.0\n",
      "acc: [0.9615384615384616]\n"
     ]
    },
    {
     "name": "stderr",
     "output_type": "stream",
     "text": [
      "E:\\Anaconda3\\lib\\site-packages\\sklearn\\preprocessing\\_data.py:2612: UserWarning: n_quantiles (1000) is greater than the total number of samples (830). n_quantiles is set to n_samples.\n",
      "  warnings.warn(\"n_quantiles (%s) is greater than the total number \"\n"
     ]
    },
    {
     "name": "stdout",
     "output_type": "stream",
     "text": [
      "train_acc: 1.0\n",
      "acc: [0.9615384615384616, 0.9471153846153846]\n"
     ]
    },
    {
     "name": "stderr",
     "output_type": "stream",
     "text": [
      "E:\\Anaconda3\\lib\\site-packages\\sklearn\\preprocessing\\_data.py:2612: UserWarning: n_quantiles (1000) is greater than the total number of samples (830). n_quantiles is set to n_samples.\n",
      "  warnings.warn(\"n_quantiles (%s) is greater than the total number \"\n"
     ]
    },
    {
     "name": "stdout",
     "output_type": "stream",
     "text": [
      "train_acc: 1.0\n",
      "acc: [0.9615384615384616, 0.9471153846153846, 0.9423076923076923]\n"
     ]
    },
    {
     "name": "stderr",
     "output_type": "stream",
     "text": [
      "E:\\Anaconda3\\lib\\site-packages\\sklearn\\preprocessing\\_data.py:2612: UserWarning: n_quantiles (1000) is greater than the total number of samples (831). n_quantiles is set to n_samples.\n",
      "  warnings.warn(\"n_quantiles (%s) is greater than the total number \"\n"
     ]
    },
    {
     "name": "stdout",
     "output_type": "stream",
     "text": [
      "train_acc: 1.0\n",
      "acc: [0.9615384615384616, 0.9471153846153846, 0.9423076923076923, 0.9468599033816425]\n"
     ]
    },
    {
     "name": "stderr",
     "output_type": "stream",
     "text": [
      "E:\\Anaconda3\\lib\\site-packages\\sklearn\\preprocessing\\_data.py:2612: UserWarning: n_quantiles (1000) is greater than the total number of samples (831). n_quantiles is set to n_samples.\n",
      "  warnings.warn(\"n_quantiles (%s) is greater than the total number \"\n"
     ]
    },
    {
     "name": "stdout",
     "output_type": "stream",
     "text": [
      "train_acc: 1.0\n",
      "acc: [0.9615384615384616, 0.9471153846153846, 0.9423076923076923, 0.9468599033816425, 0.9565217391304348]\n",
      "ave_acc 0.9508686361947231\n"
     ]
    },
    {
     "name": "stderr",
     "output_type": "stream",
     "text": [
      "E:\\Anaconda3\\lib\\site-packages\\sklearn\\preprocessing\\_data.py:2612: UserWarning: n_quantiles (1000) is greater than the total number of samples (826). n_quantiles is set to n_samples.\n",
      "  warnings.warn(\"n_quantiles (%s) is greater than the total number \"\n"
     ]
    },
    {
     "name": "stdout",
     "output_type": "stream",
     "text": [
      "train_acc: 1.0\n",
      "acc: [0.9082125603864735]\n"
     ]
    },
    {
     "name": "stderr",
     "output_type": "stream",
     "text": [
      "E:\\Anaconda3\\lib\\site-packages\\sklearn\\preprocessing\\_data.py:2612: UserWarning: n_quantiles (1000) is greater than the total number of samples (826). n_quantiles is set to n_samples.\n",
      "  warnings.warn(\"n_quantiles (%s) is greater than the total number \"\n"
     ]
    },
    {
     "name": "stdout",
     "output_type": "stream",
     "text": [
      "train_acc: 1.0\n",
      "acc: [0.9082125603864735, 0.9227053140096618]\n"
     ]
    },
    {
     "name": "stderr",
     "output_type": "stream",
     "text": [
      "E:\\Anaconda3\\lib\\site-packages\\sklearn\\preprocessing\\_data.py:2612: UserWarning: n_quantiles (1000) is greater than the total number of samples (826). n_quantiles is set to n_samples.\n",
      "  warnings.warn(\"n_quantiles (%s) is greater than the total number \"\n"
     ]
    },
    {
     "name": "stdout",
     "output_type": "stream",
     "text": [
      "train_acc: 1.0\n",
      "acc: [0.9082125603864735, 0.9227053140096618, 0.9420289855072463]\n"
     ]
    },
    {
     "name": "stderr",
     "output_type": "stream",
     "text": [
      "E:\\Anaconda3\\lib\\site-packages\\sklearn\\preprocessing\\_data.py:2612: UserWarning: n_quantiles (1000) is greater than the total number of samples (827). n_quantiles is set to n_samples.\n",
      "  warnings.warn(\"n_quantiles (%s) is greater than the total number \"\n"
     ]
    },
    {
     "name": "stdout",
     "output_type": "stream",
     "text": [
      "train_acc: 1.0\n",
      "acc: [0.9082125603864735, 0.9227053140096618, 0.9420289855072463, 0.9174757281553398]\n"
     ]
    },
    {
     "name": "stderr",
     "output_type": "stream",
     "text": [
      "E:\\Anaconda3\\lib\\site-packages\\sklearn\\preprocessing\\_data.py:2612: UserWarning: n_quantiles (1000) is greater than the total number of samples (827). n_quantiles is set to n_samples.\n",
      "  warnings.warn(\"n_quantiles (%s) is greater than the total number \"\n"
     ]
    },
    {
     "name": "stdout",
     "output_type": "stream",
     "text": [
      "train_acc: 1.0\n",
      "acc: [0.9082125603864735, 0.9227053140096618, 0.9420289855072463, 0.9174757281553398, 0.912621359223301]\n",
      "ave_acc 0.9206087894564046\n"
     ]
    },
    {
     "name": "stderr",
     "output_type": "stream",
     "text": [
      "E:\\Anaconda3\\lib\\site-packages\\sklearn\\preprocessing\\_data.py:2612: UserWarning: n_quantiles (1000) is greater than the total number of samples (828). n_quantiles is set to n_samples.\n",
      "  warnings.warn(\"n_quantiles (%s) is greater than the total number \"\n"
     ]
    },
    {
     "name": "stdout",
     "output_type": "stream",
     "text": [
      "train_acc: 1.0\n",
      "acc: [0.9420289855072463]\n"
     ]
    },
    {
     "name": "stderr",
     "output_type": "stream",
     "text": [
      "E:\\Anaconda3\\lib\\site-packages\\sklearn\\preprocessing\\_data.py:2612: UserWarning: n_quantiles (1000) is greater than the total number of samples (828). n_quantiles is set to n_samples.\n",
      "  warnings.warn(\"n_quantiles (%s) is greater than the total number \"\n"
     ]
    },
    {
     "name": "stdout",
     "output_type": "stream",
     "text": [
      "train_acc: 1.0\n",
      "acc: [0.9420289855072463, 0.9468599033816425]\n"
     ]
    },
    {
     "name": "stderr",
     "output_type": "stream",
     "text": [
      "E:\\Anaconda3\\lib\\site-packages\\sklearn\\preprocessing\\_data.py:2612: UserWarning: n_quantiles (1000) is greater than the total number of samples (828). n_quantiles is set to n_samples.\n",
      "  warnings.warn(\"n_quantiles (%s) is greater than the total number \"\n"
     ]
    },
    {
     "name": "stdout",
     "output_type": "stream",
     "text": [
      "train_acc: 1.0\n",
      "acc: [0.9420289855072463, 0.9468599033816425, 0.9130434782608695]\n"
     ]
    },
    {
     "name": "stderr",
     "output_type": "stream",
     "text": [
      "E:\\Anaconda3\\lib\\site-packages\\sklearn\\preprocessing\\_data.py:2612: UserWarning: n_quantiles (1000) is greater than the total number of samples (828). n_quantiles is set to n_samples.\n",
      "  warnings.warn(\"n_quantiles (%s) is greater than the total number \"\n"
     ]
    },
    {
     "name": "stdout",
     "output_type": "stream",
     "text": [
      "train_acc: 1.0\n",
      "acc: [0.9420289855072463, 0.9468599033816425, 0.9130434782608695, 0.8985507246376812]\n"
     ]
    },
    {
     "name": "stderr",
     "output_type": "stream",
     "text": [
      "E:\\Anaconda3\\lib\\site-packages\\sklearn\\preprocessing\\_data.py:2612: UserWarning: n_quantiles (1000) is greater than the total number of samples (828). n_quantiles is set to n_samples.\n",
      "  warnings.warn(\"n_quantiles (%s) is greater than the total number \"\n"
     ]
    },
    {
     "name": "stdout",
     "output_type": "stream",
     "text": [
      "train_acc: 1.0\n",
      "acc: [0.9420289855072463, 0.9468599033816425, 0.9130434782608695, 0.8985507246376812, 0.9227053140096618]\n",
      "ave_acc 0.9246376811594204\n"
     ]
    },
    {
     "name": "stderr",
     "output_type": "stream",
     "text": [
      "E:\\Anaconda3\\lib\\site-packages\\sklearn\\preprocessing\\_data.py:2612: UserWarning: n_quantiles (1000) is greater than the total number of samples (828). n_quantiles is set to n_samples.\n",
      "  warnings.warn(\"n_quantiles (%s) is greater than the total number \"\n"
     ]
    },
    {
     "name": "stdout",
     "output_type": "stream",
     "text": [
      "train_acc: 1.0\n",
      "acc: [0.9227053140096618]\n"
     ]
    },
    {
     "name": "stderr",
     "output_type": "stream",
     "text": [
      "E:\\Anaconda3\\lib\\site-packages\\sklearn\\preprocessing\\_data.py:2612: UserWarning: n_quantiles (1000) is greater than the total number of samples (828). n_quantiles is set to n_samples.\n",
      "  warnings.warn(\"n_quantiles (%s) is greater than the total number \"\n"
     ]
    },
    {
     "name": "stdout",
     "output_type": "stream",
     "text": [
      "train_acc: 1.0\n",
      "acc: [0.9227053140096618, 0.893719806763285]\n"
     ]
    },
    {
     "name": "stderr",
     "output_type": "stream",
     "text": [
      "E:\\Anaconda3\\lib\\site-packages\\sklearn\\preprocessing\\_data.py:2612: UserWarning: n_quantiles (1000) is greater than the total number of samples (828). n_quantiles is set to n_samples.\n",
      "  warnings.warn(\"n_quantiles (%s) is greater than the total number \"\n"
     ]
    },
    {
     "name": "stdout",
     "output_type": "stream",
     "text": [
      "train_acc: 1.0\n",
      "acc: [0.9227053140096618, 0.893719806763285, 0.9033816425120773]\n"
     ]
    },
    {
     "name": "stderr",
     "output_type": "stream",
     "text": [
      "E:\\Anaconda3\\lib\\site-packages\\sklearn\\preprocessing\\_data.py:2612: UserWarning: n_quantiles (1000) is greater than the total number of samples (828). n_quantiles is set to n_samples.\n",
      "  warnings.warn(\"n_quantiles (%s) is greater than the total number \"\n"
     ]
    },
    {
     "name": "stdout",
     "output_type": "stream",
     "text": [
      "train_acc: 1.0\n",
      "acc: [0.9227053140096618, 0.893719806763285, 0.9033816425120773, 0.9227053140096618]\n"
     ]
    },
    {
     "name": "stderr",
     "output_type": "stream",
     "text": [
      "E:\\Anaconda3\\lib\\site-packages\\sklearn\\preprocessing\\_data.py:2612: UserWarning: n_quantiles (1000) is greater than the total number of samples (828). n_quantiles is set to n_samples.\n",
      "  warnings.warn(\"n_quantiles (%s) is greater than the total number \"\n"
     ]
    },
    {
     "name": "stdout",
     "output_type": "stream",
     "text": [
      "train_acc: 1.0\n",
      "acc: [0.9227053140096618, 0.893719806763285, 0.9033816425120773, 0.9227053140096618, 0.9323671497584541]\n",
      "ave_acc 0.914975845410628\n"
     ]
    },
    {
     "name": "stderr",
     "output_type": "stream",
     "text": [
      "E:\\Anaconda3\\lib\\site-packages\\sklearn\\preprocessing\\_data.py:2612: UserWarning: n_quantiles (1000) is greater than the total number of samples (828). n_quantiles is set to n_samples.\n",
      "  warnings.warn(\"n_quantiles (%s) is greater than the total number \"\n"
     ]
    },
    {
     "name": "stdout",
     "output_type": "stream",
     "text": [
      "train_acc: 1.0\n",
      "acc: [0.8985507246376812]\n"
     ]
    },
    {
     "name": "stderr",
     "output_type": "stream",
     "text": [
      "E:\\Anaconda3\\lib\\site-packages\\sklearn\\preprocessing\\_data.py:2612: UserWarning: n_quantiles (1000) is greater than the total number of samples (828). n_quantiles is set to n_samples.\n",
      "  warnings.warn(\"n_quantiles (%s) is greater than the total number \"\n"
     ]
    },
    {
     "name": "stdout",
     "output_type": "stream",
     "text": [
      "train_acc: 1.0\n",
      "acc: [0.8985507246376812, 0.9082125603864735]\n"
     ]
    },
    {
     "name": "stderr",
     "output_type": "stream",
     "text": [
      "E:\\Anaconda3\\lib\\site-packages\\sklearn\\preprocessing\\_data.py:2612: UserWarning: n_quantiles (1000) is greater than the total number of samples (828). n_quantiles is set to n_samples.\n",
      "  warnings.warn(\"n_quantiles (%s) is greater than the total number \"\n"
     ]
    },
    {
     "name": "stdout",
     "output_type": "stream",
     "text": [
      "train_acc: 1.0\n",
      "acc: [0.8985507246376812, 0.9082125603864735, 0.9082125603864735]\n"
     ]
    },
    {
     "name": "stderr",
     "output_type": "stream",
     "text": [
      "E:\\Anaconda3\\lib\\site-packages\\sklearn\\preprocessing\\_data.py:2612: UserWarning: n_quantiles (1000) is greater than the total number of samples (828). n_quantiles is set to n_samples.\n",
      "  warnings.warn(\"n_quantiles (%s) is greater than the total number \"\n"
     ]
    },
    {
     "name": "stdout",
     "output_type": "stream",
     "text": [
      "train_acc: 1.0\n",
      "acc: [0.8985507246376812, 0.9082125603864735, 0.9082125603864735, 0.9371980676328503]\n"
     ]
    },
    {
     "name": "stderr",
     "output_type": "stream",
     "text": [
      "E:\\Anaconda3\\lib\\site-packages\\sklearn\\preprocessing\\_data.py:2612: UserWarning: n_quantiles (1000) is greater than the total number of samples (828). n_quantiles is set to n_samples.\n",
      "  warnings.warn(\"n_quantiles (%s) is greater than the total number \"\n"
     ]
    },
    {
     "name": "stdout",
     "output_type": "stream",
     "text": [
      "train_acc: 1.0\n",
      "acc: [0.8985507246376812, 0.9082125603864735, 0.9082125603864735, 0.9371980676328503, 0.9178743961352657]\n",
      "ave_acc 0.9140096618357487\n"
     ]
    },
    {
     "name": "stderr",
     "output_type": "stream",
     "text": [
      "E:\\Anaconda3\\lib\\site-packages\\sklearn\\preprocessing\\_data.py:2612: UserWarning: n_quantiles (1000) is greater than the total number of samples (829). n_quantiles is set to n_samples.\n",
      "  warnings.warn(\"n_quantiles (%s) is greater than the total number \"\n"
     ]
    },
    {
     "name": "stdout",
     "output_type": "stream",
     "text": [
      "train_acc: 1.0\n",
      "acc: [0.9423076923076923]\n"
     ]
    },
    {
     "name": "stderr",
     "output_type": "stream",
     "text": [
      "E:\\Anaconda3\\lib\\site-packages\\sklearn\\preprocessing\\_data.py:2612: UserWarning: n_quantiles (1000) is greater than the total number of samples (829). n_quantiles is set to n_samples.\n",
      "  warnings.warn(\"n_quantiles (%s) is greater than the total number \"\n"
     ]
    },
    {
     "name": "stdout",
     "output_type": "stream",
     "text": [
      "train_acc: 1.0\n",
      "acc: [0.9423076923076923, 0.9038461538461539]\n"
     ]
    },
    {
     "name": "stderr",
     "output_type": "stream",
     "text": [
      "E:\\Anaconda3\\lib\\site-packages\\sklearn\\preprocessing\\_data.py:2612: UserWarning: n_quantiles (1000) is greater than the total number of samples (830). n_quantiles is set to n_samples.\n",
      "  warnings.warn(\"n_quantiles (%s) is greater than the total number \"\n"
     ]
    },
    {
     "name": "stdout",
     "output_type": "stream",
     "text": [
      "train_acc: 1.0\n",
      "acc: [0.9423076923076923, 0.9038461538461539, 0.9323671497584541]\n"
     ]
    },
    {
     "name": "stderr",
     "output_type": "stream",
     "text": [
      "E:\\Anaconda3\\lib\\site-packages\\sklearn\\preprocessing\\_data.py:2612: UserWarning: n_quantiles (1000) is greater than the total number of samples (830). n_quantiles is set to n_samples.\n",
      "  warnings.warn(\"n_quantiles (%s) is greater than the total number \"\n"
     ]
    },
    {
     "name": "stdout",
     "output_type": "stream",
     "text": [
      "train_acc: 1.0\n",
      "acc: [0.9423076923076923, 0.9038461538461539, 0.9323671497584541, 0.9468599033816425]\n"
     ]
    },
    {
     "name": "stderr",
     "output_type": "stream",
     "text": [
      "E:\\Anaconda3\\lib\\site-packages\\sklearn\\preprocessing\\_data.py:2612: UserWarning: n_quantiles (1000) is greater than the total number of samples (830). n_quantiles is set to n_samples.\n",
      "  warnings.warn(\"n_quantiles (%s) is greater than the total number \"\n"
     ]
    },
    {
     "name": "stdout",
     "output_type": "stream",
     "text": [
      "train_acc: 1.0\n",
      "acc: [0.9423076923076923, 0.9038461538461539, 0.9323671497584541, 0.9468599033816425, 0.9516908212560387]\n",
      "ave_acc 0.9354143441099962\n"
     ]
    },
    {
     "name": "stderr",
     "output_type": "stream",
     "text": [
      "E:\\Anaconda3\\lib\\site-packages\\sklearn\\preprocessing\\_data.py:2612: UserWarning: n_quantiles (1000) is greater than the total number of samples (828). n_quantiles is set to n_samples.\n",
      "  warnings.warn(\"n_quantiles (%s) is greater than the total number \"\n"
     ]
    },
    {
     "name": "stdout",
     "output_type": "stream",
     "text": [
      "train_acc: 1.0\n",
      "acc: [0.9371980676328503]\n"
     ]
    },
    {
     "name": "stderr",
     "output_type": "stream",
     "text": [
      "E:\\Anaconda3\\lib\\site-packages\\sklearn\\preprocessing\\_data.py:2612: UserWarning: n_quantiles (1000) is greater than the total number of samples (828). n_quantiles is set to n_samples.\n",
      "  warnings.warn(\"n_quantiles (%s) is greater than the total number \"\n"
     ]
    },
    {
     "name": "stdout",
     "output_type": "stream",
     "text": [
      "train_acc: 1.0\n",
      "acc: [0.9371980676328503, 0.9033816425120773]\n"
     ]
    },
    {
     "name": "stderr",
     "output_type": "stream",
     "text": [
      "E:\\Anaconda3\\lib\\site-packages\\sklearn\\preprocessing\\_data.py:2612: UserWarning: n_quantiles (1000) is greater than the total number of samples (828). n_quantiles is set to n_samples.\n",
      "  warnings.warn(\"n_quantiles (%s) is greater than the total number \"\n"
     ]
    },
    {
     "name": "stdout",
     "output_type": "stream",
     "text": [
      "train_acc: 1.0\n",
      "acc: [0.9371980676328503, 0.9033816425120773, 0.927536231884058]\n"
     ]
    },
    {
     "name": "stderr",
     "output_type": "stream",
     "text": [
      "E:\\Anaconda3\\lib\\site-packages\\sklearn\\preprocessing\\_data.py:2612: UserWarning: n_quantiles (1000) is greater than the total number of samples (828). n_quantiles is set to n_samples.\n",
      "  warnings.warn(\"n_quantiles (%s) is greater than the total number \"\n"
     ]
    },
    {
     "name": "stdout",
     "output_type": "stream",
     "text": [
      "train_acc: 1.0\n",
      "acc: [0.9371980676328503, 0.9033816425120773, 0.927536231884058, 0.9420289855072463]\n"
     ]
    },
    {
     "name": "stderr",
     "output_type": "stream",
     "text": [
      "E:\\Anaconda3\\lib\\site-packages\\sklearn\\preprocessing\\_data.py:2612: UserWarning: n_quantiles (1000) is greater than the total number of samples (828). n_quantiles is set to n_samples.\n",
      "  warnings.warn(\"n_quantiles (%s) is greater than the total number \"\n"
     ]
    },
    {
     "name": "stdout",
     "output_type": "stream",
     "text": [
      "train_acc: 1.0\n",
      "acc: [0.9371980676328503, 0.9033816425120773, 0.927536231884058, 0.9420289855072463, 0.927536231884058]\n",
      "ave_acc 0.927536231884058\n"
     ]
    },
    {
     "name": "stderr",
     "output_type": "stream",
     "text": [
      "E:\\Anaconda3\\lib\\site-packages\\sklearn\\preprocessing\\_data.py:2612: UserWarning: n_quantiles (1000) is greater than the total number of samples (828). n_quantiles is set to n_samples.\n",
      "  warnings.warn(\"n_quantiles (%s) is greater than the total number \"\n"
     ]
    },
    {
     "name": "stdout",
     "output_type": "stream",
     "text": [
      "train_acc: 1.0\n",
      "acc: [0.9375]\n"
     ]
    },
    {
     "name": "stderr",
     "output_type": "stream",
     "text": [
      "E:\\Anaconda3\\lib\\site-packages\\sklearn\\preprocessing\\_data.py:2612: UserWarning: n_quantiles (1000) is greater than the total number of samples (829). n_quantiles is set to n_samples.\n",
      "  warnings.warn(\"n_quantiles (%s) is greater than the total number \"\n"
     ]
    },
    {
     "name": "stdout",
     "output_type": "stream",
     "text": [
      "train_acc: 1.0\n",
      "acc: [0.9375, 0.966183574879227]\n"
     ]
    },
    {
     "name": "stderr",
     "output_type": "stream",
     "text": [
      "E:\\Anaconda3\\lib\\site-packages\\sklearn\\preprocessing\\_data.py:2612: UserWarning: n_quantiles (1000) is greater than the total number of samples (829). n_quantiles is set to n_samples.\n",
      "  warnings.warn(\"n_quantiles (%s) is greater than the total number \"\n"
     ]
    },
    {
     "name": "stdout",
     "output_type": "stream",
     "text": [
      "train_acc: 1.0\n",
      "acc: [0.9375, 0.966183574879227, 0.8985507246376812]\n"
     ]
    },
    {
     "name": "stderr",
     "output_type": "stream",
     "text": [
      "E:\\Anaconda3\\lib\\site-packages\\sklearn\\preprocessing\\_data.py:2612: UserWarning: n_quantiles (1000) is greater than the total number of samples (829). n_quantiles is set to n_samples.\n",
      "  warnings.warn(\"n_quantiles (%s) is greater than the total number \"\n"
     ]
    },
    {
     "name": "stdout",
     "output_type": "stream",
     "text": [
      "train_acc: 1.0\n",
      "acc: [0.9375, 0.966183574879227, 0.8985507246376812, 0.9468599033816425]\n"
     ]
    },
    {
     "name": "stderr",
     "output_type": "stream",
     "text": [
      "E:\\Anaconda3\\lib\\site-packages\\sklearn\\preprocessing\\_data.py:2612: UserWarning: n_quantiles (1000) is greater than the total number of samples (829). n_quantiles is set to n_samples.\n",
      "  warnings.warn(\"n_quantiles (%s) is greater than the total number \"\n"
     ]
    },
    {
     "name": "stdout",
     "output_type": "stream",
     "text": [
      "train_acc: 1.0\n",
      "acc: [0.9375, 0.966183574879227, 0.8985507246376812, 0.9468599033816425, 0.9468599033816425]\n",
      "ave_acc 0.9391908212560386\n"
     ]
    },
    {
     "name": "stderr",
     "output_type": "stream",
     "text": [
      "E:\\Anaconda3\\lib\\site-packages\\sklearn\\preprocessing\\_data.py:2612: UserWarning: n_quantiles (1000) is greater than the total number of samples (828). n_quantiles is set to n_samples.\n",
      "  warnings.warn(\"n_quantiles (%s) is greater than the total number \"\n"
     ]
    },
    {
     "name": "stdout",
     "output_type": "stream",
     "text": [
      "train_acc: 1.0\n",
      "acc: [0.9326923076923077]\n"
     ]
    },
    {
     "name": "stderr",
     "output_type": "stream",
     "text": [
      "E:\\Anaconda3\\lib\\site-packages\\sklearn\\preprocessing\\_data.py:2612: UserWarning: n_quantiles (1000) is greater than the total number of samples (829). n_quantiles is set to n_samples.\n",
      "  warnings.warn(\"n_quantiles (%s) is greater than the total number \"\n"
     ]
    },
    {
     "name": "stdout",
     "output_type": "stream",
     "text": [
      "train_acc: 1.0\n",
      "acc: [0.9326923076923077, 0.961352657004831]\n"
     ]
    },
    {
     "name": "stderr",
     "output_type": "stream",
     "text": [
      "E:\\Anaconda3\\lib\\site-packages\\sklearn\\preprocessing\\_data.py:2612: UserWarning: n_quantiles (1000) is greater than the total number of samples (829). n_quantiles is set to n_samples.\n",
      "  warnings.warn(\"n_quantiles (%s) is greater than the total number \"\n"
     ]
    },
    {
     "name": "stdout",
     "output_type": "stream",
     "text": [
      "train_acc: 1.0\n",
      "acc: [0.9326923076923077, 0.961352657004831, 0.9130434782608695]\n"
     ]
    },
    {
     "name": "stderr",
     "output_type": "stream",
     "text": [
      "E:\\Anaconda3\\lib\\site-packages\\sklearn\\preprocessing\\_data.py:2612: UserWarning: n_quantiles (1000) is greater than the total number of samples (829). n_quantiles is set to n_samples.\n",
      "  warnings.warn(\"n_quantiles (%s) is greater than the total number \"\n"
     ]
    },
    {
     "name": "stdout",
     "output_type": "stream",
     "text": [
      "train_acc: 1.0\n",
      "acc: [0.9326923076923077, 0.961352657004831, 0.9130434782608695, 0.9420289855072463]\n"
     ]
    },
    {
     "name": "stderr",
     "output_type": "stream",
     "text": [
      "E:\\Anaconda3\\lib\\site-packages\\sklearn\\preprocessing\\_data.py:2612: UserWarning: n_quantiles (1000) is greater than the total number of samples (829). n_quantiles is set to n_samples.\n",
      "  warnings.warn(\"n_quantiles (%s) is greater than the total number \"\n"
     ]
    },
    {
     "name": "stdout",
     "output_type": "stream",
     "text": [
      "train_acc: 1.0\n",
      "acc: [0.9326923076923077, 0.961352657004831, 0.9130434782608695, 0.9420289855072463, 0.9227053140096618]\n",
      "ave_acc 0.9343645484949832\n"
     ]
    },
    {
     "name": "stderr",
     "output_type": "stream",
     "text": [
      "E:\\Anaconda3\\lib\\site-packages\\sklearn\\preprocessing\\_data.py:2612: UserWarning: n_quantiles (1000) is greater than the total number of samples (828). n_quantiles is set to n_samples.\n",
      "  warnings.warn(\"n_quantiles (%s) is greater than the total number \"\n"
     ]
    },
    {
     "name": "stdout",
     "output_type": "stream",
     "text": [
      "train_acc: 1.0\n",
      "acc: [0.9375]\n"
     ]
    },
    {
     "name": "stderr",
     "output_type": "stream",
     "text": [
      "E:\\Anaconda3\\lib\\site-packages\\sklearn\\preprocessing\\_data.py:2612: UserWarning: n_quantiles (1000) is greater than the total number of samples (829). n_quantiles is set to n_samples.\n",
      "  warnings.warn(\"n_quantiles (%s) is greater than the total number \"\n"
     ]
    },
    {
     "name": "stdout",
     "output_type": "stream",
     "text": [
      "train_acc: 1.0\n",
      "acc: [0.9375, 0.927536231884058]\n"
     ]
    },
    {
     "name": "stderr",
     "output_type": "stream",
     "text": [
      "E:\\Anaconda3\\lib\\site-packages\\sklearn\\preprocessing\\_data.py:2612: UserWarning: n_quantiles (1000) is greater than the total number of samples (829). n_quantiles is set to n_samples.\n",
      "  warnings.warn(\"n_quantiles (%s) is greater than the total number \"\n"
     ]
    },
    {
     "name": "stdout",
     "output_type": "stream",
     "text": [
      "train_acc: 1.0\n",
      "acc: [0.9375, 0.927536231884058, 0.9371980676328503]\n"
     ]
    },
    {
     "name": "stderr",
     "output_type": "stream",
     "text": [
      "E:\\Anaconda3\\lib\\site-packages\\sklearn\\preprocessing\\_data.py:2612: UserWarning: n_quantiles (1000) is greater than the total number of samples (829). n_quantiles is set to n_samples.\n",
      "  warnings.warn(\"n_quantiles (%s) is greater than the total number \"\n"
     ]
    },
    {
     "name": "stdout",
     "output_type": "stream",
     "text": [
      "train_acc: 1.0\n",
      "acc: [0.9375, 0.927536231884058, 0.9371980676328503, 0.9516908212560387]\n"
     ]
    },
    {
     "name": "stderr",
     "output_type": "stream",
     "text": [
      "E:\\Anaconda3\\lib\\site-packages\\sklearn\\preprocessing\\_data.py:2612: UserWarning: n_quantiles (1000) is greater than the total number of samples (829). n_quantiles is set to n_samples.\n",
      "  warnings.warn(\"n_quantiles (%s) is greater than the total number \"\n"
     ]
    },
    {
     "name": "stdout",
     "output_type": "stream",
     "text": [
      "train_acc: 1.0\n",
      "acc: [0.9375, 0.927536231884058, 0.9371980676328503, 0.9516908212560387, 0.9082125603864735]\n",
      "ave_acc 0.932427536231884\n"
     ]
    },
    {
     "name": "stderr",
     "output_type": "stream",
     "text": [
      "E:\\Anaconda3\\lib\\site-packages\\sklearn\\preprocessing\\_data.py:2612: UserWarning: n_quantiles (1000) is greater than the total number of samples (828). n_quantiles is set to n_samples.\n",
      "  warnings.warn(\"n_quantiles (%s) is greater than the total number \"\n"
     ]
    },
    {
     "name": "stdout",
     "output_type": "stream",
     "text": [
      "train_acc: 1.0\n",
      "acc: [0.9130434782608695]\n"
     ]
    },
    {
     "name": "stderr",
     "output_type": "stream",
     "text": [
      "E:\\Anaconda3\\lib\\site-packages\\sklearn\\preprocessing\\_data.py:2612: UserWarning: n_quantiles (1000) is greater than the total number of samples (828). n_quantiles is set to n_samples.\n",
      "  warnings.warn(\"n_quantiles (%s) is greater than the total number \"\n"
     ]
    },
    {
     "name": "stdout",
     "output_type": "stream",
     "text": [
      "train_acc: 1.0\n",
      "acc: [0.9130434782608695, 0.9082125603864735]\n"
     ]
    },
    {
     "name": "stderr",
     "output_type": "stream",
     "text": [
      "E:\\Anaconda3\\lib\\site-packages\\sklearn\\preprocessing\\_data.py:2612: UserWarning: n_quantiles (1000) is greater than the total number of samples (828). n_quantiles is set to n_samples.\n",
      "  warnings.warn(\"n_quantiles (%s) is greater than the total number \"\n"
     ]
    },
    {
     "name": "stdout",
     "output_type": "stream",
     "text": [
      "train_acc: 1.0\n",
      "acc: [0.9130434782608695, 0.9082125603864735, 0.9227053140096618]\n"
     ]
    },
    {
     "name": "stderr",
     "output_type": "stream",
     "text": [
      "E:\\Anaconda3\\lib\\site-packages\\sklearn\\preprocessing\\_data.py:2612: UserWarning: n_quantiles (1000) is greater than the total number of samples (828). n_quantiles is set to n_samples.\n",
      "  warnings.warn(\"n_quantiles (%s) is greater than the total number \"\n"
     ]
    },
    {
     "name": "stdout",
     "output_type": "stream",
     "text": [
      "train_acc: 1.0\n",
      "acc: [0.9130434782608695, 0.9082125603864735, 0.9227053140096618, 0.9371980676328503]\n"
     ]
    },
    {
     "name": "stderr",
     "output_type": "stream",
     "text": [
      "E:\\Anaconda3\\lib\\site-packages\\sklearn\\preprocessing\\_data.py:2612: UserWarning: n_quantiles (1000) is greater than the total number of samples (828). n_quantiles is set to n_samples.\n",
      "  warnings.warn(\"n_quantiles (%s) is greater than the total number \"\n"
     ]
    },
    {
     "name": "stdout",
     "output_type": "stream",
     "text": [
      "train_acc: 1.0\n",
      "acc: [0.9130434782608695, 0.9082125603864735, 0.9227053140096618, 0.9371980676328503, 0.9371980676328503]\n",
      "ave_acc 0.923671497584541\n"
     ]
    },
    {
     "name": "stderr",
     "output_type": "stream",
     "text": [
      "E:\\Anaconda3\\lib\\site-packages\\sklearn\\preprocessing\\_data.py:2612: UserWarning: n_quantiles (1000) is greater than the total number of samples (825). n_quantiles is set to n_samples.\n",
      "  warnings.warn(\"n_quantiles (%s) is greater than the total number \"\n"
     ]
    },
    {
     "name": "stdout",
     "output_type": "stream",
     "text": [
      "train_acc: 1.0\n",
      "acc: [0.8743961352657005]\n"
     ]
    },
    {
     "name": "stderr",
     "output_type": "stream",
     "text": [
      "E:\\Anaconda3\\lib\\site-packages\\sklearn\\preprocessing\\_data.py:2612: UserWarning: n_quantiles (1000) is greater than the total number of samples (825). n_quantiles is set to n_samples.\n",
      "  warnings.warn(\"n_quantiles (%s) is greater than the total number \"\n"
     ]
    },
    {
     "name": "stdout",
     "output_type": "stream",
     "text": [
      "train_acc: 1.0\n",
      "acc: [0.8743961352657005, 0.8405797101449275]\n"
     ]
    },
    {
     "name": "stderr",
     "output_type": "stream",
     "text": [
      "E:\\Anaconda3\\lib\\site-packages\\sklearn\\preprocessing\\_data.py:2612: UserWarning: n_quantiles (1000) is greater than the total number of samples (826). n_quantiles is set to n_samples.\n",
      "  warnings.warn(\"n_quantiles (%s) is greater than the total number \"\n"
     ]
    },
    {
     "name": "stdout",
     "output_type": "stream",
     "text": [
      "train_acc: 1.0\n",
      "acc: [0.8743961352657005, 0.8405797101449275, 0.8592233009708737]\n"
     ]
    },
    {
     "name": "stderr",
     "output_type": "stream",
     "text": [
      "E:\\Anaconda3\\lib\\site-packages\\sklearn\\preprocessing\\_data.py:2612: UserWarning: n_quantiles (1000) is greater than the total number of samples (826). n_quantiles is set to n_samples.\n",
      "  warnings.warn(\"n_quantiles (%s) is greater than the total number \"\n"
     ]
    },
    {
     "name": "stdout",
     "output_type": "stream",
     "text": [
      "train_acc: 1.0\n",
      "acc: [0.8743961352657005, 0.8405797101449275, 0.8592233009708737, 0.8737864077669902]\n"
     ]
    },
    {
     "name": "stderr",
     "output_type": "stream",
     "text": [
      "E:\\Anaconda3\\lib\\site-packages\\sklearn\\preprocessing\\_data.py:2612: UserWarning: n_quantiles (1000) is greater than the total number of samples (826). n_quantiles is set to n_samples.\n",
      "  warnings.warn(\"n_quantiles (%s) is greater than the total number \"\n"
     ]
    },
    {
     "name": "stdout",
     "output_type": "stream",
     "text": [
      "train_acc: 1.0\n",
      "acc: [0.8743961352657005, 0.8405797101449275, 0.8592233009708737, 0.8737864077669902, 0.883495145631068]\n",
      "ave_acc 0.8662961399559119\n"
     ]
    }
   ],
   "source": [
    "t_score=[]\n",
    "for t in [t0,t1,t2,t3,t4,t5,t6,t7,t8,t9,t10,t11,t12,t13,t14,t15,t16,t17,t18,t19,t20,t21,t22,t23]:\n",
    "    #划分样本和标签\n",
    "    x=np.array(t.iloc[:,range(0,96)])#.astype(int)\n",
    "    y=np.array(t.loc[:,'code']).reshape(-1,1).astype(int)\n",
    "    #训练模型\n",
    "    skf = StratifiedKFold(n_splits=5,shuffle=True,random_state=1)\n",
    "    acc=[]\n",
    "    for train_index, test_index in skf.split(x,y):\n",
    "        x_train, x_test = x[train_index], x[test_index]\n",
    "        y_train, y_test = y[train_index], y[test_index]\n",
    "        #qt\n",
    "        qt = QuantileTransformer(output_distribution = 'uniform' )\n",
    "#         qt = PowerTransformer()\n",
    "#         qt = RobustScaler()\n",
    "#         qt = StandardScaler()\n",
    "        x_train = qt.fit_transform(x_train)\n",
    "        x_test = qt.transform(x_test)\n",
    "\n",
    "        clf=SVC(decision_function_shape='ovr',kernel='rbf',C=500000,gamma=0.06)\n",
    "        clf.fit(x_train,y_train.ravel())\n",
    "        best_acc=clf.score(x_test,y_test.ravel())\n",
    "        train_acc=clf.score(x_train,y_train.ravel())\n",
    "        print('train_acc:',train_acc)\n",
    "        acc.append(best_acc)\n",
    "        print('acc:',acc)\n",
    "    ave_score=np.mean(acc)\n",
    "    print('ave_acc',ave_score)\n",
    "    t_score.append(ave_score)"
   ]
  },
  {
   "cell_type": "code",
   "execution_count": 39,
   "id": "a50ebc57",
   "metadata": {
    "ExecuteTime": {
     "end_time": "2022-01-06T10:23:35.514977Z",
     "start_time": "2022-01-06T10:23:35.510988Z"
    }
   },
   "outputs": [
    {
     "data": {
      "text/plain": [
       "[0.8826415271328736,\n",
       " 0.8915669996716853,\n",
       " 0.9121748420661465,\n",
       " 0.9235261010271563,\n",
       " 0.9312696402607757,\n",
       " 0.9011444116129639,\n",
       " 0.9277034559643255,\n",
       " 0.9285024154589372,\n",
       " 0.9382199925678186,\n",
       " 0.9412393162393162,\n",
       " 0.9382850241545893,\n",
       " 0.9362876254180602,\n",
       " 0.9412300260126347,\n",
       " 0.9186717320951174,\n",
       " 0.9227053140096618,\n",
       " 0.9111111111111111,\n",
       " 0.9159420289855073,\n",
       " 0.9325111482720179,\n",
       " 0.9169082125603865,\n",
       " 0.9382246376811594,\n",
       " 0.9353353771832031,\n",
       " 0.9324182460052025,\n",
       " 0.9246376811594204,\n",
       " 0.8595000234510577]"
      ]
     },
     "execution_count": 39,
     "metadata": {},
     "output_type": "execute_result"
    }
   ],
   "source": [
    "t_score"
   ]
  },
  {
   "cell_type": "code",
   "execution_count": null,
   "id": "7fe0171e",
   "metadata": {},
   "outputs": [],
   "source": [
    "#读取模型数据\n",
    "sample=pd.read_csv(local_path+'\\\\blokagedata\\\\Sample_116.csv',header=0)\n",
    "#划分样本和标签\n",
    "x=np.array(sample.iloc[:,range(0,96)])#.astype(int)\n",
    "y=np.array(sample.loc[:,'code']).reshape(-1,1).astype(int)"
   ]
  },
  {
   "cell_type": "code",
   "execution_count": null,
   "id": "7a018d32",
   "metadata": {},
   "outputs": [],
   "source": [
    "pipe = Pipeline([('scaler', QuantileTransformer(output_distribution = 'uniform')), ('svc', SVC(decision_function_shape='ovr',kernel='rbf'))])\n",
    "param_dist = {'svc__C': [1,10,100,1000,10000,100000,500000,800000,1000000,1200000,1500000],\n",
    " 'svc__gamma': [0.01,0.02,0.03,0.04,0.05,0.06,0.07,0.08,0.09,0.01]}\n",
    "splitter=StratifiedKFold(n_splits=5,random_state=1,shuffle=True)\n",
    "clf = GridSearchCV(estimator=pipe,param_grid=param_dist,cv=splitter,n_jobs=-1,scoring='accuracy',verbose=3)\n",
    "search = clf.fit(x, y.ravel())"
   ]
  },
  {
   "cell_type": "code",
   "execution_count": null,
   "id": "93eb27ec",
   "metadata": {},
   "outputs": [],
   "source": [
    "print('网格搜索-度量记录：',search.cv_results_)  # 包含每次训练的相关信息\n",
    "print('网格搜索-最佳度量值:',search.best_score_)  # 获取最佳度量值\n",
    "print('网格搜索-最佳参数：',search.best_params_)  # 获取最佳度量值时的代定参数的值。是一个字典\n",
    "print('网格搜索-最佳模型：',search.best_estimator_)  # 获取最佳度量时的分类器模型"
   ]
  },
  {
   "cell_type": "code",
   "execution_count": null,
   "id": "184dac41",
   "metadata": {},
   "outputs": [],
   "source": [
    "xx=search.cv_results_['param_svc__C'].data.astype(float)\n",
    "yy=search.cv_results_['param_svc__gamma'].data.astype(float)\n",
    "zz=search.cv_results_['mean_test_score'].astype(float)\n",
    "xx=np.expand_dims(xx,axis=1)\n",
    "yy=np.expand_dims(yy,axis=1)\n",
    "zz=np.expand_dims(zz,axis=1)\n",
    "print(xx.shape)\n",
    "print(yy.shape)\n",
    "print(zz.shape)\n",
    "zxc=pd.DataFrame(np.hstack((xx,yy,zz)))\n",
    "zxc.columns=['C','gamma','acc']\n",
    "zxc=pd.pivot_table(zxc,index=['C'],columns=['gamma'],values=['acc'])\n",
    "zxc.to_csv(local_path+'\\\\blockagedata\\\\svm_finetune_grid_b.csv',encoding='ascii',index=True)"
   ]
  },
  {
   "cell_type": "code",
   "execution_count": null,
   "id": "d608d429",
   "metadata": {},
   "outputs": [],
   "source": [
    "zxc=pd.DataFrame(np.hstack((xx,yy,zz)))\n",
    "zxc.columns=['C','gamma','acc']\n",
    "a=pd.pivot_table(zxc,index=['C'],columns=['gamma'],values=['acc'])\n",
    "a.to_csv(local_path+'\\\\blockagedata\\\\svm_finetune_grid_a.csv',encoding='ascii',index=False)"
   ]
  },
  {
   "cell_type": "markdown",
   "id": "33818baa",
   "metadata": {},
   "source": [
    "# RF"
   ]
  },
  {
   "cell_type": "code",
   "execution_count": 51,
   "id": "eab651c0",
   "metadata": {
    "ExecuteTime": {
     "end_time": "2022-01-10T08:22:41.761729Z",
     "start_time": "2022-01-10T08:22:40.946031Z"
    }
   },
   "outputs": [
    {
     "name": "stdout",
     "output_type": "stream",
     "text": [
      "train_acc: 1.0\n",
      "acc: [0.9630818619582665]\n",
      "ave_acc 0.9630818619582665\n"
     ]
    }
   ],
   "source": [
    "t=pd.concat([t6,t12,t17],axis=0)\n",
    "#划分样本和标签\n",
    "x=np.array(t.iloc[:,range(0,96)])#.astype(int)\n",
    "y=np.array(t.loc[:,'code']).reshape(-1,1).astype(int)\n",
    "#训练模型\n",
    "skf = StratifiedKFold(n_splits=5,shuffle=True,random_state=1)\n",
    "acc=[]\n",
    "for train_index, test_index in skf.split(x,y):\n",
    "    x_train, x_test = x[train_index], x[test_index]\n",
    "    y_train, y_test = y[train_index], y[test_index]\n",
    "    #qt\n",
    "    qt = QuantileTransformer(output_distribution = 'uniform' )\n",
    "#         qt = PowerTransformer()\n",
    "#         qt = RobustScaler()\n",
    "#         qt = StandardScaler()\n",
    "    x_train = qt.fit_transform(x_train)\n",
    "    x_test = qt.transform(x_test)\n",
    "\n",
    "    clf= RandomForestClassifier(n_estimators=100,criterion='gini',max_depth=None,min_samples_split=2,n_jobs=-1)\n",
    "    clf.fit(x_train,y_train.ravel())\n",
    "    best_acc=clf.score(x_test,y_test.ravel())\n",
    "    train_acc=clf.score(x_train,y_train.ravel())\n",
    "    print('train_acc:',train_acc)\n",
    "    acc.append(best_acc)\n",
    "    print('acc:',acc)\n",
    "    break\n",
    "ave_score=np.mean(acc)\n",
    "print('ave_acc',ave_score)"
   ]
  },
  {
   "cell_type": "code",
   "execution_count": 52,
   "id": "960fb5cb",
   "metadata": {
    "ExecuteTime": {
     "end_time": "2022-01-10T08:23:18.869230Z",
     "start_time": "2022-01-10T08:23:18.673159Z"
    }
   },
   "outputs": [],
   "source": [
    "import joblib\n",
    "joblib.dump(clf, local_path+'\\\\models\\\\rf_diameter.pkl') \n",
    "# clf = joblib.load(local_path+'\\\\models\\\\svm_diameter.pkl') \n",
    "pre=clf.predict(x_test_tensor)\n",
    "bool1=np.ones([len(pre),1])\n",
    "bool1[np.where(pre.ravel()!=y_test.ravel())]=0\n",
    "pred=pd.DataFrame(pre)\n",
    "S=t.loc[t.index[test_index],:]\n",
    "para=S.iloc[:,range(96,99)].reset_index()\n",
    "bool2=pd.DataFrame(bool1.astype(int))\n",
    "a=pd.concat([pred,para,bool2],axis=1,ignore_index=True)\n",
    "a.columns=['pred','index','true','dn','time','bool']\n",
    "a=a[['index','pred','true','dn','time','bool']]\n",
    "a.to_csv(local_path+'\\\\blockagedata\\\\rf_diameter_test_result.csv',encoding='ascii',index=True)\n",
    "a=np.array(a)\n",
    "abc=pd.DataFrame([])\n",
    "for i in range(1,10):\n",
    "    b=a[np.where(a[:,3]==i)]\n",
    "    whole_number=len(b)\n",
    "    true_number=np.sum(b[:,-1])\n",
    "    false_number=whole_number-true_number\n",
    "    abc.loc[i,0]=whole_number\n",
    "    abc.loc[i,1]=true_number\n",
    "    abc.loc[i,2]=false_number\n",
    "    abc.loc[i,3]=true_number/whole_number\n",
    "abc.columns=['whole','true','false','accuracy']\n",
    "abc.to_csv(local_path+'\\\\blockagedata\\\\rf_diameter_test_result_post.csv',encoding='ascii',index=True)"
   ]
  },
  {
   "cell_type": "code",
   "execution_count": 49,
   "id": "97b55fcf",
   "metadata": {
    "ExecuteTime": {
     "end_time": "2022-01-06T11:38:39.997561Z",
     "start_time": "2022-01-06T11:37:57.593700Z"
    },
    "scrolled": true
   },
   "outputs": [
    {
     "name": "stderr",
     "output_type": "stream",
     "text": [
      "E:\\Anaconda3\\lib\\site-packages\\sklearn\\preprocessing\\_data.py:2612: UserWarning: n_quantiles (1000) is greater than the total number of samples (824). n_quantiles is set to n_samples.\n",
      "  warnings.warn(\"n_quantiles (%s) is greater than the total number \"\n"
     ]
    },
    {
     "name": "stdout",
     "output_type": "stream",
     "text": [
      "train_acc: 1.0\n",
      "acc: [0.6183574879227053]\n"
     ]
    },
    {
     "name": "stderr",
     "output_type": "stream",
     "text": [
      "E:\\Anaconda3\\lib\\site-packages\\sklearn\\preprocessing\\_data.py:2612: UserWarning: n_quantiles (1000) is greater than the total number of samples (825). n_quantiles is set to n_samples.\n",
      "  warnings.warn(\"n_quantiles (%s) is greater than the total number \"\n"
     ]
    },
    {
     "name": "stdout",
     "output_type": "stream",
     "text": [
      "train_acc: 1.0\n",
      "acc: [0.6183574879227053, 0.6796116504854369]\n"
     ]
    },
    {
     "name": "stderr",
     "output_type": "stream",
     "text": [
      "E:\\Anaconda3\\lib\\site-packages\\sklearn\\preprocessing\\_data.py:2612: UserWarning: n_quantiles (1000) is greater than the total number of samples (825). n_quantiles is set to n_samples.\n",
      "  warnings.warn(\"n_quantiles (%s) is greater than the total number \"\n"
     ]
    },
    {
     "name": "stdout",
     "output_type": "stream",
     "text": [
      "train_acc: 1.0\n",
      "acc: [0.6183574879227053, 0.6796116504854369, 0.7281553398058253]\n"
     ]
    },
    {
     "name": "stderr",
     "output_type": "stream",
     "text": [
      "E:\\Anaconda3\\lib\\site-packages\\sklearn\\preprocessing\\_data.py:2612: UserWarning: n_quantiles (1000) is greater than the total number of samples (825). n_quantiles is set to n_samples.\n",
      "  warnings.warn(\"n_quantiles (%s) is greater than the total number \"\n"
     ]
    },
    {
     "name": "stdout",
     "output_type": "stream",
     "text": [
      "train_acc: 1.0\n",
      "acc: [0.6183574879227053, 0.6796116504854369, 0.7281553398058253, 0.7038834951456311]\n"
     ]
    },
    {
     "name": "stderr",
     "output_type": "stream",
     "text": [
      "E:\\Anaconda3\\lib\\site-packages\\sklearn\\preprocessing\\_data.py:2612: UserWarning: n_quantiles (1000) is greater than the total number of samples (825). n_quantiles is set to n_samples.\n",
      "  warnings.warn(\"n_quantiles (%s) is greater than the total number \"\n"
     ]
    },
    {
     "name": "stdout",
     "output_type": "stream",
     "text": [
      "train_acc: 1.0\n",
      "acc: [0.6183574879227053, 0.6796116504854369, 0.7281553398058253, 0.7038834951456311, 0.6553398058252428]\n",
      "ave_acc 0.6770695558369682\n",
      "0\n"
     ]
    },
    {
     "name": "stderr",
     "output_type": "stream",
     "text": [
      "E:\\Anaconda3\\lib\\site-packages\\sklearn\\preprocessing\\_data.py:2612: UserWarning: n_quantiles (1000) is greater than the total number of samples (826). n_quantiles is set to n_samples.\n",
      "  warnings.warn(\"n_quantiles (%s) is greater than the total number \"\n"
     ]
    },
    {
     "name": "stdout",
     "output_type": "stream",
     "text": [
      "train_acc: 1.0\n",
      "acc: [0.6618357487922706]\n"
     ]
    },
    {
     "name": "stderr",
     "output_type": "stream",
     "text": [
      "E:\\Anaconda3\\lib\\site-packages\\sklearn\\preprocessing\\_data.py:2612: UserWarning: n_quantiles (1000) is greater than the total number of samples (826). n_quantiles is set to n_samples.\n",
      "  warnings.warn(\"n_quantiles (%s) is greater than the total number \"\n"
     ]
    },
    {
     "name": "stdout",
     "output_type": "stream",
     "text": [
      "train_acc: 1.0\n",
      "acc: [0.6618357487922706, 0.6714975845410628]\n"
     ]
    },
    {
     "name": "stderr",
     "output_type": "stream",
     "text": [
      "E:\\Anaconda3\\lib\\site-packages\\sklearn\\preprocessing\\_data.py:2612: UserWarning: n_quantiles (1000) is greater than the total number of samples (826). n_quantiles is set to n_samples.\n",
      "  warnings.warn(\"n_quantiles (%s) is greater than the total number \"\n"
     ]
    },
    {
     "name": "stdout",
     "output_type": "stream",
     "text": [
      "train_acc: 1.0\n",
      "acc: [0.6618357487922706, 0.6714975845410628, 0.748792270531401]\n"
     ]
    },
    {
     "name": "stderr",
     "output_type": "stream",
     "text": [
      "E:\\Anaconda3\\lib\\site-packages\\sklearn\\preprocessing\\_data.py:2612: UserWarning: n_quantiles (1000) is greater than the total number of samples (827). n_quantiles is set to n_samples.\n",
      "  warnings.warn(\"n_quantiles (%s) is greater than the total number \"\n"
     ]
    },
    {
     "name": "stdout",
     "output_type": "stream",
     "text": [
      "train_acc: 1.0\n",
      "acc: [0.6618357487922706, 0.6714975845410628, 0.748792270531401, 0.6941747572815534]\n"
     ]
    },
    {
     "name": "stderr",
     "output_type": "stream",
     "text": [
      "E:\\Anaconda3\\lib\\site-packages\\sklearn\\preprocessing\\_data.py:2612: UserWarning: n_quantiles (1000) is greater than the total number of samples (827). n_quantiles is set to n_samples.\n",
      "  warnings.warn(\"n_quantiles (%s) is greater than the total number \"\n"
     ]
    },
    {
     "name": "stdout",
     "output_type": "stream",
     "text": [
      "train_acc: 1.0\n",
      "acc: [0.6618357487922706, 0.6714975845410628, 0.748792270531401, 0.6941747572815534, 0.6699029126213593]\n",
      "ave_acc 0.6892406547535295\n",
      "1\n"
     ]
    },
    {
     "name": "stderr",
     "output_type": "stream",
     "text": [
      "E:\\Anaconda3\\lib\\site-packages\\sklearn\\preprocessing\\_data.py:2612: UserWarning: n_quantiles (1000) is greater than the total number of samples (828). n_quantiles is set to n_samples.\n",
      "  warnings.warn(\"n_quantiles (%s) is greater than the total number \"\n"
     ]
    },
    {
     "name": "stdout",
     "output_type": "stream",
     "text": [
      "train_acc: 1.0\n",
      "acc: [0.7067307692307693]\n"
     ]
    },
    {
     "name": "stderr",
     "output_type": "stream",
     "text": [
      "E:\\Anaconda3\\lib\\site-packages\\sklearn\\preprocessing\\_data.py:2612: UserWarning: n_quantiles (1000) is greater than the total number of samples (829). n_quantiles is set to n_samples.\n",
      "  warnings.warn(\"n_quantiles (%s) is greater than the total number \"\n"
     ]
    },
    {
     "name": "stdout",
     "output_type": "stream",
     "text": [
      "train_acc: 1.0\n",
      "acc: [0.7067307692307693, 0.6956521739130435]\n"
     ]
    },
    {
     "name": "stderr",
     "output_type": "stream",
     "text": [
      "E:\\Anaconda3\\lib\\site-packages\\sklearn\\preprocessing\\_data.py:2612: UserWarning: n_quantiles (1000) is greater than the total number of samples (829). n_quantiles is set to n_samples.\n",
      "  warnings.warn(\"n_quantiles (%s) is greater than the total number \"\n"
     ]
    },
    {
     "name": "stdout",
     "output_type": "stream",
     "text": [
      "train_acc: 1.0\n",
      "acc: [0.7067307692307693, 0.6956521739130435, 0.714975845410628]\n"
     ]
    },
    {
     "name": "stderr",
     "output_type": "stream",
     "text": [
      "E:\\Anaconda3\\lib\\site-packages\\sklearn\\preprocessing\\_data.py:2612: UserWarning: n_quantiles (1000) is greater than the total number of samples (829). n_quantiles is set to n_samples.\n",
      "  warnings.warn(\"n_quantiles (%s) is greater than the total number \"\n"
     ]
    },
    {
     "name": "stdout",
     "output_type": "stream",
     "text": [
      "train_acc: 1.0\n",
      "acc: [0.7067307692307693, 0.6956521739130435, 0.714975845410628, 0.7198067632850241]\n"
     ]
    },
    {
     "name": "stderr",
     "output_type": "stream",
     "text": [
      "E:\\Anaconda3\\lib\\site-packages\\sklearn\\preprocessing\\_data.py:2612: UserWarning: n_quantiles (1000) is greater than the total number of samples (829). n_quantiles is set to n_samples.\n",
      "  warnings.warn(\"n_quantiles (%s) is greater than the total number \"\n"
     ]
    },
    {
     "name": "stdout",
     "output_type": "stream",
     "text": [
      "train_acc: 1.0\n",
      "acc: [0.7067307692307693, 0.6956521739130435, 0.714975845410628, 0.7198067632850241, 0.6618357487922706]\n",
      "ave_acc 0.6998002601263471\n",
      "2\n"
     ]
    },
    {
     "name": "stderr",
     "output_type": "stream",
     "text": [
      "E:\\Anaconda3\\lib\\site-packages\\sklearn\\preprocessing\\_data.py:2612: UserWarning: n_quantiles (1000) is greater than the total number of samples (826). n_quantiles is set to n_samples.\n",
      "  warnings.warn(\"n_quantiles (%s) is greater than the total number \"\n"
     ]
    },
    {
     "name": "stdout",
     "output_type": "stream",
     "text": [
      "train_acc: 1.0\n",
      "acc: [0.6666666666666666]\n"
     ]
    },
    {
     "name": "stderr",
     "output_type": "stream",
     "text": [
      "E:\\Anaconda3\\lib\\site-packages\\sklearn\\preprocessing\\_data.py:2612: UserWarning: n_quantiles (1000) is greater than the total number of samples (826). n_quantiles is set to n_samples.\n",
      "  warnings.warn(\"n_quantiles (%s) is greater than the total number \"\n"
     ]
    },
    {
     "name": "stdout",
     "output_type": "stream",
     "text": [
      "train_acc: 1.0\n",
      "acc: [0.6666666666666666, 0.7053140096618358]\n"
     ]
    },
    {
     "name": "stderr",
     "output_type": "stream",
     "text": [
      "E:\\Anaconda3\\lib\\site-packages\\sklearn\\preprocessing\\_data.py:2612: UserWarning: n_quantiles (1000) is greater than the total number of samples (826). n_quantiles is set to n_samples.\n",
      "  warnings.warn(\"n_quantiles (%s) is greater than the total number \"\n"
     ]
    },
    {
     "name": "stdout",
     "output_type": "stream",
     "text": [
      "train_acc: 1.0\n",
      "acc: [0.6666666666666666, 0.7053140096618358, 0.6811594202898551]\n"
     ]
    },
    {
     "name": "stderr",
     "output_type": "stream",
     "text": [
      "E:\\Anaconda3\\lib\\site-packages\\sklearn\\preprocessing\\_data.py:2612: UserWarning: n_quantiles (1000) is greater than the total number of samples (827). n_quantiles is set to n_samples.\n",
      "  warnings.warn(\"n_quantiles (%s) is greater than the total number \"\n"
     ]
    },
    {
     "name": "stdout",
     "output_type": "stream",
     "text": [
      "train_acc: 1.0\n",
      "acc: [0.6666666666666666, 0.7053140096618358, 0.6811594202898551, 0.7038834951456311]\n"
     ]
    },
    {
     "name": "stderr",
     "output_type": "stream",
     "text": [
      "E:\\Anaconda3\\lib\\site-packages\\sklearn\\preprocessing\\_data.py:2612: UserWarning: n_quantiles (1000) is greater than the total number of samples (827). n_quantiles is set to n_samples.\n",
      "  warnings.warn(\"n_quantiles (%s) is greater than the total number \"\n"
     ]
    },
    {
     "name": "stdout",
     "output_type": "stream",
     "text": [
      "train_acc: 1.0\n",
      "acc: [0.6666666666666666, 0.7053140096618358, 0.6811594202898551, 0.7038834951456311, 0.7038834951456311]\n",
      "ave_acc 0.6921814173819238\n",
      "3\n"
     ]
    },
    {
     "name": "stderr",
     "output_type": "stream",
     "text": [
      "E:\\Anaconda3\\lib\\site-packages\\sklearn\\preprocessing\\_data.py:2612: UserWarning: n_quantiles (1000) is greater than the total number of samples (826). n_quantiles is set to n_samples.\n",
      "  warnings.warn(\"n_quantiles (%s) is greater than the total number \"\n"
     ]
    },
    {
     "name": "stdout",
     "output_type": "stream",
     "text": [
      "train_acc: 1.0\n",
      "acc: [0.7004830917874396]\n"
     ]
    },
    {
     "name": "stderr",
     "output_type": "stream",
     "text": [
      "E:\\Anaconda3\\lib\\site-packages\\sklearn\\preprocessing\\_data.py:2612: UserWarning: n_quantiles (1000) is greater than the total number of samples (826). n_quantiles is set to n_samples.\n",
      "  warnings.warn(\"n_quantiles (%s) is greater than the total number \"\n"
     ]
    },
    {
     "name": "stdout",
     "output_type": "stream",
     "text": [
      "train_acc: 1.0\n",
      "acc: [0.7004830917874396, 0.7198067632850241]\n"
     ]
    },
    {
     "name": "stderr",
     "output_type": "stream",
     "text": [
      "E:\\Anaconda3\\lib\\site-packages\\sklearn\\preprocessing\\_data.py:2612: UserWarning: n_quantiles (1000) is greater than the total number of samples (826). n_quantiles is set to n_samples.\n",
      "  warnings.warn(\"n_quantiles (%s) is greater than the total number \"\n"
     ]
    },
    {
     "name": "stdout",
     "output_type": "stream",
     "text": [
      "train_acc: 1.0\n",
      "acc: [0.7004830917874396, 0.7198067632850241, 0.7342995169082126]\n"
     ]
    },
    {
     "name": "stderr",
     "output_type": "stream",
     "text": [
      "E:\\Anaconda3\\lib\\site-packages\\sklearn\\preprocessing\\_data.py:2612: UserWarning: n_quantiles (1000) is greater than the total number of samples (827). n_quantiles is set to n_samples.\n",
      "  warnings.warn(\"n_quantiles (%s) is greater than the total number \"\n"
     ]
    },
    {
     "name": "stdout",
     "output_type": "stream",
     "text": [
      "train_acc: 1.0\n",
      "acc: [0.7004830917874396, 0.7198067632850241, 0.7342995169082126, 0.6941747572815534]\n"
     ]
    },
    {
     "name": "stderr",
     "output_type": "stream",
     "text": [
      "E:\\Anaconda3\\lib\\site-packages\\sklearn\\preprocessing\\_data.py:2612: UserWarning: n_quantiles (1000) is greater than the total number of samples (827). n_quantiles is set to n_samples.\n",
      "  warnings.warn(\"n_quantiles (%s) is greater than the total number \"\n"
     ]
    },
    {
     "name": "stdout",
     "output_type": "stream",
     "text": [
      "train_acc: 1.0\n",
      "acc: [0.7004830917874396, 0.7198067632850241, 0.7342995169082126, 0.6941747572815534, 0.7281553398058253]\n",
      "ave_acc 0.715383893813611\n",
      "4\n"
     ]
    },
    {
     "name": "stderr",
     "output_type": "stream",
     "text": [
      "E:\\Anaconda3\\lib\\site-packages\\sklearn\\preprocessing\\_data.py:2612: UserWarning: n_quantiles (1000) is greater than the total number of samples (825). n_quantiles is set to n_samples.\n",
      "  warnings.warn(\"n_quantiles (%s) is greater than the total number \"\n"
     ]
    },
    {
     "name": "stdout",
     "output_type": "stream",
     "text": [
      "train_acc: 1.0\n",
      "acc: [0.7004830917874396]\n"
     ]
    },
    {
     "name": "stderr",
     "output_type": "stream",
     "text": [
      "E:\\Anaconda3\\lib\\site-packages\\sklearn\\preprocessing\\_data.py:2612: UserWarning: n_quantiles (1000) is greater than the total number of samples (825). n_quantiles is set to n_samples.\n",
      "  warnings.warn(\"n_quantiles (%s) is greater than the total number \"\n"
     ]
    },
    {
     "name": "stdout",
     "output_type": "stream",
     "text": [
      "train_acc: 1.0\n",
      "acc: [0.7004830917874396, 0.6714975845410628]\n"
     ]
    },
    {
     "name": "stderr",
     "output_type": "stream",
     "text": [
      "E:\\Anaconda3\\lib\\site-packages\\sklearn\\preprocessing\\_data.py:2612: UserWarning: n_quantiles (1000) is greater than the total number of samples (826). n_quantiles is set to n_samples.\n",
      "  warnings.warn(\"n_quantiles (%s) is greater than the total number \"\n"
     ]
    },
    {
     "name": "stdout",
     "output_type": "stream",
     "text": [
      "train_acc: 1.0\n",
      "acc: [0.7004830917874396, 0.6714975845410628, 0.7135922330097088]\n"
     ]
    },
    {
     "name": "stderr",
     "output_type": "stream",
     "text": [
      "E:\\Anaconda3\\lib\\site-packages\\sklearn\\preprocessing\\_data.py:2612: UserWarning: n_quantiles (1000) is greater than the total number of samples (826). n_quantiles is set to n_samples.\n",
      "  warnings.warn(\"n_quantiles (%s) is greater than the total number \"\n"
     ]
    },
    {
     "name": "stdout",
     "output_type": "stream",
     "text": [
      "train_acc: 1.0\n",
      "acc: [0.7004830917874396, 0.6714975845410628, 0.7135922330097088, 0.6747572815533981]\n"
     ]
    },
    {
     "name": "stderr",
     "output_type": "stream",
     "text": [
      "E:\\Anaconda3\\lib\\site-packages\\sklearn\\preprocessing\\_data.py:2612: UserWarning: n_quantiles (1000) is greater than the total number of samples (826). n_quantiles is set to n_samples.\n",
      "  warnings.warn(\"n_quantiles (%s) is greater than the total number \"\n"
     ]
    },
    {
     "name": "stdout",
     "output_type": "stream",
     "text": [
      "train_acc: 1.0\n",
      "acc: [0.7004830917874396, 0.6714975845410628, 0.7135922330097088, 0.6747572815533981, 0.7524271844660194]\n",
      "ave_acc 0.7025514750715256\n",
      "5\n"
     ]
    },
    {
     "name": "stderr",
     "output_type": "stream",
     "text": [
      "E:\\Anaconda3\\lib\\site-packages\\sklearn\\preprocessing\\_data.py:2612: UserWarning: n_quantiles (1000) is greater than the total number of samples (829). n_quantiles is set to n_samples.\n",
      "  warnings.warn(\"n_quantiles (%s) is greater than the total number \"\n"
     ]
    },
    {
     "name": "stdout",
     "output_type": "stream",
     "text": [
      "train_acc: 1.0\n",
      "acc: [0.7548076923076923]\n"
     ]
    },
    {
     "name": "stderr",
     "output_type": "stream",
     "text": [
      "E:\\Anaconda3\\lib\\site-packages\\sklearn\\preprocessing\\_data.py:2612: UserWarning: n_quantiles (1000) is greater than the total number of samples (829). n_quantiles is set to n_samples.\n",
      "  warnings.warn(\"n_quantiles (%s) is greater than the total number \"\n"
     ]
    },
    {
     "name": "stdout",
     "output_type": "stream",
     "text": [
      "train_acc: 1.0\n",
      "acc: [0.7548076923076923, 0.6442307692307693]\n"
     ]
    },
    {
     "name": "stderr",
     "output_type": "stream",
     "text": [
      "E:\\Anaconda3\\lib\\site-packages\\sklearn\\preprocessing\\_data.py:2612: UserWarning: n_quantiles (1000) is greater than the total number of samples (830). n_quantiles is set to n_samples.\n",
      "  warnings.warn(\"n_quantiles (%s) is greater than the total number \"\n"
     ]
    },
    {
     "name": "stdout",
     "output_type": "stream",
     "text": [
      "train_acc: 1.0\n",
      "acc: [0.7548076923076923, 0.6442307692307693, 0.714975845410628]\n"
     ]
    },
    {
     "name": "stderr",
     "output_type": "stream",
     "text": [
      "E:\\Anaconda3\\lib\\site-packages\\sklearn\\preprocessing\\_data.py:2612: UserWarning: n_quantiles (1000) is greater than the total number of samples (830). n_quantiles is set to n_samples.\n",
      "  warnings.warn(\"n_quantiles (%s) is greater than the total number \"\n"
     ]
    },
    {
     "name": "stdout",
     "output_type": "stream",
     "text": [
      "train_acc: 1.0\n",
      "acc: [0.7548076923076923, 0.6442307692307693, 0.714975845410628, 0.7053140096618358]\n"
     ]
    },
    {
     "name": "stderr",
     "output_type": "stream",
     "text": [
      "E:\\Anaconda3\\lib\\site-packages\\sklearn\\preprocessing\\_data.py:2612: UserWarning: n_quantiles (1000) is greater than the total number of samples (830). n_quantiles is set to n_samples.\n",
      "  warnings.warn(\"n_quantiles (%s) is greater than the total number \"\n"
     ]
    },
    {
     "name": "stdout",
     "output_type": "stream",
     "text": [
      "train_acc: 1.0\n",
      "acc: [0.7548076923076923, 0.6442307692307693, 0.714975845410628, 0.7053140096618358, 0.7004830917874396]\n",
      "ave_acc 0.703962281679673\n",
      "6\n"
     ]
    },
    {
     "name": "stderr",
     "output_type": "stream",
     "text": [
      "E:\\Anaconda3\\lib\\site-packages\\sklearn\\preprocessing\\_data.py:2612: UserWarning: n_quantiles (1000) is greater than the total number of samples (828). n_quantiles is set to n_samples.\n",
      "  warnings.warn(\"n_quantiles (%s) is greater than the total number \"\n"
     ]
    },
    {
     "name": "stdout",
     "output_type": "stream",
     "text": [
      "train_acc: 1.0\n",
      "acc: [0.7053140096618358]\n"
     ]
    },
    {
     "name": "stderr",
     "output_type": "stream",
     "text": [
      "E:\\Anaconda3\\lib\\site-packages\\sklearn\\preprocessing\\_data.py:2612: UserWarning: n_quantiles (1000) is greater than the total number of samples (828). n_quantiles is set to n_samples.\n",
      "  warnings.warn(\"n_quantiles (%s) is greater than the total number \"\n"
     ]
    },
    {
     "name": "stdout",
     "output_type": "stream",
     "text": [
      "train_acc: 1.0\n",
      "acc: [0.7053140096618358, 0.7004830917874396]\n"
     ]
    },
    {
     "name": "stderr",
     "output_type": "stream",
     "text": [
      "E:\\Anaconda3\\lib\\site-packages\\sklearn\\preprocessing\\_data.py:2612: UserWarning: n_quantiles (1000) is greater than the total number of samples (828). n_quantiles is set to n_samples.\n",
      "  warnings.warn(\"n_quantiles (%s) is greater than the total number \"\n"
     ]
    },
    {
     "name": "stdout",
     "output_type": "stream",
     "text": [
      "train_acc: 1.0\n",
      "acc: [0.7053140096618358, 0.7004830917874396, 0.7729468599033816]\n"
     ]
    },
    {
     "name": "stderr",
     "output_type": "stream",
     "text": [
      "E:\\Anaconda3\\lib\\site-packages\\sklearn\\preprocessing\\_data.py:2612: UserWarning: n_quantiles (1000) is greater than the total number of samples (828). n_quantiles is set to n_samples.\n",
      "  warnings.warn(\"n_quantiles (%s) is greater than the total number \"\n"
     ]
    },
    {
     "name": "stdout",
     "output_type": "stream",
     "text": [
      "train_acc: 1.0\n",
      "acc: [0.7053140096618358, 0.7004830917874396, 0.7729468599033816, 0.748792270531401]\n"
     ]
    },
    {
     "name": "stderr",
     "output_type": "stream",
     "text": [
      "E:\\Anaconda3\\lib\\site-packages\\sklearn\\preprocessing\\_data.py:2612: UserWarning: n_quantiles (1000) is greater than the total number of samples (828). n_quantiles is set to n_samples.\n",
      "  warnings.warn(\"n_quantiles (%s) is greater than the total number \"\n"
     ]
    },
    {
     "name": "stdout",
     "output_type": "stream",
     "text": [
      "train_acc: 1.0\n",
      "acc: [0.7053140096618358, 0.7004830917874396, 0.7729468599033816, 0.748792270531401, 0.7294685990338164]\n",
      "ave_acc 0.7314009661835749\n",
      "7\n"
     ]
    },
    {
     "name": "stderr",
     "output_type": "stream",
     "text": [
      "E:\\Anaconda3\\lib\\site-packages\\sklearn\\preprocessing\\_data.py:2612: UserWarning: n_quantiles (1000) is greater than the total number of samples (828). n_quantiles is set to n_samples.\n",
      "  warnings.warn(\"n_quantiles (%s) is greater than the total number \"\n"
     ]
    },
    {
     "name": "stdout",
     "output_type": "stream",
     "text": [
      "train_acc: 1.0\n",
      "acc: [0.7355769230769231]\n"
     ]
    },
    {
     "name": "stderr",
     "output_type": "stream",
     "text": [
      "E:\\Anaconda3\\lib\\site-packages\\sklearn\\preprocessing\\_data.py:2612: UserWarning: n_quantiles (1000) is greater than the total number of samples (829). n_quantiles is set to n_samples.\n",
      "  warnings.warn(\"n_quantiles (%s) is greater than the total number \"\n"
     ]
    },
    {
     "name": "stdout",
     "output_type": "stream",
     "text": [
      "train_acc: 1.0\n",
      "acc: [0.7355769230769231, 0.7439613526570048]\n"
     ]
    },
    {
     "name": "stderr",
     "output_type": "stream",
     "text": [
      "E:\\Anaconda3\\lib\\site-packages\\sklearn\\preprocessing\\_data.py:2612: UserWarning: n_quantiles (1000) is greater than the total number of samples (829). n_quantiles is set to n_samples.\n",
      "  warnings.warn(\"n_quantiles (%s) is greater than the total number \"\n"
     ]
    },
    {
     "name": "stdout",
     "output_type": "stream",
     "text": [
      "train_acc: 1.0\n",
      "acc: [0.7355769230769231, 0.7439613526570048, 0.7584541062801933]\n"
     ]
    },
    {
     "name": "stderr",
     "output_type": "stream",
     "text": [
      "E:\\Anaconda3\\lib\\site-packages\\sklearn\\preprocessing\\_data.py:2612: UserWarning: n_quantiles (1000) is greater than the total number of samples (829). n_quantiles is set to n_samples.\n",
      "  warnings.warn(\"n_quantiles (%s) is greater than the total number \"\n"
     ]
    },
    {
     "name": "stdout",
     "output_type": "stream",
     "text": [
      "train_acc: 1.0\n",
      "acc: [0.7355769230769231, 0.7439613526570048, 0.7584541062801933, 0.7101449275362319]\n"
     ]
    },
    {
     "name": "stderr",
     "output_type": "stream",
     "text": [
      "E:\\Anaconda3\\lib\\site-packages\\sklearn\\preprocessing\\_data.py:2612: UserWarning: n_quantiles (1000) is greater than the total number of samples (829). n_quantiles is set to n_samples.\n",
      "  warnings.warn(\"n_quantiles (%s) is greater than the total number \"\n"
     ]
    },
    {
     "name": "stdout",
     "output_type": "stream",
     "text": [
      "train_acc: 1.0\n",
      "acc: [0.7355769230769231, 0.7439613526570048, 0.7584541062801933, 0.7101449275362319, 0.6811594202898551]\n",
      "ave_acc 0.7258593459680416\n",
      "8\n"
     ]
    },
    {
     "name": "stderr",
     "output_type": "stream",
     "text": [
      "E:\\Anaconda3\\lib\\site-packages\\sklearn\\preprocessing\\_data.py:2612: UserWarning: n_quantiles (1000) is greater than the total number of samples (830). n_quantiles is set to n_samples.\n",
      "  warnings.warn(\"n_quantiles (%s) is greater than the total number \"\n"
     ]
    },
    {
     "name": "stdout",
     "output_type": "stream",
     "text": [
      "train_acc: 1.0\n",
      "acc: [0.6971153846153846]\n"
     ]
    },
    {
     "name": "stderr",
     "output_type": "stream",
     "text": [
      "E:\\Anaconda3\\lib\\site-packages\\sklearn\\preprocessing\\_data.py:2612: UserWarning: n_quantiles (1000) is greater than the total number of samples (830). n_quantiles is set to n_samples.\n",
      "  warnings.warn(\"n_quantiles (%s) is greater than the total number \"\n"
     ]
    },
    {
     "name": "stdout",
     "output_type": "stream",
     "text": [
      "train_acc: 1.0\n",
      "acc: [0.6971153846153846, 0.7019230769230769]\n"
     ]
    },
    {
     "name": "stderr",
     "output_type": "stream",
     "text": [
      "E:\\Anaconda3\\lib\\site-packages\\sklearn\\preprocessing\\_data.py:2612: UserWarning: n_quantiles (1000) is greater than the total number of samples (830). n_quantiles is set to n_samples.\n",
      "  warnings.warn(\"n_quantiles (%s) is greater than the total number \"\n"
     ]
    },
    {
     "name": "stdout",
     "output_type": "stream",
     "text": [
      "train_acc: 1.0\n",
      "acc: [0.6971153846153846, 0.7019230769230769, 0.7596153846153846]\n"
     ]
    },
    {
     "name": "stderr",
     "output_type": "stream",
     "text": [
      "E:\\Anaconda3\\lib\\site-packages\\sklearn\\preprocessing\\_data.py:2612: UserWarning: n_quantiles (1000) is greater than the total number of samples (831). n_quantiles is set to n_samples.\n",
      "  warnings.warn(\"n_quantiles (%s) is greater than the total number \"\n"
     ]
    },
    {
     "name": "stdout",
     "output_type": "stream",
     "text": [
      "train_acc: 1.0\n",
      "acc: [0.6971153846153846, 0.7019230769230769, 0.7596153846153846, 0.7342995169082126]\n"
     ]
    },
    {
     "name": "stderr",
     "output_type": "stream",
     "text": [
      "E:\\Anaconda3\\lib\\site-packages\\sklearn\\preprocessing\\_data.py:2612: UserWarning: n_quantiles (1000) is greater than the total number of samples (831). n_quantiles is set to n_samples.\n",
      "  warnings.warn(\"n_quantiles (%s) is greater than the total number \"\n"
     ]
    },
    {
     "name": "stdout",
     "output_type": "stream",
     "text": [
      "train_acc: 1.0\n",
      "acc: [0.6971153846153846, 0.7019230769230769, 0.7596153846153846, 0.7342995169082126, 0.7053140096618358]\n",
      "ave_acc 0.7196534745447789\n",
      "9\n"
     ]
    },
    {
     "name": "stderr",
     "output_type": "stream",
     "text": [
      "E:\\Anaconda3\\lib\\site-packages\\sklearn\\preprocessing\\_data.py:2612: UserWarning: n_quantiles (1000) is greater than the total number of samples (829). n_quantiles is set to n_samples.\n",
      "  warnings.warn(\"n_quantiles (%s) is greater than the total number \"\n"
     ]
    },
    {
     "name": "stdout",
     "output_type": "stream",
     "text": [
      "train_acc: 1.0\n",
      "acc: [0.7259615384615384]\n"
     ]
    },
    {
     "name": "stderr",
     "output_type": "stream",
     "text": [
      "E:\\Anaconda3\\lib\\site-packages\\sklearn\\preprocessing\\_data.py:2612: UserWarning: n_quantiles (1000) is greater than the total number of samples (829). n_quantiles is set to n_samples.\n",
      "  warnings.warn(\"n_quantiles (%s) is greater than the total number \"\n"
     ]
    },
    {
     "name": "stdout",
     "output_type": "stream",
     "text": [
      "train_acc: 1.0\n",
      "acc: [0.7259615384615384, 0.7067307692307693]\n"
     ]
    },
    {
     "name": "stderr",
     "output_type": "stream",
     "text": [
      "E:\\Anaconda3\\lib\\site-packages\\sklearn\\preprocessing\\_data.py:2612: UserWarning: n_quantiles (1000) is greater than the total number of samples (830). n_quantiles is set to n_samples.\n",
      "  warnings.warn(\"n_quantiles (%s) is greater than the total number \"\n"
     ]
    },
    {
     "name": "stdout",
     "output_type": "stream",
     "text": [
      "train_acc: 1.0\n",
      "acc: [0.7259615384615384, 0.7067307692307693, 0.7874396135265701]\n"
     ]
    },
    {
     "name": "stderr",
     "output_type": "stream",
     "text": [
      "E:\\Anaconda3\\lib\\site-packages\\sklearn\\preprocessing\\_data.py:2612: UserWarning: n_quantiles (1000) is greater than the total number of samples (830). n_quantiles is set to n_samples.\n",
      "  warnings.warn(\"n_quantiles (%s) is greater than the total number \"\n"
     ]
    },
    {
     "name": "stdout",
     "output_type": "stream",
     "text": [
      "train_acc: 1.0\n",
      "acc: [0.7259615384615384, 0.7067307692307693, 0.7874396135265701, 0.748792270531401]\n"
     ]
    },
    {
     "name": "stderr",
     "output_type": "stream",
     "text": [
      "E:\\Anaconda3\\lib\\site-packages\\sklearn\\preprocessing\\_data.py:2612: UserWarning: n_quantiles (1000) is greater than the total number of samples (830). n_quantiles is set to n_samples.\n",
      "  warnings.warn(\"n_quantiles (%s) is greater than the total number \"\n"
     ]
    },
    {
     "name": "stdout",
     "output_type": "stream",
     "text": [
      "train_acc: 1.0\n",
      "acc: [0.7259615384615384, 0.7067307692307693, 0.7874396135265701, 0.748792270531401, 0.7004830917874396]\n",
      "ave_acc 0.7338814567075438\n",
      "10\n"
     ]
    },
    {
     "name": "stderr",
     "output_type": "stream",
     "text": [
      "E:\\Anaconda3\\lib\\site-packages\\sklearn\\preprocessing\\_data.py:2612: UserWarning: n_quantiles (1000) is greater than the total number of samples (828). n_quantiles is set to n_samples.\n",
      "  warnings.warn(\"n_quantiles (%s) is greater than the total number \"\n"
     ]
    },
    {
     "name": "stdout",
     "output_type": "stream",
     "text": [
      "train_acc: 1.0\n",
      "acc: [0.6826923076923077]\n"
     ]
    },
    {
     "name": "stderr",
     "output_type": "stream",
     "text": [
      "E:\\Anaconda3\\lib\\site-packages\\sklearn\\preprocessing\\_data.py:2612: UserWarning: n_quantiles (1000) is greater than the total number of samples (829). n_quantiles is set to n_samples.\n",
      "  warnings.warn(\"n_quantiles (%s) is greater than the total number \"\n"
     ]
    },
    {
     "name": "stdout",
     "output_type": "stream",
     "text": [
      "train_acc: 1.0\n",
      "acc: [0.6826923076923077, 0.7391304347826086]\n"
     ]
    },
    {
     "name": "stderr",
     "output_type": "stream",
     "text": [
      "E:\\Anaconda3\\lib\\site-packages\\sklearn\\preprocessing\\_data.py:2612: UserWarning: n_quantiles (1000) is greater than the total number of samples (829). n_quantiles is set to n_samples.\n",
      "  warnings.warn(\"n_quantiles (%s) is greater than the total number \"\n"
     ]
    },
    {
     "name": "stdout",
     "output_type": "stream",
     "text": [
      "train_acc: 1.0\n",
      "acc: [0.6826923076923077, 0.7391304347826086, 0.7439613526570048]\n"
     ]
    },
    {
     "name": "stderr",
     "output_type": "stream",
     "text": [
      "E:\\Anaconda3\\lib\\site-packages\\sklearn\\preprocessing\\_data.py:2612: UserWarning: n_quantiles (1000) is greater than the total number of samples (829). n_quantiles is set to n_samples.\n",
      "  warnings.warn(\"n_quantiles (%s) is greater than the total number \"\n"
     ]
    },
    {
     "name": "stdout",
     "output_type": "stream",
     "text": [
      "train_acc: 1.0\n",
      "acc: [0.6826923076923077, 0.7391304347826086, 0.7439613526570048, 0.7342995169082126]\n"
     ]
    },
    {
     "name": "stderr",
     "output_type": "stream",
     "text": [
      "E:\\Anaconda3\\lib\\site-packages\\sklearn\\preprocessing\\_data.py:2612: UserWarning: n_quantiles (1000) is greater than the total number of samples (829). n_quantiles is set to n_samples.\n",
      "  warnings.warn(\"n_quantiles (%s) is greater than the total number \"\n"
     ]
    },
    {
     "name": "stdout",
     "output_type": "stream",
     "text": [
      "train_acc: 1.0\n",
      "acc: [0.6826923076923077, 0.7391304347826086, 0.7439613526570048, 0.7342995169082126, 0.6521739130434783]\n",
      "ave_acc 0.7104515050167224\n",
      "11\n"
     ]
    },
    {
     "name": "stderr",
     "output_type": "stream",
     "text": [
      "E:\\Anaconda3\\lib\\site-packages\\sklearn\\preprocessing\\_data.py:2612: UserWarning: n_quantiles (1000) is greater than the total number of samples (830). n_quantiles is set to n_samples.\n",
      "  warnings.warn(\"n_quantiles (%s) is greater than the total number \"\n"
     ]
    },
    {
     "name": "stdout",
     "output_type": "stream",
     "text": [
      "train_acc: 1.0\n",
      "acc: [0.7259615384615384]\n"
     ]
    },
    {
     "name": "stderr",
     "output_type": "stream",
     "text": [
      "E:\\Anaconda3\\lib\\site-packages\\sklearn\\preprocessing\\_data.py:2612: UserWarning: n_quantiles (1000) is greater than the total number of samples (830). n_quantiles is set to n_samples.\n",
      "  warnings.warn(\"n_quantiles (%s) is greater than the total number \"\n"
     ]
    },
    {
     "name": "stdout",
     "output_type": "stream",
     "text": [
      "train_acc: 1.0\n",
      "acc: [0.7259615384615384, 0.7403846153846154]\n"
     ]
    },
    {
     "name": "stderr",
     "output_type": "stream",
     "text": [
      "E:\\Anaconda3\\lib\\site-packages\\sklearn\\preprocessing\\_data.py:2612: UserWarning: n_quantiles (1000) is greater than the total number of samples (830). n_quantiles is set to n_samples.\n",
      "  warnings.warn(\"n_quantiles (%s) is greater than the total number \"\n"
     ]
    },
    {
     "name": "stdout",
     "output_type": "stream",
     "text": [
      "train_acc: 1.0\n",
      "acc: [0.7259615384615384, 0.7403846153846154, 0.7836538461538461]\n"
     ]
    },
    {
     "name": "stderr",
     "output_type": "stream",
     "text": [
      "E:\\Anaconda3\\lib\\site-packages\\sklearn\\preprocessing\\_data.py:2612: UserWarning: n_quantiles (1000) is greater than the total number of samples (831). n_quantiles is set to n_samples.\n",
      "  warnings.warn(\"n_quantiles (%s) is greater than the total number \"\n"
     ]
    },
    {
     "name": "stdout",
     "output_type": "stream",
     "text": [
      "train_acc: 1.0\n",
      "acc: [0.7259615384615384, 0.7403846153846154, 0.7836538461538461, 0.748792270531401]\n"
     ]
    },
    {
     "name": "stderr",
     "output_type": "stream",
     "text": [
      "E:\\Anaconda3\\lib\\site-packages\\sklearn\\preprocessing\\_data.py:2612: UserWarning: n_quantiles (1000) is greater than the total number of samples (831). n_quantiles is set to n_samples.\n",
      "  warnings.warn(\"n_quantiles (%s) is greater than the total number \"\n"
     ]
    },
    {
     "name": "stdout",
     "output_type": "stream",
     "text": [
      "train_acc: 1.0\n",
      "acc: [0.7259615384615384, 0.7403846153846154, 0.7836538461538461, 0.748792270531401, 0.7342995169082126]\n",
      "ave_acc 0.7466183574879227\n",
      "12\n"
     ]
    },
    {
     "name": "stderr",
     "output_type": "stream",
     "text": [
      "E:\\Anaconda3\\lib\\site-packages\\sklearn\\preprocessing\\_data.py:2612: UserWarning: n_quantiles (1000) is greater than the total number of samples (826). n_quantiles is set to n_samples.\n",
      "  warnings.warn(\"n_quantiles (%s) is greater than the total number \"\n"
     ]
    },
    {
     "name": "stdout",
     "output_type": "stream",
     "text": [
      "train_acc: 1.0\n",
      "acc: [0.6908212560386473]\n"
     ]
    },
    {
     "name": "stderr",
     "output_type": "stream",
     "text": [
      "E:\\Anaconda3\\lib\\site-packages\\sklearn\\preprocessing\\_data.py:2612: UserWarning: n_quantiles (1000) is greater than the total number of samples (826). n_quantiles is set to n_samples.\n",
      "  warnings.warn(\"n_quantiles (%s) is greater than the total number \"\n"
     ]
    },
    {
     "name": "stdout",
     "output_type": "stream",
     "text": [
      "train_acc: 1.0\n",
      "acc: [0.6908212560386473, 0.6811594202898551]\n"
     ]
    },
    {
     "name": "stderr",
     "output_type": "stream",
     "text": [
      "E:\\Anaconda3\\lib\\site-packages\\sklearn\\preprocessing\\_data.py:2612: UserWarning: n_quantiles (1000) is greater than the total number of samples (826). n_quantiles is set to n_samples.\n",
      "  warnings.warn(\"n_quantiles (%s) is greater than the total number \"\n"
     ]
    },
    {
     "name": "stdout",
     "output_type": "stream",
     "text": [
      "train_acc: 1.0\n",
      "acc: [0.6908212560386473, 0.6811594202898551, 0.7391304347826086]\n"
     ]
    },
    {
     "name": "stderr",
     "output_type": "stream",
     "text": [
      "E:\\Anaconda3\\lib\\site-packages\\sklearn\\preprocessing\\_data.py:2612: UserWarning: n_quantiles (1000) is greater than the total number of samples (827). n_quantiles is set to n_samples.\n",
      "  warnings.warn(\"n_quantiles (%s) is greater than the total number \"\n"
     ]
    },
    {
     "name": "stdout",
     "output_type": "stream",
     "text": [
      "train_acc: 1.0\n",
      "acc: [0.6908212560386473, 0.6811594202898551, 0.7391304347826086, 0.7038834951456311]\n"
     ]
    },
    {
     "name": "stderr",
     "output_type": "stream",
     "text": [
      "E:\\Anaconda3\\lib\\site-packages\\sklearn\\preprocessing\\_data.py:2612: UserWarning: n_quantiles (1000) is greater than the total number of samples (827). n_quantiles is set to n_samples.\n",
      "  warnings.warn(\"n_quantiles (%s) is greater than the total number \"\n"
     ]
    },
    {
     "name": "stdout",
     "output_type": "stream",
     "text": [
      "train_acc: 1.0\n",
      "acc: [0.6908212560386473, 0.6811594202898551, 0.7391304347826086, 0.7038834951456311, 0.7281553398058253]\n",
      "ave_acc 0.7086299892125134\n",
      "13\n"
     ]
    },
    {
     "name": "stderr",
     "output_type": "stream",
     "text": [
      "E:\\Anaconda3\\lib\\site-packages\\sklearn\\preprocessing\\_data.py:2612: UserWarning: n_quantiles (1000) is greater than the total number of samples (828). n_quantiles is set to n_samples.\n",
      "  warnings.warn(\"n_quantiles (%s) is greater than the total number \"\n"
     ]
    },
    {
     "name": "stdout",
     "output_type": "stream",
     "text": [
      "train_acc: 1.0\n",
      "acc: [0.6618357487922706]\n"
     ]
    },
    {
     "name": "stderr",
     "output_type": "stream",
     "text": [
      "E:\\Anaconda3\\lib\\site-packages\\sklearn\\preprocessing\\_data.py:2612: UserWarning: n_quantiles (1000) is greater than the total number of samples (828). n_quantiles is set to n_samples.\n",
      "  warnings.warn(\"n_quantiles (%s) is greater than the total number \"\n"
     ]
    },
    {
     "name": "stdout",
     "output_type": "stream",
     "text": [
      "train_acc: 1.0\n",
      "acc: [0.6618357487922706, 0.7053140096618358]\n"
     ]
    },
    {
     "name": "stderr",
     "output_type": "stream",
     "text": [
      "E:\\Anaconda3\\lib\\site-packages\\sklearn\\preprocessing\\_data.py:2612: UserWarning: n_quantiles (1000) is greater than the total number of samples (828). n_quantiles is set to n_samples.\n",
      "  warnings.warn(\"n_quantiles (%s) is greater than the total number \"\n"
     ]
    },
    {
     "name": "stdout",
     "output_type": "stream",
     "text": [
      "train_acc: 1.0\n",
      "acc: [0.6618357487922706, 0.7053140096618358, 0.7777777777777778]\n"
     ]
    },
    {
     "name": "stderr",
     "output_type": "stream",
     "text": [
      "E:\\Anaconda3\\lib\\site-packages\\sklearn\\preprocessing\\_data.py:2612: UserWarning: n_quantiles (1000) is greater than the total number of samples (828). n_quantiles is set to n_samples.\n",
      "  warnings.warn(\"n_quantiles (%s) is greater than the total number \"\n"
     ]
    },
    {
     "name": "stdout",
     "output_type": "stream",
     "text": [
      "train_acc: 1.0\n",
      "acc: [0.6618357487922706, 0.7053140096618358, 0.7777777777777778, 0.714975845410628]\n"
     ]
    },
    {
     "name": "stderr",
     "output_type": "stream",
     "text": [
      "E:\\Anaconda3\\lib\\site-packages\\sklearn\\preprocessing\\_data.py:2612: UserWarning: n_quantiles (1000) is greater than the total number of samples (828). n_quantiles is set to n_samples.\n",
      "  warnings.warn(\"n_quantiles (%s) is greater than the total number \"\n"
     ]
    },
    {
     "name": "stdout",
     "output_type": "stream",
     "text": [
      "train_acc: 1.0\n",
      "acc: [0.6618357487922706, 0.7053140096618358, 0.7777777777777778, 0.714975845410628, 0.7053140096618358]\n",
      "ave_acc 0.7130434782608697\n",
      "14\n"
     ]
    },
    {
     "name": "stderr",
     "output_type": "stream",
     "text": [
      "E:\\Anaconda3\\lib\\site-packages\\sklearn\\preprocessing\\_data.py:2612: UserWarning: n_quantiles (1000) is greater than the total number of samples (828). n_quantiles is set to n_samples.\n",
      "  warnings.warn(\"n_quantiles (%s) is greater than the total number \"\n"
     ]
    },
    {
     "name": "stdout",
     "output_type": "stream",
     "text": [
      "train_acc: 1.0\n",
      "acc: [0.6714975845410628]\n"
     ]
    },
    {
     "name": "stderr",
     "output_type": "stream",
     "text": [
      "E:\\Anaconda3\\lib\\site-packages\\sklearn\\preprocessing\\_data.py:2612: UserWarning: n_quantiles (1000) is greater than the total number of samples (828). n_quantiles is set to n_samples.\n",
      "  warnings.warn(\"n_quantiles (%s) is greater than the total number \"\n"
     ]
    },
    {
     "name": "stdout",
     "output_type": "stream",
     "text": [
      "train_acc: 1.0\n",
      "acc: [0.6714975845410628, 0.7198067632850241]\n"
     ]
    },
    {
     "name": "stderr",
     "output_type": "stream",
     "text": [
      "E:\\Anaconda3\\lib\\site-packages\\sklearn\\preprocessing\\_data.py:2612: UserWarning: n_quantiles (1000) is greater than the total number of samples (828). n_quantiles is set to n_samples.\n",
      "  warnings.warn(\"n_quantiles (%s) is greater than the total number \"\n"
     ]
    },
    {
     "name": "stdout",
     "output_type": "stream",
     "text": [
      "train_acc: 1.0\n",
      "acc: [0.6714975845410628, 0.7198067632850241, 0.7632850241545893]\n"
     ]
    },
    {
     "name": "stderr",
     "output_type": "stream",
     "text": [
      "E:\\Anaconda3\\lib\\site-packages\\sklearn\\preprocessing\\_data.py:2612: UserWarning: n_quantiles (1000) is greater than the total number of samples (828). n_quantiles is set to n_samples.\n",
      "  warnings.warn(\"n_quantiles (%s) is greater than the total number \"\n"
     ]
    },
    {
     "name": "stdout",
     "output_type": "stream",
     "text": [
      "train_acc: 1.0\n",
      "acc: [0.6714975845410628, 0.7198067632850241, 0.7632850241545893, 0.6714975845410628]\n"
     ]
    },
    {
     "name": "stderr",
     "output_type": "stream",
     "text": [
      "E:\\Anaconda3\\lib\\site-packages\\sklearn\\preprocessing\\_data.py:2612: UserWarning: n_quantiles (1000) is greater than the total number of samples (828). n_quantiles is set to n_samples.\n",
      "  warnings.warn(\"n_quantiles (%s) is greater than the total number \"\n"
     ]
    },
    {
     "name": "stdout",
     "output_type": "stream",
     "text": [
      "train_acc: 1.0\n",
      "acc: [0.6714975845410628, 0.7198067632850241, 0.7632850241545893, 0.6714975845410628, 0.6811594202898551]\n",
      "ave_acc 0.7014492753623187\n",
      "15\n"
     ]
    },
    {
     "name": "stderr",
     "output_type": "stream",
     "text": [
      "E:\\Anaconda3\\lib\\site-packages\\sklearn\\preprocessing\\_data.py:2612: UserWarning: n_quantiles (1000) is greater than the total number of samples (828). n_quantiles is set to n_samples.\n",
      "  warnings.warn(\"n_quantiles (%s) is greater than the total number \"\n"
     ]
    },
    {
     "name": "stdout",
     "output_type": "stream",
     "text": [
      "train_acc: 1.0\n",
      "acc: [0.6859903381642513]\n"
     ]
    },
    {
     "name": "stderr",
     "output_type": "stream",
     "text": [
      "E:\\Anaconda3\\lib\\site-packages\\sklearn\\preprocessing\\_data.py:2612: UserWarning: n_quantiles (1000) is greater than the total number of samples (828). n_quantiles is set to n_samples.\n",
      "  warnings.warn(\"n_quantiles (%s) is greater than the total number \"\n"
     ]
    },
    {
     "name": "stdout",
     "output_type": "stream",
     "text": [
      "train_acc: 1.0\n",
      "acc: [0.6859903381642513, 0.782608695652174]\n"
     ]
    },
    {
     "name": "stderr",
     "output_type": "stream",
     "text": [
      "E:\\Anaconda3\\lib\\site-packages\\sklearn\\preprocessing\\_data.py:2612: UserWarning: n_quantiles (1000) is greater than the total number of samples (828). n_quantiles is set to n_samples.\n",
      "  warnings.warn(\"n_quantiles (%s) is greater than the total number \"\n"
     ]
    },
    {
     "name": "stdout",
     "output_type": "stream",
     "text": [
      "train_acc: 1.0\n",
      "acc: [0.6859903381642513, 0.782608695652174, 0.7584541062801933]\n"
     ]
    },
    {
     "name": "stderr",
     "output_type": "stream",
     "text": [
      "E:\\Anaconda3\\lib\\site-packages\\sklearn\\preprocessing\\_data.py:2612: UserWarning: n_quantiles (1000) is greater than the total number of samples (828). n_quantiles is set to n_samples.\n",
      "  warnings.warn(\"n_quantiles (%s) is greater than the total number \"\n"
     ]
    },
    {
     "name": "stdout",
     "output_type": "stream",
     "text": [
      "train_acc: 1.0\n",
      "acc: [0.6859903381642513, 0.782608695652174, 0.7584541062801933, 0.714975845410628]\n"
     ]
    },
    {
     "name": "stderr",
     "output_type": "stream",
     "text": [
      "E:\\Anaconda3\\lib\\site-packages\\sklearn\\preprocessing\\_data.py:2612: UserWarning: n_quantiles (1000) is greater than the total number of samples (828). n_quantiles is set to n_samples.\n",
      "  warnings.warn(\"n_quantiles (%s) is greater than the total number \"\n"
     ]
    },
    {
     "name": "stdout",
     "output_type": "stream",
     "text": [
      "train_acc: 1.0\n",
      "acc: [0.6859903381642513, 0.782608695652174, 0.7584541062801933, 0.714975845410628, 0.7004830917874396]\n",
      "ave_acc 0.7285024154589372\n",
      "16\n"
     ]
    },
    {
     "name": "stderr",
     "output_type": "stream",
     "text": [
      "E:\\Anaconda3\\lib\\site-packages\\sklearn\\preprocessing\\_data.py:2612: UserWarning: n_quantiles (1000) is greater than the total number of samples (829). n_quantiles is set to n_samples.\n",
      "  warnings.warn(\"n_quantiles (%s) is greater than the total number \"\n"
     ]
    },
    {
     "name": "stdout",
     "output_type": "stream",
     "text": [
      "train_acc: 1.0\n",
      "acc: [0.7067307692307693]\n"
     ]
    },
    {
     "name": "stderr",
     "output_type": "stream",
     "text": [
      "E:\\Anaconda3\\lib\\site-packages\\sklearn\\preprocessing\\_data.py:2612: UserWarning: n_quantiles (1000) is greater than the total number of samples (829). n_quantiles is set to n_samples.\n",
      "  warnings.warn(\"n_quantiles (%s) is greater than the total number \"\n"
     ]
    },
    {
     "name": "stdout",
     "output_type": "stream",
     "text": [
      "train_acc: 1.0\n",
      "acc: [0.7067307692307693, 0.6923076923076923]\n"
     ]
    },
    {
     "name": "stderr",
     "output_type": "stream",
     "text": [
      "E:\\Anaconda3\\lib\\site-packages\\sklearn\\preprocessing\\_data.py:2612: UserWarning: n_quantiles (1000) is greater than the total number of samples (830). n_quantiles is set to n_samples.\n",
      "  warnings.warn(\"n_quantiles (%s) is greater than the total number \"\n"
     ]
    },
    {
     "name": "stdout",
     "output_type": "stream",
     "text": [
      "train_acc: 1.0\n",
      "acc: [0.7067307692307693, 0.6923076923076923, 0.7439613526570048]\n"
     ]
    },
    {
     "name": "stderr",
     "output_type": "stream",
     "text": [
      "E:\\Anaconda3\\lib\\site-packages\\sklearn\\preprocessing\\_data.py:2612: UserWarning: n_quantiles (1000) is greater than the total number of samples (830). n_quantiles is set to n_samples.\n",
      "  warnings.warn(\"n_quantiles (%s) is greater than the total number \"\n"
     ]
    },
    {
     "name": "stdout",
     "output_type": "stream",
     "text": [
      "train_acc: 1.0\n",
      "acc: [0.7067307692307693, 0.6923076923076923, 0.7439613526570048, 0.7777777777777778]\n"
     ]
    },
    {
     "name": "stderr",
     "output_type": "stream",
     "text": [
      "E:\\Anaconda3\\lib\\site-packages\\sklearn\\preprocessing\\_data.py:2612: UserWarning: n_quantiles (1000) is greater than the total number of samples (830). n_quantiles is set to n_samples.\n",
      "  warnings.warn(\"n_quantiles (%s) is greater than the total number \"\n"
     ]
    },
    {
     "name": "stdout",
     "output_type": "stream",
     "text": [
      "train_acc: 1.0\n",
      "acc: [0.7067307692307693, 0.6923076923076923, 0.7439613526570048, 0.7777777777777778, 0.7246376811594203]\n",
      "ave_acc 0.7290830546265329\n",
      "17\n"
     ]
    },
    {
     "name": "stderr",
     "output_type": "stream",
     "text": [
      "E:\\Anaconda3\\lib\\site-packages\\sklearn\\preprocessing\\_data.py:2612: UserWarning: n_quantiles (1000) is greater than the total number of samples (828). n_quantiles is set to n_samples.\n",
      "  warnings.warn(\"n_quantiles (%s) is greater than the total number \"\n"
     ]
    },
    {
     "name": "stdout",
     "output_type": "stream",
     "text": [
      "train_acc: 1.0\n",
      "acc: [0.6956521739130435]\n"
     ]
    },
    {
     "name": "stderr",
     "output_type": "stream",
     "text": [
      "E:\\Anaconda3\\lib\\site-packages\\sklearn\\preprocessing\\_data.py:2612: UserWarning: n_quantiles (1000) is greater than the total number of samples (828). n_quantiles is set to n_samples.\n",
      "  warnings.warn(\"n_quantiles (%s) is greater than the total number \"\n"
     ]
    },
    {
     "name": "stdout",
     "output_type": "stream",
     "text": [
      "train_acc: 1.0\n",
      "acc: [0.6956521739130435, 0.7004830917874396]\n"
     ]
    },
    {
     "name": "stderr",
     "output_type": "stream",
     "text": [
      "E:\\Anaconda3\\lib\\site-packages\\sklearn\\preprocessing\\_data.py:2612: UserWarning: n_quantiles (1000) is greater than the total number of samples (828). n_quantiles is set to n_samples.\n",
      "  warnings.warn(\"n_quantiles (%s) is greater than the total number \"\n"
     ]
    },
    {
     "name": "stdout",
     "output_type": "stream",
     "text": [
      "train_acc: 1.0\n",
      "acc: [0.6956521739130435, 0.7004830917874396, 0.7198067632850241]\n"
     ]
    },
    {
     "name": "stderr",
     "output_type": "stream",
     "text": [
      "E:\\Anaconda3\\lib\\site-packages\\sklearn\\preprocessing\\_data.py:2612: UserWarning: n_quantiles (1000) is greater than the total number of samples (828). n_quantiles is set to n_samples.\n",
      "  warnings.warn(\"n_quantiles (%s) is greater than the total number \"\n"
     ]
    },
    {
     "name": "stdout",
     "output_type": "stream",
     "text": [
      "train_acc: 1.0\n",
      "acc: [0.6956521739130435, 0.7004830917874396, 0.7198067632850241, 0.6859903381642513]\n"
     ]
    },
    {
     "name": "stderr",
     "output_type": "stream",
     "text": [
      "E:\\Anaconda3\\lib\\site-packages\\sklearn\\preprocessing\\_data.py:2612: UserWarning: n_quantiles (1000) is greater than the total number of samples (828). n_quantiles is set to n_samples.\n",
      "  warnings.warn(\"n_quantiles (%s) is greater than the total number \"\n"
     ]
    },
    {
     "name": "stdout",
     "output_type": "stream",
     "text": [
      "train_acc: 1.0\n",
      "acc: [0.6956521739130435, 0.7004830917874396, 0.7198067632850241, 0.6859903381642513, 0.7101449275362319]\n",
      "ave_acc 0.702415458937198\n",
      "18\n"
     ]
    },
    {
     "name": "stderr",
     "output_type": "stream",
     "text": [
      "E:\\Anaconda3\\lib\\site-packages\\sklearn\\preprocessing\\_data.py:2612: UserWarning: n_quantiles (1000) is greater than the total number of samples (828). n_quantiles is set to n_samples.\n",
      "  warnings.warn(\"n_quantiles (%s) is greater than the total number \"\n"
     ]
    },
    {
     "name": "stdout",
     "output_type": "stream",
     "text": [
      "train_acc: 1.0\n",
      "acc: [0.7019230769230769]\n"
     ]
    },
    {
     "name": "stderr",
     "output_type": "stream",
     "text": [
      "E:\\Anaconda3\\lib\\site-packages\\sklearn\\preprocessing\\_data.py:2612: UserWarning: n_quantiles (1000) is greater than the total number of samples (829). n_quantiles is set to n_samples.\n",
      "  warnings.warn(\"n_quantiles (%s) is greater than the total number \"\n"
     ]
    },
    {
     "name": "stdout",
     "output_type": "stream",
     "text": [
      "train_acc: 1.0\n",
      "acc: [0.7019230769230769, 0.7294685990338164]\n"
     ]
    },
    {
     "name": "stderr",
     "output_type": "stream",
     "text": [
      "E:\\Anaconda3\\lib\\site-packages\\sklearn\\preprocessing\\_data.py:2612: UserWarning: n_quantiles (1000) is greater than the total number of samples (829). n_quantiles is set to n_samples.\n",
      "  warnings.warn(\"n_quantiles (%s) is greater than the total number \"\n"
     ]
    },
    {
     "name": "stdout",
     "output_type": "stream",
     "text": [
      "train_acc: 1.0\n",
      "acc: [0.7019230769230769, 0.7294685990338164, 0.7342995169082126]\n"
     ]
    },
    {
     "name": "stderr",
     "output_type": "stream",
     "text": [
      "E:\\Anaconda3\\lib\\site-packages\\sklearn\\preprocessing\\_data.py:2612: UserWarning: n_quantiles (1000) is greater than the total number of samples (829). n_quantiles is set to n_samples.\n",
      "  warnings.warn(\"n_quantiles (%s) is greater than the total number \"\n"
     ]
    },
    {
     "name": "stdout",
     "output_type": "stream",
     "text": [
      "train_acc: 1.0\n",
      "acc: [0.7019230769230769, 0.7294685990338164, 0.7342995169082126, 0.7342995169082126]\n"
     ]
    },
    {
     "name": "stderr",
     "output_type": "stream",
     "text": [
      "E:\\Anaconda3\\lib\\site-packages\\sklearn\\preprocessing\\_data.py:2612: UserWarning: n_quantiles (1000) is greater than the total number of samples (829). n_quantiles is set to n_samples.\n",
      "  warnings.warn(\"n_quantiles (%s) is greater than the total number \"\n"
     ]
    },
    {
     "name": "stdout",
     "output_type": "stream",
     "text": [
      "train_acc: 1.0\n",
      "acc: [0.7019230769230769, 0.7294685990338164, 0.7342995169082126, 0.7342995169082126, 0.7342995169082126]\n",
      "ave_acc 0.7268580453363063\n",
      "19\n"
     ]
    },
    {
     "name": "stderr",
     "output_type": "stream",
     "text": [
      "E:\\Anaconda3\\lib\\site-packages\\sklearn\\preprocessing\\_data.py:2612: UserWarning: n_quantiles (1000) is greater than the total number of samples (828). n_quantiles is set to n_samples.\n",
      "  warnings.warn(\"n_quantiles (%s) is greater than the total number \"\n"
     ]
    },
    {
     "name": "stdout",
     "output_type": "stream",
     "text": [
      "train_acc: 1.0\n",
      "acc: [0.6971153846153846]\n"
     ]
    },
    {
     "name": "stderr",
     "output_type": "stream",
     "text": [
      "E:\\Anaconda3\\lib\\site-packages\\sklearn\\preprocessing\\_data.py:2612: UserWarning: n_quantiles (1000) is greater than the total number of samples (829). n_quantiles is set to n_samples.\n",
      "  warnings.warn(\"n_quantiles (%s) is greater than the total number \"\n"
     ]
    },
    {
     "name": "stdout",
     "output_type": "stream",
     "text": [
      "train_acc: 1.0\n",
      "acc: [0.6971153846153846, 0.7584541062801933]\n"
     ]
    },
    {
     "name": "stderr",
     "output_type": "stream",
     "text": [
      "E:\\Anaconda3\\lib\\site-packages\\sklearn\\preprocessing\\_data.py:2612: UserWarning: n_quantiles (1000) is greater than the total number of samples (829). n_quantiles is set to n_samples.\n",
      "  warnings.warn(\"n_quantiles (%s) is greater than the total number \"\n"
     ]
    },
    {
     "name": "stdout",
     "output_type": "stream",
     "text": [
      "train_acc: 1.0\n",
      "acc: [0.6971153846153846, 0.7584541062801933, 0.7391304347826086]\n"
     ]
    },
    {
     "name": "stderr",
     "output_type": "stream",
     "text": [
      "E:\\Anaconda3\\lib\\site-packages\\sklearn\\preprocessing\\_data.py:2612: UserWarning: n_quantiles (1000) is greater than the total number of samples (829). n_quantiles is set to n_samples.\n",
      "  warnings.warn(\"n_quantiles (%s) is greater than the total number \"\n"
     ]
    },
    {
     "name": "stdout",
     "output_type": "stream",
     "text": [
      "train_acc: 1.0\n",
      "acc: [0.6971153846153846, 0.7584541062801933, 0.7391304347826086, 0.7198067632850241]\n"
     ]
    },
    {
     "name": "stderr",
     "output_type": "stream",
     "text": [
      "E:\\Anaconda3\\lib\\site-packages\\sklearn\\preprocessing\\_data.py:2612: UserWarning: n_quantiles (1000) is greater than the total number of samples (829). n_quantiles is set to n_samples.\n",
      "  warnings.warn(\"n_quantiles (%s) is greater than the total number \"\n"
     ]
    },
    {
     "name": "stdout",
     "output_type": "stream",
     "text": [
      "train_acc: 1.0\n",
      "acc: [0.6971153846153846, 0.7584541062801933, 0.7391304347826086, 0.7198067632850241, 0.714975845410628]\n",
      "ave_acc 0.7258965068747678\n",
      "20\n"
     ]
    },
    {
     "name": "stderr",
     "output_type": "stream",
     "text": [
      "E:\\Anaconda3\\lib\\site-packages\\sklearn\\preprocessing\\_data.py:2612: UserWarning: n_quantiles (1000) is greater than the total number of samples (828). n_quantiles is set to n_samples.\n",
      "  warnings.warn(\"n_quantiles (%s) is greater than the total number \"\n"
     ]
    },
    {
     "name": "stdout",
     "output_type": "stream",
     "text": [
      "train_acc: 1.0\n",
      "acc: [0.6875]\n"
     ]
    },
    {
     "name": "stderr",
     "output_type": "stream",
     "text": [
      "E:\\Anaconda3\\lib\\site-packages\\sklearn\\preprocessing\\_data.py:2612: UserWarning: n_quantiles (1000) is greater than the total number of samples (829). n_quantiles is set to n_samples.\n",
      "  warnings.warn(\"n_quantiles (%s) is greater than the total number \"\n"
     ]
    },
    {
     "name": "stdout",
     "output_type": "stream",
     "text": [
      "train_acc: 1.0\n",
      "acc: [0.6875, 0.714975845410628]\n"
     ]
    },
    {
     "name": "stderr",
     "output_type": "stream",
     "text": [
      "E:\\Anaconda3\\lib\\site-packages\\sklearn\\preprocessing\\_data.py:2612: UserWarning: n_quantiles (1000) is greater than the total number of samples (829). n_quantiles is set to n_samples.\n",
      "  warnings.warn(\"n_quantiles (%s) is greater than the total number \"\n"
     ]
    },
    {
     "name": "stdout",
     "output_type": "stream",
     "text": [
      "train_acc: 1.0\n",
      "acc: [0.6875, 0.714975845410628, 0.7536231884057971]\n"
     ]
    },
    {
     "name": "stderr",
     "output_type": "stream",
     "text": [
      "E:\\Anaconda3\\lib\\site-packages\\sklearn\\preprocessing\\_data.py:2612: UserWarning: n_quantiles (1000) is greater than the total number of samples (829). n_quantiles is set to n_samples.\n",
      "  warnings.warn(\"n_quantiles (%s) is greater than the total number \"\n"
     ]
    },
    {
     "name": "stdout",
     "output_type": "stream",
     "text": [
      "train_acc: 1.0\n",
      "acc: [0.6875, 0.714975845410628, 0.7536231884057971, 0.6859903381642513]\n"
     ]
    },
    {
     "name": "stderr",
     "output_type": "stream",
     "text": [
      "E:\\Anaconda3\\lib\\site-packages\\sklearn\\preprocessing\\_data.py:2612: UserWarning: n_quantiles (1000) is greater than the total number of samples (829). n_quantiles is set to n_samples.\n",
      "  warnings.warn(\"n_quantiles (%s) is greater than the total number \"\n"
     ]
    },
    {
     "name": "stdout",
     "output_type": "stream",
     "text": [
      "train_acc: 1.0\n",
      "acc: [0.6875, 0.714975845410628, 0.7536231884057971, 0.6859903381642513, 0.7004830917874396]\n",
      "ave_acc 0.7085144927536232\n",
      "21\n"
     ]
    },
    {
     "name": "stderr",
     "output_type": "stream",
     "text": [
      "E:\\Anaconda3\\lib\\site-packages\\sklearn\\preprocessing\\_data.py:2612: UserWarning: n_quantiles (1000) is greater than the total number of samples (828). n_quantiles is set to n_samples.\n",
      "  warnings.warn(\"n_quantiles (%s) is greater than the total number \"\n"
     ]
    },
    {
     "name": "stdout",
     "output_type": "stream",
     "text": [
      "train_acc: 1.0\n",
      "acc: [0.6956521739130435]\n"
     ]
    },
    {
     "name": "stderr",
     "output_type": "stream",
     "text": [
      "E:\\Anaconda3\\lib\\site-packages\\sklearn\\preprocessing\\_data.py:2612: UserWarning: n_quantiles (1000) is greater than the total number of samples (828). n_quantiles is set to n_samples.\n",
      "  warnings.warn(\"n_quantiles (%s) is greater than the total number \"\n"
     ]
    },
    {
     "name": "stdout",
     "output_type": "stream",
     "text": [
      "train_acc: 1.0\n",
      "acc: [0.6956521739130435, 0.7536231884057971]\n"
     ]
    },
    {
     "name": "stderr",
     "output_type": "stream",
     "text": [
      "E:\\Anaconda3\\lib\\site-packages\\sklearn\\preprocessing\\_data.py:2612: UserWarning: n_quantiles (1000) is greater than the total number of samples (828). n_quantiles is set to n_samples.\n",
      "  warnings.warn(\"n_quantiles (%s) is greater than the total number \"\n"
     ]
    },
    {
     "name": "stdout",
     "output_type": "stream",
     "text": [
      "train_acc: 1.0\n",
      "acc: [0.6956521739130435, 0.7536231884057971, 0.7294685990338164]\n"
     ]
    },
    {
     "name": "stderr",
     "output_type": "stream",
     "text": [
      "E:\\Anaconda3\\lib\\site-packages\\sklearn\\preprocessing\\_data.py:2612: UserWarning: n_quantiles (1000) is greater than the total number of samples (828). n_quantiles is set to n_samples.\n",
      "  warnings.warn(\"n_quantiles (%s) is greater than the total number \"\n"
     ]
    },
    {
     "name": "stdout",
     "output_type": "stream",
     "text": [
      "train_acc: 1.0\n",
      "acc: [0.6956521739130435, 0.7536231884057971, 0.7294685990338164, 0.7004830917874396]\n"
     ]
    },
    {
     "name": "stderr",
     "output_type": "stream",
     "text": [
      "E:\\Anaconda3\\lib\\site-packages\\sklearn\\preprocessing\\_data.py:2612: UserWarning: n_quantiles (1000) is greater than the total number of samples (828). n_quantiles is set to n_samples.\n",
      "  warnings.warn(\"n_quantiles (%s) is greater than the total number \"\n"
     ]
    },
    {
     "name": "stdout",
     "output_type": "stream",
     "text": [
      "train_acc: 1.0\n",
      "acc: [0.6956521739130435, 0.7536231884057971, 0.7294685990338164, 0.7004830917874396, 0.714975845410628]\n",
      "ave_acc 0.7188405797101449\n",
      "22\n"
     ]
    },
    {
     "name": "stderr",
     "output_type": "stream",
     "text": [
      "E:\\Anaconda3\\lib\\site-packages\\sklearn\\preprocessing\\_data.py:2612: UserWarning: n_quantiles (1000) is greater than the total number of samples (825). n_quantiles is set to n_samples.\n",
      "  warnings.warn(\"n_quantiles (%s) is greater than the total number \"\n"
     ]
    },
    {
     "name": "stdout",
     "output_type": "stream",
     "text": [
      "train_acc: 1.0\n",
      "acc: [0.6618357487922706]\n"
     ]
    },
    {
     "name": "stderr",
     "output_type": "stream",
     "text": [
      "E:\\Anaconda3\\lib\\site-packages\\sklearn\\preprocessing\\_data.py:2612: UserWarning: n_quantiles (1000) is greater than the total number of samples (825). n_quantiles is set to n_samples.\n",
      "  warnings.warn(\"n_quantiles (%s) is greater than the total number \"\n"
     ]
    },
    {
     "name": "stdout",
     "output_type": "stream",
     "text": [
      "train_acc: 1.0\n",
      "acc: [0.6618357487922706, 0.6811594202898551]\n"
     ]
    },
    {
     "name": "stderr",
     "output_type": "stream",
     "text": [
      "E:\\Anaconda3\\lib\\site-packages\\sklearn\\preprocessing\\_data.py:2612: UserWarning: n_quantiles (1000) is greater than the total number of samples (826). n_quantiles is set to n_samples.\n",
      "  warnings.warn(\"n_quantiles (%s) is greater than the total number \"\n"
     ]
    },
    {
     "name": "stdout",
     "output_type": "stream",
     "text": [
      "train_acc: 1.0\n",
      "acc: [0.6618357487922706, 0.6811594202898551, 0.7184466019417476]\n"
     ]
    },
    {
     "name": "stderr",
     "output_type": "stream",
     "text": [
      "E:\\Anaconda3\\lib\\site-packages\\sklearn\\preprocessing\\_data.py:2612: UserWarning: n_quantiles (1000) is greater than the total number of samples (826). n_quantiles is set to n_samples.\n",
      "  warnings.warn(\"n_quantiles (%s) is greater than the total number \"\n"
     ]
    },
    {
     "name": "stdout",
     "output_type": "stream",
     "text": [
      "train_acc: 1.0\n",
      "acc: [0.6618357487922706, 0.6811594202898551, 0.7184466019417476, 0.6504854368932039]\n"
     ]
    },
    {
     "name": "stderr",
     "output_type": "stream",
     "text": [
      "E:\\Anaconda3\\lib\\site-packages\\sklearn\\preprocessing\\_data.py:2612: UserWarning: n_quantiles (1000) is greater than the total number of samples (826). n_quantiles is set to n_samples.\n",
      "  warnings.warn(\"n_quantiles (%s) is greater than the total number \"\n"
     ]
    },
    {
     "name": "stdout",
     "output_type": "stream",
     "text": [
      "train_acc: 1.0\n",
      "acc: [0.6618357487922706, 0.6811594202898551, 0.7184466019417476, 0.6504854368932039, 0.7184466019417476]\n",
      "ave_acc 0.6860747619717651\n",
      "23\n"
     ]
    }
   ],
   "source": [
    "t_score=[]\n",
    "for t,i in zip([t0,t1,t2,t3,t4,t5,t6,t7,t8,t9,t10,t11,t12,t13,t14,t15,t16,t17,t18,t19,t20,t21,t22,t23],range(24)):\n",
    "    #划分样本和标签\n",
    "    x=np.array(t.iloc[:,range(0,96)])#.astype(int)\n",
    "    y=np.array(t.loc[:,'code']).reshape(-1,1).astype(int)\n",
    "    #训练模型\n",
    "    skf = StratifiedKFold(n_splits=5,shuffle=True,random_state=1)\n",
    "    acc=[]\n",
    "    for train_index, test_index in skf.split(x,y):\n",
    "        x_train, x_test = x[train_index], x[test_index]\n",
    "        y_train, y_test = y[train_index], y[test_index]\n",
    "        #qt\n",
    "        qt = QuantileTransformer(output_distribution = 'uniform' )\n",
    "#         qt = PowerTransformer()\n",
    "#         qt = RobustScaler()\n",
    "#         qt = StandardScaler()\n",
    "        x_train = qt.fit_transform(x_train)\n",
    "        x_test = qt.transform(x_test)\n",
    "\n",
    "        clf= RandomForestClassifier(n_estimators=100,criterion='gini',max_depth=None,min_samples_split=2,n_jobs=-1)\n",
    "        clf.fit(x_train,y_train.ravel())\n",
    "        best_acc=clf.score(x_test,y_test.ravel())\n",
    "        train_acc=clf.score(x_train,y_train.ravel())\n",
    "        print('train_acc:',train_acc)\n",
    "        acc.append(best_acc)\n",
    "        print('acc:',acc)\n",
    "    ave_score=np.mean(acc)\n",
    "    print('ave_acc',ave_score)\n",
    "    t_score.append(ave_score)\n",
    "    print(i)"
   ]
  },
  {
   "cell_type": "code",
   "execution_count": 50,
   "id": "e15e464b",
   "metadata": {
    "ExecuteTime": {
     "end_time": "2022-01-06T11:39:04.334822Z",
     "start_time": "2022-01-06T11:39:04.330833Z"
    }
   },
   "outputs": [
    {
     "data": {
      "text/plain": [
       "[0.6770695558369682,\n",
       " 0.6892406547535295,\n",
       " 0.6998002601263471,\n",
       " 0.6921814173819238,\n",
       " 0.715383893813611,\n",
       " 0.7025514750715256,\n",
       " 0.703962281679673,\n",
       " 0.7314009661835749,\n",
       " 0.7258593459680416,\n",
       " 0.7196534745447789,\n",
       " 0.7338814567075438,\n",
       " 0.7104515050167224,\n",
       " 0.7466183574879227,\n",
       " 0.7086299892125134,\n",
       " 0.7130434782608697,\n",
       " 0.7014492753623187,\n",
       " 0.7285024154589372,\n",
       " 0.7290830546265329,\n",
       " 0.702415458937198,\n",
       " 0.7268580453363063,\n",
       " 0.7258965068747678,\n",
       " 0.7085144927536232,\n",
       " 0.7188405797101449,\n",
       " 0.6860747619717651]"
      ]
     },
     "execution_count": 50,
     "metadata": {},
     "output_type": "execute_result"
    }
   ],
   "source": [
    "t_score"
   ]
  },
  {
   "cell_type": "code",
   "execution_count": null,
   "id": "10c28143",
   "metadata": {},
   "outputs": [],
   "source": [
    "pipe = Pipeline([('scaler', QuantileTransformer(output_distribution = 'uniform')), ('rfc', RandomForestClassifier(criterion='gini',))])\n",
    "param_dist = {'rfc__n_estimators': randint(10, 500),\n",
    " 'rfc__min_samples_split': randint(2, 1000),\n",
    " 'rfc__max_depth': randint(2, 100)}\n",
    "splitter=StratifiedKFold(n_splits=5,random_state=1,shuffle=True)\n",
    "clf = RandomizedSearchCV(estimator=pipe,param_distributions=param_dist,n_iter=10,cv=splitter,random_state=11,n_jobs=-1,scoring='accuracy',verbose=3)\n",
    "search = clf.fit(x, y.ravel())"
   ]
  },
  {
   "cell_type": "markdown",
   "id": "75f38cca",
   "metadata": {},
   "source": [
    "# KNN"
   ]
  },
  {
   "cell_type": "code",
   "execution_count": 53,
   "id": "c2cd36d4",
   "metadata": {
    "ExecuteTime": {
     "end_time": "2022-01-10T08:24:10.852447Z",
     "start_time": "2022-01-10T08:24:10.378154Z"
    }
   },
   "outputs": [
    {
     "name": "stdout",
     "output_type": "stream",
     "text": [
      "train_acc: 1.0\n",
      "acc: [0.9213483146067416]\n",
      "ave_acc 0.9213483146067416\n"
     ]
    }
   ],
   "source": [
    "t=pd.concat([t6,t12,t17],axis=0)\n",
    "#划分样本和标签\n",
    "x=np.array(t.iloc[:,range(0,96)])#.astype(int)\n",
    "y=np.array(t.loc[:,'code']).reshape(-1,1).astype(int)\n",
    "#训练模型\n",
    "skf = StratifiedKFold(n_splits=5,shuffle=True,random_state=1)\n",
    "acc=[]\n",
    "for train_index, test_index in skf.split(x,y):\n",
    "    x_train, x_test = x[train_index], x[test_index]\n",
    "    y_train, y_test = y[train_index], y[test_index]\n",
    "    #qt\n",
    "    qt = QuantileTransformer(output_distribution = 'uniform' )\n",
    "#         qt = PowerTransformer()\n",
    "#         qt = RobustScaler()\n",
    "#         qt = StandardScaler()\n",
    "    x_train = qt.fit_transform(x_train)\n",
    "    x_test = qt.transform(x_test)\n",
    "\n",
    "    clf=KNeighborsClassifier(n_neighbors=1)\n",
    "    clf.fit(x_train,y_train.ravel())\n",
    "    best_acc=clf.score(x_test,y_test.ravel())\n",
    "    train_acc=clf.score(x_train,y_train.ravel())\n",
    "    print('train_acc:',train_acc)\n",
    "    acc.append(best_acc)\n",
    "    print('acc:',acc)\n",
    "    break\n",
    "ave_score=np.mean(acc)\n",
    "print('ave_acc',ave_score)"
   ]
  },
  {
   "cell_type": "code",
   "execution_count": 54,
   "id": "7f689c82",
   "metadata": {
    "ExecuteTime": {
     "end_time": "2022-01-10T08:24:27.721137Z",
     "start_time": "2022-01-10T08:24:27.667145Z"
    }
   },
   "outputs": [],
   "source": [
    "import joblib\n",
    "joblib.dump(clf, local_path+'\\\\models\\\\knn_diameter.pkl') \n",
    "# clf = joblib.load(local_path+'\\\\models\\\\svm_diameter.pkl') \n",
    "pre=clf.predict(x_test_tensor)\n",
    "bool1=np.ones([len(pre),1])\n",
    "bool1[np.where(pre.ravel()!=y_test.ravel())]=0\n",
    "pred=pd.DataFrame(pre)\n",
    "S=t.loc[t.index[test_index],:]\n",
    "para=S.iloc[:,range(96,99)].reset_index()\n",
    "bool2=pd.DataFrame(bool1.astype(int))\n",
    "a=pd.concat([pred,para,bool2],axis=1,ignore_index=True)\n",
    "a.columns=['pred','index','true','dn','time','bool']\n",
    "a=a[['index','pred','true','dn','time','bool']]\n",
    "a.to_csv(local_path+'\\\\blockagedata\\\\knn_diameter_test_result.csv',encoding='ascii',index=True)\n",
    "a=np.array(a)\n",
    "abc=pd.DataFrame([])\n",
    "for i in range(1,10):\n",
    "    b=a[np.where(a[:,3]==i)]\n",
    "    whole_number=len(b)\n",
    "    true_number=np.sum(b[:,-1])\n",
    "    false_number=whole_number-true_number\n",
    "    abc.loc[i,0]=whole_number\n",
    "    abc.loc[i,1]=true_number\n",
    "    abc.loc[i,2]=false_number\n",
    "    abc.loc[i,3]=true_number/whole_number\n",
    "abc.columns=['whole','true','false','accuracy']\n",
    "abc.to_csv(local_path+'\\\\blockagedata\\\\knn_diameter_test_result_post.csv',encoding='ascii',index=True)"
   ]
  },
  {
   "cell_type": "code",
   "execution_count": 70,
   "id": "3cc24337",
   "metadata": {
    "ExecuteTime": {
     "end_time": "2022-01-06T11:56:16.906805Z",
     "start_time": "2022-01-06T11:56:04.273325Z"
    },
    "scrolled": true
   },
   "outputs": [
    {
     "name": "stderr",
     "output_type": "stream",
     "text": [
      "E:\\Anaconda3\\lib\\site-packages\\sklearn\\preprocessing\\_data.py:2612: UserWarning: n_quantiles (1000) is greater than the total number of samples (824). n_quantiles is set to n_samples.\n",
      "  warnings.warn(\"n_quantiles (%s) is greater than the total number \"\n",
      "E:\\Anaconda3\\lib\\site-packages\\sklearn\\preprocessing\\_data.py:2612: UserWarning: n_quantiles (1000) is greater than the total number of samples (825). n_quantiles is set to n_samples.\n",
      "  warnings.warn(\"n_quantiles (%s) is greater than the total number \"\n"
     ]
    },
    {
     "name": "stdout",
     "output_type": "stream",
     "text": [
      "train_acc: 1.0\n",
      "acc: [0.7729468599033816]\n",
      "train_acc: 1.0\n",
      "acc: [0.7729468599033816, 0.7766990291262136]\n"
     ]
    },
    {
     "name": "stderr",
     "output_type": "stream",
     "text": [
      "E:\\Anaconda3\\lib\\site-packages\\sklearn\\preprocessing\\_data.py:2612: UserWarning: n_quantiles (1000) is greater than the total number of samples (825). n_quantiles is set to n_samples.\n",
      "  warnings.warn(\"n_quantiles (%s) is greater than the total number \"\n",
      "E:\\Anaconda3\\lib\\site-packages\\sklearn\\preprocessing\\_data.py:2612: UserWarning: n_quantiles (1000) is greater than the total number of samples (825). n_quantiles is set to n_samples.\n",
      "  warnings.warn(\"n_quantiles (%s) is greater than the total number \"\n"
     ]
    },
    {
     "name": "stdout",
     "output_type": "stream",
     "text": [
      "train_acc: 1.0\n",
      "acc: [0.7729468599033816, 0.7766990291262136, 0.7912621359223301]\n",
      "train_acc: 1.0\n",
      "acc: [0.7729468599033816, 0.7766990291262136, 0.7912621359223301, 0.7912621359223301]\n"
     ]
    },
    {
     "name": "stderr",
     "output_type": "stream",
     "text": [
      "E:\\Anaconda3\\lib\\site-packages\\sklearn\\preprocessing\\_data.py:2612: UserWarning: n_quantiles (1000) is greater than the total number of samples (825). n_quantiles is set to n_samples.\n",
      "  warnings.warn(\"n_quantiles (%s) is greater than the total number \"\n",
      "E:\\Anaconda3\\lib\\site-packages\\sklearn\\preprocessing\\_data.py:2612: UserWarning: n_quantiles (1000) is greater than the total number of samples (826). n_quantiles is set to n_samples.\n",
      "  warnings.warn(\"n_quantiles (%s) is greater than the total number \"\n"
     ]
    },
    {
     "name": "stdout",
     "output_type": "stream",
     "text": [
      "train_acc: 1.0\n",
      "acc: [0.7729468599033816, 0.7766990291262136, 0.7912621359223301, 0.7912621359223301, 0.7864077669902912]\n",
      "ave_acc 0.7837155855729093\n",
      "0\n",
      "train_acc: 1.0\n",
      "acc: [0.8164251207729468]\n"
     ]
    },
    {
     "name": "stderr",
     "output_type": "stream",
     "text": [
      "E:\\Anaconda3\\lib\\site-packages\\sklearn\\preprocessing\\_data.py:2612: UserWarning: n_quantiles (1000) is greater than the total number of samples (826). n_quantiles is set to n_samples.\n",
      "  warnings.warn(\"n_quantiles (%s) is greater than the total number \"\n",
      "E:\\Anaconda3\\lib\\site-packages\\sklearn\\preprocessing\\_data.py:2612: UserWarning: n_quantiles (1000) is greater than the total number of samples (826). n_quantiles is set to n_samples.\n",
      "  warnings.warn(\"n_quantiles (%s) is greater than the total number \"\n"
     ]
    },
    {
     "name": "stdout",
     "output_type": "stream",
     "text": [
      "train_acc: 1.0\n",
      "acc: [0.8164251207729468, 0.782608695652174]\n",
      "train_acc: 1.0\n",
      "acc: [0.8164251207729468, 0.782608695652174, 0.748792270531401]\n"
     ]
    },
    {
     "name": "stderr",
     "output_type": "stream",
     "text": [
      "E:\\Anaconda3\\lib\\site-packages\\sklearn\\preprocessing\\_data.py:2612: UserWarning: n_quantiles (1000) is greater than the total number of samples (827). n_quantiles is set to n_samples.\n",
      "  warnings.warn(\"n_quantiles (%s) is greater than the total number \"\n",
      "E:\\Anaconda3\\lib\\site-packages\\sklearn\\preprocessing\\_data.py:2612: UserWarning: n_quantiles (1000) is greater than the total number of samples (827). n_quantiles is set to n_samples.\n",
      "  warnings.warn(\"n_quantiles (%s) is greater than the total number \"\n"
     ]
    },
    {
     "name": "stdout",
     "output_type": "stream",
     "text": [
      "train_acc: 1.0\n",
      "acc: [0.8164251207729468, 0.782608695652174, 0.748792270531401, 0.7864077669902912]\n",
      "train_acc: 1.0\n",
      "acc: [0.8164251207729468, 0.782608695652174, 0.748792270531401, 0.7864077669902912, 0.7912621359223301]\n",
      "ave_acc 0.7850991979738285\n",
      "1\n"
     ]
    },
    {
     "name": "stderr",
     "output_type": "stream",
     "text": [
      "E:\\Anaconda3\\lib\\site-packages\\sklearn\\preprocessing\\_data.py:2612: UserWarning: n_quantiles (1000) is greater than the total number of samples (828). n_quantiles is set to n_samples.\n",
      "  warnings.warn(\"n_quantiles (%s) is greater than the total number \"\n",
      "E:\\Anaconda3\\lib\\site-packages\\sklearn\\preprocessing\\_data.py:2612: UserWarning: n_quantiles (1000) is greater than the total number of samples (829). n_quantiles is set to n_samples.\n",
      "  warnings.warn(\"n_quantiles (%s) is greater than the total number \"\n"
     ]
    },
    {
     "name": "stdout",
     "output_type": "stream",
     "text": [
      "train_acc: 1.0\n",
      "acc: [0.8076923076923077]\n",
      "train_acc: 1.0\n",
      "acc: [0.8076923076923077, 0.821256038647343]\n"
     ]
    },
    {
     "name": "stderr",
     "output_type": "stream",
     "text": [
      "E:\\Anaconda3\\lib\\site-packages\\sklearn\\preprocessing\\_data.py:2612: UserWarning: n_quantiles (1000) is greater than the total number of samples (829). n_quantiles is set to n_samples.\n",
      "  warnings.warn(\"n_quantiles (%s) is greater than the total number \"\n",
      "E:\\Anaconda3\\lib\\site-packages\\sklearn\\preprocessing\\_data.py:2612: UserWarning: n_quantiles (1000) is greater than the total number of samples (829). n_quantiles is set to n_samples.\n",
      "  warnings.warn(\"n_quantiles (%s) is greater than the total number \"\n"
     ]
    },
    {
     "name": "stdout",
     "output_type": "stream",
     "text": [
      "train_acc: 1.0\n",
      "acc: [0.8076923076923077, 0.821256038647343, 0.8115942028985508]\n",
      "train_acc: 1.0\n",
      "acc: [0.8076923076923077, 0.821256038647343, 0.8115942028985508, 0.821256038647343]\n"
     ]
    },
    {
     "name": "stderr",
     "output_type": "stream",
     "text": [
      "E:\\Anaconda3\\lib\\site-packages\\sklearn\\preprocessing\\_data.py:2612: UserWarning: n_quantiles (1000) is greater than the total number of samples (829). n_quantiles is set to n_samples.\n",
      "  warnings.warn(\"n_quantiles (%s) is greater than the total number \"\n",
      "E:\\Anaconda3\\lib\\site-packages\\sklearn\\preprocessing\\_data.py:2612: UserWarning: n_quantiles (1000) is greater than the total number of samples (826). n_quantiles is set to n_samples.\n",
      "  warnings.warn(\"n_quantiles (%s) is greater than the total number \"\n"
     ]
    },
    {
     "name": "stdout",
     "output_type": "stream",
     "text": [
      "train_acc: 1.0\n",
      "acc: [0.8076923076923077, 0.821256038647343, 0.8115942028985508, 0.821256038647343, 0.8309178743961353]\n",
      "ave_acc 0.818543292456336\n",
      "2\n",
      "train_acc: 1.0\n",
      "acc: [0.8357487922705314]\n"
     ]
    },
    {
     "name": "stderr",
     "output_type": "stream",
     "text": [
      "E:\\Anaconda3\\lib\\site-packages\\sklearn\\preprocessing\\_data.py:2612: UserWarning: n_quantiles (1000) is greater than the total number of samples (826). n_quantiles is set to n_samples.\n",
      "  warnings.warn(\"n_quantiles (%s) is greater than the total number \"\n",
      "E:\\Anaconda3\\lib\\site-packages\\sklearn\\preprocessing\\_data.py:2612: UserWarning: n_quantiles (1000) is greater than the total number of samples (826). n_quantiles is set to n_samples.\n",
      "  warnings.warn(\"n_quantiles (%s) is greater than the total number \"\n"
     ]
    },
    {
     "name": "stdout",
     "output_type": "stream",
     "text": [
      "train_acc: 1.0\n",
      "acc: [0.8357487922705314, 0.8454106280193237]\n",
      "train_acc: 1.0\n",
      "acc: [0.8357487922705314, 0.8454106280193237, 0.8502415458937198]\n"
     ]
    },
    {
     "name": "stderr",
     "output_type": "stream",
     "text": [
      "E:\\Anaconda3\\lib\\site-packages\\sklearn\\preprocessing\\_data.py:2612: UserWarning: n_quantiles (1000) is greater than the total number of samples (827). n_quantiles is set to n_samples.\n",
      "  warnings.warn(\"n_quantiles (%s) is greater than the total number \"\n",
      "E:\\Anaconda3\\lib\\site-packages\\sklearn\\preprocessing\\_data.py:2612: UserWarning: n_quantiles (1000) is greater than the total number of samples (827). n_quantiles is set to n_samples.\n",
      "  warnings.warn(\"n_quantiles (%s) is greater than the total number \"\n"
     ]
    },
    {
     "name": "stdout",
     "output_type": "stream",
     "text": [
      "train_acc: 1.0\n",
      "acc: [0.8357487922705314, 0.8454106280193237, 0.8502415458937198, 0.8106796116504854]\n",
      "train_acc: 1.0\n",
      "acc: [0.8357487922705314, 0.8454106280193237, 0.8502415458937198, 0.8106796116504854, 0.8106796116504854]\n",
      "ave_acc 0.830552037896909\n",
      "3\n"
     ]
    },
    {
     "name": "stderr",
     "output_type": "stream",
     "text": [
      "E:\\Anaconda3\\lib\\site-packages\\sklearn\\preprocessing\\_data.py:2612: UserWarning: n_quantiles (1000) is greater than the total number of samples (826). n_quantiles is set to n_samples.\n",
      "  warnings.warn(\"n_quantiles (%s) is greater than the total number \"\n",
      "E:\\Anaconda3\\lib\\site-packages\\sklearn\\preprocessing\\_data.py:2612: UserWarning: n_quantiles (1000) is greater than the total number of samples (826). n_quantiles is set to n_samples.\n",
      "  warnings.warn(\"n_quantiles (%s) is greater than the total number \"\n"
     ]
    },
    {
     "name": "stdout",
     "output_type": "stream",
     "text": [
      "train_acc: 1.0\n",
      "acc: [0.8599033816425121]\n",
      "train_acc: 1.0\n",
      "acc: [0.8599033816425121, 0.8695652173913043]\n"
     ]
    },
    {
     "name": "stderr",
     "output_type": "stream",
     "text": [
      "E:\\Anaconda3\\lib\\site-packages\\sklearn\\preprocessing\\_data.py:2612: UserWarning: n_quantiles (1000) is greater than the total number of samples (826). n_quantiles is set to n_samples.\n",
      "  warnings.warn(\"n_quantiles (%s) is greater than the total number \"\n",
      "E:\\Anaconda3\\lib\\site-packages\\sklearn\\preprocessing\\_data.py:2612: UserWarning: n_quantiles (1000) is greater than the total number of samples (827). n_quantiles is set to n_samples.\n",
      "  warnings.warn(\"n_quantiles (%s) is greater than the total number \"\n"
     ]
    },
    {
     "name": "stdout",
     "output_type": "stream",
     "text": [
      "train_acc: 1.0\n",
      "acc: [0.8599033816425121, 0.8695652173913043, 0.8599033816425121]\n",
      "train_acc: 1.0\n",
      "acc: [0.8599033816425121, 0.8695652173913043, 0.8599033816425121, 0.8592233009708737]\n"
     ]
    },
    {
     "name": "stderr",
     "output_type": "stream",
     "text": [
      "E:\\Anaconda3\\lib\\site-packages\\sklearn\\preprocessing\\_data.py:2612: UserWarning: n_quantiles (1000) is greater than the total number of samples (827). n_quantiles is set to n_samples.\n",
      "  warnings.warn(\"n_quantiles (%s) is greater than the total number \"\n",
      "E:\\Anaconda3\\lib\\site-packages\\sklearn\\preprocessing\\_data.py:2612: UserWarning: n_quantiles (1000) is greater than the total number of samples (825). n_quantiles is set to n_samples.\n",
      "  warnings.warn(\"n_quantiles (%s) is greater than the total number \"\n"
     ]
    },
    {
     "name": "stdout",
     "output_type": "stream",
     "text": [
      "train_acc: 1.0\n",
      "acc: [0.8599033816425121, 0.8695652173913043, 0.8599033816425121, 0.8592233009708737, 0.8689320388349514]\n",
      "ave_acc 0.8635054640964308\n",
      "4\n",
      "train_acc: 1.0\n",
      "acc: [0.821256038647343]\n"
     ]
    },
    {
     "name": "stderr",
     "output_type": "stream",
     "text": [
      "E:\\Anaconda3\\lib\\site-packages\\sklearn\\preprocessing\\_data.py:2612: UserWarning: n_quantiles (1000) is greater than the total number of samples (825). n_quantiles is set to n_samples.\n",
      "  warnings.warn(\"n_quantiles (%s) is greater than the total number \"\n",
      "E:\\Anaconda3\\lib\\site-packages\\sklearn\\preprocessing\\_data.py:2612: UserWarning: n_quantiles (1000) is greater than the total number of samples (826). n_quantiles is set to n_samples.\n",
      "  warnings.warn(\"n_quantiles (%s) is greater than the total number \"\n"
     ]
    },
    {
     "name": "stdout",
     "output_type": "stream",
     "text": [
      "train_acc: 1.0\n",
      "acc: [0.821256038647343, 0.7922705314009661]\n",
      "train_acc: 1.0\n",
      "acc: [0.821256038647343, 0.7922705314009661, 0.7718446601941747]\n"
     ]
    },
    {
     "name": "stderr",
     "output_type": "stream",
     "text": [
      "E:\\Anaconda3\\lib\\site-packages\\sklearn\\preprocessing\\_data.py:2612: UserWarning: n_quantiles (1000) is greater than the total number of samples (826). n_quantiles is set to n_samples.\n",
      "  warnings.warn(\"n_quantiles (%s) is greater than the total number \"\n",
      "E:\\Anaconda3\\lib\\site-packages\\sklearn\\preprocessing\\_data.py:2612: UserWarning: n_quantiles (1000) is greater than the total number of samples (826). n_quantiles is set to n_samples.\n",
      "  warnings.warn(\"n_quantiles (%s) is greater than the total number \"\n"
     ]
    },
    {
     "name": "stdout",
     "output_type": "stream",
     "text": [
      "train_acc: 1.0\n",
      "acc: [0.821256038647343, 0.7922705314009661, 0.7718446601941747, 0.8009708737864077]\n",
      "train_acc: 1.0\n",
      "acc: [0.821256038647343, 0.7922705314009661, 0.7718446601941747, 0.8009708737864077, 0.8203883495145631]\n",
      "ave_acc 0.8013460907086909\n",
      "5\n"
     ]
    },
    {
     "name": "stderr",
     "output_type": "stream",
     "text": [
      "E:\\Anaconda3\\lib\\site-packages\\sklearn\\preprocessing\\_data.py:2612: UserWarning: n_quantiles (1000) is greater than the total number of samples (829). n_quantiles is set to n_samples.\n",
      "  warnings.warn(\"n_quantiles (%s) is greater than the total number \"\n",
      "E:\\Anaconda3\\lib\\site-packages\\sklearn\\preprocessing\\_data.py:2612: UserWarning: n_quantiles (1000) is greater than the total number of samples (829). n_quantiles is set to n_samples.\n",
      "  warnings.warn(\"n_quantiles (%s) is greater than the total number \"\n"
     ]
    },
    {
     "name": "stdout",
     "output_type": "stream",
     "text": [
      "train_acc: 1.0\n",
      "acc: [0.8221153846153846]\n",
      "train_acc: 1.0\n",
      "acc: [0.8221153846153846, 0.8028846153846154]\n"
     ]
    },
    {
     "name": "stderr",
     "output_type": "stream",
     "text": [
      "E:\\Anaconda3\\lib\\site-packages\\sklearn\\preprocessing\\_data.py:2612: UserWarning: n_quantiles (1000) is greater than the total number of samples (830). n_quantiles is set to n_samples.\n",
      "  warnings.warn(\"n_quantiles (%s) is greater than the total number \"\n",
      "E:\\Anaconda3\\lib\\site-packages\\sklearn\\preprocessing\\_data.py:2612: UserWarning: n_quantiles (1000) is greater than the total number of samples (830). n_quantiles is set to n_samples.\n",
      "  warnings.warn(\"n_quantiles (%s) is greater than the total number \"\n"
     ]
    },
    {
     "name": "stdout",
     "output_type": "stream",
     "text": [
      "train_acc: 1.0\n",
      "acc: [0.8221153846153846, 0.8028846153846154, 0.8357487922705314]\n",
      "train_acc: 1.0\n",
      "acc: [0.8221153846153846, 0.8028846153846154, 0.8357487922705314, 0.855072463768116]\n"
     ]
    },
    {
     "name": "stderr",
     "output_type": "stream",
     "text": [
      "E:\\Anaconda3\\lib\\site-packages\\sklearn\\preprocessing\\_data.py:2612: UserWarning: n_quantiles (1000) is greater than the total number of samples (830). n_quantiles is set to n_samples.\n",
      "  warnings.warn(\"n_quantiles (%s) is greater than the total number \"\n",
      "E:\\Anaconda3\\lib\\site-packages\\sklearn\\preprocessing\\_data.py:2612: UserWarning: n_quantiles (1000) is greater than the total number of samples (828). n_quantiles is set to n_samples.\n",
      "  warnings.warn(\"n_quantiles (%s) is greater than the total number \"\n"
     ]
    },
    {
     "name": "stdout",
     "output_type": "stream",
     "text": [
      "train_acc: 1.0\n",
      "acc: [0.8221153846153846, 0.8028846153846154, 0.8357487922705314, 0.855072463768116, 0.8309178743961353]\n",
      "ave_acc 0.8293478260869567\n",
      "6\n",
      "train_acc: 1.0\n",
      "acc: [0.8695652173913043]\n"
     ]
    },
    {
     "name": "stderr",
     "output_type": "stream",
     "text": [
      "E:\\Anaconda3\\lib\\site-packages\\sklearn\\preprocessing\\_data.py:2612: UserWarning: n_quantiles (1000) is greater than the total number of samples (828). n_quantiles is set to n_samples.\n",
      "  warnings.warn(\"n_quantiles (%s) is greater than the total number \"\n",
      "E:\\Anaconda3\\lib\\site-packages\\sklearn\\preprocessing\\_data.py:2612: UserWarning: n_quantiles (1000) is greater than the total number of samples (828). n_quantiles is set to n_samples.\n",
      "  warnings.warn(\"n_quantiles (%s) is greater than the total number \"\n"
     ]
    },
    {
     "name": "stdout",
     "output_type": "stream",
     "text": [
      "train_acc: 1.0\n",
      "acc: [0.8695652173913043, 0.8502415458937198]\n",
      "train_acc: 1.0\n",
      "acc: [0.8695652173913043, 0.8502415458937198, 0.8743961352657005]\n"
     ]
    },
    {
     "name": "stderr",
     "output_type": "stream",
     "text": [
      "E:\\Anaconda3\\lib\\site-packages\\sklearn\\preprocessing\\_data.py:2612: UserWarning: n_quantiles (1000) is greater than the total number of samples (828). n_quantiles is set to n_samples.\n",
      "  warnings.warn(\"n_quantiles (%s) is greater than the total number \"\n",
      "E:\\Anaconda3\\lib\\site-packages\\sklearn\\preprocessing\\_data.py:2612: UserWarning: n_quantiles (1000) is greater than the total number of samples (828). n_quantiles is set to n_samples.\n",
      "  warnings.warn(\"n_quantiles (%s) is greater than the total number \"\n"
     ]
    },
    {
     "name": "stdout",
     "output_type": "stream",
     "text": [
      "train_acc: 1.0\n",
      "acc: [0.8695652173913043, 0.8502415458937198, 0.8743961352657005, 0.8357487922705314]\n",
      "train_acc: 1.0\n",
      "acc: [0.8695652173913043, 0.8502415458937198, 0.8743961352657005, 0.8357487922705314, 0.8695652173913043]\n",
      "ave_acc 0.8599033816425121\n",
      "7\n"
     ]
    },
    {
     "name": "stderr",
     "output_type": "stream",
     "text": [
      "E:\\Anaconda3\\lib\\site-packages\\sklearn\\preprocessing\\_data.py:2612: UserWarning: n_quantiles (1000) is greater than the total number of samples (828). n_quantiles is set to n_samples.\n",
      "  warnings.warn(\"n_quantiles (%s) is greater than the total number \"\n",
      "E:\\Anaconda3\\lib\\site-packages\\sklearn\\preprocessing\\_data.py:2612: UserWarning: n_quantiles (1000) is greater than the total number of samples (829). n_quantiles is set to n_samples.\n",
      "  warnings.warn(\"n_quantiles (%s) is greater than the total number \"\n"
     ]
    },
    {
     "name": "stdout",
     "output_type": "stream",
     "text": [
      "train_acc: 1.0\n",
      "acc: [0.8557692307692307]\n",
      "train_acc: 1.0\n",
      "acc: [0.8557692307692307, 0.8502415458937198]\n",
      "train_acc: 1.0\n",
      "acc: [0.8557692307692307, 0.8502415458937198, 0.855072463768116]\n"
     ]
    },
    {
     "name": "stderr",
     "output_type": "stream",
     "text": [
      "E:\\Anaconda3\\lib\\site-packages\\sklearn\\preprocessing\\_data.py:2612: UserWarning: n_quantiles (1000) is greater than the total number of samples (829). n_quantiles is set to n_samples.\n",
      "  warnings.warn(\"n_quantiles (%s) is greater than the total number \"\n",
      "E:\\Anaconda3\\lib\\site-packages\\sklearn\\preprocessing\\_data.py:2612: UserWarning: n_quantiles (1000) is greater than the total number of samples (829). n_quantiles is set to n_samples.\n",
      "  warnings.warn(\"n_quantiles (%s) is greater than the total number \"\n"
     ]
    },
    {
     "name": "stdout",
     "output_type": "stream",
     "text": [
      "train_acc: 1.0\n",
      "acc: [0.8557692307692307, 0.8502415458937198, 0.855072463768116, 0.8309178743961353]\n",
      "train_acc: 1.0\n",
      "acc: [0.8557692307692307, 0.8502415458937198, 0.855072463768116, 0.8309178743961353, 0.8454106280193237]\n",
      "ave_acc 0.847482348569305\n",
      "8\n",
      "train_acc: 1.0\n",
      "acc: [0.8509615384615384]\n"
     ]
    },
    {
     "name": "stderr",
     "output_type": "stream",
     "text": [
      "E:\\Anaconda3\\lib\\site-packages\\sklearn\\preprocessing\\_data.py:2612: UserWarning: n_quantiles (1000) is greater than the total number of samples (829). n_quantiles is set to n_samples.\n",
      "  warnings.warn(\"n_quantiles (%s) is greater than the total number \"\n",
      "E:\\Anaconda3\\lib\\site-packages\\sklearn\\preprocessing\\_data.py:2612: UserWarning: n_quantiles (1000) is greater than the total number of samples (830). n_quantiles is set to n_samples.\n",
      "  warnings.warn(\"n_quantiles (%s) is greater than the total number \"\n",
      "E:\\Anaconda3\\lib\\site-packages\\sklearn\\preprocessing\\_data.py:2612: UserWarning: n_quantiles (1000) is greater than the total number of samples (830). n_quantiles is set to n_samples.\n",
      "  warnings.warn(\"n_quantiles (%s) is greater than the total number \"\n",
      "E:\\Anaconda3\\lib\\site-packages\\sklearn\\preprocessing\\_data.py:2612: UserWarning: n_quantiles (1000) is greater than the total number of samples (830). n_quantiles is set to n_samples.\n",
      "  warnings.warn(\"n_quantiles (%s) is greater than the total number \"\n"
     ]
    },
    {
     "name": "stdout",
     "output_type": "stream",
     "text": [
      "train_acc: 1.0\n",
      "acc: [0.8509615384615384, 0.8413461538461539]\n",
      "train_acc: 1.0\n",
      "acc: [0.8509615384615384, 0.8413461538461539, 0.8557692307692307]\n"
     ]
    },
    {
     "name": "stderr",
     "output_type": "stream",
     "text": [
      "E:\\Anaconda3\\lib\\site-packages\\sklearn\\preprocessing\\_data.py:2612: UserWarning: n_quantiles (1000) is greater than the total number of samples (831). n_quantiles is set to n_samples.\n",
      "  warnings.warn(\"n_quantiles (%s) is greater than the total number \"\n",
      "E:\\Anaconda3\\lib\\site-packages\\sklearn\\preprocessing\\_data.py:2612: UserWarning: n_quantiles (1000) is greater than the total number of samples (831). n_quantiles is set to n_samples.\n",
      "  warnings.warn(\"n_quantiles (%s) is greater than the total number \"\n"
     ]
    },
    {
     "name": "stdout",
     "output_type": "stream",
     "text": [
      "train_acc: 1.0\n",
      "acc: [0.8509615384615384, 0.8413461538461539, 0.8557692307692307, 0.8743961352657005]\n",
      "train_acc: 1.0\n",
      "acc: [0.8509615384615384, 0.8413461538461539, 0.8557692307692307, 0.8743961352657005, 0.8502415458937198]\n",
      "ave_acc 0.8545429208472687\n",
      "9\n"
     ]
    },
    {
     "name": "stderr",
     "output_type": "stream",
     "text": [
      "E:\\Anaconda3\\lib\\site-packages\\sklearn\\preprocessing\\_data.py:2612: UserWarning: n_quantiles (1000) is greater than the total number of samples (829). n_quantiles is set to n_samples.\n",
      "  warnings.warn(\"n_quantiles (%s) is greater than the total number \"\n",
      "E:\\Anaconda3\\lib\\site-packages\\sklearn\\preprocessing\\_data.py:2612: UserWarning: n_quantiles (1000) is greater than the total number of samples (829). n_quantiles is set to n_samples.\n",
      "  warnings.warn(\"n_quantiles (%s) is greater than the total number \"\n"
     ]
    },
    {
     "name": "stdout",
     "output_type": "stream",
     "text": [
      "train_acc: 1.0\n",
      "acc: [0.8653846153846154]\n",
      "train_acc: 1.0\n",
      "acc: [0.8653846153846154, 0.875]\n"
     ]
    },
    {
     "name": "stderr",
     "output_type": "stream",
     "text": [
      "E:\\Anaconda3\\lib\\site-packages\\sklearn\\preprocessing\\_data.py:2612: UserWarning: n_quantiles (1000) is greater than the total number of samples (830). n_quantiles is set to n_samples.\n",
      "  warnings.warn(\"n_quantiles (%s) is greater than the total number \"\n",
      "E:\\Anaconda3\\lib\\site-packages\\sklearn\\preprocessing\\_data.py:2612: UserWarning: n_quantiles (1000) is greater than the total number of samples (830). n_quantiles is set to n_samples.\n",
      "  warnings.warn(\"n_quantiles (%s) is greater than the total number \"\n"
     ]
    },
    {
     "name": "stdout",
     "output_type": "stream",
     "text": [
      "train_acc: 1.0\n",
      "acc: [0.8653846153846154, 0.875, 0.8405797101449275]\n",
      "train_acc: 1.0\n",
      "acc: [0.8653846153846154, 0.875, 0.8405797101449275, 0.8840579710144928]\n"
     ]
    },
    {
     "name": "stderr",
     "output_type": "stream",
     "text": [
      "E:\\Anaconda3\\lib\\site-packages\\sklearn\\preprocessing\\_data.py:2612: UserWarning: n_quantiles (1000) is greater than the total number of samples (830). n_quantiles is set to n_samples.\n",
      "  warnings.warn(\"n_quantiles (%s) is greater than the total number \"\n",
      "E:\\Anaconda3\\lib\\site-packages\\sklearn\\preprocessing\\_data.py:2612: UserWarning: n_quantiles (1000) is greater than the total number of samples (828). n_quantiles is set to n_samples.\n",
      "  warnings.warn(\"n_quantiles (%s) is greater than the total number \"\n"
     ]
    },
    {
     "name": "stdout",
     "output_type": "stream",
     "text": [
      "train_acc: 1.0\n",
      "acc: [0.8653846153846154, 0.875, 0.8405797101449275, 0.8840579710144928, 0.8067632850241546]\n",
      "ave_acc 0.8543571163136381\n",
      "10\n",
      "train_acc: 1.0\n",
      "acc: [0.8509615384615384]\n"
     ]
    },
    {
     "name": "stderr",
     "output_type": "stream",
     "text": [
      "E:\\Anaconda3\\lib\\site-packages\\sklearn\\preprocessing\\_data.py:2612: UserWarning: n_quantiles (1000) is greater than the total number of samples (829). n_quantiles is set to n_samples.\n",
      "  warnings.warn(\"n_quantiles (%s) is greater than the total number \"\n",
      "E:\\Anaconda3\\lib\\site-packages\\sklearn\\preprocessing\\_data.py:2612: UserWarning: n_quantiles (1000) is greater than the total number of samples (829). n_quantiles is set to n_samples.\n",
      "  warnings.warn(\"n_quantiles (%s) is greater than the total number \"\n"
     ]
    },
    {
     "name": "stdout",
     "output_type": "stream",
     "text": [
      "train_acc: 1.0\n",
      "acc: [0.8509615384615384, 0.8405797101449275]\n",
      "train_acc: 1.0\n",
      "acc: [0.8509615384615384, 0.8405797101449275, 0.8309178743961353]\n"
     ]
    },
    {
     "name": "stderr",
     "output_type": "stream",
     "text": [
      "E:\\Anaconda3\\lib\\site-packages\\sklearn\\preprocessing\\_data.py:2612: UserWarning: n_quantiles (1000) is greater than the total number of samples (829). n_quantiles is set to n_samples.\n",
      "  warnings.warn(\"n_quantiles (%s) is greater than the total number \"\n",
      "E:\\Anaconda3\\lib\\site-packages\\sklearn\\preprocessing\\_data.py:2612: UserWarning: n_quantiles (1000) is greater than the total number of samples (829). n_quantiles is set to n_samples.\n",
      "  warnings.warn(\"n_quantiles (%s) is greater than the total number \"\n"
     ]
    },
    {
     "name": "stdout",
     "output_type": "stream",
     "text": [
      "train_acc: 1.0\n",
      "acc: [0.8509615384615384, 0.8405797101449275, 0.8309178743961353, 0.8454106280193237]\n",
      "train_acc: 1.0\n",
      "acc: [0.8509615384615384, 0.8405797101449275, 0.8309178743961353, 0.8454106280193237, 0.855072463768116]\n",
      "ave_acc 0.8445884429580083\n",
      "11\n"
     ]
    },
    {
     "name": "stderr",
     "output_type": "stream",
     "text": [
      "E:\\Anaconda3\\lib\\site-packages\\sklearn\\preprocessing\\_data.py:2612: UserWarning: n_quantiles (1000) is greater than the total number of samples (830). n_quantiles is set to n_samples.\n",
      "  warnings.warn(\"n_quantiles (%s) is greater than the total number \"\n",
      "E:\\Anaconda3\\lib\\site-packages\\sklearn\\preprocessing\\_data.py:2612: UserWarning: n_quantiles (1000) is greater than the total number of samples (830). n_quantiles is set to n_samples.\n",
      "  warnings.warn(\"n_quantiles (%s) is greater than the total number \"\n"
     ]
    },
    {
     "name": "stdout",
     "output_type": "stream",
     "text": [
      "train_acc: 1.0\n",
      "acc: [0.8701923076923077]\n",
      "train_acc: 1.0\n",
      "acc: [0.8701923076923077, 0.8605769230769231]\n"
     ]
    },
    {
     "name": "stderr",
     "output_type": "stream",
     "text": [
      "E:\\Anaconda3\\lib\\site-packages\\sklearn\\preprocessing\\_data.py:2612: UserWarning: n_quantiles (1000) is greater than the total number of samples (830). n_quantiles is set to n_samples.\n",
      "  warnings.warn(\"n_quantiles (%s) is greater than the total number \"\n",
      "E:\\Anaconda3\\lib\\site-packages\\sklearn\\preprocessing\\_data.py:2612: UserWarning: n_quantiles (1000) is greater than the total number of samples (831). n_quantiles is set to n_samples.\n",
      "  warnings.warn(\"n_quantiles (%s) is greater than the total number \"\n"
     ]
    },
    {
     "name": "stdout",
     "output_type": "stream",
     "text": [
      "train_acc: 1.0\n",
      "acc: [0.8701923076923077, 0.8605769230769231, 0.8125]\n",
      "train_acc: 1.0\n",
      "acc: [0.8701923076923077, 0.8605769230769231, 0.8125, 0.8840579710144928]\n"
     ]
    },
    {
     "name": "stderr",
     "output_type": "stream",
     "text": [
      "E:\\Anaconda3\\lib\\site-packages\\sklearn\\preprocessing\\_data.py:2612: UserWarning: n_quantiles (1000) is greater than the total number of samples (831). n_quantiles is set to n_samples.\n",
      "  warnings.warn(\"n_quantiles (%s) is greater than the total number \"\n",
      "E:\\Anaconda3\\lib\\site-packages\\sklearn\\preprocessing\\_data.py:2612: UserWarning: n_quantiles (1000) is greater than the total number of samples (826). n_quantiles is set to n_samples.\n",
      "  warnings.warn(\"n_quantiles (%s) is greater than the total number \"\n"
     ]
    },
    {
     "name": "stdout",
     "output_type": "stream",
     "text": [
      "train_acc: 1.0\n",
      "acc: [0.8701923076923077, 0.8605769230769231, 0.8125, 0.8840579710144928, 0.8840579710144928]\n",
      "ave_acc 0.8622770345596432\n",
      "12\n",
      "train_acc: 1.0\n",
      "acc: [0.8502415458937198]\n"
     ]
    },
    {
     "name": "stderr",
     "output_type": "stream",
     "text": [
      "E:\\Anaconda3\\lib\\site-packages\\sklearn\\preprocessing\\_data.py:2612: UserWarning: n_quantiles (1000) is greater than the total number of samples (826). n_quantiles is set to n_samples.\n",
      "  warnings.warn(\"n_quantiles (%s) is greater than the total number \"\n",
      "E:\\Anaconda3\\lib\\site-packages\\sklearn\\preprocessing\\_data.py:2612: UserWarning: n_quantiles (1000) is greater than the total number of samples (826). n_quantiles is set to n_samples.\n",
      "  warnings.warn(\"n_quantiles (%s) is greater than the total number \"\n"
     ]
    },
    {
     "name": "stdout",
     "output_type": "stream",
     "text": [
      "train_acc: 1.0\n",
      "acc: [0.8502415458937198, 0.8260869565217391]\n",
      "train_acc: 1.0\n",
      "acc: [0.8502415458937198, 0.8260869565217391, 0.8357487922705314]\n",
      "train_acc: 1.0\n",
      "acc: [0.8502415458937198, 0.8260869565217391, 0.8357487922705314, 0.8300970873786407]\n"
     ]
    },
    {
     "name": "stderr",
     "output_type": "stream",
     "text": [
      "E:\\Anaconda3\\lib\\site-packages\\sklearn\\preprocessing\\_data.py:2612: UserWarning: n_quantiles (1000) is greater than the total number of samples (827). n_quantiles is set to n_samples.\n",
      "  warnings.warn(\"n_quantiles (%s) is greater than the total number \"\n",
      "E:\\Anaconda3\\lib\\site-packages\\sklearn\\preprocessing\\_data.py:2612: UserWarning: n_quantiles (1000) is greater than the total number of samples (827). n_quantiles is set to n_samples.\n",
      "  warnings.warn(\"n_quantiles (%s) is greater than the total number \"\n"
     ]
    },
    {
     "name": "stdout",
     "output_type": "stream",
     "text": [
      "train_acc: 1.0\n",
      "acc: [0.8502415458937198, 0.8260869565217391, 0.8357487922705314, 0.8300970873786407, 0.8495145631067961]\n",
      "ave_acc 0.8383377890342855\n",
      "13\n",
      "train_acc: 1.0\n",
      "acc: [0.8647342995169082]\n"
     ]
    },
    {
     "name": "stderr",
     "output_type": "stream",
     "text": [
      "E:\\Anaconda3\\lib\\site-packages\\sklearn\\preprocessing\\_data.py:2612: UserWarning: n_quantiles (1000) is greater than the total number of samples (828). n_quantiles is set to n_samples.\n",
      "  warnings.warn(\"n_quantiles (%s) is greater than the total number \"\n",
      "E:\\Anaconda3\\lib\\site-packages\\sklearn\\preprocessing\\_data.py:2612: UserWarning: n_quantiles (1000) is greater than the total number of samples (828). n_quantiles is set to n_samples.\n",
      "  warnings.warn(\"n_quantiles (%s) is greater than the total number \"\n"
     ]
    },
    {
     "name": "stdout",
     "output_type": "stream",
     "text": [
      "train_acc: 1.0\n",
      "acc: [0.8647342995169082, 0.8502415458937198]\n",
      "train_acc: 1.0\n",
      "acc: [0.8647342995169082, 0.8502415458937198, 0.8743961352657005]\n"
     ]
    },
    {
     "name": "stderr",
     "output_type": "stream",
     "text": [
      "E:\\Anaconda3\\lib\\site-packages\\sklearn\\preprocessing\\_data.py:2612: UserWarning: n_quantiles (1000) is greater than the total number of samples (828). n_quantiles is set to n_samples.\n",
      "  warnings.warn(\"n_quantiles (%s) is greater than the total number \"\n",
      "E:\\Anaconda3\\lib\\site-packages\\sklearn\\preprocessing\\_data.py:2612: UserWarning: n_quantiles (1000) is greater than the total number of samples (828). n_quantiles is set to n_samples.\n",
      "  warnings.warn(\"n_quantiles (%s) is greater than the total number \"\n"
     ]
    },
    {
     "name": "stdout",
     "output_type": "stream",
     "text": [
      "train_acc: 1.0\n",
      "acc: [0.8647342995169082, 0.8502415458937198, 0.8743961352657005, 0.8599033816425121]\n",
      "train_acc: 1.0\n",
      "acc: [0.8647342995169082, 0.8502415458937198, 0.8743961352657005, 0.8599033816425121, 0.855072463768116]\n",
      "ave_acc 0.8608695652173914\n",
      "14\n"
     ]
    },
    {
     "name": "stderr",
     "output_type": "stream",
     "text": [
      "E:\\Anaconda3\\lib\\site-packages\\sklearn\\preprocessing\\_data.py:2612: UserWarning: n_quantiles (1000) is greater than the total number of samples (828). n_quantiles is set to n_samples.\n",
      "  warnings.warn(\"n_quantiles (%s) is greater than the total number \"\n",
      "E:\\Anaconda3\\lib\\site-packages\\sklearn\\preprocessing\\_data.py:2612: UserWarning: n_quantiles (1000) is greater than the total number of samples (828). n_quantiles is set to n_samples.\n",
      "  warnings.warn(\"n_quantiles (%s) is greater than the total number \"\n"
     ]
    },
    {
     "name": "stdout",
     "output_type": "stream",
     "text": [
      "train_acc: 1.0\n",
      "acc: [0.8695652173913043]\n",
      "train_acc: 1.0\n",
      "acc: [0.8695652173913043, 0.8454106280193237]\n",
      "train_acc: 1.0\n",
      "acc: [0.8695652173913043, 0.8454106280193237, 0.8164251207729468]\n"
     ]
    },
    {
     "name": "stderr",
     "output_type": "stream",
     "text": [
      "E:\\Anaconda3\\lib\\site-packages\\sklearn\\preprocessing\\_data.py:2612: UserWarning: n_quantiles (1000) is greater than the total number of samples (828). n_quantiles is set to n_samples.\n",
      "  warnings.warn(\"n_quantiles (%s) is greater than the total number \"\n",
      "E:\\Anaconda3\\lib\\site-packages\\sklearn\\preprocessing\\_data.py:2612: UserWarning: n_quantiles (1000) is greater than the total number of samples (828). n_quantiles is set to n_samples.\n",
      "  warnings.warn(\"n_quantiles (%s) is greater than the total number \"\n",
      "E:\\Anaconda3\\lib\\site-packages\\sklearn\\preprocessing\\_data.py:2612: UserWarning: n_quantiles (1000) is greater than the total number of samples (828). n_quantiles is set to n_samples.\n",
      "  warnings.warn(\"n_quantiles (%s) is greater than the total number \"\n",
      "E:\\Anaconda3\\lib\\site-packages\\sklearn\\preprocessing\\_data.py:2612: UserWarning: n_quantiles (1000) is greater than the total number of samples (828). n_quantiles is set to n_samples.\n",
      "  warnings.warn(\"n_quantiles (%s) is greater than the total number \"\n"
     ]
    },
    {
     "name": "stdout",
     "output_type": "stream",
     "text": [
      "train_acc: 1.0\n",
      "acc: [0.8695652173913043, 0.8454106280193237, 0.8164251207729468, 0.8309178743961353]\n",
      "train_acc: 1.0\n",
      "acc: [0.8695652173913043, 0.8454106280193237, 0.8164251207729468, 0.8309178743961353, 0.8502415458937198]\n",
      "ave_acc 0.842512077294686\n",
      "15\n"
     ]
    },
    {
     "name": "stderr",
     "output_type": "stream",
     "text": [
      "E:\\Anaconda3\\lib\\site-packages\\sklearn\\preprocessing\\_data.py:2612: UserWarning: n_quantiles (1000) is greater than the total number of samples (828). n_quantiles is set to n_samples.\n",
      "  warnings.warn(\"n_quantiles (%s) is greater than the total number \"\n",
      "E:\\Anaconda3\\lib\\site-packages\\sklearn\\preprocessing\\_data.py:2612: UserWarning: n_quantiles (1000) is greater than the total number of samples (828). n_quantiles is set to n_samples.\n",
      "  warnings.warn(\"n_quantiles (%s) is greater than the total number \"\n"
     ]
    },
    {
     "name": "stdout",
     "output_type": "stream",
     "text": [
      "train_acc: 1.0\n",
      "acc: [0.8454106280193237]\n",
      "train_acc: 1.0\n",
      "acc: [0.8454106280193237, 0.8454106280193237]\n"
     ]
    },
    {
     "name": "stderr",
     "output_type": "stream",
     "text": [
      "E:\\Anaconda3\\lib\\site-packages\\sklearn\\preprocessing\\_data.py:2612: UserWarning: n_quantiles (1000) is greater than the total number of samples (828). n_quantiles is set to n_samples.\n",
      "  warnings.warn(\"n_quantiles (%s) is greater than the total number \"\n",
      "E:\\Anaconda3\\lib\\site-packages\\sklearn\\preprocessing\\_data.py:2612: UserWarning: n_quantiles (1000) is greater than the total number of samples (828). n_quantiles is set to n_samples.\n",
      "  warnings.warn(\"n_quantiles (%s) is greater than the total number \"\n"
     ]
    },
    {
     "name": "stdout",
     "output_type": "stream",
     "text": [
      "train_acc: 1.0\n",
      "acc: [0.8454106280193237, 0.8454106280193237, 0.8599033816425121]\n",
      "train_acc: 1.0\n",
      "acc: [0.8454106280193237, 0.8454106280193237, 0.8599033816425121, 0.8695652173913043]\n"
     ]
    },
    {
     "name": "stderr",
     "output_type": "stream",
     "text": [
      "E:\\Anaconda3\\lib\\site-packages\\sklearn\\preprocessing\\_data.py:2612: UserWarning: n_quantiles (1000) is greater than the total number of samples (828). n_quantiles is set to n_samples.\n",
      "  warnings.warn(\"n_quantiles (%s) is greater than the total number \"\n",
      "E:\\Anaconda3\\lib\\site-packages\\sklearn\\preprocessing\\_data.py:2612: UserWarning: n_quantiles (1000) is greater than the total number of samples (829). n_quantiles is set to n_samples.\n",
      "  warnings.warn(\"n_quantiles (%s) is greater than the total number \"\n"
     ]
    },
    {
     "name": "stdout",
     "output_type": "stream",
     "text": [
      "train_acc: 1.0\n",
      "acc: [0.8454106280193237, 0.8454106280193237, 0.8599033816425121, 0.8695652173913043, 0.8599033816425121]\n",
      "ave_acc 0.8560386473429951\n",
      "16\n",
      "train_acc: 1.0\n",
      "acc: [0.8653846153846154]\n"
     ]
    },
    {
     "name": "stderr",
     "output_type": "stream",
     "text": [
      "E:\\Anaconda3\\lib\\site-packages\\sklearn\\preprocessing\\_data.py:2612: UserWarning: n_quantiles (1000) is greater than the total number of samples (829). n_quantiles is set to n_samples.\n",
      "  warnings.warn(\"n_quantiles (%s) is greater than the total number \"\n",
      "E:\\Anaconda3\\lib\\site-packages\\sklearn\\preprocessing\\_data.py:2612: UserWarning: n_quantiles (1000) is greater than the total number of samples (830). n_quantiles is set to n_samples.\n",
      "  warnings.warn(\"n_quantiles (%s) is greater than the total number \"\n"
     ]
    },
    {
     "name": "stdout",
     "output_type": "stream",
     "text": [
      "train_acc: 1.0\n",
      "acc: [0.8653846153846154, 0.8365384615384616]\n",
      "train_acc: 1.0\n",
      "acc: [0.8653846153846154, 0.8365384615384616, 0.8743961352657005]\n"
     ]
    },
    {
     "name": "stderr",
     "output_type": "stream",
     "text": [
      "E:\\Anaconda3\\lib\\site-packages\\sklearn\\preprocessing\\_data.py:2612: UserWarning: n_quantiles (1000) is greater than the total number of samples (830). n_quantiles is set to n_samples.\n",
      "  warnings.warn(\"n_quantiles (%s) is greater than the total number \"\n",
      "E:\\Anaconda3\\lib\\site-packages\\sklearn\\preprocessing\\_data.py:2612: UserWarning: n_quantiles (1000) is greater than the total number of samples (830). n_quantiles is set to n_samples.\n",
      "  warnings.warn(\"n_quantiles (%s) is greater than the total number \"\n"
     ]
    },
    {
     "name": "stdout",
     "output_type": "stream",
     "text": [
      "train_acc: 1.0\n",
      "acc: [0.8653846153846154, 0.8365384615384616, 0.8743961352657005, 0.8888888888888888]\n",
      "train_acc: 1.0\n",
      "acc: [0.8653846153846154, 0.8365384615384616, 0.8743961352657005, 0.8888888888888888, 0.8599033816425121]\n",
      "ave_acc 0.8650222965440356\n",
      "17\n"
     ]
    },
    {
     "name": "stderr",
     "output_type": "stream",
     "text": [
      "E:\\Anaconda3\\lib\\site-packages\\sklearn\\preprocessing\\_data.py:2612: UserWarning: n_quantiles (1000) is greater than the total number of samples (828). n_quantiles is set to n_samples.\n",
      "  warnings.warn(\"n_quantiles (%s) is greater than the total number \"\n",
      "E:\\Anaconda3\\lib\\site-packages\\sklearn\\preprocessing\\_data.py:2612: UserWarning: n_quantiles (1000) is greater than the total number of samples (828). n_quantiles is set to n_samples.\n",
      "  warnings.warn(\"n_quantiles (%s) is greater than the total number \"\n"
     ]
    },
    {
     "name": "stdout",
     "output_type": "stream",
     "text": [
      "train_acc: 1.0\n",
      "acc: [0.8260869565217391]\n",
      "train_acc: 1.0\n",
      "acc: [0.8260869565217391, 0.821256038647343]\n"
     ]
    },
    {
     "name": "stderr",
     "output_type": "stream",
     "text": [
      "E:\\Anaconda3\\lib\\site-packages\\sklearn\\preprocessing\\_data.py:2612: UserWarning: n_quantiles (1000) is greater than the total number of samples (828). n_quantiles is set to n_samples.\n",
      "  warnings.warn(\"n_quantiles (%s) is greater than the total number \"\n",
      "E:\\Anaconda3\\lib\\site-packages\\sklearn\\preprocessing\\_data.py:2612: UserWarning: n_quantiles (1000) is greater than the total number of samples (828). n_quantiles is set to n_samples.\n",
      "  warnings.warn(\"n_quantiles (%s) is greater than the total number \"\n"
     ]
    },
    {
     "name": "stdout",
     "output_type": "stream",
     "text": [
      "train_acc: 1.0\n",
      "acc: [0.8260869565217391, 0.821256038647343, 0.8115942028985508]\n",
      "train_acc: 1.0\n",
      "acc: [0.8260869565217391, 0.821256038647343, 0.8115942028985508, 0.8647342995169082]\n"
     ]
    },
    {
     "name": "stderr",
     "output_type": "stream",
     "text": [
      "E:\\Anaconda3\\lib\\site-packages\\sklearn\\preprocessing\\_data.py:2612: UserWarning: n_quantiles (1000) is greater than the total number of samples (828). n_quantiles is set to n_samples.\n",
      "  warnings.warn(\"n_quantiles (%s) is greater than the total number \"\n",
      "E:\\Anaconda3\\lib\\site-packages\\sklearn\\preprocessing\\_data.py:2612: UserWarning: n_quantiles (1000) is greater than the total number of samples (828). n_quantiles is set to n_samples.\n",
      "  warnings.warn(\"n_quantiles (%s) is greater than the total number \"\n"
     ]
    },
    {
     "name": "stdout",
     "output_type": "stream",
     "text": [
      "train_acc: 1.0\n",
      "acc: [0.8260869565217391, 0.821256038647343, 0.8115942028985508, 0.8647342995169082, 0.8599033816425121]\n",
      "ave_acc 0.8367149758454107\n",
      "18\n",
      "train_acc: 1.0\n",
      "acc: [0.8894230769230769]\n"
     ]
    },
    {
     "name": "stderr",
     "output_type": "stream",
     "text": [
      "E:\\Anaconda3\\lib\\site-packages\\sklearn\\preprocessing\\_data.py:2612: UserWarning: n_quantiles (1000) is greater than the total number of samples (829). n_quantiles is set to n_samples.\n",
      "  warnings.warn(\"n_quantiles (%s) is greater than the total number \"\n",
      "E:\\Anaconda3\\lib\\site-packages\\sklearn\\preprocessing\\_data.py:2612: UserWarning: n_quantiles (1000) is greater than the total number of samples (829). n_quantiles is set to n_samples.\n",
      "  warnings.warn(\"n_quantiles (%s) is greater than the total number \"\n"
     ]
    },
    {
     "name": "stdout",
     "output_type": "stream",
     "text": [
      "train_acc: 1.0\n",
      "acc: [0.8894230769230769, 0.8695652173913043]\n",
      "train_acc: 1.0\n",
      "acc: [0.8894230769230769, 0.8695652173913043, 0.8115942028985508]\n"
     ]
    },
    {
     "name": "stderr",
     "output_type": "stream",
     "text": [
      "E:\\Anaconda3\\lib\\site-packages\\sklearn\\preprocessing\\_data.py:2612: UserWarning: n_quantiles (1000) is greater than the total number of samples (829). n_quantiles is set to n_samples.\n",
      "  warnings.warn(\"n_quantiles (%s) is greater than the total number \"\n",
      "E:\\Anaconda3\\lib\\site-packages\\sklearn\\preprocessing\\_data.py:2612: UserWarning: n_quantiles (1000) is greater than the total number of samples (829). n_quantiles is set to n_samples.\n",
      "  warnings.warn(\"n_quantiles (%s) is greater than the total number \"\n"
     ]
    },
    {
     "name": "stdout",
     "output_type": "stream",
     "text": [
      "train_acc: 1.0\n",
      "acc: [0.8894230769230769, 0.8695652173913043, 0.8115942028985508, 0.8454106280193237]\n",
      "train_acc: 1.0\n",
      "acc: [0.8894230769230769, 0.8695652173913043, 0.8115942028985508, 0.8454106280193237, 0.8743961352657005]\n",
      "ave_acc 0.8580778520995913\n",
      "19\n"
     ]
    },
    {
     "name": "stderr",
     "output_type": "stream",
     "text": [
      "E:\\Anaconda3\\lib\\site-packages\\sklearn\\preprocessing\\_data.py:2612: UserWarning: n_quantiles (1000) is greater than the total number of samples (828). n_quantiles is set to n_samples.\n",
      "  warnings.warn(\"n_quantiles (%s) is greater than the total number \"\n",
      "E:\\Anaconda3\\lib\\site-packages\\sklearn\\preprocessing\\_data.py:2612: UserWarning: n_quantiles (1000) is greater than the total number of samples (829). n_quantiles is set to n_samples.\n",
      "  warnings.warn(\"n_quantiles (%s) is greater than the total number \"\n"
     ]
    },
    {
     "name": "stdout",
     "output_type": "stream",
     "text": [
      "train_acc: 1.0\n",
      "acc: [0.8509615384615384]\n",
      "train_acc: 1.0\n",
      "acc: [0.8509615384615384, 0.8695652173913043]\n"
     ]
    },
    {
     "name": "stderr",
     "output_type": "stream",
     "text": [
      "E:\\Anaconda3\\lib\\site-packages\\sklearn\\preprocessing\\_data.py:2612: UserWarning: n_quantiles (1000) is greater than the total number of samples (829). n_quantiles is set to n_samples.\n",
      "  warnings.warn(\"n_quantiles (%s) is greater than the total number \"\n",
      "E:\\Anaconda3\\lib\\site-packages\\sklearn\\preprocessing\\_data.py:2612: UserWarning: n_quantiles (1000) is greater than the total number of samples (829). n_quantiles is set to n_samples.\n",
      "  warnings.warn(\"n_quantiles (%s) is greater than the total number \"\n"
     ]
    },
    {
     "name": "stdout",
     "output_type": "stream",
     "text": [
      "train_acc: 1.0\n",
      "acc: [0.8509615384615384, 0.8695652173913043, 0.8260869565217391]\n",
      "train_acc: 1.0\n",
      "acc: [0.8509615384615384, 0.8695652173913043, 0.8260869565217391, 0.8405797101449275]\n",
      "train_acc: 1.0\n",
      "acc: [0.8509615384615384, 0.8695652173913043, 0.8260869565217391, 0.8405797101449275, 0.8647342995169082]\n",
      "ave_acc 0.8503855444072835\n",
      "20\n"
     ]
    },
    {
     "name": "stderr",
     "output_type": "stream",
     "text": [
      "E:\\Anaconda3\\lib\\site-packages\\sklearn\\preprocessing\\_data.py:2612: UserWarning: n_quantiles (1000) is greater than the total number of samples (829). n_quantiles is set to n_samples.\n",
      "  warnings.warn(\"n_quantiles (%s) is greater than the total number \"\n",
      "E:\\Anaconda3\\lib\\site-packages\\sklearn\\preprocessing\\_data.py:2612: UserWarning: n_quantiles (1000) is greater than the total number of samples (828). n_quantiles is set to n_samples.\n",
      "  warnings.warn(\"n_quantiles (%s) is greater than the total number \"\n"
     ]
    },
    {
     "name": "stdout",
     "output_type": "stream",
     "text": [
      "train_acc: 1.0\n",
      "acc: [0.8365384615384616]\n",
      "train_acc: 1.0\n",
      "acc: [0.8365384615384616, 0.7971014492753623]\n"
     ]
    },
    {
     "name": "stderr",
     "output_type": "stream",
     "text": [
      "E:\\Anaconda3\\lib\\site-packages\\sklearn\\preprocessing\\_data.py:2612: UserWarning: n_quantiles (1000) is greater than the total number of samples (829). n_quantiles is set to n_samples.\n",
      "  warnings.warn(\"n_quantiles (%s) is greater than the total number \"\n",
      "E:\\Anaconda3\\lib\\site-packages\\sklearn\\preprocessing\\_data.py:2612: UserWarning: n_quantiles (1000) is greater than the total number of samples (829). n_quantiles is set to n_samples.\n",
      "  warnings.warn(\"n_quantiles (%s) is greater than the total number \"\n"
     ]
    },
    {
     "name": "stdout",
     "output_type": "stream",
     "text": [
      "train_acc: 1.0\n",
      "acc: [0.8365384615384616, 0.7971014492753623, 0.8309178743961353]\n",
      "train_acc: 1.0\n",
      "acc: [0.8365384615384616, 0.7971014492753623, 0.8309178743961353, 0.8599033816425121]\n"
     ]
    },
    {
     "name": "stderr",
     "output_type": "stream",
     "text": [
      "E:\\Anaconda3\\lib\\site-packages\\sklearn\\preprocessing\\_data.py:2612: UserWarning: n_quantiles (1000) is greater than the total number of samples (829). n_quantiles is set to n_samples.\n",
      "  warnings.warn(\"n_quantiles (%s) is greater than the total number \"\n",
      "E:\\Anaconda3\\lib\\site-packages\\sklearn\\preprocessing\\_data.py:2612: UserWarning: n_quantiles (1000) is greater than the total number of samples (829). n_quantiles is set to n_samples.\n",
      "  warnings.warn(\"n_quantiles (%s) is greater than the total number \"\n"
     ]
    },
    {
     "name": "stdout",
     "output_type": "stream",
     "text": [
      "train_acc: 1.0\n",
      "acc: [0.8365384615384616, 0.7971014492753623, 0.8309178743961353, 0.8599033816425121, 0.8019323671497585]\n",
      "ave_acc 0.825278706800446\n",
      "21\n",
      "train_acc: 1.0\n",
      "acc: [0.8502415458937198]\n",
      "train_acc: 1.0\n",
      "acc: [0.8502415458937198, 0.8260869565217391]\n"
     ]
    },
    {
     "name": "stderr",
     "output_type": "stream",
     "text": [
      "E:\\Anaconda3\\lib\\site-packages\\sklearn\\preprocessing\\_data.py:2612: UserWarning: n_quantiles (1000) is greater than the total number of samples (828). n_quantiles is set to n_samples.\n",
      "  warnings.warn(\"n_quantiles (%s) is greater than the total number \"\n",
      "E:\\Anaconda3\\lib\\site-packages\\sklearn\\preprocessing\\_data.py:2612: UserWarning: n_quantiles (1000) is greater than the total number of samples (828). n_quantiles is set to n_samples.\n",
      "  warnings.warn(\"n_quantiles (%s) is greater than the total number \"\n",
      "E:\\Anaconda3\\lib\\site-packages\\sklearn\\preprocessing\\_data.py:2612: UserWarning: n_quantiles (1000) is greater than the total number of samples (828). n_quantiles is set to n_samples.\n",
      "  warnings.warn(\"n_quantiles (%s) is greater than the total number \"\n",
      "E:\\Anaconda3\\lib\\site-packages\\sklearn\\preprocessing\\_data.py:2612: UserWarning: n_quantiles (1000) is greater than the total number of samples (828). n_quantiles is set to n_samples.\n",
      "  warnings.warn(\"n_quantiles (%s) is greater than the total number \"\n"
     ]
    },
    {
     "name": "stdout",
     "output_type": "stream",
     "text": [
      "train_acc: 1.0\n",
      "acc: [0.8502415458937198, 0.8260869565217391, 0.8647342995169082]\n",
      "train_acc: 1.0\n",
      "acc: [0.8502415458937198, 0.8260869565217391, 0.8647342995169082, 0.8405797101449275]\n",
      "train_acc: 1.0\n",
      "acc: [0.8502415458937198, 0.8260869565217391, 0.8647342995169082, 0.8405797101449275, 0.8695652173913043]\n",
      "ave_acc 0.8502415458937198\n",
      "22\n"
     ]
    },
    {
     "name": "stderr",
     "output_type": "stream",
     "text": [
      "E:\\Anaconda3\\lib\\site-packages\\sklearn\\preprocessing\\_data.py:2612: UserWarning: n_quantiles (1000) is greater than the total number of samples (828). n_quantiles is set to n_samples.\n",
      "  warnings.warn(\"n_quantiles (%s) is greater than the total number \"\n",
      "E:\\Anaconda3\\lib\\site-packages\\sklearn\\preprocessing\\_data.py:2612: UserWarning: n_quantiles (1000) is greater than the total number of samples (825). n_quantiles is set to n_samples.\n",
      "  warnings.warn(\"n_quantiles (%s) is greater than the total number \"\n"
     ]
    },
    {
     "name": "stdout",
     "output_type": "stream",
     "text": [
      "train_acc: 1.0\n",
      "acc: [0.7681159420289855]\n",
      "train_acc: 1.0\n",
      "acc: [0.7681159420289855, 0.7342995169082126]\n",
      "train_acc: 1.0\n",
      "acc: [0.7681159420289855, 0.7342995169082126, 0.7572815533980582]\n"
     ]
    },
    {
     "name": "stderr",
     "output_type": "stream",
     "text": [
      "E:\\Anaconda3\\lib\\site-packages\\sklearn\\preprocessing\\_data.py:2612: UserWarning: n_quantiles (1000) is greater than the total number of samples (825). n_quantiles is set to n_samples.\n",
      "  warnings.warn(\"n_quantiles (%s) is greater than the total number \"\n",
      "E:\\Anaconda3\\lib\\site-packages\\sklearn\\preprocessing\\_data.py:2612: UserWarning: n_quantiles (1000) is greater than the total number of samples (826). n_quantiles is set to n_samples.\n",
      "  warnings.warn(\"n_quantiles (%s) is greater than the total number \"\n"
     ]
    },
    {
     "name": "stdout",
     "output_type": "stream",
     "text": [
      "train_acc: 1.0\n",
      "acc: [0.7681159420289855, 0.7342995169082126, 0.7572815533980582, 0.7961165048543689]\n",
      "train_acc: 1.0\n",
      "acc: [0.7681159420289855, 0.7342995169082126, 0.7572815533980582, 0.7961165048543689, 0.8009708737864077]\n",
      "ave_acc 0.7713568781952066\n",
      "23\n"
     ]
    },
    {
     "name": "stderr",
     "output_type": "stream",
     "text": [
      "E:\\Anaconda3\\lib\\site-packages\\sklearn\\preprocessing\\_data.py:2612: UserWarning: n_quantiles (1000) is greater than the total number of samples (826). n_quantiles is set to n_samples.\n",
      "  warnings.warn(\"n_quantiles (%s) is greater than the total number \"\n",
      "E:\\Anaconda3\\lib\\site-packages\\sklearn\\preprocessing\\_data.py:2612: UserWarning: n_quantiles (1000) is greater than the total number of samples (826). n_quantiles is set to n_samples.\n",
      "  warnings.warn(\"n_quantiles (%s) is greater than the total number \"\n"
     ]
    }
   ],
   "source": [
    "t_score=[]\n",
    "for t,i in zip([t0,t1,t2,t3,t4,t5,t6,t7,t8,t9,t10,t11,t12,t13,t14,t15,t16,t17,t18,t19,t20,t21,t22,t23],range(24)):\n",
    "    #划分样本和标签\n",
    "    x=np.array(t.iloc[:,range(0,96)])#.astype(int)\n",
    "    y=np.array(t.loc[:,'code']).reshape(-1,1).astype(int)\n",
    "    #训练模型\n",
    "    skf = StratifiedKFold(n_splits=5,shuffle=True,random_state=1)\n",
    "    acc=[]\n",
    "    for train_index, test_index in skf.split(x,y):\n",
    "        x_train, x_test = x[train_index], x[test_index]\n",
    "        y_train, y_test = y[train_index], y[test_index]\n",
    "        #qt\n",
    "        qt = QuantileTransformer(output_distribution = 'uniform' )\n",
    "#         qt = PowerTransformer()\n",
    "#         qt = RobustScaler()\n",
    "#         qt = StandardScaler()\n",
    "        x_train = qt.fit_transform(x_train)\n",
    "        x_test = qt.transform(x_test)\n",
    "\n",
    "        clf= KNeighborsClassifier(n_neighbors=1)\n",
    "        clf.fit(x_train,y_train.ravel())\n",
    "        best_acc=clf.score(x_test,y_test.ravel())\n",
    "        train_acc=clf.score(x_train,y_train.ravel())\n",
    "        print('train_acc:',train_acc)\n",
    "        acc.append(best_acc)\n",
    "        print('acc:',acc)\n",
    "    ave_score=np.mean(acc)\n",
    "    print('ave_acc',ave_score)\n",
    "    t_score.append([i,ave_score])\n",
    "    print(i)"
   ]
  },
  {
   "cell_type": "code",
   "execution_count": 73,
   "id": "80ddac4b",
   "metadata": {
    "ExecuteTime": {
     "end_time": "2022-01-06T12:04:55.329296Z",
     "start_time": "2022-01-06T12:04:55.324309Z"
    }
   },
   "outputs": [
    {
     "data": {
      "text/plain": [
       "[[0, 0.7837155855729093],\n",
       " [1, 0.7850991979738285],\n",
       " [2, 0.818543292456336],\n",
       " [3, 0.830552037896909],\n",
       " [4, 0.8635054640964308],\n",
       " [5, 0.8013460907086909],\n",
       " [6, 0.8293478260869567],\n",
       " [7, 0.8599033816425121],\n",
       " [8, 0.847482348569305],\n",
       " [9, 0.8545429208472687],\n",
       " [10, 0.8543571163136381],\n",
       " [11, 0.8445884429580083],\n",
       " [12, 0.8622770345596432],\n",
       " [13, 0.8383377890342855],\n",
       " [14, 0.8608695652173914],\n",
       " [15, 0.842512077294686],\n",
       " [16, 0.8560386473429951],\n",
       " [17, 0.8650222965440356],\n",
       " [18, 0.8367149758454107],\n",
       " [19, 0.8580778520995913],\n",
       " [20, 0.8503855444072835],\n",
       " [21, 0.825278706800446],\n",
       " [22, 0.8502415458937198],\n",
       " [23, 0.7713568781952066]]"
      ]
     },
     "execution_count": 73,
     "metadata": {},
     "output_type": "execute_result"
    }
   ],
   "source": [
    "t_score"
   ]
  },
  {
   "cell_type": "code",
   "execution_count": null,
   "id": "395a0c07",
   "metadata": {},
   "outputs": [],
   "source": [
    "pipe = Pipeline([('scaler', QuantileTransformer(output_distribution = 'uniform')), ('knn', KNeighborsClassifier())])\n",
    "param_dist = {'knn__n_neighbors': [1,2,3,4,5,6,7,8,9]}\n",
    "splitter=StratifiedKFold(n_splits=5,random_state=1,shuffle=True)\n",
    "clf = RandomizedSearchCV(estimator=pipe,param_distributions=param_dist,n_iter=9,cv=splitter,random_state=1,n_jobs=-1,scoring='accuracy',verbose=3)\n",
    "search = clf.fit(x, y.ravel())"
   ]
  },
  {
   "cell_type": "code",
   "execution_count": null,
   "id": "6ff38143",
   "metadata": {},
   "outputs": [],
   "source": [
    "print('网格搜索-度量记录：',search.cv_results_)  # 包含每次训练的相关信息\n",
    "print('网格搜索-最佳度量值:',search.best_score_)  # 获取最佳度量值\n",
    "print('网格搜索-最佳参数：',search.best_params_)  # 获取最佳度量值时的代定参数的值。是一个字典\n",
    "print('网格搜索-最佳模型：',search.best_estimator_)  # 获取最佳度量时的分类器模型"
   ]
  },
  {
   "cell_type": "code",
   "execution_count": null,
   "id": "63b03ad4",
   "metadata": {},
   "outputs": [],
   "source": [
    "xx=search.cv_results_['param_knn__n_neighbors'].data.astype(float)\n",
    "zz=search.cv_results_['mean_test_score'].astype(float)\n",
    "xx=np.expand_dims(xx,axis=1)\n",
    "zz=np.expand_dims(zz,axis=1)\n",
    "print(xx.shape)\n",
    "print(zz.shape)\n",
    "zxc=pd.DataFrame(np.hstack((xx,zz)))\n",
    "zxc.columns=['k','acc']\n",
    "# zxc=pd.pivot_table(zxc,index=['C'],columns=['gamma'],values=['acc'])\n",
    "# zxc.to_csv(local_path+'\\\\blokagedata\\\\svm_finetune_grid_b.csv',encoding='ascii',index=True)"
   ]
  }
 ],
 "metadata": {
  "kernelspec": {
   "display_name": "Python 3",
   "language": "python",
   "name": "python3"
  },
  "language_info": {
   "codemirror_mode": {
    "name": "ipython",
    "version": 3
   },
   "file_extension": ".py",
   "mimetype": "text/x-python",
   "name": "python",
   "nbconvert_exporter": "python",
   "pygments_lexer": "ipython3",
   "version": "3.8.8"
  },
  "toc": {
   "base_numbering": 1,
   "nav_menu": {},
   "number_sections": true,
   "sideBar": true,
   "skip_h1_title": false,
   "title_cell": "Table of Contents",
   "title_sidebar": "Contents",
   "toc_cell": false,
   "toc_position": {
    "height": "calc(100% - 180px)",
    "left": "10px",
    "top": "150px",
    "width": "254.391px"
   },
   "toc_section_display": true,
   "toc_window_display": false
  },
  "varInspector": {
   "cols": {
    "lenName": 16,
    "lenType": 16,
    "lenVar": 40
   },
   "kernels_config": {
    "python": {
     "delete_cmd_postfix": "",
     "delete_cmd_prefix": "del ",
     "library": "var_list.py",
     "varRefreshCmd": "print(var_dic_list())"
    },
    "r": {
     "delete_cmd_postfix": ") ",
     "delete_cmd_prefix": "rm(",
     "library": "var_list.r",
     "varRefreshCmd": "cat(var_dic_list()) "
    }
   },
   "types_to_exclude": [
    "module",
    "function",
    "builtin_function_or_method",
    "instance",
    "_Feature"
   ],
   "window_display": false
  }
 },
 "nbformat": 4,
 "nbformat_minor": 5
}
