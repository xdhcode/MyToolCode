{
 "cells": [
  {
   "cell_type": "markdown",
   "id": "344ce1a2",
   "metadata": {},
   "source": [
    "# 整理堵塞数据"
   ]
  },
  {
   "cell_type": "code",
   "execution_count": 1,
   "id": "42cd60d9",
   "metadata": {
    "ExecuteTime": {
     "end_time": "2021-09-14T07:32:38.238797Z",
     "start_time": "2021-09-14T07:32:32.570221Z"
    }
   },
   "outputs": [
    {
     "name": "stdout",
     "output_type": "stream",
     "text": [
      "F:\\NBCode\\Blockage\\blokagedata\n"
     ]
    }
   ],
   "source": [
    "import os\n",
    "import pandas as pd\n",
    "import numpy as np\n",
    "from tqdm import tqdm\n",
    "#准备文件夹保存数据\n",
    "local_path=os.getcwd()\n",
    "if not os.path.exists(local_path+'\\\\blokagedata'):\n",
    "    os.mkdir(local_path+'\\\\blokagedata')\n",
    "print(local_path+'\\\\blokagedata')\n",
    "#指定Block数据文件夹\n",
    "file_path='C:\\\\Users\\\\XDHHome\\\\Desktop\\\\Block'"
   ]
  },
  {
   "cell_type": "markdown",
   "id": "4365338a",
   "metadata": {},
   "source": [
    "## 整理样本标签"
   ]
  },
  {
   "cell_type": "code",
   "execution_count": 9,
   "id": "dcb5c88a",
   "metadata": {
    "ExecuteTime": {
     "end_time": "2021-09-14T09:03:17.198869Z",
     "start_time": "2021-09-14T09:03:15.403667Z"
    },
    "scrolled": true
   },
   "outputs": [
    {
     "name": "stderr",
     "output_type": "stream",
     "text": [
      "100%|██████████| 24/24 [00:00<00:00, 257.46it/s]\n",
      "100%|██████████| 24/24 [00:00<00:00, 312.52it/s]\n",
      "100%|██████████| 24/24 [00:00<00:00, 559.64it/s]\n",
      "100%|██████████| 24/24 [00:01<00:00, 15.40it/s]\n"
     ]
    }
   ],
   "source": [
    "# 获取SamplePipeBlock中的管道编号\n",
    "for i in tqdm(range(24)):\n",
    "    Pipe_code=pd.read_csv(file_path+'\\\\net3-'+str(i)+'\\\\SamplePipeBlock.csv',header=0)\n",
    "    Pipe_code=Pipe_code.loc[:,'Code'].astype(int)-505000000\n",
    "    Pipe_code.to_csv(local_path+'\\\\blokagedata\\\\Pipe_code_'+str(i)+'.csv',encoding='ascii')\n",
    "#获取SamplePipeBlock中的管道管径\n",
    "for i in tqdm(range(24)):\n",
    "    Pipe_dn=pd.read_csv(file_path+'\\\\net3-0\\\\SamplePipeBlock.csv',header=0,usecols=[3])\n",
    "    Pipe_dn.to_csv(local_path+'\\\\blokagedata\\\\Pipe_dn_'+str(i)+'.csv',encoding='ascii')\n",
    "#获取时间节点\n",
    "for i in tqdm(range(24)):\n",
    "    Pipe_time=pd.DataFrame(np.ones([1160,1])*i).astype(int)\n",
    "    Pipe_time.to_csv(local_path+'\\\\blokagedata\\\\Pipe_time_'+str(i)+'.csv',encoding='ascii')\n",
    "#去掉没有模拟结果的样本\n",
    "for i in tqdm(range(24)):\n",
    "    num=[ ]\n",
    "    for j in range(1,1161):\n",
    "        if not os.path.exists(file_path+'\\\\net3-'+str(i)+'\\\\RsBlock\\\\Sample-Pipe-'+str(j)+'.Pipe.csv'):\n",
    "            num.append(j-1)\n",
    "    for name in ['code','dn','time']:\n",
    "        data=pd.read_csv(local_path+'\\\\blokagedata\\\\Pipe_'+name+'_'+str(i)+'.csv',header=0,usecols=[1])\n",
    "        data=data.drop(index=num)\n",
    "        data.to_csv(local_path+'\\\\blokagedata\\\\Pipe_'+name+'_clear_'+str(i)+'.csv',encoding='ascii',index=False)"
   ]
  },
  {
   "cell_type": "code",
   "execution_count": 13,
   "id": "44d6fb3c",
   "metadata": {
    "ExecuteTime": {
     "end_time": "2021-09-14T09:07:19.834188Z",
     "start_time": "2021-09-14T09:07:19.681591Z"
    },
    "scrolled": true
   },
   "outputs": [
    {
     "name": "stderr",
     "output_type": "stream",
     "text": [
      "100%|██████████| 23/23 [00:00<00:00, 743.92it/s]\n",
      "100%|██████████| 23/23 [00:00<00:00, 795.23it/s]\n",
      "100%|██████████| 23/23 [00:00<00:00, 795.99it/s]\n"
     ]
    }
   ],
   "source": [
    "#合并24组数据\n",
    "for name in ['code','dn','time']:\n",
    "    data=pd.read_csv(local_path+'\\\\blokagedata\\\\Pipe_'+name+'_clear_0.csv',header=0)\n",
    "    for i in tqdm(range(1,24)):\n",
    "        data1=pd.read_csv(local_path+'\\\\blokagedata\\\\Pipe_'+name+'_clear_'+str(i)+'.csv',header=0)\n",
    "        data=data.append(data1)\n",
    "    data.to_csv(local_path+'\\\\blokagedata\\\\Pipe_'+name+'_clear_'+'24.csv',encoding='ascii',index=False)"
   ]
  },
  {
   "cell_type": "code",
   "execution_count": 14,
   "id": "5230cdf0",
   "metadata": {
    "ExecuteTime": {
     "end_time": "2021-09-14T09:12:20.374776Z",
     "start_time": "2021-09-14T09:09:06.705265Z"
    }
   },
   "outputs": [
    {
     "name": "stderr",
     "output_type": "stream",
     "text": [
      "100%|██████████| 116/116 [03:13<00:00,  1.67s/it]\n"
     ]
    }
   ],
   "source": [
    "#把管道编号重编为连续整数\n",
    "data=pd.read_csv(local_path+'\\\\blokagedata\\\\Pipe_code_clear_24.csv',header=0)\n",
    "y=data.astype(int)\n",
    "table1=np.sort(np.unique(y))\n",
    "for i in tqdm(range(len(table1))):\n",
    "    for j in range(len(y)):\n",
    "        if y.iloc[j].item()==table1[i].item():\n",
    "            y.iloc[j]=i\n",
    "y.to_csv(local_path+'\\\\blokagedata\\\\Pipe_code_clear_24_sorted.csv',encoding='ascii',index=False)"
   ]
  },
  {
   "cell_type": "code",
   "execution_count": 27,
   "id": "8dee7d66",
   "metadata": {
    "ExecuteTime": {
     "end_time": "2021-09-14T09:51:11.586749Z",
     "start_time": "2021-09-14T09:51:11.548843Z"
    }
   },
   "outputs": [],
   "source": [
    "#合并三组标签\n",
    "a=pd.read_csv(local_path+'\\\\blokagedata\\\\Pipe_code_clear_24_sorted.csv',header=0)\n",
    "b=pd.read_csv(local_path+'\\\\blokagedata\\\\Pipe_dn_clear_24.csv',header=0)\n",
    "c=pd.read_csv(local_path+'\\\\blokagedata\\\\Pipe_time_clear_24.csv',header=0)\n",
    "abc=pd.concat([a,b,c],axis=1)\n",
    "abc.columns=['code','dn','time']\n",
    "abc.to_csv(local_path+'\\\\blokagedata\\\\Sample_label.csv',encoding='ascii',index=False)"
   ]
  },
  {
   "cell_type": "markdown",
   "id": "4566dc7b",
   "metadata": {},
   "source": [
    "## 整理样本数据"
   ]
  },
  {
   "cell_type": "code",
   "execution_count": 159,
   "id": "21a4708f",
   "metadata": {
    "ExecuteTime": {
     "end_time": "2021-09-14T13:09:32.570561Z",
     "start_time": "2021-09-14T13:08:47.058854Z"
    },
    "code_folding": []
   },
   "outputs": [
    {
     "name": "stderr",
     "output_type": "stream",
     "text": [
      "100%|██████████| 24/24 [00:45<00:00,  1.90s/it]\n"
     ]
    }
   ],
   "source": [
    "#将每个时间点的Sink整理成样本\n",
    "for i in tqdm(range(24)):\n",
    "    sample=pd.DataFrame()\n",
    "    for j in range(1,1161):\n",
    "        if os.path.exists(file_path+'\\\\net3-'+str(i)+'\\\\RsBlock\\\\Sample-Pipe-'+str(j)+'.Sinks.csv'):\n",
    "            sample2=pd.read_csv(file_path+'\\\\net3-'+str(i)+'\\\\RsBlock\\\\Sample-Pipe-'+str(j)+'.Sinks.csv',header=0,usecols=[2])\n",
    "            sample2=sample2.drop(index=[0,1,2]).T\n",
    "            sample=pd.concat([sample,sample2],axis=0)\n",
    "    sample.to_csv(local_path+'\\\\blokagedata\\\\Sample_Sink_'+str(i)+'.csv',encoding='ascii',index=False)"
   ]
  },
  {
   "cell_type": "code",
   "execution_count": 160,
   "id": "d0d0a04a",
   "metadata": {
    "ExecuteTime": {
     "end_time": "2021-09-14T13:10:07.597790Z",
     "start_time": "2021-09-14T13:09:32.964508Z"
    },
    "scrolled": true
   },
   "outputs": [
    {
     "name": "stderr",
     "output_type": "stream",
     "text": [
      "100%|██████████| 24/24 [00:34<00:00,  1.44s/it]\n"
     ]
    }
   ],
   "source": [
    "#将每个时间点的Tank整理成样本\n",
    "for i in tqdm(range(24)):\n",
    "    sample=pd.DataFrame()\n",
    "    for j in range(1,1161):\n",
    "        if os.path.exists(file_path+'\\\\net3-'+str(i)+'\\\\RsBlock\\\\Sample-Pipe-'+str(j)+'.Sinks.csv'):\n",
    "            sample2=pd.read_csv(file_path+'\\\\net3-'+str(i)+'\\\\RsBlock\\\\Sample-Pipe-'+str(j)+'.Sinks.csv',header=0,usecols=[4],nrows=3)\n",
    "            sample2=sample2.T\n",
    "            sample=pd.concat([sample,sample2],axis=0)\n",
    "    sample.to_csv(local_path+'\\\\blokagedata\\\\Sample_Tank_'+str(i)+'.csv',encoding='ascii',index=False)"
   ]
  },
  {
   "cell_type": "code",
   "execution_count": 164,
   "id": "aeae6f55",
   "metadata": {
    "ExecuteTime": {
     "end_time": "2021-09-14T13:11:06.573209Z",
     "start_time": "2021-09-14T13:10:31.821021Z"
    }
   },
   "outputs": [
    {
     "name": "stderr",
     "output_type": "stream",
     "text": [
      "100%|██████████| 24/24 [00:34<00:00,  1.45s/it]\n"
     ]
    }
   ],
   "source": [
    "#将每个时间点的Source整理成样本\n",
    "for i in tqdm(range(24)):\n",
    "    sample=pd.DataFrame()\n",
    "    for j in range(1,1161):\n",
    "        if os.path.exists(file_path+'\\\\net3-'+str(i)+'\\\\RsBlock\\\\Sample-Pipe-'+str(j)+'.Sources.csv'):\n",
    "            sample2=pd.read_csv(file_path+'\\\\net3-'+str(i)+'\\\\RsBlock\\\\Sample-Pipe-'+str(j)+'.Sources.csv',header=0,usecols=[4])\n",
    "            sample2=sample2.T\n",
    "            sample=pd.concat([sample,sample2],axis=0)\n",
    "    sample.to_csv(local_path+'\\\\blokagedata\\\\Sample_Source_'+str(i)+'.csv',encoding='ascii',index=False)"
   ]
  },
  {
   "cell_type": "code",
   "execution_count": 167,
   "id": "dfd91489",
   "metadata": {
    "ExecuteTime": {
     "end_time": "2021-09-14T13:11:40.258395Z",
     "start_time": "2021-09-14T13:11:36.657950Z"
    }
   },
   "outputs": [
    {
     "name": "stderr",
     "output_type": "stream",
     "text": [
      "100%|██████████| 24/24 [00:03<00:00,  6.70it/s]\n"
     ]
    }
   ],
   "source": [
    "#合并数据\n",
    "for i in tqdm(range(24)):\n",
    "    Sinksample=pd.read_csv(local_path+'\\\\blokagedata\\\\Sample_Sink_'+str(i)+'.csv',header=0)\n",
    "    Tanksample=pd.read_csv(local_path+'\\\\blokagedata\\\\Sample_Tank_'+str(i)+'.csv',header=0)\n",
    "    Sourcesample=pd.read_csv(local_path+'\\\\blokagedata\\\\Sample_Source_'+str(i)+'.csv',header=0)\n",
    "    abc=pd.concat([Sinksample,Tanksample,Sourcesample],axis=1)\n",
    "    abc.columns=range(0,96)\n",
    "    abc.to_csv(local_path+'\\\\blokagedata\\\\Sample_'+str(i)+'.csv',encoding='ascii',index=False)"
   ]
  },
  {
   "cell_type": "code",
   "execution_count": 169,
   "id": "43527c46",
   "metadata": {
    "ExecuteTime": {
     "end_time": "2021-09-14T13:11:53.973223Z",
     "start_time": "2021-09-14T13:11:50.605716Z"
    }
   },
   "outputs": [
    {
     "name": "stderr",
     "output_type": "stream",
     "text": [
      "100%|██████████| 24/24 [00:00<00:00, 36.79it/s]\n"
     ]
    }
   ],
   "source": [
    "#合并24组数据\n",
    "sample=pd.DataFrame()\n",
    "for i in tqdm(range(0,24)):\n",
    "    sample2=pd.read_csv(local_path+'\\\\blokagedata\\\\Sample_'+str(i)+'.csv',header=0)\n",
    "    sample=pd.concat([sample,sample2],axis=0)\n",
    "sample.to_csv(local_path+'\\\\blokagedata\\\\Sample_24.csv',encoding='ascii',index=False)"
   ]
  },
  {
   "cell_type": "code",
   "execution_count": 53,
   "id": "2b2d6edd",
   "metadata": {
    "ExecuteTime": {
     "end_time": "2021-09-14T10:04:45.406458Z",
     "start_time": "2021-09-14T10:04:42.378445Z"
    }
   },
   "outputs": [],
   "source": [
    "#合并样本和标签\n",
    "a=pd.read_csv(local_path+'\\\\blokagedata\\\\Sample_24.csv',header=0)\n",
    "b=pd.read_csv(local_path+'\\\\blokagedata\\\\Sample_label.csv',header=0)\n",
    "ab=pd.concat([a,b],axis=1)\n",
    "ab.to_csv(local_path+'\\\\blokagedata\\\\Block_Sample.csv',encoding='ascii',index=False)"
   ]
  },
  {
   "cell_type": "markdown",
   "id": "a7c6e2ef",
   "metadata": {},
   "source": [
    "## 整理正常数据"
   ]
  },
  {
   "cell_type": "code",
   "execution_count": 154,
   "id": "ea7aa3dc",
   "metadata": {
    "ExecuteTime": {
     "end_time": "2021-09-14T13:05:57.191450Z",
     "start_time": "2021-09-14T13:05:57.040881Z"
    }
   },
   "outputs": [
    {
     "name": "stderr",
     "output_type": "stream",
     "text": [
      "100%|██████████| 24/24 [00:00<00:00, 180.93it/s]\n"
     ]
    }
   ],
   "source": [
    "for i in tqdm(range(24)):\n",
    "    #将每个时间点的Sink整理成样本\n",
    "    sample=pd.read_csv(file_path+'\\\\net3-'+str(i)+'\\\\Result.0.Sinks.csv',header=0,usecols=[2])\n",
    "    sample=sample.drop(index=[0,1,2]).T\n",
    "    sample.to_csv(local_path+'\\\\blokagedata\\\\Normal_Sample_Sink_'+str(i)+'.csv',encoding='ascii',index=False)\n",
    "    #将每个时间点的Tank整理成样本\n",
    "    sample=pd.read_csv(file_path+'\\\\net3-'+str(i)+'\\\\Result.0.Sinks.csv',header=0,usecols=[4],nrows=3)\n",
    "    sample=sample.T\n",
    "    sample.to_csv(local_path+'\\\\blokagedata\\\\Normal_Sample_Tank_'+str(i)+'.csv',encoding='ascii',index=False)\n",
    "    #将每个时间点的Source整理成样本\n",
    "    sample=pd.read_csv(file_path+'\\\\net3-'+str(i)+'\\\\Result.0.Sources.csv',header=0,usecols=[4])\n",
    "    sample=sample.T\n",
    "    sample.to_csv(local_path+'\\\\blokagedata\\\\Normal_Sample_Source_'+str(i)+'.csv',encoding='ascii',index=False)"
   ]
  },
  {
   "cell_type": "code",
   "execution_count": 155,
   "id": "bb16bb27",
   "metadata": {
    "ExecuteTime": {
     "end_time": "2021-09-14T13:05:58.233617Z",
     "start_time": "2021-09-14T13:05:57.892529Z"
    }
   },
   "outputs": [
    {
     "name": "stderr",
     "output_type": "stream",
     "text": [
      "100%|██████████| 24/24 [00:00<00:00, 73.37it/s]\n"
     ]
    }
   ],
   "source": [
    "#合并数据\n",
    "for i in tqdm(range(24)):\n",
    "    Sinksample=pd.read_csv(local_path+'\\\\blokagedata\\\\Normal_Sample_Sink_'+str(i)+'.csv',header=0)\n",
    "    Tanksample=pd.read_csv(local_path+'\\\\blokagedata\\\\Normal_Sample_Tank_'+str(i)+'.csv',header=0)\n",
    "    Sourcesample=pd.read_csv(local_path+'\\\\blokagedata\\\\Normal_Sample_Source_'+str(i)+'.csv',header=0)\n",
    "    abcd=pd.concat([Sinksample,Tanksample,Sourcesample],axis=1)\n",
    "    abcd.columns=range(0,96)\n",
    "    abcd.to_csv(local_path+'\\\\blokagedata\\\\Normal_Sample_'+str(i)+'.csv',encoding='ascii',index=False)"
   ]
  },
  {
   "cell_type": "code",
   "execution_count": 156,
   "id": "69b7c747",
   "metadata": {
    "ExecuteTime": {
     "end_time": "2021-09-14T13:05:58.984029Z",
     "start_time": "2021-09-14T13:05:58.786557Z"
    }
   },
   "outputs": [
    {
     "name": "stderr",
     "output_type": "stream",
     "text": [
      "100%|██████████| 23/23 [00:00<00:00, 132.54it/s]\n"
     ]
    }
   ],
   "source": [
    "#合并24组数据\n",
    "sample=pd.DataFrame()\n",
    "for i in tqdm(range(1,24)):\n",
    "    sample2=pd.read_csv(local_path+'\\\\blokagedata\\\\Normal_Sample_'+str(i)+'.csv',header=0)\n",
    "    sample=pd.concat([sample,sample2],axis=0)\n",
    "sample.to_csv(local_path+'\\\\blokagedata\\\\Normal_Sample_24.csv',encoding='ascii',index=False)"
   ]
  },
  {
   "cell_type": "code",
   "execution_count": 38,
   "id": "50714a71",
   "metadata": {
    "ExecuteTime": {
     "end_time": "2021-09-14T09:56:56.658807Z",
     "start_time": "2021-09-14T09:56:56.651914Z"
    }
   },
   "outputs": [],
   "source": [
    "#生成标签\n",
    "a=pd.DataFrame(np.ones([24,1])*116).astype(int)\n",
    "b=pd.DataFrame(np.ones([24,1])*0).astype(int)#由于0%管径无模拟数据，所以用来指代正常数据\n",
    "c=pd.DataFrame(range(0,24))\n",
    "abc=pd.concat([a,b,c],axis=1)\n",
    "abc.columns=['code','dn','time']\n",
    "abc.to_csv(local_path+'\\\\blokagedata\\\\Normal_Sample_label.csv',encoding='ascii',index=False)"
   ]
  },
  {
   "cell_type": "code",
   "execution_count": 46,
   "id": "73205571",
   "metadata": {
    "ExecuteTime": {
     "end_time": "2021-09-14T09:59:27.915979Z",
     "start_time": "2021-09-14T09:59:27.901228Z"
    }
   },
   "outputs": [],
   "source": [
    "#合并样本和标签\n",
    "a=pd.read_csv(local_path+'\\\\blokagedata\\\\Normal_Sample_24.csv',header=0)\n",
    "b=pd.read_csv(local_path+'\\\\blokagedata\\\\Normal_Sample_label.csv',header=0)\n",
    "ab=pd.concat([a,b],axis=1)\n",
    "ab.to_csv(local_path+'\\\\blokagedata\\\\Normal_Sample.csv',encoding='ascii',index=False)"
   ]
  },
  {
   "cell_type": "code",
   "execution_count": 49,
   "id": "a744f814",
   "metadata": {
    "ExecuteTime": {
     "end_time": "2021-09-14T10:02:30.215956Z",
     "start_time": "2021-09-14T10:02:30.176063Z"
    }
   },
   "outputs": [],
   "source": [
    "#过采样\n",
    "a=pd.read_csv(local_path+'\\\\blokagedata\\\\Normal_Sample.csv',header=0)\n",
    "b=a\n",
    "for i in range(8):\n",
    "    a=a.append(b)\n",
    "a.to_csv(local_path+'\\\\blokagedata\\\\Normal_Sample_oversample.csv',encoding='ascii',index=False)"
   ]
  },
  {
   "cell_type": "markdown",
   "id": "f0ea2d95",
   "metadata": {},
   "source": [
    "## 堵塞+正常"
   ]
  },
  {
   "cell_type": "code",
   "execution_count": 56,
   "id": "fae3a5dd",
   "metadata": {
    "ExecuteTime": {
     "end_time": "2021-09-14T10:08:54.698386Z",
     "start_time": "2021-09-14T10:08:51.647942Z"
    }
   },
   "outputs": [],
   "source": [
    "#合并三组标签\n",
    "a=pd.read_csv(local_path+'\\\\blokagedata\\\\Block_Sample.csv',header=0)\n",
    "b=pd.read_csv(local_path+'\\\\blokagedata\\\\Normal_Sample_oversample.csv',header=0)\n",
    "ab=pd.concat([a,b],axis=0)\n",
    "ab.to_csv(local_path+'\\\\blokagedata\\\\Sample.csv',encoding='ascii',index=False)"
   ]
  },
  {
   "cell_type": "markdown",
   "id": "3e9e8ea8",
   "metadata": {},
   "source": [
    "## 一口气版"
   ]
  },
  {
   "cell_type": "code",
   "execution_count": 146,
   "id": "b7908342",
   "metadata": {
    "ExecuteTime": {
     "end_time": "2021-09-14T12:49:54.860146Z",
     "start_time": "2021-09-14T12:46:32.180174Z"
    },
    "code_folding": [],
    "scrolled": false
   },
   "outputs": [
    {
     "name": "stderr",
     "output_type": "stream",
     "text": [
      "100%|██████████| 24/24 [03:02<00:00,  7.60s/it]\n",
      "100%|██████████| 116/116 [00:17<00:00,  6.64it/s]\n"
     ]
    }
   ],
   "source": [
    "col_l=pd.DataFrame()#label\n",
    "col_b=pd.DataFrame()#block\n",
    "col_n=pd.DataFrame()#normal\n",
    "for i in tqdm(range(24)):\n",
    "    # 获取SamplePipeBlock中的管道编号\n",
    "    Pipe_code=pd.read_csv(file_path+'\\\\net3-'+str(i)+'\\\\SamplePipeBlock.csv',header=0)\n",
    "    Pipe_code=Pipe_code.loc[:,'Code'].astype(int)-505000000\n",
    "    #获取SamplePipeBlock中的管道管径比例\n",
    "    Pipe_dn=pd.read_csv(file_path+'\\\\net3-0\\\\SamplePipeBlock.csv',header=0,usecols=[3])#事先在该文件里生成了一列数据\n",
    "    #获取时间节点\n",
    "    Pipe_time=pd.DataFrame(np.ones([1160,1])*i).astype(int)\n",
    "    #去掉没有模拟结果的样本\n",
    "    num=[ ]\n",
    "    for j in range(1,1161):\n",
    "        if not os.path.exists(file_path+'\\\\net3-'+str(i)+'\\\\RsBlock\\\\Sample-Pipe-'+str(j)+'.Pipe.csv'):\n",
    "            num.append(j-1)\n",
    "    Pipe_code=Pipe_code.drop(index=num)\n",
    "    Pipe_dn=Pipe_dn.drop(index=num)\n",
    "    Pipe_time=Pipe_time.drop(index=num)\n",
    "    cat=pd.concat([Pipe_code,Pipe_dn,Pipe_time],axis=1)\n",
    "    col_l=pd.concat([col_l,cat],axis=0)\n",
    "    #获取堵塞数据\n",
    "    for j in range(1,1161):\n",
    "        if os.path.exists(file_path+'\\\\net3-'+str(i)+'\\\\RsBlock\\\\Sample-Pipe-'+str(j)+'.Sinks.csv'):\n",
    "            sink=pd.read_csv(file_path+'\\\\net3-'+str(i)+'\\\\RsBlock\\\\Sample-Pipe-'+str(j)+'.Sinks.csv',header=0,usecols=[2]).drop(index=[0,1,2]).T.reset_index(drop=True)\n",
    "            tank=pd.read_csv(file_path+'\\\\net3-'+str(i)+'\\\\RsBlock\\\\Sample-Pipe-'+str(j)+'.Sinks.csv',header=0,usecols=[4],nrows=3).T.reset_index(drop=True)\n",
    "            source=pd.read_csv(file_path+'\\\\net3-'+str(i)+'\\\\RsBlock\\\\Sample-Pipe-'+str(j)+'.Sources.csv',header=0,usecols=[4]).T.reset_index(drop=True)\n",
    "            cat=pd.concat([sink,tank,source],axis=1)\n",
    "            col_b=pd.concat([col_b,cat],axis=0)\n",
    "    #获取正常数据\n",
    "    sink=pd.read_csv(file_path+'\\\\net3-'+str(i)+'\\\\Result.0.Sinks.csv',header=0,usecols=[2]).drop(index=[0,1,2]).T.reset_index(drop=True)\n",
    "    tank=pd.read_csv(file_path+'\\\\net3-'+str(i)+'\\\\Result.0.Sinks.csv',header=0,usecols=[4],nrows=3).T.reset_index(drop=True)\n",
    "    source=pd.read_csv(file_path+'\\\\net3-'+str(i)+'\\\\Result.0.Sources.csv',header=0,usecols=[4]).T.reset_index(drop=True)\n",
    "    cat=pd.concat([sink,tank,source],axis=1)\n",
    "    col_n=pd.concat([col_n,cat],axis=0)\n",
    "#命名列名\n",
    "col_l=col_l.reset_index(drop=True) \n",
    "col_l.columns=['code','dn','time']\n",
    "col_b=col_b.reset_index(drop=True)\n",
    "col_b.columns=range(0,96)\n",
    "col_n=col_n.reset_index(drop=True)\n",
    "col_n.columns=range(0,96)\n",
    "#把管道编号重编为连续整数\n",
    "y=col_l.loc[:,'code'].astype(int)\n",
    "table=np.sort(np.unique(y))\n",
    "for i in tqdm(range(len(table))):\n",
    "    for j in range(len(y)):\n",
    "        if y.iloc[j].item()==table[i].item():\n",
    "            y.iloc[j]=i\n",
    "col_l.loc[:,'code']=y\n",
    "#生成正常样本的标签\n",
    "code_n=pd.DataFrame(np.ones([24,1])*116).astype(int)\n",
    "dn_n=pd.DataFrame(np.ones([24,1])*0).astype(int)#由于0%管径无模拟数据，所以用来指代正常数据\n",
    "time_n=pd.DataFrame(range(0,24))\n",
    "cat_nl=pd.concat([code_n,dn_n,time_n],axis=1)\n",
    "cat_nl.columns=['code','dn','time']\n",
    "#合并样本和标签\n",
    "sample_b=pd.concat([col_b,col_l],axis=1)\n",
    "sample_n=pd.concat([col_n,cat_nl],axis=1)\n",
    "#合并堵塞和正常数据，并过采样\n",
    "for i in range(9):\n",
    "    sample_b=pd.concat([sample_b,sample_n],axis=0)\n",
    "sample_b=sample_b.reset_index(drop=True)\n",
    "sample_b.to_csv(local_path+'\\\\blokagedata\\\\Sample.csv',encoding='ascii',index=False)"
   ]
  },
  {
   "cell_type": "markdown",
   "id": "379c015a",
   "metadata": {},
   "source": [
    "# 常规思路（117）"
   ]
  },
  {
   "cell_type": "code",
   "execution_count": null,
   "id": "b398c5a3",
   "metadata": {},
   "outputs": [],
   "source": [
    "只考虑堵塞或者不堵塞"
   ]
  },
  {
   "cell_type": "markdown",
   "id": "879993d7",
   "metadata": {},
   "source": [
    "## 训练ANN模型"
   ]
  },
  {
   "cell_type": "markdown",
   "id": "8d6877b7",
   "metadata": {},
   "source": [
    "### import"
   ]
  },
  {
   "cell_type": "code",
   "execution_count": 1,
   "id": "48e63550",
   "metadata": {
    "ExecuteTime": {
     "end_time": "2021-12-25T15:40:23.080188Z",
     "start_time": "2021-12-25T15:40:21.685437Z"
    }
   },
   "outputs": [
    {
     "name": "stdout",
     "output_type": "stream",
     "text": [
      "F:\\NBCode\\1-Blockage\\blokagedata\n"
     ]
    }
   ],
   "source": [
    "import torch\n",
    "import torch.nn as nn\n",
    "import torch.nn.functional as F\n",
    "import torch.utils.data as Data\n",
    "from torch.optim import Adam,AdamW\n",
    "from torch.optim.lr_scheduler import LambdaLR\n",
    "from torch.utils.data import DataLoader\n",
    "from prefetch_generator import BackgroundGenerator\n",
    "import pandas as pd\n",
    "import numpy as np\n",
    "from tqdm import tqdm\n",
    "import os\n",
    "import matplotlib\n",
    "import matplotlib.pyplot as plt \n",
    "import hiddenlayer as hl\n",
    "from sklearn.model_selection import train_test_split,StratifiedKFold\n",
    "from sklearn.decomposition import PCA\n",
    "from sklearn.preprocessing import QuantileTransformer,RobustScaler\n",
    "from sklearn.metrics import accuracy_score\n",
    "import lightgbm as lgb\n",
    "#准备文件夹保存数据\n",
    "local_path=os.getcwd()\n",
    "if not os.path.exists(local_path+'\\\\blokagedata'):\n",
    "    os.mkdir(local_path+'\\\\blokagedata')\n",
    "print(local_path+'\\\\blokagedata')\n",
    "#判断是否可以使用GPU\n",
    "device = torch.device(\"cuda:0\" if torch.cuda.is_available() else \"cpu\")"
   ]
  },
  {
   "cell_type": "code",
   "execution_count": null,
   "id": "0cc323e6",
   "metadata": {},
   "outputs": [],
   "source": [
    "class DataLoaderX(DataLoader):\n",
    "    def __iter__(self):\n",
    "        return BackgroundGenerator(super().__iter__())\n",
    "#ANN\n",
    "class ANN(nn.Module):\n",
    "    def __init__(self,d1,hidden_size,d2):\n",
    "        super(ANN,self).__init__()\n",
    "        self.ann=nn.Sequential(nn.BatchNorm1d(d1,momentum=0.5),\n",
    "                               nn.Linear(d1,hidden_size),\n",
    "                               nn.LeakyReLU(),\n",
    "                               nn.BatchNorm1d(hidden_size,momentum=0.5),\n",
    "                               nn.Linear(hidden_size,d2),\n",
    "                               nn.LeakyReLU()\n",
    "                              )\n",
    "    def forward(self,x):\n",
    "        x = self.ann(x)\n",
    "        return x\n",
    "#训练模型\n",
    "def anntrain(args):\n",
    "    model=ANN(d1=args['d1'],hidden_size=args['hidden_size'],d2=args['d2']).to(device)\n",
    "    criterion=nn.CrossEntropyLoss().to(device)\n",
    "    optimizer=AdamW(model.parameters(),lr=args['learning_rate'],weight_decay=args['weight_decay'])\n",
    "    scheduler=LambdaLR(optimizer,verbose=False,lr_lambda=lambda epoch:1/(epoch/100+1))\n",
    "    train_loader=DataLoader(dataset=train_data,batch_size=len(x_train),\n",
    "                                  shuffle=True,num_workers=0)\n",
    "    history1=hl.History()\n",
    "    canvas1=hl.Canvas()\n",
    "    best_acc=0\n",
    "    for epoch in tqdm(range(args['epoches'])):\n",
    "        for step,(batch_x,batch_y) in enumerate(train_loader):\n",
    "            #输出层与标签之间的误差    \n",
    "            model.train()\n",
    "            prediction=model(batch_x)\n",
    "            loss=criterion(prediction,batch_y)\n",
    "            optimizer.zero_grad()\n",
    "            loss.backward()\n",
    "            optimizer.step()\n",
    "            #记录误差曲线和acc曲线\n",
    "            steps=epoch*len(train_loader)+step+1\n",
    "            if steps%25==0:\n",
    "                test_acc=score_model(x_test_tensor,y_test_tensor,model)\n",
    "                best_acc=test_acc if test_acc>best_acc else best_acc\n",
    "                history1.log(steps,train_loss=loss.item(),test_accuracy=test_acc)\n",
    "        scheduler.step()\n",
    "    with canvas1:\n",
    "        canvas1.draw_plot(history1['train_loss'])\n",
    "        canvas1.draw_plot(history1['test_accuracy'])\n",
    "    print('train_loss:%.4f'%loss.item())\n",
    "    print('test_acc:%.4f'%test_acc)\n",
    "    print('best_acc:%.4f'%best_acc)\n",
    "    return model,best_acc\n",
    "#测试数据\n",
    "def run_model(data,model):\n",
    "    model.eval()\n",
    "    torch.no_grad()\n",
    "    prediction=model(data)\n",
    "    return prediction.detach()\n",
    "def score_model(x_tensor,label_tensor,model):\n",
    "    x=run_model(x_tensor,model)\n",
    "    x=torch.argmax(x,1).unsqueeze(1)\n",
    "    score=(x==label_tensor).sum().item()/len(x)\n",
    "    return score"
   ]
  },
  {
   "cell_type": "code",
   "execution_count": 6,
   "id": "6c8eb47c",
   "metadata": {
    "ExecuteTime": {
     "end_time": "2021-10-30T09:02:06.609720Z",
     "start_time": "2021-10-30T08:30:35.937483Z"
    },
    "collapsed": true
   },
   "outputs": [
    {
     "data": {
      "image/png": "[encoded data removed]",
      "text/plain": [
       "<Figure size 864x576 with 2 Axes>"
      ]
     },
     "metadata": {
      "needs_background": "light"
     },
     "output_type": "display_data"
    },
    {
     "name": "stdout",
     "output_type": "stream",
     "text": [
      "train_loss:0.2042\n",
      "test_acc:0.9421\n",
      "best_acc:0.9447\n",
      "train_acc: 0.9617360937889748\n",
      "acc: [0.9409417398244214, 0.9435242466573538, 0.9447216124526042]\n"
     ]
    },
    {
     "name": "stderr",
     "output_type": "stream",
     "text": [
      " 36%|███▌      | 1072/3000 [03:16<05:52,  5.46it/s]\n"
     ]
    },
    {
     "ename": "KeyboardInterrupt",
     "evalue": "",
     "output_type": "error",
     "traceback": [
      "\u001b[1;31m---------------------------------------------------------------------------\u001b[0m",
      "\u001b[1;31mKeyboardInterrupt\u001b[0m                         Traceback (most recent call last)",
      "\u001b[1;32m<ipython-input-6-d2e7de7a0bb4>\u001b[0m in \u001b[0;36m<module>\u001b[1;34m\u001b[0m\n\u001b[0;32m     37\u001b[0m         \u001b[0mtrain_data\u001b[0m\u001b[1;33m=\u001b[0m\u001b[0mData\u001b[0m\u001b[1;33m.\u001b[0m\u001b[0mTensorDataset\u001b[0m\u001b[1;33m(\u001b[0m\u001b[0mx_train_tensor\u001b[0m\u001b[1;33m,\u001b[0m\u001b[0my_train_tensor\u001b[0m\u001b[1;33m.\u001b[0m\u001b[0mlong\u001b[0m\u001b[1;33m(\u001b[0m\u001b[1;33m)\u001b[0m\u001b[1;33m.\u001b[0m\u001b[0msqueeze\u001b[0m\u001b[1;33m(\u001b[0m\u001b[1;33m)\u001b[0m\u001b[1;33m)\u001b[0m\u001b[1;33m\u001b[0m\u001b[1;33m\u001b[0m\u001b[0m\n\u001b[0;32m     38\u001b[0m         \u001b[0mparams\u001b[0m\u001b[1;33m[\u001b[0m\u001b[1;34m\"hidden_size\"\u001b[0m\u001b[1;33m]\u001b[0m\u001b[1;33m=\u001b[0m\u001b[0mhs\u001b[0m\u001b[1;33m\u001b[0m\u001b[1;33m\u001b[0m\u001b[0m\n\u001b[1;32m---> 39\u001b[1;33m         \u001b[0mannmodel\u001b[0m\u001b[1;33m,\u001b[0m\u001b[0mbest_acc\u001b[0m\u001b[1;33m=\u001b[0m\u001b[0manntrain\u001b[0m\u001b[1;33m(\u001b[0m\u001b[0mparams\u001b[0m\u001b[1;33m)\u001b[0m\u001b[1;33m\u001b[0m\u001b[1;33m\u001b[0m\u001b[0m\n\u001b[0m\u001b[0;32m     40\u001b[0m         \u001b[0mtrain_acc\u001b[0m\u001b[1;33m=\u001b[0m\u001b[0mscore_model\u001b[0m\u001b[1;33m(\u001b[0m\u001b[0mx_train_tensor\u001b[0m\u001b[1;33m,\u001b[0m\u001b[0my_train_tensor\u001b[0m\u001b[1;33m,\u001b[0m\u001b[0mannmodel\u001b[0m\u001b[1;33m)\u001b[0m\u001b[1;33m\u001b[0m\u001b[1;33m\u001b[0m\u001b[0m\n\u001b[0;32m     41\u001b[0m         \u001b[0mprint\u001b[0m\u001b[1;33m(\u001b[0m\u001b[1;34m'train_acc:'\u001b[0m\u001b[1;33m,\u001b[0m\u001b[0mtrain_acc\u001b[0m\u001b[1;33m)\u001b[0m\u001b[1;33m\u001b[0m\u001b[1;33m\u001b[0m\u001b[0m\n",
      "\u001b[1;32m<ipython-input-5-01c87fe67b08>\u001b[0m in \u001b[0;36manntrain\u001b[1;34m(args)\u001b[0m\n\u001b[0;32m     28\u001b[0m     \u001b[0mbest_acc\u001b[0m\u001b[1;33m=\u001b[0m\u001b[1;36m0\u001b[0m\u001b[1;33m\u001b[0m\u001b[1;33m\u001b[0m\u001b[0m\n\u001b[0;32m     29\u001b[0m     \u001b[1;32mfor\u001b[0m \u001b[0mepoch\u001b[0m \u001b[1;32min\u001b[0m \u001b[0mtqdm\u001b[0m\u001b[1;33m(\u001b[0m\u001b[0mrange\u001b[0m\u001b[1;33m(\u001b[0m\u001b[0margs\u001b[0m\u001b[1;33m[\u001b[0m\u001b[1;34m'epoches'\u001b[0m\u001b[1;33m]\u001b[0m\u001b[1;33m)\u001b[0m\u001b[1;33m)\u001b[0m\u001b[1;33m:\u001b[0m\u001b[1;33m\u001b[0m\u001b[1;33m\u001b[0m\u001b[0m\n\u001b[1;32m---> 30\u001b[1;33m         \u001b[1;32mfor\u001b[0m \u001b[0mstep\u001b[0m\u001b[1;33m,\u001b[0m\u001b[1;33m(\u001b[0m\u001b[0mbatch_x\u001b[0m\u001b[1;33m,\u001b[0m\u001b[0mbatch_y\u001b[0m\u001b[1;33m)\u001b[0m \u001b[1;32min\u001b[0m \u001b[0menumerate\u001b[0m\u001b[1;33m(\u001b[0m\u001b[0mtrain_loader\u001b[0m\u001b[1;33m)\u001b[0m\u001b[1;33m:\u001b[0m\u001b[1;33m\u001b[0m\u001b[1;33m\u001b[0m\u001b[0m\n\u001b[0m\u001b[0;32m     31\u001b[0m             \u001b[1;31m#输出层与标签之间的误差\u001b[0m\u001b[1;33m\u001b[0m\u001b[1;33m\u001b[0m\u001b[1;33m\u001b[0m\u001b[0m\n\u001b[0;32m     32\u001b[0m             \u001b[0mmodel\u001b[0m\u001b[1;33m.\u001b[0m\u001b[0mtrain\u001b[0m\u001b[1;33m(\u001b[0m\u001b[1;33m)\u001b[0m\u001b[1;33m\u001b[0m\u001b[1;33m\u001b[0m\u001b[0m\n",
      "\u001b[1;32mE:\\Anaconda3\\lib\\site-packages\\torch\\utils\\data\\dataloader.py\u001b[0m in \u001b[0;36m__next__\u001b[1;34m(self)\u001b[0m\n\u001b[0;32m    519\u001b[0m             \u001b[1;32mif\u001b[0m \u001b[0mself\u001b[0m\u001b[1;33m.\u001b[0m\u001b[0m_sampler_iter\u001b[0m \u001b[1;32mis\u001b[0m \u001b[1;32mNone\u001b[0m\u001b[1;33m:\u001b[0m\u001b[1;33m\u001b[0m\u001b[1;33m\u001b[0m\u001b[0m\n\u001b[0;32m    520\u001b[0m                 \u001b[0mself\u001b[0m\u001b[1;33m.\u001b[0m\u001b[0m_reset\u001b[0m\u001b[1;33m(\u001b[0m\u001b[1;33m)\u001b[0m\u001b[1;33m\u001b[0m\u001b[1;33m\u001b[0m\u001b[0m\n\u001b[1;32m--> 521\u001b[1;33m             \u001b[0mdata\u001b[0m \u001b[1;33m=\u001b[0m \u001b[0mself\u001b[0m\u001b[1;33m.\u001b[0m\u001b[0m_next_data\u001b[0m\u001b[1;33m(\u001b[0m\u001b[1;33m)\u001b[0m\u001b[1;33m\u001b[0m\u001b[1;33m\u001b[0m\u001b[0m\n\u001b[0m\u001b[0;32m    522\u001b[0m             \u001b[0mself\u001b[0m\u001b[1;33m.\u001b[0m\u001b[0m_num_yielded\u001b[0m \u001b[1;33m+=\u001b[0m \u001b[1;36m1\u001b[0m\u001b[1;33m\u001b[0m\u001b[1;33m\u001b[0m\u001b[0m\n\u001b[0;32m    523\u001b[0m             \u001b[1;32mif\u001b[0m \u001b[0mself\u001b[0m\u001b[1;33m.\u001b[0m\u001b[0m_dataset_kind\u001b[0m \u001b[1;33m==\u001b[0m \u001b[0m_DatasetKind\u001b[0m\u001b[1;33m.\u001b[0m\u001b[0mIterable\u001b[0m \u001b[1;32mand\u001b[0m\u001b[0;31m \u001b[0m\u001b[0;31m\\\u001b[0m\u001b[1;33m\u001b[0m\u001b[1;33m\u001b[0m\u001b[0m\n",
      "\u001b[1;32mE:\\Anaconda3\\lib\\site-packages\\torch\\utils\\data\\dataloader.py\u001b[0m in \u001b[0;36m_next_data\u001b[1;34m(self)\u001b[0m\n\u001b[0;32m    559\u001b[0m     \u001b[1;32mdef\u001b[0m \u001b[0m_next_data\u001b[0m\u001b[1;33m(\u001b[0m\u001b[0mself\u001b[0m\u001b[1;33m)\u001b[0m\u001b[1;33m:\u001b[0m\u001b[1;33m\u001b[0m\u001b[1;33m\u001b[0m\u001b[0m\n\u001b[0;32m    560\u001b[0m         \u001b[0mindex\u001b[0m \u001b[1;33m=\u001b[0m \u001b[0mself\u001b[0m\u001b[1;33m.\u001b[0m\u001b[0m_next_index\u001b[0m\u001b[1;33m(\u001b[0m\u001b[1;33m)\u001b[0m  \u001b[1;31m# may raise StopIteration\u001b[0m\u001b[1;33m\u001b[0m\u001b[1;33m\u001b[0m\u001b[0m\n\u001b[1;32m--> 561\u001b[1;33m         \u001b[0mdata\u001b[0m \u001b[1;33m=\u001b[0m \u001b[0mself\u001b[0m\u001b[1;33m.\u001b[0m\u001b[0m_dataset_fetcher\u001b[0m\u001b[1;33m.\u001b[0m\u001b[0mfetch\u001b[0m\u001b[1;33m(\u001b[0m\u001b[0mindex\u001b[0m\u001b[1;33m)\u001b[0m  \u001b[1;31m# may raise StopIteration\u001b[0m\u001b[1;33m\u001b[0m\u001b[1;33m\u001b[0m\u001b[0m\n\u001b[0m\u001b[0;32m    562\u001b[0m         \u001b[1;32mif\u001b[0m \u001b[0mself\u001b[0m\u001b[1;33m.\u001b[0m\u001b[0m_pin_memory\u001b[0m\u001b[1;33m:\u001b[0m\u001b[1;33m\u001b[0m\u001b[1;33m\u001b[0m\u001b[0m\n\u001b[0;32m    563\u001b[0m             \u001b[0mdata\u001b[0m \u001b[1;33m=\u001b[0m \u001b[0m_utils\u001b[0m\u001b[1;33m.\u001b[0m\u001b[0mpin_memory\u001b[0m\u001b[1;33m.\u001b[0m\u001b[0mpin_memory\u001b[0m\u001b[1;33m(\u001b[0m\u001b[0mdata\u001b[0m\u001b[1;33m)\u001b[0m\u001b[1;33m\u001b[0m\u001b[1;33m\u001b[0m\u001b[0m\n",
      "\u001b[1;32mE:\\Anaconda3\\lib\\site-packages\\torch\\utils\\data\\_utils\\fetch.py\u001b[0m in \u001b[0;36mfetch\u001b[1;34m(self, possibly_batched_index)\u001b[0m\n\u001b[0;32m     45\u001b[0m         \u001b[1;32melse\u001b[0m\u001b[1;33m:\u001b[0m\u001b[1;33m\u001b[0m\u001b[1;33m\u001b[0m\u001b[0m\n\u001b[0;32m     46\u001b[0m             \u001b[0mdata\u001b[0m \u001b[1;33m=\u001b[0m \u001b[0mself\u001b[0m\u001b[1;33m.\u001b[0m\u001b[0mdataset\u001b[0m\u001b[1;33m[\u001b[0m\u001b[0mpossibly_batched_index\u001b[0m\u001b[1;33m]\u001b[0m\u001b[1;33m\u001b[0m\u001b[1;33m\u001b[0m\u001b[0m\n\u001b[1;32m---> 47\u001b[1;33m         \u001b[1;32mreturn\u001b[0m \u001b[0mself\u001b[0m\u001b[1;33m.\u001b[0m\u001b[0mcollate_fn\u001b[0m\u001b[1;33m(\u001b[0m\u001b[0mdata\u001b[0m\u001b[1;33m)\u001b[0m\u001b[1;33m\u001b[0m\u001b[1;33m\u001b[0m\u001b[0m\n\u001b[0m",
      "\u001b[1;32mE:\\Anaconda3\\lib\\site-packages\\torch\\utils\\data\\_utils\\collate.py\u001b[0m in \u001b[0;36mdefault_collate\u001b[1;34m(batch)\u001b[0m\n\u001b[0;32m     82\u001b[0m             \u001b[1;32mraise\u001b[0m \u001b[0mRuntimeError\u001b[0m\u001b[1;33m(\u001b[0m\u001b[1;34m'each element in list of batch should be of equal size'\u001b[0m\u001b[1;33m)\u001b[0m\u001b[1;33m\u001b[0m\u001b[1;33m\u001b[0m\u001b[0m\n\u001b[0;32m     83\u001b[0m         \u001b[0mtransposed\u001b[0m \u001b[1;33m=\u001b[0m \u001b[0mzip\u001b[0m\u001b[1;33m(\u001b[0m\u001b[1;33m*\u001b[0m\u001b[0mbatch\u001b[0m\u001b[1;33m)\u001b[0m\u001b[1;33m\u001b[0m\u001b[1;33m\u001b[0m\u001b[0m\n\u001b[1;32m---> 84\u001b[1;33m         \u001b[1;32mreturn\u001b[0m \u001b[1;33m[\u001b[0m\u001b[0mdefault_collate\u001b[0m\u001b[1;33m(\u001b[0m\u001b[0msamples\u001b[0m\u001b[1;33m)\u001b[0m \u001b[1;32mfor\u001b[0m \u001b[0msamples\u001b[0m \u001b[1;32min\u001b[0m \u001b[0mtransposed\u001b[0m\u001b[1;33m]\u001b[0m\u001b[1;33m\u001b[0m\u001b[1;33m\u001b[0m\u001b[0m\n\u001b[0m\u001b[0;32m     85\u001b[0m \u001b[1;33m\u001b[0m\u001b[0m\n\u001b[0;32m     86\u001b[0m     \u001b[1;32mraise\u001b[0m \u001b[0mTypeError\u001b[0m\u001b[1;33m(\u001b[0m\u001b[0mdefault_collate_err_msg_format\u001b[0m\u001b[1;33m.\u001b[0m\u001b[0mformat\u001b[0m\u001b[1;33m(\u001b[0m\u001b[0melem_type\u001b[0m\u001b[1;33m)\u001b[0m\u001b[1;33m)\u001b[0m\u001b[1;33m\u001b[0m\u001b[1;33m\u001b[0m\u001b[0m\n",
      "\u001b[1;32mE:\\Anaconda3\\lib\\site-packages\\torch\\utils\\data\\_utils\\collate.py\u001b[0m in \u001b[0;36m<listcomp>\u001b[1;34m(.0)\u001b[0m\n\u001b[0;32m     82\u001b[0m             \u001b[1;32mraise\u001b[0m \u001b[0mRuntimeError\u001b[0m\u001b[1;33m(\u001b[0m\u001b[1;34m'each element in list of batch should be of equal size'\u001b[0m\u001b[1;33m)\u001b[0m\u001b[1;33m\u001b[0m\u001b[1;33m\u001b[0m\u001b[0m\n\u001b[0;32m     83\u001b[0m         \u001b[0mtransposed\u001b[0m \u001b[1;33m=\u001b[0m \u001b[0mzip\u001b[0m\u001b[1;33m(\u001b[0m\u001b[1;33m*\u001b[0m\u001b[0mbatch\u001b[0m\u001b[1;33m)\u001b[0m\u001b[1;33m\u001b[0m\u001b[1;33m\u001b[0m\u001b[0m\n\u001b[1;32m---> 84\u001b[1;33m         \u001b[1;32mreturn\u001b[0m \u001b[1;33m[\u001b[0m\u001b[0mdefault_collate\u001b[0m\u001b[1;33m(\u001b[0m\u001b[0msamples\u001b[0m\u001b[1;33m)\u001b[0m \u001b[1;32mfor\u001b[0m \u001b[0msamples\u001b[0m \u001b[1;32min\u001b[0m \u001b[0mtransposed\u001b[0m\u001b[1;33m]\u001b[0m\u001b[1;33m\u001b[0m\u001b[1;33m\u001b[0m\u001b[0m\n\u001b[0m\u001b[0;32m     85\u001b[0m \u001b[1;33m\u001b[0m\u001b[0m\n\u001b[0;32m     86\u001b[0m     \u001b[1;32mraise\u001b[0m \u001b[0mTypeError\u001b[0m\u001b[1;33m(\u001b[0m\u001b[0mdefault_collate_err_msg_format\u001b[0m\u001b[1;33m.\u001b[0m\u001b[0mformat\u001b[0m\u001b[1;33m(\u001b[0m\u001b[0melem_type\u001b[0m\u001b[1;33m)\u001b[0m\u001b[1;33m)\u001b[0m\u001b[1;33m\u001b[0m\u001b[1;33m\u001b[0m\u001b[0m\n",
      "\u001b[1;32mE:\\Anaconda3\\lib\\site-packages\\torch\\utils\\data\\_utils\\collate.py\u001b[0m in \u001b[0;36mdefault_collate\u001b[1;34m(batch)\u001b[0m\n\u001b[0;32m     54\u001b[0m             \u001b[0mstorage\u001b[0m \u001b[1;33m=\u001b[0m \u001b[0melem\u001b[0m\u001b[1;33m.\u001b[0m\u001b[0mstorage\u001b[0m\u001b[1;33m(\u001b[0m\u001b[1;33m)\u001b[0m\u001b[1;33m.\u001b[0m\u001b[0m_new_shared\u001b[0m\u001b[1;33m(\u001b[0m\u001b[0mnumel\u001b[0m\u001b[1;33m)\u001b[0m\u001b[1;33m\u001b[0m\u001b[1;33m\u001b[0m\u001b[0m\n\u001b[0;32m     55\u001b[0m             \u001b[0mout\u001b[0m \u001b[1;33m=\u001b[0m \u001b[0melem\u001b[0m\u001b[1;33m.\u001b[0m\u001b[0mnew\u001b[0m\u001b[1;33m(\u001b[0m\u001b[0mstorage\u001b[0m\u001b[1;33m)\u001b[0m\u001b[1;33m\u001b[0m\u001b[1;33m\u001b[0m\u001b[0m\n\u001b[1;32m---> 56\u001b[1;33m         \u001b[1;32mreturn\u001b[0m \u001b[0mtorch\u001b[0m\u001b[1;33m.\u001b[0m\u001b[0mstack\u001b[0m\u001b[1;33m(\u001b[0m\u001b[0mbatch\u001b[0m\u001b[1;33m,\u001b[0m \u001b[1;36m0\u001b[0m\u001b[1;33m,\u001b[0m \u001b[0mout\u001b[0m\u001b[1;33m=\u001b[0m\u001b[0mout\u001b[0m\u001b[1;33m)\u001b[0m\u001b[1;33m\u001b[0m\u001b[1;33m\u001b[0m\u001b[0m\n\u001b[0m\u001b[0;32m     57\u001b[0m     \u001b[1;32melif\u001b[0m \u001b[0melem_type\u001b[0m\u001b[1;33m.\u001b[0m\u001b[0m__module__\u001b[0m \u001b[1;33m==\u001b[0m \u001b[1;34m'numpy'\u001b[0m \u001b[1;32mand\u001b[0m \u001b[0melem_type\u001b[0m\u001b[1;33m.\u001b[0m\u001b[0m__name__\u001b[0m \u001b[1;33m!=\u001b[0m \u001b[1;34m'str_'\u001b[0m\u001b[0;31m \u001b[0m\u001b[0;31m\\\u001b[0m\u001b[1;33m\u001b[0m\u001b[1;33m\u001b[0m\u001b[0m\n\u001b[0;32m     58\u001b[0m             \u001b[1;32mand\u001b[0m \u001b[0melem_type\u001b[0m\u001b[1;33m.\u001b[0m\u001b[0m__name__\u001b[0m \u001b[1;33m!=\u001b[0m \u001b[1;34m'string_'\u001b[0m\u001b[1;33m:\u001b[0m\u001b[1;33m\u001b[0m\u001b[1;33m\u001b[0m\u001b[0m\n",
      "\u001b[1;31mKeyboardInterrupt\u001b[0m: "
     ]
    }
   ],
   "source": [
    "#读取模型数据\n",
    "sample=pd.read_csv(local_path+'\\\\blokagedata\\\\Sample.csv',header=0)\n",
    "#划分样本和标签\n",
    "x=np.array(sample.iloc[:,range(0,96)])#.astype(int)\n",
    "y=np.array(sample.loc[:,'code']).reshape(-1,1).astype(int)\n",
    "#训练模型\n",
    "params={\n",
    "\"d1\":96,\n",
    "\"hidden_size\": 200,\n",
    "\"d2\":117,\n",
    "\"hidden_size_range_1\":200,\n",
    "\"hidden_size_range_2\":201,\n",
    "\"search_step\":1,\n",
    "\"learning_rate\":0.01,\n",
    "\"epoches\":3000,\n",
    "\"weight_decay\":0.01\n",
    "}\n",
    "skf = StratifiedKFold(n_splits=5,shuffle=True,random_state=1)\n",
    "score_record=[]\n",
    "hs_record=[]\n",
    "hs1=params[\"hidden_size_range_1\"]\n",
    "hs2=params[\"hidden_size_range_2\"]\n",
    "sstep=params[\"search_step\"]\n",
    "for hs in range(hs1,hs2,sstep):\n",
    "    acc=[]\n",
    "    for train_index, test_index in skf.split(x,y):\n",
    "        x_train, x_test = x[train_index], x[test_index]\n",
    "        y_train, y_test = y[train_index], y[test_index]\n",
    "        #qt\n",
    "        qt = QuantileTransformer(output_distribution = 'uniform' )\n",
    "        x_train = qt.fit_transform(x_train)\n",
    "        x_test = qt.transform(x_test)\n",
    "        #numpy转为张量\n",
    "        x_train_tensor=torch.from_numpy(x_train).float().to(device)\n",
    "        y_train_tensor=torch.from_numpy(y_train).to(device)\n",
    "        x_test_tensor=torch.from_numpy(x_test).float().to(device)\n",
    "        y_test_tensor=torch.from_numpy(y_test).to(device)\n",
    "        train_data=Data.TensorDataset(x_train_tensor,y_train_tensor.long().squeeze())\n",
    "        params[\"hidden_size\"]=hs\n",
    "        annmodel,best_acc=anntrain(params)\n",
    "        train_acc=score_model(x_train_tensor,y_train_tensor,annmodel)\n",
    "        print('train_acc:',train_acc)\n",
    "        acc.append(best_acc)\n",
    "        print('acc:',acc)\n",
    "    ave_score=np.mean(acc)\n",
    "    print('ave_acc',ave_score)\n",
    "    score_record.append(ave_score)\n",
    "    hs_record.append(hs)\n",
    "    print('score_record:',score_record)\n",
    "    print('hs_record:',hs_record)"
   ]
  },
  {
   "cell_type": "markdown",
   "id": "0047021e",
   "metadata": {},
   "source": [
    "## 训练sklearn模型"
   ]
  },
  {
   "cell_type": "markdown",
   "id": "e4fb5d42",
   "metadata": {},
   "source": [
    "### import"
   ]
  },
  {
   "cell_type": "code",
   "execution_count": 1,
   "id": "1fd339a9",
   "metadata": {
    "ExecuteTime": {
     "end_time": "2021-12-25T15:33:02.977344Z",
     "start_time": "2021-12-25T15:33:00.986617Z"
    }
   },
   "outputs": [],
   "source": [
    "import pandas as pd\n",
    "import numpy as np\n",
    "from tqdm import tqdm\n",
    "import os\n",
    "import matplotlib\n",
    "import matplotlib.pyplot as plt \n",
    "from sklearn.model_selection import train_test_split,RandomizedSearchCV,StratifiedKFold,cross_validate\n",
    "from sklearn.decomposition import PCA\n",
    "from sklearn.preprocessing import QuantileTransformer\n",
    "from sklearn.metrics import accuracy_score,confusion_matrix\n",
    "from sklearn.pipeline import Pipeline\n",
    "from scipy.stats import loguniform,uniform,randint\n",
    "from sklearn.svm import SVC\n",
    "from sklearn.ensemble import RandomForestClassifier\n",
    "from sklearn.neighbors import KNeighborsClassifier"
   ]
  },
  {
   "cell_type": "code",
   "execution_count": null,
   "id": "16fc2a97",
   "metadata": {},
   "outputs": [],
   "source": [
    "#准备文件夹保存数据\n",
    "local_path=os.getcwd()\n",
    "if not os.path.exists(local_path+'\\\\blokagedata'):\n",
    "    os.mkdir(local_path+'\\\\blokagedata')\n",
    "print(local_path+'\\\\blokagedata')\n",
    "#读取模型数据\n",
    "sample=pd.read_csv(local_path+'\\\\blokagedata\\\\Sample.csv',header=0)\n",
    "#改个名字\n",
    "s=np.array(sample)\n",
    "x=s[:,range(0,96)]#.astype(int)\n",
    "y=np.array(sample.loc[:,'code']).reshape(-1,1).astype(int)"
   ]
  },
  {
   "cell_type": "markdown",
   "id": "05ee352b",
   "metadata": {},
   "source": [
    "### SVM"
   ]
  },
  {
   "cell_type": "code",
   "execution_count": null,
   "id": "358ccc8a",
   "metadata": {},
   "outputs": [],
   "source": [
    "param_dist = {'svc__C': loguniform(1e2, 1e7),\n",
    " 'svc__gamma': loguniform(1e-4, 1e0)}"
   ]
  },
  {
   "cell_type": "code",
   "execution_count": 2,
   "id": "66004a83",
   "metadata": {
    "ExecuteTime": {
     "end_time": "2021-09-24T02:23:49.094272Z",
     "start_time": "2021-09-24T02:22:17.290038Z"
    }
   },
   "outputs": [
    {
     "name": "stderr",
     "output_type": "stream",
     "text": [
      "E:\\Anaconda3\\lib\\site-packages\\sklearn\\model_selection\\_search.py:285: UserWarning: The total space of parameters 1 is smaller than n_iter=500. Running 1 iterations. For exhaustive searches, use GridSearchCV.\n",
      "  warnings.warn(\n"
     ]
    },
    {
     "name": "stdout",
     "output_type": "stream",
     "text": [
      "Fitting 5 folds for each of 1 candidates, totalling 5 fits\n"
     ]
    }
   ],
   "source": [
    "pipe = Pipeline([('scaler', QuantileTransformer(output_distribution = 'uniform')), ('svc', SVC(decision_function_shape='ovr',kernel='rbf'))])\n",
    "param_dist = {'svc__C': [1010000],\n",
    " 'svc__gamma': [0.02]}\n",
    "splitter=StratifiedKFold(n_splits=5,random_state=1,shuffle=True)\n",
    "clf = RandomizedSearchCV(estimator=pipe,param_distributions=param_dist,n_iter=500,cv=splitter,random_state=1,n_jobs=-1,scoring='accuracy',verbose=3)\n",
    "search = clf.fit(x, y.ravel())"
   ]
  },
  {
   "cell_type": "code",
   "execution_count": 4,
   "id": "5c65c474",
   "metadata": {
    "ExecuteTime": {
     "end_time": "2021-09-24T02:24:52.476763Z",
     "start_time": "2021-09-24T02:24:52.466774Z"
    }
   },
   "outputs": [
    {
     "name": "stdout",
     "output_type": "stream",
     "text": [
      "网格搜索-度量记录： {'mean_fit_time': array([28.48837609]), 'std_fit_time': array([0.97876752]), 'mean_score_time': array([14.85825715]), 'std_score_time': array([6.29509682]), 'param_svc__gamma': masked_array(data=[0.02],\n",
      "             mask=[False],\n",
      "       fill_value='?',\n",
      "            dtype=object), 'param_svc__C': masked_array(data=[1010000],\n",
      "             mask=[False],\n",
      "       fill_value='?',\n",
      "            dtype=object), 'params': [{'svc__gamma': 0.02, 'svc__C': 1010000}], 'split0_test_score': array([0.94313647]), 'split1_test_score': array([0.94571942]), 'split2_test_score': array([0.95210537]), 'split3_test_score': array([0.94152864]), 'split4_test_score': array([0.95050888]), 'mean_test_score': array([0.94659976]), 'std_test_score': array([0.0041007]), 'rank_test_score': array([1])}\n",
      "网格搜索-最佳度量值: 0.9465997550799254\n",
      "网格搜索-最佳参数： {'svc__gamma': 0.02, 'svc__C': 1010000}\n",
      "网格搜索-最佳模型： Pipeline(steps=[('scaler', QuantileTransformer()),\n",
      "                ('svc', SVC(C=1010000, gamma=0.02))])\n"
     ]
    }
   ],
   "source": [
    "print('网格搜索-度量记录：',search.cv_results_)  # 包含每次训练的相关信息\n",
    "print('网格搜索-最佳度量值:',search.best_score_)  # 获取最佳度量值\n",
    "print('网格搜索-最佳参数：',search.best_params_)  # 获取最佳度量值时的代定参数的值。是一个字典\n",
    "print('网格搜索-最佳模型：',search.best_estimator_)  # 获取最佳度量时的分类器模型"
   ]
  },
  {
   "cell_type": "code",
   "execution_count": null,
   "id": "4e24e8e3",
   "metadata": {},
   "outputs": [],
   "source": [
    "xx=search.cv_results_['param_svc__C'].data.astype(float)\n",
    "yy=search.cv_results_['param_svc__gamma'].data.astype(float)\n",
    "zz=search.cv_results_['mean_test_score'].astype(float)\n",
    "xx=np.expand_dims(xx,axis=1)\n",
    "yy=np.expand_dims(yy,axis=1)\n",
    "zz=np.expand_dims(zz,axis=1)\n",
    "print(xx.shape)\n",
    "print(yy.shape)\n",
    "print(zz.shape)\n",
    "# pd.DataFrame(np.hstack((xx,yy,zz))).to_csv(local_path+'\\\\blokagedata\\\\svm_finetune_500.csv',encoding='ascii',index=False)"
   ]
  },
  {
   "cell_type": "code",
   "execution_count": 23,
   "id": "f4d7e36f",
   "metadata": {
    "ExecuteTime": {
     "end_time": "2021-09-24T03:19:57.461702Z",
     "start_time": "2021-09-24T03:19:10.356459Z"
    }
   },
   "outputs": [],
   "source": [
    "X_train,X_test,y_train,y_test=train_test_split(s,y,test_size=0.2,random_state=1,stratify=y)\n",
    "qt=QuantileTransformer(output_distribution = 'uniform')\n",
    "x_train=X_train[:,range(0,96)]\n",
    "x_test=X_test[:,range(0,96)]\n",
    "x_train=qt.fit_transform(x_train)\n",
    "x_test=qt.transform(x_test)\n",
    "clf=SVC(decision_function_shape='ovr',kernel='rbf',C=1010000,gamma=0.02)\n",
    "clf.fit(x_train,y_train.ravel())\n",
    "score=clf.score(x_test,y_test.ravel())\n",
    "y_pre=clf.predict(x_test)\n",
    "cm=pd.DataFrame(confusion_matrix(y_test.ravel(),y_pre))\n",
    "cm.to_csv(local_path+'\\\\blokagedata\\\\svm_cm.csv',encoding='ascii',index=True)"
   ]
  },
  {
   "cell_type": "code",
   "execution_count": 49,
   "id": "b7a84878",
   "metadata": {
    "ExecuteTime": {
     "end_time": "2021-09-24T03:33:02.776910Z",
     "start_time": "2021-09-24T03:33:02.758988Z"
    }
   },
   "outputs": [],
   "source": [
    "fo=X_test[:,range(96,99)]\n",
    "wrong=fo[y_pre!=y_test.ravel()]\n",
    "w=pd.DataFrame(wrong.astype(int))\n",
    "wl=pd.DataFrame(y_pre[y_pre!=y_test.ravel()])\n",
    "a=pd.concat([wl,w],axis=1)\n",
    "a.columns=['pred','true','dn','time']\n",
    "# a.to_csv(local_path+'\\\\blokagedata\\\\svm_wrong.csv',encoding='ascii',index=True)"
   ]
  },
  {
   "cell_type": "markdown",
   "id": "da243666",
   "metadata": {},
   "source": [
    "### RandomForest"
   ]
  },
  {
   "cell_type": "code",
   "execution_count": null,
   "id": "7240a41b",
   "metadata": {},
   "outputs": [],
   "source": [
    "pipe = Pipeline([('scaler', QuantileTransformer(output_distribution = 'uniform')), ('rfc', RandomForestClassifier(criterion='gini',))])\n",
    "param_dist = {'rfc__n_estimators': randint(10, 500),\n",
    " 'rfc__min_samples_split': randint(2, 1000),\n",
    " 'rfc__max_depth': randint(2, 100)}\n",
    "splitter=StratifiedKFold(n_splits=5,random_state=1,shuffle=True)\n",
    "clf = RandomizedSearchCV(estimator=pipe,param_distributions=param_dist,n_iter=10,cv=splitter,random_state=11,n_jobs=-1,scoring='accuracy',verbose=3)\n",
    "search = clf.fit(x, y.ravel())"
   ]
  },
  {
   "cell_type": "code",
   "execution_count": null,
   "id": "e7fbc403",
   "metadata": {},
   "outputs": [],
   "source": [
    "print('网格搜索-度量记录：',search.cv_results_)  # 包含每次训练的相关信息\n",
    "print('网格搜索-最佳度量值:',search.best_score_)  # 获取最佳度量值\n",
    "print('网格搜索-最佳参数：',search.best_params_)  # 获取最佳度量值时的代定参数的值。是一个字典\n",
    "print('网格搜索-最佳模型：',search.best_estimator_)  # 获取最佳度量时的分类器模型"
   ]
  },
  {
   "cell_type": "code",
   "execution_count": null,
   "id": "944949a0",
   "metadata": {},
   "outputs": [],
   "source": [
    "q1=search.cv_results_['param_rfc__n_estimators'].data.astype(int)\n",
    "q2=search.cv_results_['param_rfc__min_samples_split'].data.astype(int)\n",
    "q3=search.cv_results_['param_rfc__max_depth'].data.astype(int)\n",
    "zz=search.cv_results_['mean_test_score'].astype(float)\n",
    "q1=np.expand_dims(q1,axis=1)\n",
    "q2=np.expand_dims(q2,axis=1)\n",
    "q3=np.expand_dims(q3,axis=1)\n",
    "zz=np.expand_dims(zz,axis=1)\n",
    "print(q1.shape)\n",
    "print(q2.shape)\n",
    "print(q3.shape)\n",
    "print(zz.shape)\n",
    "pd.DataFrame(np.hstack((q1,q2,q3,zz))).to_csv(local_path+'\\\\blokagedata\\\\rfc_finetune.csv',encoding='ascii',index=False)"
   ]
  },
  {
   "cell_type": "code",
   "execution_count": null,
   "id": "d520af30",
   "metadata": {},
   "outputs": [],
   "source": [
    "ave=[]\n",
    "m=[]\n",
    "for n in tqdm(range(50,150,10)):\n",
    "    rfc=RandomForestClassifier(n_estimators=n,criterion='gini',max_depth=None,min_samples_split=2,n_jobs=-1)\n",
    "    scores = cross_validate(rfc, x, y.ravel(), cv=splitter,scoring=('accuracy'),return_train_score=True,n_jobs=-1)\n",
    "    m.append(n)\n",
    "    ave.append(np.mean(scores['test_score']))"
   ]
  },
  {
   "cell_type": "code",
   "execution_count": null,
   "id": "7d17dd03",
   "metadata": {},
   "outputs": [],
   "source": [
    "rfc=RandomForestClassifier(n_estimators=150,criterion='gini',max_depth=None,min_samples_split=2,n_jobs=-1)\n",
    "rfc.fit(x_train,y_train.ravel())\n",
    "score=rfc.score(x_test,y_test.ravel())\n",
    "print('rfc:',score)"
   ]
  },
  {
   "cell_type": "markdown",
   "id": "f0d61767",
   "metadata": {},
   "source": [
    "### KNN"
   ]
  },
  {
   "cell_type": "code",
   "execution_count": null,
   "id": "b6975a53",
   "metadata": {},
   "outputs": [],
   "source": [
    "pipe = Pipeline([('scaler', QuantileTransformer(output_distribution = 'uniform')), ('knn', KNeighborsClassifier())])\n",
    "param_dist = {'knn__n_neighbors': [1]}\n",
    "splitter=StratifiedKFold(n_splits=5,random_state=1,shuffle=True)\n",
    "clf = RandomizedSearchCV(estimator=pipe,param_distributions=param_dist,n_iter=9,cv=splitter,random_state=1,n_jobs=-1,scoring='accuracy',verbose=3)\n",
    "search = clf.fit(x, y.ravel())"
   ]
  },
  {
   "cell_type": "code",
   "execution_count": null,
   "id": "82b77944",
   "metadata": {},
   "outputs": [],
   "source": [
    "print('网格搜索-度量记录：',search.cv_results_)  # 包含每次训练的相关信息\n",
    "print('网格搜索-最佳度量值:',search.best_score_)  # 获取最佳度量值\n",
    "print('网格搜索-最佳参数：',search.best_params_)  # 获取最佳度量值时的代定参数的值。是一个字典\n",
    "print('网格搜索-最佳模型：',search.best_estimator_)  # 获取最佳度量时的分类器模型"
   ]
  },
  {
   "cell_type": "code",
   "execution_count": null,
   "id": "276d9e33",
   "metadata": {},
   "outputs": [],
   "source": [
    "ave=[]\n",
    "m=[]\n",
    "for n in range(1,11):\n",
    "    knn=KNeighborsClassifier(n_neighbors=n, weights='distance',metric='minkowski', p=2)\n",
    "    scores = cross_validate(knn, x, y.ravel(), cv=splitter,scoring=('accuracy'),return_train_score=True,n_jobs=-1)\n",
    "    m.append(n)\n",
    "    ave.append(np.mean(scores['test_score']))"
   ]
  },
  {
   "cell_type": "code",
   "execution_count": null,
   "id": "26ad8a04",
   "metadata": {},
   "outputs": [],
   "source": [
    "knn=KNeighborsClassifier(n_neighbors=2, weights='distance',metric='minkowski', p=2)\n",
    "scores = cross_validate(knn, x, y.ravel(), cv=splitter,scoring=('accuracy'),return_train_score=True,n_jobs=-1)"
   ]
  },
  {
   "cell_type": "code",
   "execution_count": null,
   "id": "aac1ba03",
   "metadata": {},
   "outputs": [],
   "source": [
    "x_train,x_test,y_train,y_test=train_test_split(x,y,test_size=0.2,random_state=123,stratify=y)\n",
    "knn=KNeighborsClassifier(n_neighbors=1, weights='distance',metric='minkowski', p=2)\n",
    "knn.fit(x_train,y_train.ravel())\n",
    "score=knn.score(x_test,y_test.ravel())\n",
    "print('knn:',score)"
   ]
  },
  {
   "cell_type": "markdown",
   "id": "16a34bb5",
   "metadata": {},
   "source": [
    "## 训练结果分析"
   ]
  },
  {
   "cell_type": "code",
   "execution_count": null,
   "id": "4896dc22",
   "metadata": {},
   "outputs": [],
   "source": [
    "#按三个变量各自分析"
   ]
  },
  {
   "cell_type": "markdown",
   "id": "07273a51",
   "metadata": {},
   "source": [
    "# 思路1（117）"
   ]
  },
  {
   "cell_type": "code",
   "execution_count": null,
   "id": "617d915f",
   "metadata": {},
   "outputs": [],
   "source": [
    "训练13579管径\n",
    "测试2468管径"
   ]
  },
  {
   "cell_type": "markdown",
   "id": "ffe29eab",
   "metadata": {},
   "source": [
    "## ANN"
   ]
  },
  {
   "cell_type": "code",
   "execution_count": 7,
   "id": "16bc60c6",
   "metadata": {
    "ExecuteTime": {
     "end_time": "2021-10-26T15:58:52.137736Z",
     "start_time": "2021-10-26T15:53:35.391001Z"
    },
    "scrolled": false
   },
   "outputs": [
    {
     "data": {
      "image/png": "[encoded data removed]",
      "text/plain": [
       "<Figure size 864x576 with 2 Axes>"
      ]
     },
     "metadata": {
      "needs_background": "light"
     },
     "output_type": "display_data"
    },
    {
     "name": "stdout",
     "output_type": "stream",
     "text": [
      "train_loss:0.2166\n",
      "test_acc:0.8531\n",
      "best_acc:0.8544\n",
      "train_acc: 0.9570470982536603\n"
     ]
    }
   ],
   "source": [
    "#读取模型数据\n",
    "sample=pd.read_csv(local_path+'\\\\blokagedata\\\\Sample.csv',header=0)\n",
    "#划分样本和标签\n",
    "s0=sample.iloc[np.where(sample.loc[:,'dn']==0)[0],:]\n",
    "s1=sample.iloc[np.where(sample.loc[:,'dn']==1)[0],:]\n",
    "s2=sample.iloc[np.where(sample.loc[:,'dn']==2)[0],:]\n",
    "s3=sample.iloc[np.where(sample.loc[:,'dn']==3)[0],:]\n",
    "s4=sample.iloc[np.where(sample.loc[:,'dn']==4)[0],:]\n",
    "s5=sample.iloc[np.where(sample.loc[:,'dn']==5)[0],:]\n",
    "s6=sample.iloc[np.where(sample.loc[:,'dn']==6)[0],:]\n",
    "s7=sample.iloc[np.where(sample.loc[:,'dn']==7)[0],:]\n",
    "s8=sample.iloc[np.where(sample.loc[:,'dn']==8)[0],:]\n",
    "s9=sample.iloc[np.where(sample.loc[:,'dn']==9)[0],:]\n",
    "\n",
    "s_train=pd.concat([s6,s7,s8,s9,s0],axis=0)\n",
    "x_train=np.array(s_train.iloc[:,range(0,96)])\n",
    "\n",
    "s_test=pd.concat([s1,s2,s3,s4,s5],axis=0)\n",
    "x_test=np.array(s_test.iloc[:,range(0,96)])\n",
    "\n",
    "y_train=np.array(s_train.loc[:,'code']).reshape(-1,1).astype(int)\n",
    "y_test=np.array(s_test.loc[:,'code']).reshape(-1,1).astype(int)\n",
    "\n",
    "qt = QuantileTransformer(output_distribution = 'uniform' )\n",
    "x_train = qt.fit_transform(x_train)\n",
    "x_test = qt.transform(x_test)\n",
    "#numpy转为张量\n",
    "x_train_tensor=torch.from_numpy(x_train).float().to(device)\n",
    "y_train_tensor=torch.from_numpy(y_train).to(device)\n",
    "x_test_tensor=torch.from_numpy(x_test).float().to(device)\n",
    "y_test_tensor=torch.from_numpy(y_test).to(device)\n",
    "train_data=Data.TensorDataset(x_train_tensor,y_train_tensor.long().squeeze())\n",
    "#训练模型\n",
    "hs=200\n",
    "params={\n",
    "\"d1\":96,\n",
    "\"hidden_size\": hs,\n",
    "\"learning_rate\":0.01,\n",
    "\"epoches\":3000,\n",
    "\"weight_decay\":0.01\n",
    "}\n",
    "annmodel,best_acc=anntrain(params)\n",
    "train_acc=score_model(x_train_tensor,y_train_tensor,annmodel)\n",
    "print('train_acc:',train_acc)"
   ]
  },
  {
   "cell_type": "markdown",
   "id": "5aec7f60",
   "metadata": {},
   "source": [
    "## 结果分析"
   ]
  },
  {
   "cell_type": "code",
   "execution_count": 44,
   "id": "8b49a65b",
   "metadata": {
    "ExecuteTime": {
     "end_time": "2021-10-17T14:58:47.849536Z",
     "start_time": "2021-10-17T14:58:47.844553Z"
    }
   },
   "outputs": [],
   "source": [
    "pre=run_model(x_test_tensor,annmodel)\n",
    "pre=torch.argmax(pre,1).unsqueeze(1).cpu().numpy()\n",
    "bool1=np.ones([len(pre),1])\n",
    "bool1[np.where(pre.ravel()!=y_test.ravel())]=0\n",
    "pred=pd.DataFrame(pre)\n",
    "para=s2468.iloc[:,range(96,99)].reset_index()\n",
    "bool2=pd.DataFrame(bool1.astype(int))\n",
    "a=pd.concat([pred,para,bool2],axis=1,ignore_index=True)\n",
    "a.columns=['pred','index','true','dn','time','bool']\n",
    "a.to_csv(local_path+'\\\\blokagedata\\\\ann_test_result.csv',encoding='ascii',index=True)"
   ]
  },
  {
   "cell_type": "markdown",
   "id": "c73db169",
   "metadata": {},
   "source": [
    "# 思路2（117）"
   ]
  },
  {
   "cell_type": "code",
   "execution_count": null,
   "id": "9521f02d",
   "metadata": {},
   "outputs": [],
   "source": [
    "分时间预测"
   ]
  },
  {
   "cell_type": "markdown",
   "id": "c8446a38",
   "metadata": {},
   "source": [
    "## ANN"
   ]
  },
  {
   "cell_type": "code",
   "execution_count": 3,
   "id": "6ba04f27",
   "metadata": {
    "ExecuteTime": {
     "end_time": "2021-10-26T14:24:58.013678Z",
     "start_time": "2021-10-26T14:23:42.636202Z"
    },
    "scrolled": true
   },
   "outputs": [
    {
     "data": {
      "image/png": "[encoded data removed]",
      "text/plain": [
       "<Figure size 864x576 with 2 Axes>"
      ]
     },
     "metadata": {
      "needs_background": "light"
     },
     "output_type": "display_data"
    },
    {
     "name": "stderr",
     "output_type": "stream",
     "text": [
      "E:\\Anaconda3\\lib\\site-packages\\sklearn\\preprocessing\\_data.py:2612: UserWarning: n_quantiles (1000) is greater than the total number of samples (832). n_quantiles is set to n_samples.\n",
      "  warnings.warn(\"n_quantiles (%s) is greater than the total number \"\n",
      "  0%|          | 11/3000 [00:00<00:28, 106.05it/s]"
     ]
    },
    {
     "name": "stdout",
     "output_type": "stream",
     "text": [
      "train_loss:0.0002\n",
      "test_acc:0.9327\n",
      "best_acc:0.9519\n",
      "train_acc: 1.0\n",
      "acc: [0.9326923076923077, 0.9519230769230769]\n"
     ]
    },
    {
     "name": "stderr",
     "output_type": "stream",
     "text": [
      " 10%|▉         | 289/3000 [00:02<00:25, 104.69it/s]\n"
     ]
    },
    {
     "ename": "KeyboardInterrupt",
     "evalue": "",
     "output_type": "error",
     "traceback": [
      "\u001b[1;31m---------------------------------------------------------------------------\u001b[0m",
      "\u001b[1;31mKeyboardInterrupt\u001b[0m                         Traceback (most recent call last)",
      "\u001b[1;32m<ipython-input-3-94d85cd86a04>\u001b[0m in \u001b[0;36m<module>\u001b[1;34m\u001b[0m\n\u001b[0;32m     64\u001b[0m         \u001b[0mtrain_data\u001b[0m\u001b[1;33m=\u001b[0m\u001b[0mData\u001b[0m\u001b[1;33m.\u001b[0m\u001b[0mTensorDataset\u001b[0m\u001b[1;33m(\u001b[0m\u001b[0mx_train_tensor\u001b[0m\u001b[1;33m,\u001b[0m\u001b[0my_train_tensor\u001b[0m\u001b[1;33m.\u001b[0m\u001b[0mlong\u001b[0m\u001b[1;33m(\u001b[0m\u001b[1;33m)\u001b[0m\u001b[1;33m.\u001b[0m\u001b[0msqueeze\u001b[0m\u001b[1;33m(\u001b[0m\u001b[1;33m)\u001b[0m\u001b[1;33m)\u001b[0m\u001b[1;33m\u001b[0m\u001b[1;33m\u001b[0m\u001b[0m\n\u001b[0;32m     65\u001b[0m         \u001b[0mparams\u001b[0m\u001b[1;33m[\u001b[0m\u001b[1;34m\"hidden_size\"\u001b[0m\u001b[1;33m]\u001b[0m\u001b[1;33m=\u001b[0m\u001b[0mhs\u001b[0m\u001b[1;33m\u001b[0m\u001b[1;33m\u001b[0m\u001b[0m\n\u001b[1;32m---> 66\u001b[1;33m         \u001b[0mannmodel\u001b[0m\u001b[1;33m,\u001b[0m\u001b[0mbest_acc\u001b[0m\u001b[1;33m=\u001b[0m\u001b[0manntrain\u001b[0m\u001b[1;33m(\u001b[0m\u001b[0mparams\u001b[0m\u001b[1;33m)\u001b[0m\u001b[1;33m\u001b[0m\u001b[1;33m\u001b[0m\u001b[0m\n\u001b[0m\u001b[0;32m     67\u001b[0m         \u001b[0mtrain_acc\u001b[0m\u001b[1;33m=\u001b[0m\u001b[0mscore_model\u001b[0m\u001b[1;33m(\u001b[0m\u001b[0mx_train_tensor\u001b[0m\u001b[1;33m,\u001b[0m\u001b[0my_train_tensor\u001b[0m\u001b[1;33m,\u001b[0m\u001b[0mannmodel\u001b[0m\u001b[1;33m)\u001b[0m\u001b[1;33m\u001b[0m\u001b[1;33m\u001b[0m\u001b[0m\n\u001b[0;32m     68\u001b[0m         \u001b[0mprint\u001b[0m\u001b[1;33m(\u001b[0m\u001b[1;34m'train_acc:'\u001b[0m\u001b[1;33m,\u001b[0m\u001b[0mtrain_acc\u001b[0m\u001b[1;33m)\u001b[0m\u001b[1;33m\u001b[0m\u001b[1;33m\u001b[0m\u001b[0m\n",
      "\u001b[1;32m<ipython-input-2-01c87fe67b08>\u001b[0m in \u001b[0;36manntrain\u001b[1;34m(args)\u001b[0m\n\u001b[0;32m     28\u001b[0m     \u001b[0mbest_acc\u001b[0m\u001b[1;33m=\u001b[0m\u001b[1;36m0\u001b[0m\u001b[1;33m\u001b[0m\u001b[1;33m\u001b[0m\u001b[0m\n\u001b[0;32m     29\u001b[0m     \u001b[1;32mfor\u001b[0m \u001b[0mepoch\u001b[0m \u001b[1;32min\u001b[0m \u001b[0mtqdm\u001b[0m\u001b[1;33m(\u001b[0m\u001b[0mrange\u001b[0m\u001b[1;33m(\u001b[0m\u001b[0margs\u001b[0m\u001b[1;33m[\u001b[0m\u001b[1;34m'epoches'\u001b[0m\u001b[1;33m]\u001b[0m\u001b[1;33m)\u001b[0m\u001b[1;33m)\u001b[0m\u001b[1;33m:\u001b[0m\u001b[1;33m\u001b[0m\u001b[1;33m\u001b[0m\u001b[0m\n\u001b[1;32m---> 30\u001b[1;33m         \u001b[1;32mfor\u001b[0m \u001b[0mstep\u001b[0m\u001b[1;33m,\u001b[0m\u001b[1;33m(\u001b[0m\u001b[0mbatch_x\u001b[0m\u001b[1;33m,\u001b[0m\u001b[0mbatch_y\u001b[0m\u001b[1;33m)\u001b[0m \u001b[1;32min\u001b[0m \u001b[0menumerate\u001b[0m\u001b[1;33m(\u001b[0m\u001b[0mtrain_loader\u001b[0m\u001b[1;33m)\u001b[0m\u001b[1;33m:\u001b[0m\u001b[1;33m\u001b[0m\u001b[1;33m\u001b[0m\u001b[0m\n\u001b[0m\u001b[0;32m     31\u001b[0m             \u001b[1;31m#输出层与标签之间的误差\u001b[0m\u001b[1;33m\u001b[0m\u001b[1;33m\u001b[0m\u001b[1;33m\u001b[0m\u001b[0m\n\u001b[0;32m     32\u001b[0m             \u001b[0mmodel\u001b[0m\u001b[1;33m.\u001b[0m\u001b[0mtrain\u001b[0m\u001b[1;33m(\u001b[0m\u001b[1;33m)\u001b[0m\u001b[1;33m\u001b[0m\u001b[1;33m\u001b[0m\u001b[0m\n",
      "\u001b[1;32mE:\\Anaconda3\\lib\\site-packages\\torch\\utils\\data\\dataloader.py\u001b[0m in \u001b[0;36m__next__\u001b[1;34m(self)\u001b[0m\n\u001b[0;32m    519\u001b[0m             \u001b[1;32mif\u001b[0m \u001b[0mself\u001b[0m\u001b[1;33m.\u001b[0m\u001b[0m_sampler_iter\u001b[0m \u001b[1;32mis\u001b[0m \u001b[1;32mNone\u001b[0m\u001b[1;33m:\u001b[0m\u001b[1;33m\u001b[0m\u001b[1;33m\u001b[0m\u001b[0m\n\u001b[0;32m    520\u001b[0m                 \u001b[0mself\u001b[0m\u001b[1;33m.\u001b[0m\u001b[0m_reset\u001b[0m\u001b[1;33m(\u001b[0m\u001b[1;33m)\u001b[0m\u001b[1;33m\u001b[0m\u001b[1;33m\u001b[0m\u001b[0m\n\u001b[1;32m--> 521\u001b[1;33m             \u001b[0mdata\u001b[0m \u001b[1;33m=\u001b[0m \u001b[0mself\u001b[0m\u001b[1;33m.\u001b[0m\u001b[0m_next_data\u001b[0m\u001b[1;33m(\u001b[0m\u001b[1;33m)\u001b[0m\u001b[1;33m\u001b[0m\u001b[1;33m\u001b[0m\u001b[0m\n\u001b[0m\u001b[0;32m    522\u001b[0m             \u001b[0mself\u001b[0m\u001b[1;33m.\u001b[0m\u001b[0m_num_yielded\u001b[0m \u001b[1;33m+=\u001b[0m \u001b[1;36m1\u001b[0m\u001b[1;33m\u001b[0m\u001b[1;33m\u001b[0m\u001b[0m\n\u001b[0;32m    523\u001b[0m             \u001b[1;32mif\u001b[0m \u001b[0mself\u001b[0m\u001b[1;33m.\u001b[0m\u001b[0m_dataset_kind\u001b[0m \u001b[1;33m==\u001b[0m \u001b[0m_DatasetKind\u001b[0m\u001b[1;33m.\u001b[0m\u001b[0mIterable\u001b[0m \u001b[1;32mand\u001b[0m\u001b[0;31m \u001b[0m\u001b[0;31m\\\u001b[0m\u001b[1;33m\u001b[0m\u001b[1;33m\u001b[0m\u001b[0m\n",
      "\u001b[1;32mE:\\Anaconda3\\lib\\site-packages\\torch\\utils\\data\\dataloader.py\u001b[0m in \u001b[0;36m_next_data\u001b[1;34m(self)\u001b[0m\n\u001b[0;32m    559\u001b[0m     \u001b[1;32mdef\u001b[0m \u001b[0m_next_data\u001b[0m\u001b[1;33m(\u001b[0m\u001b[0mself\u001b[0m\u001b[1;33m)\u001b[0m\u001b[1;33m:\u001b[0m\u001b[1;33m\u001b[0m\u001b[1;33m\u001b[0m\u001b[0m\n\u001b[0;32m    560\u001b[0m         \u001b[0mindex\u001b[0m \u001b[1;33m=\u001b[0m \u001b[0mself\u001b[0m\u001b[1;33m.\u001b[0m\u001b[0m_next_index\u001b[0m\u001b[1;33m(\u001b[0m\u001b[1;33m)\u001b[0m  \u001b[1;31m# may raise StopIteration\u001b[0m\u001b[1;33m\u001b[0m\u001b[1;33m\u001b[0m\u001b[0m\n\u001b[1;32m--> 561\u001b[1;33m         \u001b[0mdata\u001b[0m \u001b[1;33m=\u001b[0m \u001b[0mself\u001b[0m\u001b[1;33m.\u001b[0m\u001b[0m_dataset_fetcher\u001b[0m\u001b[1;33m.\u001b[0m\u001b[0mfetch\u001b[0m\u001b[1;33m(\u001b[0m\u001b[0mindex\u001b[0m\u001b[1;33m)\u001b[0m  \u001b[1;31m# may raise StopIteration\u001b[0m\u001b[1;33m\u001b[0m\u001b[1;33m\u001b[0m\u001b[0m\n\u001b[0m\u001b[0;32m    562\u001b[0m         \u001b[1;32mif\u001b[0m \u001b[0mself\u001b[0m\u001b[1;33m.\u001b[0m\u001b[0m_pin_memory\u001b[0m\u001b[1;33m:\u001b[0m\u001b[1;33m\u001b[0m\u001b[1;33m\u001b[0m\u001b[0m\n\u001b[0;32m    563\u001b[0m             \u001b[0mdata\u001b[0m \u001b[1;33m=\u001b[0m \u001b[0m_utils\u001b[0m\u001b[1;33m.\u001b[0m\u001b[0mpin_memory\u001b[0m\u001b[1;33m.\u001b[0m\u001b[0mpin_memory\u001b[0m\u001b[1;33m(\u001b[0m\u001b[0mdata\u001b[0m\u001b[1;33m)\u001b[0m\u001b[1;33m\u001b[0m\u001b[1;33m\u001b[0m\u001b[0m\n",
      "\u001b[1;32mE:\\Anaconda3\\lib\\site-packages\\torch\\utils\\data\\_utils\\fetch.py\u001b[0m in \u001b[0;36mfetch\u001b[1;34m(self, possibly_batched_index)\u001b[0m\n\u001b[0;32m     45\u001b[0m         \u001b[1;32melse\u001b[0m\u001b[1;33m:\u001b[0m\u001b[1;33m\u001b[0m\u001b[1;33m\u001b[0m\u001b[0m\n\u001b[0;32m     46\u001b[0m             \u001b[0mdata\u001b[0m \u001b[1;33m=\u001b[0m \u001b[0mself\u001b[0m\u001b[1;33m.\u001b[0m\u001b[0mdataset\u001b[0m\u001b[1;33m[\u001b[0m\u001b[0mpossibly_batched_index\u001b[0m\u001b[1;33m]\u001b[0m\u001b[1;33m\u001b[0m\u001b[1;33m\u001b[0m\u001b[0m\n\u001b[1;32m---> 47\u001b[1;33m         \u001b[1;32mreturn\u001b[0m \u001b[0mself\u001b[0m\u001b[1;33m.\u001b[0m\u001b[0mcollate_fn\u001b[0m\u001b[1;33m(\u001b[0m\u001b[0mdata\u001b[0m\u001b[1;33m)\u001b[0m\u001b[1;33m\u001b[0m\u001b[1;33m\u001b[0m\u001b[0m\n\u001b[0m",
      "\u001b[1;32mE:\\Anaconda3\\lib\\site-packages\\torch\\utils\\data\\_utils\\collate.py\u001b[0m in \u001b[0;36mdefault_collate\u001b[1;34m(batch)\u001b[0m\n\u001b[0;32m     82\u001b[0m             \u001b[1;32mraise\u001b[0m \u001b[0mRuntimeError\u001b[0m\u001b[1;33m(\u001b[0m\u001b[1;34m'each element in list of batch should be of equal size'\u001b[0m\u001b[1;33m)\u001b[0m\u001b[1;33m\u001b[0m\u001b[1;33m\u001b[0m\u001b[0m\n\u001b[0;32m     83\u001b[0m         \u001b[0mtransposed\u001b[0m \u001b[1;33m=\u001b[0m \u001b[0mzip\u001b[0m\u001b[1;33m(\u001b[0m\u001b[1;33m*\u001b[0m\u001b[0mbatch\u001b[0m\u001b[1;33m)\u001b[0m\u001b[1;33m\u001b[0m\u001b[1;33m\u001b[0m\u001b[0m\n\u001b[1;32m---> 84\u001b[1;33m         \u001b[1;32mreturn\u001b[0m \u001b[1;33m[\u001b[0m\u001b[0mdefault_collate\u001b[0m\u001b[1;33m(\u001b[0m\u001b[0msamples\u001b[0m\u001b[1;33m)\u001b[0m \u001b[1;32mfor\u001b[0m \u001b[0msamples\u001b[0m \u001b[1;32min\u001b[0m \u001b[0mtransposed\u001b[0m\u001b[1;33m]\u001b[0m\u001b[1;33m\u001b[0m\u001b[1;33m\u001b[0m\u001b[0m\n\u001b[0m\u001b[0;32m     85\u001b[0m \u001b[1;33m\u001b[0m\u001b[0m\n\u001b[0;32m     86\u001b[0m     \u001b[1;32mraise\u001b[0m \u001b[0mTypeError\u001b[0m\u001b[1;33m(\u001b[0m\u001b[0mdefault_collate_err_msg_format\u001b[0m\u001b[1;33m.\u001b[0m\u001b[0mformat\u001b[0m\u001b[1;33m(\u001b[0m\u001b[0melem_type\u001b[0m\u001b[1;33m)\u001b[0m\u001b[1;33m)\u001b[0m\u001b[1;33m\u001b[0m\u001b[1;33m\u001b[0m\u001b[0m\n",
      "\u001b[1;32mE:\\Anaconda3\\lib\\site-packages\\torch\\utils\\data\\_utils\\collate.py\u001b[0m in \u001b[0;36m<listcomp>\u001b[1;34m(.0)\u001b[0m\n\u001b[0;32m     82\u001b[0m             \u001b[1;32mraise\u001b[0m \u001b[0mRuntimeError\u001b[0m\u001b[1;33m(\u001b[0m\u001b[1;34m'each element in list of batch should be of equal size'\u001b[0m\u001b[1;33m)\u001b[0m\u001b[1;33m\u001b[0m\u001b[1;33m\u001b[0m\u001b[0m\n\u001b[0;32m     83\u001b[0m         \u001b[0mtransposed\u001b[0m \u001b[1;33m=\u001b[0m \u001b[0mzip\u001b[0m\u001b[1;33m(\u001b[0m\u001b[1;33m*\u001b[0m\u001b[0mbatch\u001b[0m\u001b[1;33m)\u001b[0m\u001b[1;33m\u001b[0m\u001b[1;33m\u001b[0m\u001b[0m\n\u001b[1;32m---> 84\u001b[1;33m         \u001b[1;32mreturn\u001b[0m \u001b[1;33m[\u001b[0m\u001b[0mdefault_collate\u001b[0m\u001b[1;33m(\u001b[0m\u001b[0msamples\u001b[0m\u001b[1;33m)\u001b[0m \u001b[1;32mfor\u001b[0m \u001b[0msamples\u001b[0m \u001b[1;32min\u001b[0m \u001b[0mtransposed\u001b[0m\u001b[1;33m]\u001b[0m\u001b[1;33m\u001b[0m\u001b[1;33m\u001b[0m\u001b[0m\n\u001b[0m\u001b[0;32m     85\u001b[0m \u001b[1;33m\u001b[0m\u001b[0m\n\u001b[0;32m     86\u001b[0m     \u001b[1;32mraise\u001b[0m \u001b[0mTypeError\u001b[0m\u001b[1;33m(\u001b[0m\u001b[0mdefault_collate_err_msg_format\u001b[0m\u001b[1;33m.\u001b[0m\u001b[0mformat\u001b[0m\u001b[1;33m(\u001b[0m\u001b[0melem_type\u001b[0m\u001b[1;33m)\u001b[0m\u001b[1;33m)\u001b[0m\u001b[1;33m\u001b[0m\u001b[1;33m\u001b[0m\u001b[0m\n",
      "\u001b[1;32mE:\\Anaconda3\\lib\\site-packages\\torch\\utils\\data\\_utils\\collate.py\u001b[0m in \u001b[0;36mdefault_collate\u001b[1;34m(batch)\u001b[0m\n\u001b[0;32m     54\u001b[0m             \u001b[0mstorage\u001b[0m \u001b[1;33m=\u001b[0m \u001b[0melem\u001b[0m\u001b[1;33m.\u001b[0m\u001b[0mstorage\u001b[0m\u001b[1;33m(\u001b[0m\u001b[1;33m)\u001b[0m\u001b[1;33m.\u001b[0m\u001b[0m_new_shared\u001b[0m\u001b[1;33m(\u001b[0m\u001b[0mnumel\u001b[0m\u001b[1;33m)\u001b[0m\u001b[1;33m\u001b[0m\u001b[1;33m\u001b[0m\u001b[0m\n\u001b[0;32m     55\u001b[0m             \u001b[0mout\u001b[0m \u001b[1;33m=\u001b[0m \u001b[0melem\u001b[0m\u001b[1;33m.\u001b[0m\u001b[0mnew\u001b[0m\u001b[1;33m(\u001b[0m\u001b[0mstorage\u001b[0m\u001b[1;33m)\u001b[0m\u001b[1;33m\u001b[0m\u001b[1;33m\u001b[0m\u001b[0m\n\u001b[1;32m---> 56\u001b[1;33m         \u001b[1;32mreturn\u001b[0m \u001b[0mtorch\u001b[0m\u001b[1;33m.\u001b[0m\u001b[0mstack\u001b[0m\u001b[1;33m(\u001b[0m\u001b[0mbatch\u001b[0m\u001b[1;33m,\u001b[0m \u001b[1;36m0\u001b[0m\u001b[1;33m,\u001b[0m \u001b[0mout\u001b[0m\u001b[1;33m=\u001b[0m\u001b[0mout\u001b[0m\u001b[1;33m)\u001b[0m\u001b[1;33m\u001b[0m\u001b[1;33m\u001b[0m\u001b[0m\n\u001b[0m\u001b[0;32m     57\u001b[0m     \u001b[1;32melif\u001b[0m \u001b[0melem_type\u001b[0m\u001b[1;33m.\u001b[0m\u001b[0m__module__\u001b[0m \u001b[1;33m==\u001b[0m \u001b[1;34m'numpy'\u001b[0m \u001b[1;32mand\u001b[0m \u001b[0melem_type\u001b[0m\u001b[1;33m.\u001b[0m\u001b[0m__name__\u001b[0m \u001b[1;33m!=\u001b[0m \u001b[1;34m'str_'\u001b[0m\u001b[0;31m \u001b[0m\u001b[0;31m\\\u001b[0m\u001b[1;33m\u001b[0m\u001b[1;33m\u001b[0m\u001b[0m\n\u001b[0;32m     58\u001b[0m             \u001b[1;32mand\u001b[0m \u001b[0melem_type\u001b[0m\u001b[1;33m.\u001b[0m\u001b[0m__name__\u001b[0m \u001b[1;33m!=\u001b[0m \u001b[1;34m'string_'\u001b[0m\u001b[1;33m:\u001b[0m\u001b[1;33m\u001b[0m\u001b[1;33m\u001b[0m\u001b[0m\n",
      "\u001b[1;31mKeyboardInterrupt\u001b[0m: "
     ]
    }
   ],
   "source": [
    "#读取模型数据\n",
    "sample=pd.read_csv(local_path+'\\\\blokagedata\\\\Sample.csv',header=0)\n",
    "#划分样本和标签\n",
    "#划分样本和标签\n",
    "t00=sample.iloc[np.where(sample.loc[:,'time']==0)[0],:]\n",
    "t01=sample.iloc[np.where(sample.loc[:,'time']==1)[0],:]\n",
    "t02=sample.iloc[np.where(sample.loc[:,'time']==2)[0],:]\n",
    "t03=sample.iloc[np.where(sample.loc[:,'time']==3)[0],:]\n",
    "t04=sample.iloc[np.where(sample.loc[:,'time']==4)[0],:]\n",
    "t05=sample.iloc[np.where(sample.loc[:,'time']==5)[0],:]\n",
    "t06=sample.iloc[np.where(sample.loc[:,'time']==6)[0],:]\n",
    "t07=sample.iloc[np.where(sample.loc[:,'time']==7)[0],:]\n",
    "t08=sample.iloc[np.where(sample.loc[:,'time']==8)[0],:]\n",
    "t09=sample.iloc[np.where(sample.loc[:,'time']==9)[0],:]\n",
    "t10=sample.iloc[np.where(sample.loc[:,'time']==10)[0],:]\n",
    "t11=sample.iloc[np.where(sample.loc[:,'time']==11)[0],:]\n",
    "t12=sample.iloc[np.where(sample.loc[:,'time']==12)[0],:]\n",
    "t13=sample.iloc[np.where(sample.loc[:,'time']==13)[0],:]\n",
    "t14=sample.iloc[np.where(sample.loc[:,'time']==14)[0],:]\n",
    "t15=sample.iloc[np.where(sample.loc[:,'time']==15)[0],:]\n",
    "t16=sample.iloc[np.where(sample.loc[:,'time']==16)[0],:]\n",
    "t17=sample.iloc[np.where(sample.loc[:,'time']==17)[0],:]\n",
    "t18=sample.iloc[np.where(sample.loc[:,'time']==18)[0],:]\n",
    "t19=sample.iloc[np.where(sample.loc[:,'time']==19)[0],:]\n",
    "t20=sample.iloc[np.where(sample.loc[:,'time']==20)[0],:]\n",
    "t21=sample.iloc[np.where(sample.loc[:,'time']==21)[0],:]\n",
    "t22=sample.iloc[np.where(sample.loc[:,'time']==22)[0],:]\n",
    "t23=sample.iloc[np.where(sample.loc[:,'time']==23)[0],:]\n",
    "\n",
    "x=np.array(t00.iloc[:,range(0,96)])#.astype(int)\n",
    "y=np.array(t00.loc[:,'code']).reshape(-1,1).astype(int)\n",
    "#训练模型\n",
    "#训练模型\n",
    "params={\n",
    "\"d1\":96,\n",
    "\"hidden_size\": 200,\n",
    "\"hidden_size_range_1\":200,\n",
    "\"hidden_size_range_2\":201,\n",
    "\"search_step\":1,\n",
    "\"learning_rate\":0.01,\n",
    "\"epoches\":3000,\n",
    "\"weight_decay\":0.01\n",
    "}\n",
    "skf = StratifiedKFold(n_splits=5,shuffle=True,random_state=1)\n",
    "score_record=[]\n",
    "hs_record=[]\n",
    "hs1=params[\"hidden_size_range_1\"]\n",
    "hs2=params[\"hidden_size_range_2\"]\n",
    "sstep=params[\"search_step\"]\n",
    "for hs in range(hs1,hs2,sstep):\n",
    "    acc=[]\n",
    "    for train_index, test_index in skf.split(x,y):\n",
    "        x_train, x_test = x[train_index], x[test_index]\n",
    "        y_train, y_test = y[train_index], y[test_index]\n",
    "        #qt\n",
    "        qt = QuantileTransformer(output_distribution = 'uniform' )\n",
    "        x_train = qt.fit_transform(x_train)\n",
    "        x_test = qt.transform(x_test)\n",
    "        #numpy转为张量\n",
    "        x_train_tensor=torch.from_numpy(x_train).float().to(device)\n",
    "        y_train_tensor=torch.from_numpy(y_train).to(device)\n",
    "        x_test_tensor=torch.from_numpy(x_test).float().to(device)\n",
    "        y_test_tensor=torch.from_numpy(y_test).to(device)\n",
    "        train_data=Data.TensorDataset(x_train_tensor,y_train_tensor.long().squeeze())\n",
    "        params[\"hidden_size\"]=hs\n",
    "        annmodel,best_acc=anntrain(params)\n",
    "        train_acc=score_model(x_train_tensor,y_train_tensor,annmodel)\n",
    "        print('train_acc:',train_acc)\n",
    "        acc.append(best_acc)\n",
    "        print('acc:',acc)\n",
    "    ave_score=np.mean(acc)\n",
    "    print('ave_acc',ave_score)\n",
    "    score_record.append(ave_score)\n",
    "    hs_record.append(hs)\n",
    "    print('score_record:',score_record)\n",
    "    print('hs_record:',hs_record)"
   ]
  },
  {
   "cell_type": "markdown",
   "id": "12297642",
   "metadata": {},
   "source": [
    "# 思路3：残差（116）"
   ]
  },
  {
   "cell_type": "code",
   "execution_count": null,
   "id": "f563242c",
   "metadata": {},
   "outputs": [],
   "source": [
    "堵塞工况与正常工况做差"
   ]
  },
  {
   "cell_type": "markdown",
   "id": "0d47ef90",
   "metadata": {},
   "source": [
    "## ANN"
   ]
  },
  {
   "cell_type": "markdown",
   "id": "73673a93",
   "metadata": {},
   "source": [
    "### 116的模型"
   ]
  },
  {
   "cell_type": "code",
   "execution_count": 2,
   "id": "9a6d0ef5",
   "metadata": {
    "ExecuteTime": {
     "end_time": "2021-12-25T15:40:24.479786Z",
     "start_time": "2021-12-25T15:40:24.469812Z"
    },
    "code_folding": []
   },
   "outputs": [],
   "source": [
    "class DataLoaderX(DataLoader):\n",
    "    def __iter__(self):\n",
    "        return BackgroundGenerator(super().__iter__())\n",
    "#ANN\n",
    "class ANN(nn.Module):\n",
    "    def __init__(self,d1,hidden_size,d2):\n",
    "        super(ANN,self).__init__()\n",
    "        self.ann=nn.Sequential(nn.BatchNorm1d(d1,momentum=0.5),\n",
    "                               nn.Linear(d1,hidden_size),\n",
    "                               nn.LeakyReLU(),\n",
    "                               nn.BatchNorm1d(hidden_size,momentum=0.5),\n",
    "                               nn.Linear(hidden_size,d2),\n",
    "                               nn.LeakyReLU()\n",
    "                              )\n",
    "    def forward(self,x):\n",
    "        x = self.ann(x)\n",
    "        return x\n",
    "#训练模型\n",
    "def anntrain(args):\n",
    "    model=ANN(d1=args['d1'],hidden_size=args['hidden_size'],d2=args['d2']).to(device)\n",
    "    criterion=nn.CrossEntropyLoss().to(device)\n",
    "    optimizer=AdamW(model.parameters(),lr=args['learning_rate'],weight_decay=args['weight_decay'])\n",
    "    scheduler=LambdaLR(optimizer,verbose=False,lr_lambda=lambda epoch:1/(epoch/100+1))\n",
    "    train_loader=DataLoader(dataset=train_data,batch_size=len(x_train),\n",
    "                                  shuffle=True,num_workers=0)\n",
    "    history1=hl.History()\n",
    "    canvas1=hl.Canvas()\n",
    "    best_acc=0\n",
    "    for epoch in tqdm(range(args['epoches'])):\n",
    "        for step,(batch_x,batch_y) in enumerate(train_loader):\n",
    "            #输出层与标签之间的误差    \n",
    "            model.train()\n",
    "            prediction=model(batch_x)\n",
    "            loss=criterion(prediction,batch_y)\n",
    "            optimizer.zero_grad()\n",
    "            loss.backward()\n",
    "            optimizer.step()\n",
    "            #记录误差曲线和acc曲线\n",
    "            steps=epoch*len(train_loader)+step+1\n",
    "            if steps%25==0:\n",
    "                test_acc=score_model(x_test_tensor,y_test_tensor,model)\n",
    "                best_acc=test_acc if test_acc>best_acc else best_acc\n",
    "                history1.log(steps,train_loss=loss.item(),test_accuracy=test_acc)\n",
    "        scheduler.step()\n",
    "    with canvas1:\n",
    "        canvas1.draw_plot(history1['train_loss'])\n",
    "        canvas1.draw_plot(history1['test_accuracy'])\n",
    "    print('train_loss:%.4f'%loss.item())\n",
    "    print('test_acc:%.4f'%test_acc)\n",
    "    print('best_acc:%.4f'%best_acc)\n",
    "    return model,best_acc\n",
    "#测试数据\n",
    "def run_model(data,model):\n",
    "    model.eval()\n",
    "    torch.no_grad()\n",
    "    prediction=model(data)\n",
    "    return prediction.detach()\n",
    "def score_model(x_tensor,label_tensor,model):\n",
    "    x=run_model(x_tensor,model)\n",
    "    x=torch.argmax(x,1).unsqueeze(1)\n",
    "    score=(x==label_tensor).sum().item()/len(x)\n",
    "    return score"
   ]
  },
  {
   "cell_type": "code",
   "execution_count": 3,
   "id": "b6d75d13",
   "metadata": {
    "ExecuteTime": {
     "end_time": "2021-10-30T07:56:34.986488Z",
     "start_time": "2021-10-30T07:56:34.984492Z"
    }
   },
   "outputs": [],
   "source": [
    "# 做残差\n",
    "# z=np.array(sample.iloc[-24::,:])\n",
    "# for i in tqdm(range(0,24)):\n",
    "#     sample.iloc[np.where(sample.loc[:,'time']==i)[0],range(0,96)]=sample.iloc[np.where(sample.loc[:,'time']==i)[0],range(0,96)]-z[i,:]\n",
    "# sample=sample.drop(np.where(sample.loc[:,'code']==116)[0])\n",
    "# sample.to_csv(local_path+'\\\\blokagedata\\\\Sample_116.csv',encoding='ascii',index=False)"
   ]
  },
  {
   "cell_type": "code",
   "execution_count": 3,
   "id": "078366af",
   "metadata": {
    "ExecuteTime": {
     "end_time": "2021-11-08T04:36:40.634384Z",
     "start_time": "2021-11-08T04:35:58.102593Z"
    },
    "collapsed": true
   },
   "outputs": [
    {
     "name": "stderr",
     "output_type": "stream",
     "text": [
      " 10%|▉         | 149/1500 [00:31<04:50,  4.66it/s]\n"
     ]
    },
    {
     "ename": "KeyboardInterrupt",
     "evalue": "",
     "output_type": "error",
     "traceback": [
      "\u001b[1;31m---------------------------------------------------------------------------\u001b[0m",
      "\u001b[1;31mKeyboardInterrupt\u001b[0m                         Traceback (most recent call last)",
      "\u001b[1;32m<ipython-input-3-826844d4ae55>\u001b[0m in \u001b[0;36m<module>\u001b[1;34m\u001b[0m\n\u001b[0;32m     32\u001b[0m         \u001b[0my_test_tensor\u001b[0m\u001b[1;33m=\u001b[0m\u001b[0mtorch\u001b[0m\u001b[1;33m.\u001b[0m\u001b[0mfrom_numpy\u001b[0m\u001b[1;33m(\u001b[0m\u001b[0my_test\u001b[0m\u001b[1;33m)\u001b[0m\u001b[1;33m.\u001b[0m\u001b[0mto\u001b[0m\u001b[1;33m(\u001b[0m\u001b[0mdevice\u001b[0m\u001b[1;33m)\u001b[0m\u001b[1;33m\u001b[0m\u001b[1;33m\u001b[0m\u001b[0m\n\u001b[0;32m     33\u001b[0m         \u001b[0mtrain_data\u001b[0m\u001b[1;33m=\u001b[0m\u001b[0mData\u001b[0m\u001b[1;33m.\u001b[0m\u001b[0mTensorDataset\u001b[0m\u001b[1;33m(\u001b[0m\u001b[0mx_train_tensor\u001b[0m\u001b[1;33m,\u001b[0m\u001b[0my_train_tensor\u001b[0m\u001b[1;33m.\u001b[0m\u001b[0mlong\u001b[0m\u001b[1;33m(\u001b[0m\u001b[1;33m)\u001b[0m\u001b[1;33m.\u001b[0m\u001b[0msqueeze\u001b[0m\u001b[1;33m(\u001b[0m\u001b[1;33m)\u001b[0m\u001b[1;33m)\u001b[0m\u001b[1;33m\u001b[0m\u001b[1;33m\u001b[0m\u001b[0m\n\u001b[1;32m---> 34\u001b[1;33m         \u001b[0mannmodel\u001b[0m\u001b[1;33m,\u001b[0m\u001b[0mbest_acc\u001b[0m\u001b[1;33m=\u001b[0m\u001b[0manntrain\u001b[0m\u001b[1;33m(\u001b[0m\u001b[0mparams\u001b[0m\u001b[1;33m)\u001b[0m\u001b[1;33m\u001b[0m\u001b[1;33m\u001b[0m\u001b[0m\n\u001b[0m\u001b[0;32m     35\u001b[0m         \u001b[0mtrain_acc\u001b[0m\u001b[1;33m=\u001b[0m\u001b[0mscore_model\u001b[0m\u001b[1;33m(\u001b[0m\u001b[0mx_train_tensor\u001b[0m\u001b[1;33m,\u001b[0m\u001b[0my_train_tensor\u001b[0m\u001b[1;33m,\u001b[0m\u001b[0mannmodel\u001b[0m\u001b[1;33m)\u001b[0m\u001b[1;33m\u001b[0m\u001b[1;33m\u001b[0m\u001b[0m\n\u001b[0;32m     36\u001b[0m         \u001b[0mprint\u001b[0m\u001b[1;33m(\u001b[0m\u001b[1;34m'train_acc:'\u001b[0m\u001b[1;33m,\u001b[0m\u001b[0mtrain_acc\u001b[0m\u001b[1;33m)\u001b[0m\u001b[1;33m\u001b[0m\u001b[1;33m\u001b[0m\u001b[0m\n",
      "\u001b[1;32m<ipython-input-2-80fcbbe5f91c>\u001b[0m in \u001b[0;36manntrain\u001b[1;34m(args)\u001b[0m\n\u001b[0;32m     28\u001b[0m     \u001b[0mbest_acc\u001b[0m\u001b[1;33m=\u001b[0m\u001b[1;36m0\u001b[0m\u001b[1;33m\u001b[0m\u001b[1;33m\u001b[0m\u001b[0m\n\u001b[0;32m     29\u001b[0m     \u001b[1;32mfor\u001b[0m \u001b[0mepoch\u001b[0m \u001b[1;32min\u001b[0m \u001b[0mtqdm\u001b[0m\u001b[1;33m(\u001b[0m\u001b[0mrange\u001b[0m\u001b[1;33m(\u001b[0m\u001b[0margs\u001b[0m\u001b[1;33m[\u001b[0m\u001b[1;34m'epoches'\u001b[0m\u001b[1;33m]\u001b[0m\u001b[1;33m)\u001b[0m\u001b[1;33m)\u001b[0m\u001b[1;33m:\u001b[0m\u001b[1;33m\u001b[0m\u001b[1;33m\u001b[0m\u001b[0m\n\u001b[1;32m---> 30\u001b[1;33m         \u001b[1;32mfor\u001b[0m \u001b[0mstep\u001b[0m\u001b[1;33m,\u001b[0m\u001b[1;33m(\u001b[0m\u001b[0mbatch_x\u001b[0m\u001b[1;33m,\u001b[0m\u001b[0mbatch_y\u001b[0m\u001b[1;33m)\u001b[0m \u001b[1;32min\u001b[0m \u001b[0menumerate\u001b[0m\u001b[1;33m(\u001b[0m\u001b[0mtrain_loader\u001b[0m\u001b[1;33m)\u001b[0m\u001b[1;33m:\u001b[0m\u001b[1;33m\u001b[0m\u001b[1;33m\u001b[0m\u001b[0m\n\u001b[0m\u001b[0;32m     31\u001b[0m             \u001b[1;31m#输出层与标签之间的误差\u001b[0m\u001b[1;33m\u001b[0m\u001b[1;33m\u001b[0m\u001b[1;33m\u001b[0m\u001b[0m\n\u001b[0;32m     32\u001b[0m             \u001b[0mmodel\u001b[0m\u001b[1;33m.\u001b[0m\u001b[0mtrain\u001b[0m\u001b[1;33m(\u001b[0m\u001b[1;33m)\u001b[0m\u001b[1;33m\u001b[0m\u001b[1;33m\u001b[0m\u001b[0m\n",
      "\u001b[1;32mE:\\Anaconda3\\lib\\site-packages\\torch\\utils\\data\\dataloader.py\u001b[0m in \u001b[0;36m__next__\u001b[1;34m(self)\u001b[0m\n\u001b[0;32m    519\u001b[0m             \u001b[1;32mif\u001b[0m \u001b[0mself\u001b[0m\u001b[1;33m.\u001b[0m\u001b[0m_sampler_iter\u001b[0m \u001b[1;32mis\u001b[0m \u001b[1;32mNone\u001b[0m\u001b[1;33m:\u001b[0m\u001b[1;33m\u001b[0m\u001b[1;33m\u001b[0m\u001b[0m\n\u001b[0;32m    520\u001b[0m                 \u001b[0mself\u001b[0m\u001b[1;33m.\u001b[0m\u001b[0m_reset\u001b[0m\u001b[1;33m(\u001b[0m\u001b[1;33m)\u001b[0m\u001b[1;33m\u001b[0m\u001b[1;33m\u001b[0m\u001b[0m\n\u001b[1;32m--> 521\u001b[1;33m             \u001b[0mdata\u001b[0m \u001b[1;33m=\u001b[0m \u001b[0mself\u001b[0m\u001b[1;33m.\u001b[0m\u001b[0m_next_data\u001b[0m\u001b[1;33m(\u001b[0m\u001b[1;33m)\u001b[0m\u001b[1;33m\u001b[0m\u001b[1;33m\u001b[0m\u001b[0m\n\u001b[0m\u001b[0;32m    522\u001b[0m             \u001b[0mself\u001b[0m\u001b[1;33m.\u001b[0m\u001b[0m_num_yielded\u001b[0m \u001b[1;33m+=\u001b[0m \u001b[1;36m1\u001b[0m\u001b[1;33m\u001b[0m\u001b[1;33m\u001b[0m\u001b[0m\n\u001b[0;32m    523\u001b[0m             \u001b[1;32mif\u001b[0m \u001b[0mself\u001b[0m\u001b[1;33m.\u001b[0m\u001b[0m_dataset_kind\u001b[0m \u001b[1;33m==\u001b[0m \u001b[0m_DatasetKind\u001b[0m\u001b[1;33m.\u001b[0m\u001b[0mIterable\u001b[0m \u001b[1;32mand\u001b[0m\u001b[0;31m \u001b[0m\u001b[0;31m\\\u001b[0m\u001b[1;33m\u001b[0m\u001b[1;33m\u001b[0m\u001b[0m\n",
      "\u001b[1;32mE:\\Anaconda3\\lib\\site-packages\\torch\\utils\\data\\dataloader.py\u001b[0m in \u001b[0;36m_next_data\u001b[1;34m(self)\u001b[0m\n\u001b[0;32m    559\u001b[0m     \u001b[1;32mdef\u001b[0m \u001b[0m_next_data\u001b[0m\u001b[1;33m(\u001b[0m\u001b[0mself\u001b[0m\u001b[1;33m)\u001b[0m\u001b[1;33m:\u001b[0m\u001b[1;33m\u001b[0m\u001b[1;33m\u001b[0m\u001b[0m\n\u001b[0;32m    560\u001b[0m         \u001b[0mindex\u001b[0m \u001b[1;33m=\u001b[0m \u001b[0mself\u001b[0m\u001b[1;33m.\u001b[0m\u001b[0m_next_index\u001b[0m\u001b[1;33m(\u001b[0m\u001b[1;33m)\u001b[0m  \u001b[1;31m# may raise StopIteration\u001b[0m\u001b[1;33m\u001b[0m\u001b[1;33m\u001b[0m\u001b[0m\n\u001b[1;32m--> 561\u001b[1;33m         \u001b[0mdata\u001b[0m \u001b[1;33m=\u001b[0m \u001b[0mself\u001b[0m\u001b[1;33m.\u001b[0m\u001b[0m_dataset_fetcher\u001b[0m\u001b[1;33m.\u001b[0m\u001b[0mfetch\u001b[0m\u001b[1;33m(\u001b[0m\u001b[0mindex\u001b[0m\u001b[1;33m)\u001b[0m  \u001b[1;31m# may raise StopIteration\u001b[0m\u001b[1;33m\u001b[0m\u001b[1;33m\u001b[0m\u001b[0m\n\u001b[0m\u001b[0;32m    562\u001b[0m         \u001b[1;32mif\u001b[0m \u001b[0mself\u001b[0m\u001b[1;33m.\u001b[0m\u001b[0m_pin_memory\u001b[0m\u001b[1;33m:\u001b[0m\u001b[1;33m\u001b[0m\u001b[1;33m\u001b[0m\u001b[0m\n\u001b[0;32m    563\u001b[0m             \u001b[0mdata\u001b[0m \u001b[1;33m=\u001b[0m \u001b[0m_utils\u001b[0m\u001b[1;33m.\u001b[0m\u001b[0mpin_memory\u001b[0m\u001b[1;33m.\u001b[0m\u001b[0mpin_memory\u001b[0m\u001b[1;33m(\u001b[0m\u001b[0mdata\u001b[0m\u001b[1;33m)\u001b[0m\u001b[1;33m\u001b[0m\u001b[1;33m\u001b[0m\u001b[0m\n",
      "\u001b[1;32mE:\\Anaconda3\\lib\\site-packages\\torch\\utils\\data\\_utils\\fetch.py\u001b[0m in \u001b[0;36mfetch\u001b[1;34m(self, possibly_batched_index)\u001b[0m\n\u001b[0;32m     45\u001b[0m         \u001b[1;32melse\u001b[0m\u001b[1;33m:\u001b[0m\u001b[1;33m\u001b[0m\u001b[1;33m\u001b[0m\u001b[0m\n\u001b[0;32m     46\u001b[0m             \u001b[0mdata\u001b[0m \u001b[1;33m=\u001b[0m \u001b[0mself\u001b[0m\u001b[1;33m.\u001b[0m\u001b[0mdataset\u001b[0m\u001b[1;33m[\u001b[0m\u001b[0mpossibly_batched_index\u001b[0m\u001b[1;33m]\u001b[0m\u001b[1;33m\u001b[0m\u001b[1;33m\u001b[0m\u001b[0m\n\u001b[1;32m---> 47\u001b[1;33m         \u001b[1;32mreturn\u001b[0m \u001b[0mself\u001b[0m\u001b[1;33m.\u001b[0m\u001b[0mcollate_fn\u001b[0m\u001b[1;33m(\u001b[0m\u001b[0mdata\u001b[0m\u001b[1;33m)\u001b[0m\u001b[1;33m\u001b[0m\u001b[1;33m\u001b[0m\u001b[0m\n\u001b[0m",
      "\u001b[1;32mE:\\Anaconda3\\lib\\site-packages\\torch\\utils\\data\\_utils\\collate.py\u001b[0m in \u001b[0;36mdefault_collate\u001b[1;34m(batch)\u001b[0m\n\u001b[0;32m     82\u001b[0m             \u001b[1;32mraise\u001b[0m \u001b[0mRuntimeError\u001b[0m\u001b[1;33m(\u001b[0m\u001b[1;34m'each element in list of batch should be of equal size'\u001b[0m\u001b[1;33m)\u001b[0m\u001b[1;33m\u001b[0m\u001b[1;33m\u001b[0m\u001b[0m\n\u001b[0;32m     83\u001b[0m         \u001b[0mtransposed\u001b[0m \u001b[1;33m=\u001b[0m \u001b[0mzip\u001b[0m\u001b[1;33m(\u001b[0m\u001b[1;33m*\u001b[0m\u001b[0mbatch\u001b[0m\u001b[1;33m)\u001b[0m\u001b[1;33m\u001b[0m\u001b[1;33m\u001b[0m\u001b[0m\n\u001b[1;32m---> 84\u001b[1;33m         \u001b[1;32mreturn\u001b[0m \u001b[1;33m[\u001b[0m\u001b[0mdefault_collate\u001b[0m\u001b[1;33m(\u001b[0m\u001b[0msamples\u001b[0m\u001b[1;33m)\u001b[0m \u001b[1;32mfor\u001b[0m \u001b[0msamples\u001b[0m \u001b[1;32min\u001b[0m \u001b[0mtransposed\u001b[0m\u001b[1;33m]\u001b[0m\u001b[1;33m\u001b[0m\u001b[1;33m\u001b[0m\u001b[0m\n\u001b[0m\u001b[0;32m     85\u001b[0m \u001b[1;33m\u001b[0m\u001b[0m\n\u001b[0;32m     86\u001b[0m     \u001b[1;32mraise\u001b[0m \u001b[0mTypeError\u001b[0m\u001b[1;33m(\u001b[0m\u001b[0mdefault_collate_err_msg_format\u001b[0m\u001b[1;33m.\u001b[0m\u001b[0mformat\u001b[0m\u001b[1;33m(\u001b[0m\u001b[0melem_type\u001b[0m\u001b[1;33m)\u001b[0m\u001b[1;33m)\u001b[0m\u001b[1;33m\u001b[0m\u001b[1;33m\u001b[0m\u001b[0m\n",
      "\u001b[1;32mE:\\Anaconda3\\lib\\site-packages\\torch\\utils\\data\\_utils\\collate.py\u001b[0m in \u001b[0;36m<listcomp>\u001b[1;34m(.0)\u001b[0m\n\u001b[0;32m     82\u001b[0m             \u001b[1;32mraise\u001b[0m \u001b[0mRuntimeError\u001b[0m\u001b[1;33m(\u001b[0m\u001b[1;34m'each element in list of batch should be of equal size'\u001b[0m\u001b[1;33m)\u001b[0m\u001b[1;33m\u001b[0m\u001b[1;33m\u001b[0m\u001b[0m\n\u001b[0;32m     83\u001b[0m         \u001b[0mtransposed\u001b[0m \u001b[1;33m=\u001b[0m \u001b[0mzip\u001b[0m\u001b[1;33m(\u001b[0m\u001b[1;33m*\u001b[0m\u001b[0mbatch\u001b[0m\u001b[1;33m)\u001b[0m\u001b[1;33m\u001b[0m\u001b[1;33m\u001b[0m\u001b[0m\n\u001b[1;32m---> 84\u001b[1;33m         \u001b[1;32mreturn\u001b[0m \u001b[1;33m[\u001b[0m\u001b[0mdefault_collate\u001b[0m\u001b[1;33m(\u001b[0m\u001b[0msamples\u001b[0m\u001b[1;33m)\u001b[0m \u001b[1;32mfor\u001b[0m \u001b[0msamples\u001b[0m \u001b[1;32min\u001b[0m \u001b[0mtransposed\u001b[0m\u001b[1;33m]\u001b[0m\u001b[1;33m\u001b[0m\u001b[1;33m\u001b[0m\u001b[0m\n\u001b[0m\u001b[0;32m     85\u001b[0m \u001b[1;33m\u001b[0m\u001b[0m\n\u001b[0;32m     86\u001b[0m     \u001b[1;32mraise\u001b[0m \u001b[0mTypeError\u001b[0m\u001b[1;33m(\u001b[0m\u001b[0mdefault_collate_err_msg_format\u001b[0m\u001b[1;33m.\u001b[0m\u001b[0mformat\u001b[0m\u001b[1;33m(\u001b[0m\u001b[0melem_type\u001b[0m\u001b[1;33m)\u001b[0m\u001b[1;33m)\u001b[0m\u001b[1;33m\u001b[0m\u001b[1;33m\u001b[0m\u001b[0m\n",
      "\u001b[1;32mE:\\Anaconda3\\lib\\site-packages\\torch\\utils\\data\\_utils\\collate.py\u001b[0m in \u001b[0;36mdefault_collate\u001b[1;34m(batch)\u001b[0m\n\u001b[0;32m     54\u001b[0m             \u001b[0mstorage\u001b[0m \u001b[1;33m=\u001b[0m \u001b[0melem\u001b[0m\u001b[1;33m.\u001b[0m\u001b[0mstorage\u001b[0m\u001b[1;33m(\u001b[0m\u001b[1;33m)\u001b[0m\u001b[1;33m.\u001b[0m\u001b[0m_new_shared\u001b[0m\u001b[1;33m(\u001b[0m\u001b[0mnumel\u001b[0m\u001b[1;33m)\u001b[0m\u001b[1;33m\u001b[0m\u001b[1;33m\u001b[0m\u001b[0m\n\u001b[0;32m     55\u001b[0m             \u001b[0mout\u001b[0m \u001b[1;33m=\u001b[0m \u001b[0melem\u001b[0m\u001b[1;33m.\u001b[0m\u001b[0mnew\u001b[0m\u001b[1;33m(\u001b[0m\u001b[0mstorage\u001b[0m\u001b[1;33m)\u001b[0m\u001b[1;33m\u001b[0m\u001b[1;33m\u001b[0m\u001b[0m\n\u001b[1;32m---> 56\u001b[1;33m         \u001b[1;32mreturn\u001b[0m \u001b[0mtorch\u001b[0m\u001b[1;33m.\u001b[0m\u001b[0mstack\u001b[0m\u001b[1;33m(\u001b[0m\u001b[0mbatch\u001b[0m\u001b[1;33m,\u001b[0m \u001b[1;36m0\u001b[0m\u001b[1;33m,\u001b[0m \u001b[0mout\u001b[0m\u001b[1;33m=\u001b[0m\u001b[0mout\u001b[0m\u001b[1;33m)\u001b[0m\u001b[1;33m\u001b[0m\u001b[1;33m\u001b[0m\u001b[0m\n\u001b[0m\u001b[0;32m     57\u001b[0m     \u001b[1;32melif\u001b[0m \u001b[0melem_type\u001b[0m\u001b[1;33m.\u001b[0m\u001b[0m__module__\u001b[0m \u001b[1;33m==\u001b[0m \u001b[1;34m'numpy'\u001b[0m \u001b[1;32mand\u001b[0m \u001b[0melem_type\u001b[0m\u001b[1;33m.\u001b[0m\u001b[0m__name__\u001b[0m \u001b[1;33m!=\u001b[0m \u001b[1;34m'str_'\u001b[0m\u001b[0;31m \u001b[0m\u001b[0;31m\\\u001b[0m\u001b[1;33m\u001b[0m\u001b[1;33m\u001b[0m\u001b[0m\n\u001b[0;32m     58\u001b[0m             \u001b[1;32mand\u001b[0m \u001b[0melem_type\u001b[0m\u001b[1;33m.\u001b[0m\u001b[0m__name__\u001b[0m \u001b[1;33m!=\u001b[0m \u001b[1;34m'string_'\u001b[0m\u001b[1;33m:\u001b[0m\u001b[1;33m\u001b[0m\u001b[1;33m\u001b[0m\u001b[0m\n",
      "\u001b[1;31mKeyboardInterrupt\u001b[0m: "
     ]
    }
   ],
   "source": [
    "#读取模型数据\n",
    "sample=pd.read_csv(local_path+'\\\\blokagedata\\\\Sample_116.csv',header=0)\n",
    "#划分样本和标签\n",
    "x=np.array(sample.iloc[:,range(0,96)])#.astype(int)\n",
    "y=np.array(sample.loc[:,'code']).reshape(-1,1).astype(int)\n",
    "#训练模型\n",
    "\n",
    "skf = StratifiedKFold(n_splits=5,shuffle=True,random_state=1)\n",
    "score_record=[]\n",
    "hs_record=[]\n",
    "for hs in range(100,300,10):\n",
    "    params={\n",
    "    \"d1\":96,\n",
    "    \"hidden_size\": hs,\n",
    "    \"d2\":116,\n",
    "    \"learning_rate\":0.01,\n",
    "    \"epoches\":1500,\n",
    "    \"weight_decay\":0.01\n",
    "    }\n",
    "    acc=[]\n",
    "    for train_index, test_index in skf.split(x,y):\n",
    "        x_train, x_test = x[train_index], x[test_index]\n",
    "        y_train, y_test = y[train_index], y[test_index]\n",
    "        #qt\n",
    "        qt = QuantileTransformer(output_distribution = 'uniform' )\n",
    "        x_train = qt.fit_transform(x_train)\n",
    "        x_test = qt.transform(x_test)\n",
    "        #numpy转为张量\n",
    "        x_train_tensor=torch.from_numpy(x_train).float().to(device)\n",
    "        y_train_tensor=torch.from_numpy(y_train).to(device)\n",
    "        x_test_tensor=torch.from_numpy(x_test).float().to(device)\n",
    "        y_test_tensor=torch.from_numpy(y_test).to(device)\n",
    "        train_data=Data.TensorDataset(x_train_tensor,y_train_tensor.long().squeeze())\n",
    "        annmodel,best_acc=anntrain(params)\n",
    "        train_acc=score_model(x_train_tensor,y_train_tensor,annmodel)\n",
    "        print('train_acc:',train_acc)\n",
    "        acc.append(best_acc)\n",
    "        print('acc:',acc)\n",
    "    ave_score=np.mean(acc)\n",
    "    print('ave_acc',ave_score)\n",
    "    score_record.append(ave_score)\n",
    "    hs_record.append(hs)\n",
    "    print('score_record:',score_record)\n",
    "    print('hs_record:',hs_record)"
   ]
  },
  {
   "cell_type": "code",
   "execution_count": 3,
   "id": "632407e8",
   "metadata": {
    "ExecuteTime": {
     "end_time": "2021-12-25T15:44:50.609875Z",
     "start_time": "2021-12-25T15:40:28.419726Z"
    }
   },
   "outputs": [
    {
     "data": {
      "image/png": "[encoded data removed]",
      "text/plain": [
       "<Figure size 864x576 with 2 Axes>"
      ]
     },
     "metadata": {
      "needs_background": "light"
     },
     "output_type": "display_data"
    },
    {
     "name": "stdout",
     "output_type": "stream",
     "text": [
      "train_loss:0.0415\n",
      "test_acc:0.9797\n",
      "best_acc:0.9803\n",
      "train_acc: 0.992049114331723\n",
      "acc: [0.9802737520128825]\n"
     ]
    }
   ],
   "source": [
    "#读取模型数据\n",
    "sample=pd.read_csv(local_path+'\\\\blokagedata\\\\Sample_116_percent.csv',header=0)\n",
    "#划分样本和标签\n",
    "x=np.array(sample.iloc[:,range(0,96)])#.astype(int)\n",
    "y=np.array(sample.loc[:,'code']).reshape(-1,1).astype(int)\n",
    "#训练模型\n",
    "\n",
    "skf = StratifiedKFold(n_splits=5,shuffle=True,random_state=1)\n",
    "\n",
    "params={\n",
    "\"d1\":96,\n",
    "\"hidden_size\": 110,\n",
    "\"d2\":116,\n",
    "\"learning_rate\":0.01,\n",
    "\"epoches\":1500,\n",
    "\"weight_decay\":0.01\n",
    "}\n",
    "acc=[]\n",
    "for train_index, test_index in skf.split(x,y):\n",
    "    x_train, x_test = x[train_index], x[test_index]\n",
    "    y_train, y_test = y[train_index], y[test_index]\n",
    "    #qt\n",
    "    qt = QuantileTransformer(output_distribution = 'uniform' )\n",
    "    x_train = qt.fit_transform(x_train)\n",
    "    x_test = qt.transform(x_test)\n",
    "    #numpy转为张量\n",
    "    x_train_tensor=torch.from_numpy(x_train).float().to(device)\n",
    "    y_train_tensor=torch.from_numpy(y_train).to(device)\n",
    "    x_test_tensor=torch.from_numpy(x_test).float().to(device)\n",
    "    y_test_tensor=torch.from_numpy(y_test).to(device)\n",
    "    train_data=Data.TensorDataset(x_train_tensor,y_train_tensor.long().squeeze())\n",
    "    annmodel,best_acc=anntrain(params)\n",
    "    train_acc=score_model(x_train_tensor,y_train_tensor,annmodel)\n",
    "    print('train_acc:',train_acc)\n",
    "    acc.append(best_acc)\n",
    "    print('acc:',acc)\n",
    "    break"
   ]
  },
  {
   "cell_type": "code",
   "execution_count": 14,
   "id": "b36a5ff6",
   "metadata": {
    "ExecuteTime": {
     "end_time": "2021-11-25T09:02:52.353506Z",
     "start_time": "2021-11-25T09:02:52.283141Z"
    }
   },
   "outputs": [],
   "source": [
    "torch.save(annmodel.state_dict(),local_path+'\\\\blokagedata\\\\annmodel_hid110.pkl')\n",
    "# model = TheModelClass(...)\n",
    "# model.load_state_dict(torch.load('\\parameter.pkl'))"
   ]
  },
  {
   "cell_type": "code",
   "execution_count": 12,
   "id": "f43b836e",
   "metadata": {
    "ExecuteTime": {
     "end_time": "2021-11-25T09:02:10.225094Z",
     "start_time": "2021-11-25T09:02:10.203149Z"
    }
   },
   "outputs": [],
   "source": [
    "# model = TheModelClass(...)\n",
    "# model.load_state_dict(torch.load('\\parameter.pkl'))\n",
    "pre=run_model(x_test_tensor,annmodel)\n",
    "pre=torch.argmax(pre,1).unsqueeze(1).cpu().numpy()\n",
    "bool1=np.ones([len(pre),1])\n",
    "bool1[np.where(pre.ravel()!=y_test.ravel())]=0\n",
    "pred=pd.DataFrame(pre)\n",
    "S=sample.loc[test_index,:]\n",
    "para=S.iloc[:,range(96,99)].reset_index()\n",
    "bool2=pd.DataFrame(bool1.astype(int))\n",
    "a=pd.concat([pred,para,bool2],axis=1,ignore_index=True)\n",
    "a.columns=['pred','index','true','dn','time','bool']\n",
    "a=a[['index','pred','true','dn','time','bool']]\n",
    "a.to_csv(local_path+'\\\\blokagedata\\\\ann_hid110_test_result.csv',encoding='ascii',index=True)"
   ]
  },
  {
   "cell_type": "code",
   "execution_count": 13,
   "id": "c9ec70fc",
   "metadata": {
    "ExecuteTime": {
     "end_time": "2021-11-25T09:02:10.660991Z",
     "start_time": "2021-11-25T09:02:10.644010Z"
    }
   },
   "outputs": [],
   "source": [
    "from sklearn.metrics import accuracy_score,confusion_matrix\n",
    "cm=pd.DataFrame(confusion_matrix(y_test.ravel(),pre))\n",
    "cm.to_csv(local_path+'\\\\blokagedata\\\\ann_hid110_cm.csv',encoding='ascii',index=True)"
   ]
  },
  {
   "cell_type": "markdown",
   "id": "1db7dada",
   "metadata": {},
   "source": [
    "## SVM"
   ]
  },
  {
   "cell_type": "code",
   "execution_count": 1,
   "id": "df79a0a4",
   "metadata": {
    "ExecuteTime": {
     "end_time": "2021-11-21T14:39:17.021165Z",
     "start_time": "2021-11-21T14:38:48.635261Z"
    }
   },
   "outputs": [
    {
     "name": "stdout",
     "output_type": "stream",
     "text": [
      "F:\\NBCode\\1-Blockage\\blokagedata\n"
     ]
    }
   ],
   "source": [
    "import pandas as pd\n",
    "import numpy as np\n",
    "from tqdm import tqdm\n",
    "import os\n",
    "import matplotlib\n",
    "import matplotlib.pyplot as plt \n",
    "from sklearn.model_selection import train_test_split,RandomizedSearchCV,GridSearchCV,StratifiedKFold,cross_validate\n",
    "from sklearn.decomposition import PCA\n",
    "from sklearn.preprocessing import QuantileTransformer\n",
    "from sklearn.metrics import accuracy_score,confusion_matrix\n",
    "from sklearn.pipeline import Pipeline\n",
    "from scipy.stats import loguniform,uniform,randint\n",
    "from sklearn.svm import SVC\n",
    "from sklearn.ensemble import RandomForestClassifier\n",
    "from sklearn.neighbors import KNeighborsClassifier\n",
    "#准备文件夹保存数据\n",
    "local_path=os.getcwd()\n",
    "if not os.path.exists(local_path+'\\\\blokagedata'):\n",
    "    os.mkdir(local_path+'\\\\blokagedata')\n",
    "print(local_path+'\\\\blokagedata')\n",
    "#读取模型数据\n",
    "sample=pd.read_csv(local_path+'\\\\blokagedata\\\\Sample_116.csv',header=0)\n",
    "#划分样本和标签\n",
    "x=np.array(sample.iloc[:,range(0,96)])#.astype(int)\n",
    "y=np.array(sample.loc[:,'code']).reshape(-1,1).astype(int)"
   ]
  },
  {
   "cell_type": "code",
   "execution_count": null,
   "id": "81662dbe",
   "metadata": {},
   "outputs": [],
   "source": [
    "param_dist = {'svc__C': [1010000],\n",
    " 'svc__gamma': [0.02]}\n",
    "param_dist = {'svc__C': loguniform(1e0, 1e8),\n",
    " 'svc__gamma': loguniform(1e-3, 1e0)}"
   ]
  },
  {
   "cell_type": "code",
   "execution_count": 2,
   "id": "c0b925c4",
   "metadata": {
    "ExecuteTime": {
     "end_time": "2021-11-21T15:02:09.894795Z",
     "start_time": "2021-11-21T14:39:30.469522Z"
    }
   },
   "outputs": [
    {
     "name": "stdout",
     "output_type": "stream",
     "text": [
      "Fitting 5 folds for each of 110 candidates, totalling 550 fits\n"
     ]
    }
   ],
   "source": [
    "pipe = Pipeline([('scaler', QuantileTransformer(output_distribution = 'uniform')), ('svc', SVC(decision_function_shape='ovr',kernel='rbf'))])\n",
    "param_dist = {'svc__C': [1,10,100,1000,10000,100000,500000,800000,1000000,1200000,1500000],\n",
    " 'svc__gamma': [0.01,0.02,0.03,0.04,0.05,0.06,0.07,0.08,0.09,0.01]}\n",
    "splitter=StratifiedKFold(n_splits=5,random_state=1,shuffle=True)\n",
    "clf = GridSearchCV(estimator=pipe,param_grid=param_dist,cv=splitter,n_jobs=-1,scoring='accuracy',verbose=3)\n",
    "search = clf.fit(x, y.ravel())"
   ]
  },
  {
   "cell_type": "code",
   "execution_count": 3,
   "id": "a74b163c",
   "metadata": {
    "ExecuteTime": {
     "end_time": "2021-11-21T15:02:35.239620Z",
     "start_time": "2021-11-21T15:02:35.223664Z"
    }
   },
   "outputs": [
    {
     "name": "stdout",
     "output_type": "stream",
     "text": [
      "网格搜索-度量记录： {'mean_fit_time': array([15.2783309 , 11.51240506,  9.86022382,  8.72027321,  8.21542373,\n",
      "        7.86236882,  7.64076099,  7.33996491,  7.44169254, 14.89096622,\n",
      "        6.42122307,  5.71590943,  5.36764112,  5.26850686,  5.26711078,\n",
      "        5.3644495 ,  5.44922352,  5.28984928,  5.2814714 ,  6.6206892 ,\n",
      "        4.70660896,  4.71797948,  4.64158349,  4.65415025,  4.73034678,\n",
      "        4.8893209 ,  4.8763555 ,  4.91584959,  4.97090282,  4.91325665,\n",
      "        4.51611924,  4.62522783,  4.58712912,  4.8512229 ,  4.74391003,\n",
      "        4.9098659 ,  4.93719258,  4.97190008,  5.11152635,  4.58214259,\n",
      "        5.07243118,  5.25294857,  5.25314736,  5.22761607,  5.29603367,\n",
      "        5.33153772,  5.3951683 ,  5.43266702,  5.47196274,  5.0480957 ,\n",
      "        6.64243121,  6.29595747,  6.22016072,  5.97561483,  5.88366103,\n",
      "        5.8036746 ,  5.86909981,  5.75560365,  5.6931706 ,  6.72520986,\n",
      "        8.2014617 ,  7.29847631,  6.60812373,  6.28418951,  6.00992355,\n",
      "        5.93273005,  5.90500445,  5.83319621,  5.75320992,  8.1627646 ,\n",
      "        8.78150969,  7.3587162 ,  6.7427628 ,  6.34383054,  6.19183588,\n",
      "        5.84556298,  5.88086891,  5.78133521,  5.78791709,  8.78888984,\n",
      "        8.77712088,  7.47460527,  6.67394695,  6.33106456,  6.11823354,\n",
      "        6.04802155,  5.81564307,  5.90799632,  5.84616165,  8.90976629,\n",
      "        9.07412715,  7.5821177 ,  6.77687163,  6.32148962,  6.06358018,\n",
      "        5.91417961,  5.8692996 ,  5.79509826,  5.83698626,  9.151719  ,\n",
      "        9.34500217,  7.67905874,  6.77128658,  6.46530499,  6.09469724,\n",
      "        5.96065545,  5.79729195,  5.81344905,  5.83738489,  8.98436661]), 'std_fit_time': array([0.16651691, 0.17376456, 0.28366606, 0.09547961, 0.12863457,\n",
      "       0.11798967, 0.10529014, 0.09120993, 0.13357328, 0.23755877,\n",
      "       0.16630584, 0.05635986, 0.06396932, 0.02767172, 0.13728414,\n",
      "       0.04896693, 0.20262095, 0.08911244, 0.06601652, 0.0915816 ,\n",
      "       0.04871809, 0.07532534, 0.04659567, 0.03347554, 0.14785772,\n",
      "       0.07060599, 0.13279815, 0.06844603, 0.03370539, 0.05486494,\n",
      "       0.05339343, 0.0403132 , 0.03733099, 0.09516292, 0.07607117,\n",
      "       0.0486757 , 0.06399859, 0.04611728, 0.06999355, 0.12501711,\n",
      "       0.0968865 , 0.09370524, 0.03547698, 0.13983215, 0.02864524,\n",
      "       0.09463139, 0.03834487, 0.05415197, 0.08270504, 0.02459705,\n",
      "       0.07650108, 0.02645771, 0.11145421, 0.08418478, 0.0512072 ,\n",
      "       0.06933105, 0.04556608, 0.12660397, 0.0624319 , 0.06587061,\n",
      "       0.1144261 , 0.18039858, 0.1461065 , 0.11036492, 0.14297313,\n",
      "       0.09965031, 0.1233493 , 0.0954851 , 0.03478154, 0.16656081,\n",
      "       0.1237853 , 0.17203606, 0.18529953, 0.0625368 , 0.18284301,\n",
      "       0.10197286, 0.18903464, 0.08329112, 0.0401299 , 0.24602556,\n",
      "       0.1906802 , 0.19741463, 0.0555482 , 0.13916875, 0.09007998,\n",
      "       0.0923103 , 0.06217254, 0.12356494, 0.0448308 , 0.13753379,\n",
      "       0.42775052, 0.20116031, 0.11254586, 0.08985817, 0.08277841,\n",
      "       0.09278498, 0.1593325 , 0.14848842, 0.09630236, 0.35703631,\n",
      "       0.43411542, 0.19049895, 0.123254  , 0.06292727, 0.09295044,\n",
      "       0.12533655, 0.05141936, 0.09109535, 0.07749465, 0.55378491]), 'mean_score_time': array([86.36298051, 59.71945167, 46.5253458 , 43.44498587, 47.98803377,\n",
      "       46.99169779, 52.77941632, 37.19470496, 60.59690518, 57.92445412,\n",
      "       33.18223839, 51.84411821, 28.2939147 , 26.43528628, 25.68369675,\n",
      "       42.72451386, 24.65085931, 23.38285151, 27.54751148, 52.54105444,\n",
      "       22.82634025, 24.32772408, 19.92629728, 19.49385457, 26.23522043,\n",
      "       25.92844176, 19.02012177, 21.71172161, 25.45271444, 25.75051789,\n",
      "       17.73954802, 25.81614232, 17.03662715, 19.71087508, 16.71249475,\n",
      "       25.65976014, 19.90934262, 16.14820414, 19.63168597, 26.84897904,\n",
      "       15.2356451 , 17.79898748, 21.20567541, 18.72770352, 15.16004696,\n",
      "       21.30620661, 17.7469264 , 18.68102889, 14.50839019, 20.65335298,\n",
      "       18.77996421, 14.54210052, 19.36779118, 18.02059536, 17.34480391,\n",
      "       14.99947701, 23.1247416 , 17.5771811 , 14.33645024, 15.65512314,\n",
      "       18.57092295, 16.14720683, 13.76597681, 22.75892043, 17.63004017,\n",
      "       14.01471143, 17.400454  , 19.6915247 , 16.83536592, 11.96240134,\n",
      "       18.76281028, 19.30176802, 13.90021696, 16.83536482, 20.06632299,\n",
      "       17.6805047 , 14.17348628, 19.84252162, 18.6680634 , 13.06864161,\n",
      "       14.9031343 , 19.47749782, 16.80664244, 14.29376459, 19.81160436,\n",
      "       20.33640041, 14.74136658, 16.73204188, 19.54392028, 14.85885286,\n",
      "       12.78759346, 21.37921124, 17.2584341 , 13.95327568, 17.37492232,\n",
      "       19.97576523, 17.49579902, 13.75620255, 18.29944892, 17.65776553,\n",
      "       12.2262948 , 15.89168997, 19.26646242, 17.37292838, 16.74500728,\n",
      "       17.26840701, 20.14012551, 14.5083909 , 14.50599642, 11.94007173]), 'std_score_time': array([25.6804781 , 17.48382057,  0.83974571,  0.78306599, 14.33422933,\n",
      "       14.88384379, 17.55943975,  0.55471005, 13.93672586,  0.41659274,\n",
      "        0.21131878, 10.94810583,  0.34955061,  0.47097854,  0.40551201,\n",
      "        8.53477556,  0.18077834,  0.25434045,  8.47219693, 15.45715782,\n",
      "        0.22563064,  7.29074936,  0.52150511,  0.38382797,  9.01060375,\n",
      "        8.63256219,  0.75315438,  7.06806103,  8.19764365,  8.00092472,\n",
      "        0.53643422,  7.50763177,  0.17313086,  6.46275382,  0.46763648,\n",
      "        7.75365209,  5.75733178,  0.39541134,  5.98239865,  7.95329015,\n",
      "        0.41600697,  5.43813394,  6.90552353,  5.87850831,  0.4402815 ,\n",
      "        6.95456682,  5.85559854,  5.74281521,  0.42065893,  7.10699485,\n",
      "        6.88414982,  0.09833072,  7.40191308,  5.8024999 ,  5.8470521 ,\n",
      "        0.22829994,  7.47801609,  5.39881079,  1.22162732,  5.69480097,\n",
      "        6.95596796,  5.44906363,  0.61162019,  7.28640953,  5.65653221,\n",
      "        0.40938151,  5.80133891,  7.17954859,  5.32424654,  0.56683478,\n",
      "        6.86968657,  7.15651326,  0.28584673,  5.9314653 ,  7.15725898,\n",
      "        5.89154338,  0.18914259,  6.60635462,  7.1442527 ,  0.16134623,\n",
      "        5.60788428,  6.71868009,  5.94499458,  0.11798895,  7.45586068,\n",
      "        6.86959523,  0.56606875,  5.42394294,  6.57723484,  5.44185076,\n",
      "        0.37748523,  7.17335314,  5.46884165,  0.74380443,  5.88502273,\n",
      "        7.38031935,  5.63461962,  1.04156162,  7.00078196,  6.84346748,\n",
      "        0.46723286,  5.82576939,  7.19636497,  5.60098358,  6.1730418 ,\n",
      "        5.69220491,  7.37236178,  0.21259395,  3.84302913,  5.23929855]), 'param_svc__C': masked_array(data=[1, 1, 1, 1, 1, 1, 1, 1, 1, 1, 10, 10, 10, 10, 10, 10,\n",
      "                   10, 10, 10, 10, 100, 100, 100, 100, 100, 100, 100, 100,\n",
      "                   100, 100, 1000, 1000, 1000, 1000, 1000, 1000, 1000,\n",
      "                   1000, 1000, 1000, 10000, 10000, 10000, 10000, 10000,\n",
      "                   10000, 10000, 10000, 10000, 10000, 100000, 100000,\n",
      "                   100000, 100000, 100000, 100000, 100000, 100000, 100000,\n",
      "                   100000, 500000, 500000, 500000, 500000, 500000, 500000,\n",
      "                   500000, 500000, 500000, 500000, 800000, 800000, 800000,\n",
      "                   800000, 800000, 800000, 800000, 800000, 800000, 800000,\n",
      "                   1000000, 1000000, 1000000, 1000000, 1000000, 1000000,\n",
      "                   1000000, 1000000, 1000000, 1000000, 1200000, 1200000,\n",
      "                   1200000, 1200000, 1200000, 1200000, 1200000, 1200000,\n",
      "                   1200000, 1200000, 1500000, 1500000, 1500000, 1500000,\n",
      "                   1500000, 1500000, 1500000, 1500000, 1500000, 1500000],\n",
      "             mask=[False, False, False, False, False, False, False, False,\n",
      "                   False, False, False, False, False, False, False, False,\n",
      "                   False, False, False, False, False, False, False, False,\n",
      "                   False, False, False, False, False, False, False, False,\n",
      "                   False, False, False, False, False, False, False, False,\n",
      "                   False, False, False, False, False, False, False, False,\n",
      "                   False, False, False, False, False, False, False, False,\n",
      "                   False, False, False, False, False, False, False, False,\n",
      "                   False, False, False, False, False, False, False, False,\n",
      "                   False, False, False, False, False, False, False, False,\n",
      "                   False, False, False, False, False, False, False, False,\n",
      "                   False, False, False, False, False, False, False, False,\n",
      "                   False, False, False, False, False, False, False, False,\n",
      "                   False, False, False, False, False, False],\n",
      "       fill_value='?',\n",
      "            dtype=object), 'param_svc__gamma': masked_array(data=[0.01, 0.02, 0.03, 0.04, 0.05, 0.06, 0.07, 0.08, 0.09,\n",
      "                   0.01, 0.01, 0.02, 0.03, 0.04, 0.05, 0.06, 0.07, 0.08,\n",
      "                   0.09, 0.01, 0.01, 0.02, 0.03, 0.04, 0.05, 0.06, 0.07,\n",
      "                   0.08, 0.09, 0.01, 0.01, 0.02, 0.03, 0.04, 0.05, 0.06,\n",
      "                   0.07, 0.08, 0.09, 0.01, 0.01, 0.02, 0.03, 0.04, 0.05,\n",
      "                   0.06, 0.07, 0.08, 0.09, 0.01, 0.01, 0.02, 0.03, 0.04,\n",
      "                   0.05, 0.06, 0.07, 0.08, 0.09, 0.01, 0.01, 0.02, 0.03,\n",
      "                   0.04, 0.05, 0.06, 0.07, 0.08, 0.09, 0.01, 0.01, 0.02,\n",
      "                   0.03, 0.04, 0.05, 0.06, 0.07, 0.08, 0.09, 0.01, 0.01,\n",
      "                   0.02, 0.03, 0.04, 0.05, 0.06, 0.07, 0.08, 0.09, 0.01,\n",
      "                   0.01, 0.02, 0.03, 0.04, 0.05, 0.06, 0.07, 0.08, 0.09,\n",
      "                   0.01, 0.01, 0.02, 0.03, 0.04, 0.05, 0.06, 0.07, 0.08,\n",
      "                   0.09, 0.01],\n",
      "             mask=[False, False, False, False, False, False, False, False,\n",
      "                   False, False, False, False, False, False, False, False,\n",
      "                   False, False, False, False, False, False, False, False,\n",
      "                   False, False, False, False, False, False, False, False,\n",
      "                   False, False, False, False, False, False, False, False,\n",
      "                   False, False, False, False, False, False, False, False,\n",
      "                   False, False, False, False, False, False, False, False,\n",
      "                   False, False, False, False, False, False, False, False,\n",
      "                   False, False, False, False, False, False, False, False,\n",
      "                   False, False, False, False, False, False, False, False,\n",
      "                   False, False, False, False, False, False, False, False,\n",
      "                   False, False, False, False, False, False, False, False,\n",
      "                   False, False, False, False, False, False, False, False,\n",
      "                   False, False, False, False, False, False],\n",
      "       fill_value='?',\n",
      "            dtype=object), 'params': [{'svc__C': 1, 'svc__gamma': 0.01}, {'svc__C': 1, 'svc__gamma': 0.02}, {'svc__C': 1, 'svc__gamma': 0.03}, {'svc__C': 1, 'svc__gamma': 0.04}, {'svc__C': 1, 'svc__gamma': 0.05}, {'svc__C': 1, 'svc__gamma': 0.06}, {'svc__C': 1, 'svc__gamma': 0.07}, {'svc__C': 1, 'svc__gamma': 0.08}, {'svc__C': 1, 'svc__gamma': 0.09}, {'svc__C': 1, 'svc__gamma': 0.01}, {'svc__C': 10, 'svc__gamma': 0.01}, {'svc__C': 10, 'svc__gamma': 0.02}, {'svc__C': 10, 'svc__gamma': 0.03}, {'svc__C': 10, 'svc__gamma': 0.04}, {'svc__C': 10, 'svc__gamma': 0.05}, {'svc__C': 10, 'svc__gamma': 0.06}, {'svc__C': 10, 'svc__gamma': 0.07}, {'svc__C': 10, 'svc__gamma': 0.08}, {'svc__C': 10, 'svc__gamma': 0.09}, {'svc__C': 10, 'svc__gamma': 0.01}, {'svc__C': 100, 'svc__gamma': 0.01}, {'svc__C': 100, 'svc__gamma': 0.02}, {'svc__C': 100, 'svc__gamma': 0.03}, {'svc__C': 100, 'svc__gamma': 0.04}, {'svc__C': 100, 'svc__gamma': 0.05}, {'svc__C': 100, 'svc__gamma': 0.06}, {'svc__C': 100, 'svc__gamma': 0.07}, {'svc__C': 100, 'svc__gamma': 0.08}, {'svc__C': 100, 'svc__gamma': 0.09}, {'svc__C': 100, 'svc__gamma': 0.01}, {'svc__C': 1000, 'svc__gamma': 0.01}, {'svc__C': 1000, 'svc__gamma': 0.02}, {'svc__C': 1000, 'svc__gamma': 0.03}, {'svc__C': 1000, 'svc__gamma': 0.04}, {'svc__C': 1000, 'svc__gamma': 0.05}, {'svc__C': 1000, 'svc__gamma': 0.06}, {'svc__C': 1000, 'svc__gamma': 0.07}, {'svc__C': 1000, 'svc__gamma': 0.08}, {'svc__C': 1000, 'svc__gamma': 0.09}, {'svc__C': 1000, 'svc__gamma': 0.01}, {'svc__C': 10000, 'svc__gamma': 0.01}, {'svc__C': 10000, 'svc__gamma': 0.02}, {'svc__C': 10000, 'svc__gamma': 0.03}, {'svc__C': 10000, 'svc__gamma': 0.04}, {'svc__C': 10000, 'svc__gamma': 0.05}, {'svc__C': 10000, 'svc__gamma': 0.06}, {'svc__C': 10000, 'svc__gamma': 0.07}, {'svc__C': 10000, 'svc__gamma': 0.08}, {'svc__C': 10000, 'svc__gamma': 0.09}, {'svc__C': 10000, 'svc__gamma': 0.01}, {'svc__C': 100000, 'svc__gamma': 0.01}, {'svc__C': 100000, 'svc__gamma': 0.02}, {'svc__C': 100000, 'svc__gamma': 0.03}, {'svc__C': 100000, 'svc__gamma': 0.04}, {'svc__C': 100000, 'svc__gamma': 0.05}, {'svc__C': 100000, 'svc__gamma': 0.06}, {'svc__C': 100000, 'svc__gamma': 0.07}, {'svc__C': 100000, 'svc__gamma': 0.08}, {'svc__C': 100000, 'svc__gamma': 0.09}, {'svc__C': 100000, 'svc__gamma': 0.01}, {'svc__C': 500000, 'svc__gamma': 0.01}, {'svc__C': 500000, 'svc__gamma': 0.02}, {'svc__C': 500000, 'svc__gamma': 0.03}, {'svc__C': 500000, 'svc__gamma': 0.04}, {'svc__C': 500000, 'svc__gamma': 0.05}, {'svc__C': 500000, 'svc__gamma': 0.06}, {'svc__C': 500000, 'svc__gamma': 0.07}, {'svc__C': 500000, 'svc__gamma': 0.08}, {'svc__C': 500000, 'svc__gamma': 0.09}, {'svc__C': 500000, 'svc__gamma': 0.01}, {'svc__C': 800000, 'svc__gamma': 0.01}, {'svc__C': 800000, 'svc__gamma': 0.02}, {'svc__C': 800000, 'svc__gamma': 0.03}, {'svc__C': 800000, 'svc__gamma': 0.04}, {'svc__C': 800000, 'svc__gamma': 0.05}, {'svc__C': 800000, 'svc__gamma': 0.06}, {'svc__C': 800000, 'svc__gamma': 0.07}, {'svc__C': 800000, 'svc__gamma': 0.08}, {'svc__C': 800000, 'svc__gamma': 0.09}, {'svc__C': 800000, 'svc__gamma': 0.01}, {'svc__C': 1000000, 'svc__gamma': 0.01}, {'svc__C': 1000000, 'svc__gamma': 0.02}, {'svc__C': 1000000, 'svc__gamma': 0.03}, {'svc__C': 1000000, 'svc__gamma': 0.04}, {'svc__C': 1000000, 'svc__gamma': 0.05}, {'svc__C': 1000000, 'svc__gamma': 0.06}, {'svc__C': 1000000, 'svc__gamma': 0.07}, {'svc__C': 1000000, 'svc__gamma': 0.08}, {'svc__C': 1000000, 'svc__gamma': 0.09}, {'svc__C': 1000000, 'svc__gamma': 0.01}, {'svc__C': 1200000, 'svc__gamma': 0.01}, {'svc__C': 1200000, 'svc__gamma': 0.02}, {'svc__C': 1200000, 'svc__gamma': 0.03}, {'svc__C': 1200000, 'svc__gamma': 0.04}, {'svc__C': 1200000, 'svc__gamma': 0.05}, {'svc__C': 1200000, 'svc__gamma': 0.06}, {'svc__C': 1200000, 'svc__gamma': 0.07}, {'svc__C': 1200000, 'svc__gamma': 0.08}, {'svc__C': 1200000, 'svc__gamma': 0.09}, {'svc__C': 1200000, 'svc__gamma': 0.01}, {'svc__C': 1500000, 'svc__gamma': 0.01}, {'svc__C': 1500000, 'svc__gamma': 0.02}, {'svc__C': 1500000, 'svc__gamma': 0.03}, {'svc__C': 1500000, 'svc__gamma': 0.04}, {'svc__C': 1500000, 'svc__gamma': 0.05}, {'svc__C': 1500000, 'svc__gamma': 0.06}, {'svc__C': 1500000, 'svc__gamma': 0.07}, {'svc__C': 1500000, 'svc__gamma': 0.08}, {'svc__C': 1500000, 'svc__gamma': 0.09}, {'svc__C': 1500000, 'svc__gamma': 0.01}], 'split0_test_score': array([0.71900161, 0.76952496, 0.80334138, 0.82467794, 0.83715781,\n",
      "       0.84561192, 0.85466989, 0.85970209, 0.86493559, 0.71900161,\n",
      "       0.87097424, 0.90036232, 0.90982287, 0.91706924, 0.92089372,\n",
      "       0.92612721, 0.92894525, 0.92954911, 0.93095813, 0.87097424,\n",
      "       0.92854267, 0.9384058 , 0.94243156, 0.94484702, 0.94625604,\n",
      "       0.94746377, 0.94967794, 0.95189211, 0.95330113, 0.92854267,\n",
      "       0.95350242, 0.95833333, 0.9589372 , 0.96155395, 0.96296296,\n",
      "       0.9623591 , 0.96437198, 0.96497585, 0.96457327, 0.95350242,\n",
      "       0.96115137, 0.96497585, 0.96880032, 0.96900161, 0.97161836,\n",
      "       0.97202093, 0.97302738, 0.97342995, 0.97282609, 0.96115137,\n",
      "       0.96759259, 0.97061192, 0.97302738, 0.97242351, 0.97222222,\n",
      "       0.97242351, 0.97403382, 0.97322866, 0.9742351 , 0.96759259,\n",
      "       0.97041063, 0.97141707, 0.97242351, 0.97403382, 0.97383253,\n",
      "       0.97342995, 0.9742351 , 0.97504026, 0.97443639, 0.97041063,\n",
      "       0.9692029 , 0.97202093, 0.97242351, 0.97342995, 0.97363124,\n",
      "       0.97342995, 0.97403382, 0.97463768, 0.9742351 , 0.9692029 ,\n",
      "       0.97020934, 0.97242351, 0.97302738, 0.97322866, 0.97403382,\n",
      "       0.97363124, 0.97403382, 0.97463768, 0.97443639, 0.97020934,\n",
      "       0.97061192, 0.97242351, 0.97282609, 0.9726248 , 0.97282609,\n",
      "       0.97342995, 0.97383253, 0.97483897, 0.9742351 , 0.97061192,\n",
      "       0.97020934, 0.97222222, 0.97282609, 0.9726248 , 0.97302738,\n",
      "       0.97363124, 0.97383253, 0.97463768, 0.9742351 , 0.97020934]), 'split1_test_score': array([0.71155395, 0.76167472, 0.7876409 , 0.81280193, 0.82971014,\n",
      "       0.84138486, 0.84943639, 0.85849436, 0.86292271, 0.71155395,\n",
      "       0.86916264, 0.89573269, 0.90297907, 0.90780998, 0.91324477,\n",
      "       0.91706924, 0.91988728, 0.92451691, 0.92673108, 0.86916264,\n",
      "       0.92411433, 0.93256844, 0.93900966, 0.94363929, 0.94424316,\n",
      "       0.94927536, 0.94967794, 0.9520934 , 0.95531401, 0.92411433,\n",
      "       0.95591787, 0.9571256 , 0.95833333, 0.95833333, 0.96095008,\n",
      "       0.9623591 , 0.96316425, 0.96417069, 0.96557971, 0.95591787,\n",
      "       0.9623591 , 0.96316425, 0.96618357, 0.96759259, 0.96940419,\n",
      "       0.97101449, 0.97121578, 0.97141707, 0.9708132 , 0.9623591 ,\n",
      "       0.96678744, 0.9708132 , 0.97101449, 0.97181965, 0.97181965,\n",
      "       0.97222222, 0.97041063, 0.96960548, 0.9692029 , 0.96678744,\n",
      "       0.96980676, 0.97101449, 0.97000805, 0.97061192, 0.9708132 ,\n",
      "       0.97020934, 0.97000805, 0.96940419, 0.96940419, 0.96980676,\n",
      "       0.96960548, 0.97101449, 0.96980676, 0.96980676, 0.97121578,\n",
      "       0.97020934, 0.97020934, 0.9692029 , 0.9692029 , 0.96960548,\n",
      "       0.97000805, 0.97000805, 0.96980676, 0.97020934, 0.97161836,\n",
      "       0.97041063, 0.97000805, 0.96960548, 0.96900161, 0.97000805,\n",
      "       0.96900161, 0.96940419, 0.96980676, 0.97020934, 0.97141707,\n",
      "       0.97041063, 0.97000805, 0.96980676, 0.96859903, 0.96900161,\n",
      "       0.96960548, 0.97000805, 0.96960548, 0.97020934, 0.97121578,\n",
      "       0.97041063, 0.97020934, 0.9692029 , 0.96839775, 0.96960548]), 'split2_test_score': array([0.71457327, 0.76570048, 0.79146538, 0.80736715, 0.82085346,\n",
      "       0.83192432, 0.8423913 , 0.85165056, 0.86090982, 0.71457327,\n",
      "       0.86574074, 0.89231079, 0.90378422, 0.909219  , 0.91425121,\n",
      "       0.91968599, 0.92431562, 0.92652979, 0.92854267, 0.86574074,\n",
      "       0.92552335, 0.93377617, 0.94223027, 0.94826892, 0.95008052,\n",
      "       0.95088567, 0.95189211, 0.95430757, 0.95652174, 0.92552335,\n",
      "       0.9555153 , 0.96336554, 0.9639694 , 0.96477456, 0.96678744,\n",
      "       0.96698873, 0.96940419, 0.97101449, 0.9708132 , 0.9555153 ,\n",
      "       0.96638486, 0.97020934, 0.97101449, 0.97121578, 0.97202093,\n",
      "       0.97322866, 0.9742351 , 0.9742351 , 0.9742351 , 0.96638486,\n",
      "       0.97041063, 0.97342995, 0.97342995, 0.97342995, 0.97302738,\n",
      "       0.97443639, 0.97403382, 0.9742351 , 0.97443639, 0.97041063,\n",
      "       0.9726248 , 0.97363124, 0.97363124, 0.9742351 , 0.97443639,\n",
      "       0.97564412, 0.97504026, 0.97463768, 0.97483897, 0.9726248 ,\n",
      "       0.97242351, 0.97322866, 0.97443639, 0.97504026, 0.9742351 ,\n",
      "       0.97584541, 0.97504026, 0.97443639, 0.97443639, 0.97242351,\n",
      "       0.97202093, 0.9726248 , 0.97443639, 0.97504026, 0.97443639,\n",
      "       0.97584541, 0.97483897, 0.9742351 , 0.97443639, 0.97202093,\n",
      "       0.97222222, 0.97282609, 0.97383253, 0.97504026, 0.97443639,\n",
      "       0.97544283, 0.97443639, 0.9742351 , 0.97443639, 0.97222222,\n",
      "       0.97222222, 0.97383253, 0.9742351 , 0.97524155, 0.97463768,\n",
      "       0.97544283, 0.9742351 , 0.9742351 , 0.9742351 , 0.97222222]), 'split3_test_score': array([0.71276167, 0.76670692, 0.80253623, 0.82045089, 0.8305153 ,\n",
      "       0.83695652, 0.84460548, 0.85205314, 0.85849436, 0.71276167,\n",
      "       0.86553945, 0.89029791, 0.90458937, 0.91082931, 0.91807568,\n",
      "       0.9212963 , 0.92592593, 0.92713366, 0.9281401 , 0.86553945,\n",
      "       0.92793881, 0.93599034, 0.94142512, 0.943438  , 0.94645733,\n",
      "       0.94806763, 0.95048309, 0.95249597, 0.95511272, 0.92793881,\n",
      "       0.95229469, 0.95772947, 0.96215781, 0.9623591 , 0.96256039,\n",
      "       0.96457327, 0.96537842, 0.96638486, 0.96638486, 0.95229469,\n",
      "       0.96195652, 0.96537842, 0.96880032, 0.97041063, 0.97061192,\n",
      "       0.97101449, 0.97121578, 0.97222222, 0.97322866, 0.96195652,\n",
      "       0.97061192, 0.97322866, 0.97322866, 0.97383253, 0.97242351,\n",
      "       0.97363124, 0.97302738, 0.97302738, 0.97322866, 0.97061192,\n",
      "       0.97222222, 0.97403382, 0.97342995, 0.97161836, 0.9726248 ,\n",
      "       0.97383253, 0.97342995, 0.97302738, 0.97222222, 0.97222222,\n",
      "       0.97322866, 0.97363124, 0.9726248 , 0.9726248 , 0.97383253,\n",
      "       0.97302738, 0.97282609, 0.97202093, 0.97181965, 0.97322866,\n",
      "       0.97363124, 0.97342995, 0.97363124, 0.97282609, 0.97322866,\n",
      "       0.97282609, 0.9726248 , 0.97161836, 0.97222222, 0.97363124,\n",
      "       0.97463768, 0.97383253, 0.97363124, 0.97342995, 0.97282609,\n",
      "       0.97222222, 0.97222222, 0.97141707, 0.97202093, 0.97463768,\n",
      "       0.97403382, 0.97342995, 0.97363124, 0.97302738, 0.9726248 ,\n",
      "       0.97202093, 0.97202093, 0.97161836, 0.97242351, 0.97403382]), 'split4_test_score': array([0.7192029 , 0.7705314 , 0.80696457, 0.82467794, 0.83695652,\n",
      "       0.84883253, 0.85466989, 0.86050725, 0.86574074, 0.7192029 ,\n",
      "       0.87419485, 0.89794686, 0.90780998, 0.91465378, 0.91988728,\n",
      "       0.92411433, 0.92693237, 0.92854267, 0.93055556, 0.87419485,\n",
      "       0.93015298, 0.94041868, 0.94444444, 0.94625604, 0.94947665,\n",
      "       0.95088567, 0.95309984, 0.95692432, 0.95692432, 0.93015298,\n",
      "       0.9555153 , 0.9623591 , 0.96276167, 0.96457327, 0.96477456,\n",
      "       0.96598229, 0.96618357, 0.96698873, 0.9673913 , 0.9555153 ,\n",
      "       0.96618357, 0.96638486, 0.96819646, 0.96940419, 0.96779388,\n",
      "       0.96759259, 0.96779388, 0.96859903, 0.96900161, 0.96618357,\n",
      "       0.96779388, 0.96900161, 0.9692029 , 0.96940419, 0.97000805,\n",
      "       0.97000805, 0.96940419, 0.97000805, 0.96960548, 0.96779388,\n",
      "       0.96819646, 0.96960548, 0.97101449, 0.97181965, 0.97161836,\n",
      "       0.97161836, 0.97141707, 0.97121578, 0.9708132 , 0.96819646,\n",
      "       0.96880032, 0.96980676, 0.97202093, 0.97161836, 0.97161836,\n",
      "       0.97121578, 0.97121578, 0.97141707, 0.97101449, 0.96880032,\n",
      "       0.9692029 , 0.97000805, 0.97202093, 0.97141707, 0.97101449,\n",
      "       0.97141707, 0.9708132 , 0.97141707, 0.97141707, 0.9692029 ,\n",
      "       0.96940419, 0.9708132 , 0.97202093, 0.97101449, 0.97121578,\n",
      "       0.97101449, 0.97101449, 0.97141707, 0.97121578, 0.96940419,\n",
      "       0.96859903, 0.97101449, 0.97141707, 0.9708132 , 0.97141707,\n",
      "       0.97121578, 0.97141707, 0.97161836, 0.97121578, 0.96859903]), 'mean_test_score': array([0.71541868, 0.7668277 , 0.79838969, 0.81799517, 0.83103865,\n",
      "       0.84094203, 0.84915459, 0.85648148, 0.86260064, 0.71541868,\n",
      "       0.86912238, 0.89533011, 0.9057971 , 0.91191626, 0.91727053,\n",
      "       0.92165862, 0.92520129, 0.92725443, 0.92898551, 0.86912238,\n",
      "       0.92725443, 0.93623188, 0.94190821, 0.94528986, 0.94730274,\n",
      "       0.94931562, 0.95096618, 0.95354267, 0.95543478, 0.92725443,\n",
      "       0.95454911, 0.95978261, 0.96123188, 0.96231884, 0.96360709,\n",
      "       0.9644525 , 0.96570048, 0.96670692, 0.96694847, 0.95454911,\n",
      "       0.96360709, 0.96602254, 0.96859903, 0.96952496, 0.97028986,\n",
      "       0.97097424, 0.97149758, 0.97198068, 0.97202093, 0.96360709,\n",
      "       0.96863929, 0.97141707, 0.97198068, 0.97218196, 0.97190016,\n",
      "       0.97254428, 0.97218196, 0.97202093, 0.97214171, 0.96863929,\n",
      "       0.97065217, 0.97194042, 0.97210145, 0.97246377, 0.97266506,\n",
      "       0.97294686, 0.97282609, 0.97266506, 0.972343  , 0.97065217,\n",
      "       0.97065217, 0.97194042, 0.97226248, 0.97250403, 0.9729066 ,\n",
      "       0.97274557, 0.97266506, 0.972343  , 0.97214171, 0.97065217,\n",
      "       0.97101449, 0.97169887, 0.97258454, 0.97254428, 0.97286634,\n",
      "       0.97282609, 0.97246377, 0.97230274, 0.97230274, 0.97101449,\n",
      "       0.97117552, 0.9718599 , 0.97242351, 0.97246377, 0.97254428,\n",
      "       0.97250403, 0.97230274, 0.972343  , 0.97210145, 0.97117552,\n",
      "       0.97093398, 0.97210145, 0.972343  , 0.97238325, 0.97258454,\n",
      "       0.97254428, 0.972343  , 0.97226248, 0.97210145, 0.97093398]), 'std_test_score': array([0.00315811, 0.00312509, 0.00746625, 0.00685965, 0.00597063,\n",
      "       0.00602441, 0.00504684, 0.00383611, 0.0026509 , 0.00315811,\n",
      "       0.00326906, 0.00365437, 0.00259654, 0.00344573, 0.00303138,\n",
      "       0.00319637, 0.00305163, 0.00172967, 0.0015716 , 0.00326906,\n",
      "       0.0021627 , 0.00289015, 0.00175756, 0.00179767, 0.00217317,\n",
      "       0.00140844, 0.00133883, 0.00189425, 0.00127051, 0.0021627 ,\n",
      "       0.00140844, 0.00256325, 0.00220721, 0.00234878, 0.00200239,\n",
      "       0.0018736 , 0.00210959, 0.00237349, 0.00214313, 0.00140844,\n",
      "       0.00222111, 0.00233841, 0.0015435 , 0.00123821, 0.0015414 ,\n",
      "       0.00187706, 0.00217764, 0.00194907, 0.00187533, 0.00222111,\n",
      "       0.00156643, 0.0016841 , 0.00163725, 0.00156125, 0.00102321,\n",
      "       0.00150415, 0.00191975, 0.00185797, 0.00227589, 0.00156643,\n",
      "       0.00162234, 0.00166279, 0.00139805, 0.0014256 , 0.00134366,\n",
      "       0.0018736 , 0.0018536 , 0.0021165 , 0.00207864, 0.00162234,\n",
      "       0.00181115, 0.00140959, 0.00148135, 0.00175294, 0.00123821,\n",
      "       0.00194574, 0.00177042, 0.00202332, 0.00198287, 0.00181115,\n",
      "       0.00160021, 0.00142104, 0.00159717, 0.00164318, 0.00133762,\n",
      "       0.00187533, 0.0018378 , 0.00188223, 0.00203928, 0.00160021,\n",
      "       0.0020622 , 0.00156643, 0.00145708, 0.00171934, 0.001164  ,\n",
      "       0.00179858, 0.00166279, 0.00189511, 0.00214766, 0.0020622 ,\n",
      "       0.0019499 , 0.00143805, 0.00166279, 0.00177955, 0.0012369 ,\n",
      "       0.00179858, 0.00150415, 0.00198613, 0.00217764, 0.0019499 ]), 'rank_test_score': array([109, 108, 107, 106, 105, 104, 103, 102, 101, 109,  99,  98,  97,\n",
      "        96,  95,  94,  93,  90,  89,  99,  90,  88,  87,  86,  85,  84,\n",
      "        83,  82,  79,  90,  80,  78,  77,  76,  73,  72,  71,  69,  68,\n",
      "        80,  73,  70,  67,  64,  63,  56,  50,  43,  41,  73,  65,  51,\n",
      "        43,  34,  47,  12,  33,  41,  35,  65,  59,  45,  37,  18,   8,\n",
      "         1,   4,   7,  23,  59,  59,  45,  31,  17,   2,   6,   8,  23,\n",
      "        35,  59,  54,  49,  10,  13,   3,   4,  18,  29,  29,  54,  52,\n",
      "        48,  21,  18,  13,  16,  28,  23,  37,  52,  57,  37,  26,  22,\n",
      "        11,  13,  26,  31,  37,  57])}\n",
      "网格搜索-最佳度量值: 0.9729468599033815\n",
      "网格搜索-最佳参数： {'svc__C': 500000, 'svc__gamma': 0.06}\n",
      "网格搜索-最佳模型： Pipeline(steps=[('scaler', QuantileTransformer()),\n",
      "                ('svc', SVC(C=500000, gamma=0.06))])\n"
     ]
    }
   ],
   "source": [
    "print('网格搜索-度量记录：',search.cv_results_)  # 包含每次训练的相关信息\n",
    "print('网格搜索-最佳度量值:',search.best_score_)  # 获取最佳度量值\n",
    "print('网格搜索-最佳参数：',search.best_params_)  # 获取最佳度量值时的代定参数的值。是一个字典\n",
    "print('网格搜索-最佳模型：',search.best_estimator_)  # 获取最佳度量时的分类器模型"
   ]
  },
  {
   "cell_type": "code",
   "execution_count": 4,
   "id": "46f5ddfc",
   "metadata": {
    "ExecuteTime": {
     "end_time": "2021-11-21T15:02:43.878375Z",
     "start_time": "2021-11-21T15:02:43.621937Z"
    }
   },
   "outputs": [
    {
     "name": "stdout",
     "output_type": "stream",
     "text": [
      "(110, 1)\n",
      "(110, 1)\n",
      "(110, 1)\n"
     ]
    }
   ],
   "source": [
    "xx=search.cv_results_['param_svc__C'].data.astype(float)\n",
    "yy=search.cv_results_['param_svc__gamma'].data.astype(float)\n",
    "zz=search.cv_results_['mean_test_score'].astype(float)\n",
    "xx=np.expand_dims(xx,axis=1)\n",
    "yy=np.expand_dims(yy,axis=1)\n",
    "zz=np.expand_dims(zz,axis=1)\n",
    "print(xx.shape)\n",
    "print(yy.shape)\n",
    "print(zz.shape)\n",
    "zxc=pd.DataFrame(np.hstack((xx,yy,zz)))\n",
    "zxc.columns=['C','gamma','acc']\n",
    "zxc=pd.pivot_table(zxc,index=['C'],columns=['gamma'],values=['acc'])\n",
    "zxc.to_csv(local_path+'\\\\blokagedata\\\\svm_finetune_grid_b.csv',encoding='ascii',index=True)"
   ]
  },
  {
   "cell_type": "code",
   "execution_count": 10,
   "id": "b251f1ec",
   "metadata": {
    "ExecuteTime": {
     "end_time": "2021-11-06T14:03:59.638984Z",
     "start_time": "2021-11-06T14:03:59.634994Z"
    }
   },
   "outputs": [],
   "source": [
    "zxc=pd.DataFrame(np.hstack((xx,yy,zz)))\n",
    "zxc.columns=['C','gamma','acc']"
   ]
  },
  {
   "cell_type": "code",
   "execution_count": 14,
   "id": "74b5d540",
   "metadata": {
    "ExecuteTime": {
     "end_time": "2021-11-06T15:46:49.329651Z",
     "start_time": "2021-11-06T15:46:49.318679Z"
    }
   },
   "outputs": [],
   "source": [
    "a=pd.pivot_table(zxc,index=['C'],columns=['gamma'],values=['acc'])"
   ]
  },
  {
   "cell_type": "code",
   "execution_count": 15,
   "id": "fdc2dfd0",
   "metadata": {
    "ExecuteTime": {
     "end_time": "2021-11-06T15:47:05.121012Z",
     "start_time": "2021-11-06T15:47:05.074137Z"
    }
   },
   "outputs": [],
   "source": [
    "a.to_csv(local_path+'\\\\blokagedata\\\\svm_finetune_grid_a.csv',encoding='ascii',index=False)"
   ]
  },
  {
   "cell_type": "markdown",
   "id": "6ac2c9e8",
   "metadata": {},
   "source": [
    "## RF"
   ]
  },
  {
   "cell_type": "code",
   "execution_count": null,
   "id": "7218d63d",
   "metadata": {},
   "outputs": [],
   "source": [
    "pipe = Pipeline([('scaler', QuantileTransformer(output_distribution = 'uniform')), ('rfc', RandomForestClassifier(criterion='gini',))])\n",
    "param_dist = {'rfc__n_estimators': randint(10, 500),\n",
    " 'rfc__min_samples_split': randint(2, 1000),\n",
    " 'rfc__max_depth': randint(2, 100)}\n",
    "splitter=StratifiedKFold(n_splits=5,random_state=1,shuffle=True)\n",
    "clf = RandomizedSearchCV(estimator=pipe,param_distributions=param_dist,n_iter=10,cv=splitter,random_state=11,n_jobs=-1,scoring='accuracy',verbose=3)\n",
    "search = clf.fit(x, y.ravel())"
   ]
  },
  {
   "cell_type": "code",
   "execution_count": null,
   "id": "7972f0bf",
   "metadata": {},
   "outputs": [],
   "source": []
  },
  {
   "cell_type": "markdown",
   "id": "3c2972f7",
   "metadata": {},
   "source": [
    "## KNN"
   ]
  },
  {
   "cell_type": "code",
   "execution_count": 2,
   "id": "0262a4ba",
   "metadata": {
    "ExecuteTime": {
     "end_time": "2021-11-21T14:31:55.217778Z",
     "start_time": "2021-11-21T14:30:37.785961Z"
    }
   },
   "outputs": [
    {
     "name": "stdout",
     "output_type": "stream",
     "text": [
      "Fitting 5 folds for each of 9 candidates, totalling 45 fits\n"
     ]
    }
   ],
   "source": [
    "pipe = Pipeline([('scaler', QuantileTransformer(output_distribution = 'uniform')), ('knn', KNeighborsClassifier())])\n",
    "param_dist = {'knn__n_neighbors': [1,2,3,4,5,6,7,8,9]}\n",
    "splitter=StratifiedKFold(n_splits=5,random_state=1,shuffle=True)\n",
    "clf = RandomizedSearchCV(estimator=pipe,param_distributions=param_dist,n_iter=9,cv=splitter,random_state=1,n_jobs=-1,scoring='accuracy',verbose=3)\n",
    "search = clf.fit(x, y.ravel())"
   ]
  },
  {
   "cell_type": "code",
   "execution_count": 3,
   "id": "f25c939f",
   "metadata": {
    "ExecuteTime": {
     "end_time": "2021-11-21T14:32:12.740740Z",
     "start_time": "2021-11-21T14:32:12.685497Z"
    },
    "scrolled": true
   },
   "outputs": [
    {
     "name": "stdout",
     "output_type": "stream",
     "text": [
      "网格搜索-度量记录： {'mean_fit_time': array([0.78091383, 0.80125742, 0.99373875, 1.14356465, 0.87585249,\n",
      "       0.63071332, 0.83117738, 1.26302209, 1.00910134]), 'std_fit_time': array([0.03164887, 0.0129205 , 0.1801537 , 0.04063109, 0.19028051,\n",
      "       0.31640862, 0.32353559, 0.17179595, 0.19318473]), 'mean_score_time': array([31.96349292, 23.43671041, 31.30537581, 25.62793326, 17.07385473,\n",
      "        7.51042676,  7.51011128,  6.77048931,  4.40521331]), 'std_score_time': array([16.89933086,  0.83386042, 11.19726379,  2.83026299, 12.45782324,\n",
      "        0.5610154 ,  0.51962969,  0.56653946,  0.3424864 ]), 'param_knn__n_neighbors': masked_array(data=[1, 2, 3, 4, 5, 6, 7, 8, 9],\n",
      "             mask=[False, False, False, False, False, False, False, False,\n",
      "                   False],\n",
      "       fill_value='?',\n",
      "            dtype=object), 'params': [{'knn__n_neighbors': 1}, {'knn__n_neighbors': 2}, {'knn__n_neighbors': 3}, {'knn__n_neighbors': 4}, {'knn__n_neighbors': 5}, {'knn__n_neighbors': 6}, {'knn__n_neighbors': 7}, {'knn__n_neighbors': 8}, {'knn__n_neighbors': 9}], 'split0_test_score': array([0.93397746, 0.91928341, 0.91908213, 0.91465378, 0.91223833,\n",
      "       0.90841385, 0.90056361, 0.89774557, 0.89432367]), 'split1_test_score': array([0.93276973, 0.91465378, 0.91485507, 0.90901771, 0.90640097,\n",
      "       0.90297907, 0.90036232, 0.89754428, 0.89472625]), 'split2_test_score': array([0.93941224, 0.91968599, 0.91566023, 0.90519324, 0.90358293,\n",
      "       0.89694042, 0.89412238, 0.88949275, 0.89009662]), 'split3_test_score': array([0.93115942, 0.91767311, 0.92049114, 0.9144525 , 0.91223833,\n",
      "       0.90680354, 0.90217391, 0.89814815, 0.89653784]), 'split4_test_score': array([0.93558776, 0.92371176, 0.91827697, 0.91203704, 0.91123188,\n",
      "       0.91082931, 0.90720612, 0.90277778, 0.90056361]), 'mean_test_score': array([0.93458132, 0.91900161, 0.91767311, 0.91107085, 0.90913849,\n",
      "       0.90519324, 0.90088567, 0.89714171, 0.8952496 ]), 'std_test_score': array([0.00281804, 0.00294624, 0.00211113, 0.00357682, 0.00352019,\n",
      "       0.00485268, 0.00418873, 0.00428512, 0.0033936 ]), 'rank_test_score': array([1, 2, 3, 4, 5, 6, 7, 8, 9])}\n",
      "网格搜索-最佳度量值: 0.9345813204508856\n",
      "网格搜索-最佳参数： {'knn__n_neighbors': 1}\n",
      "网格搜索-最佳模型： Pipeline(steps=[('scaler', QuantileTransformer()),\n",
      "                ('knn', KNeighborsClassifier(n_neighbors=1))])\n"
     ]
    }
   ],
   "source": [
    "print('网格搜索-度量记录：',search.cv_results_)  # 包含每次训练的相关信息\n",
    "print('网格搜索-最佳度量值:',search.best_score_)  # 获取最佳度量值\n",
    "print('网格搜索-最佳参数：',search.best_params_)  # 获取最佳度量值时的代定参数的值。是一个字典\n",
    "print('网格搜索-最佳模型：',search.best_estimator_)  # 获取最佳度量时的分类器模型"
   ]
  },
  {
   "cell_type": "code",
   "execution_count": 7,
   "id": "251efef8",
   "metadata": {
    "ExecuteTime": {
     "end_time": "2021-11-21T14:34:25.287584Z",
     "start_time": "2021-11-21T14:34:25.259683Z"
    }
   },
   "outputs": [
    {
     "name": "stdout",
     "output_type": "stream",
     "text": [
      "(9, 1)\n",
      "(9, 1)\n"
     ]
    }
   ],
   "source": [
    "xx=search.cv_results_['param_knn__n_neighbors'].data.astype(float)\n",
    "zz=search.cv_results_['mean_test_score'].astype(float)\n",
    "xx=np.expand_dims(xx,axis=1)\n",
    "zz=np.expand_dims(zz,axis=1)\n",
    "print(xx.shape)\n",
    "print(zz.shape)\n",
    "zxc=pd.DataFrame(np.hstack((xx,zz)))\n",
    "zxc.columns=['k','acc']\n",
    "# zxc=pd.pivot_table(zxc,index=['C'],columns=['gamma'],values=['acc'])\n",
    "# zxc.to_csv(local_path+'\\\\blokagedata\\\\svm_finetune_grid_b.csv',encoding='ascii',index=True)"
   ]
  },
  {
   "cell_type": "markdown",
   "id": "46682cad",
   "metadata": {},
   "source": [
    "# 思路4（116）"
   ]
  },
  {
   "cell_type": "code",
   "execution_count": null,
   "id": "27b550fd",
   "metadata": {},
   "outputs": [],
   "source": [
    "只训练一部分，测试另一部分"
   ]
  },
  {
   "cell_type": "markdown",
   "id": "649b54b8",
   "metadata": {},
   "source": [
    "## ANN"
   ]
  },
  {
   "cell_type": "code",
   "execution_count": 24,
   "id": "6d0c142c",
   "metadata": {
    "ExecuteTime": {
     "end_time": "2021-11-16T04:07:37.853708Z",
     "start_time": "2021-11-16T04:02:36.422804Z"
    },
    "scrolled": false
   },
   "outputs": [
    {
     "data": {
      "image/png": "[encoded data removed]",
      "text/plain": [
       "<Figure size 864x576 with 2 Axes>"
      ]
     },
     "metadata": {
      "needs_background": "light"
     },
     "output_type": "display_data"
    },
    {
     "name": "stdout",
     "output_type": "stream",
     "text": [
      "train_loss:0.0522\n",
      "test_acc:0.9886\n",
      "best_acc:0.9886\n",
      "train_acc: 0.9890589824403422\n"
     ]
    }
   ],
   "source": [
    "#读取模型数据\n",
    "sample=pd.read_csv(local_path+'\\\\blokagedata\\\\Sample_116.csv',header=0)\n",
    "#划分样本和标签\n",
    "s1=sample.iloc[np.where(sample.loc[:,'dn']==1)[0],:]\n",
    "s2=sample.iloc[np.where(sample.loc[:,'dn']==2)[0],:]\n",
    "s3=sample.iloc[np.where(sample.loc[:,'dn']==3)[0],:]\n",
    "s4=sample.iloc[np.where(sample.loc[:,'dn']==4)[0],:]\n",
    "s5=sample.iloc[np.where(sample.loc[:,'dn']==5)[0],:]\n",
    "s6=sample.iloc[np.where(sample.loc[:,'dn']==6)[0],:]\n",
    "s7=sample.iloc[np.where(sample.loc[:,'dn']==7)[0],:]\n",
    "s8=sample.iloc[np.where(sample.loc[:,'dn']==8)[0],:]\n",
    "s9=sample.iloc[np.where(sample.loc[:,'dn']==9)[0],:]\n",
    "\n",
    "s_train=pd.concat([s2,s3,s4,s5,s6,s7,s8,s9],axis=0)\n",
    "x_train=np.array(s_train.iloc[:,range(0,96)])\n",
    "\n",
    "s_test=pd.concat([s1],axis=0)\n",
    "x_test=np.array(s_test.iloc[:,range(0,96)])\n",
    "\n",
    "y_train=np.array(s_train.loc[:,'code']).reshape(-1,1).astype(int)\n",
    "y_test=np.array(s_test.loc[:,'code']).reshape(-1,1).astype(int)\n",
    "\n",
    "qt = QuantileTransformer(output_distribution = 'uniform' )\n",
    "x_train = qt.fit_transform(x_train)\n",
    "x_test = qt.transform(x_test)\n",
    "#numpy转为张量\n",
    "x_train_tensor=torch.from_numpy(x_train).float().to(device)\n",
    "y_train_tensor=torch.from_numpy(y_train).to(device)\n",
    "x_test_tensor=torch.from_numpy(x_test).float().to(device)\n",
    "y_test_tensor=torch.from_numpy(y_test).to(device)\n",
    "train_data=Data.TensorDataset(x_train_tensor,y_train_tensor.long().squeeze())\n",
    "#训练模型\n",
    "params={\n",
    "\"d1\":96,\n",
    "\"hidden_size\": 110,\n",
    "\"d2\":116,\n",
    "\"learning_rate\":0.01,\n",
    "\"epoches\":1500,\n",
    "\"weight_decay\":0.01\n",
    "}\n",
    "annmodel,best_acc=anntrain(params)\n",
    "train_acc=score_model(x_train_tensor,y_train_tensor,annmodel)\n",
    "print('train_acc:',train_acc)"
   ]
  },
  {
   "cell_type": "code",
   "execution_count": 25,
   "id": "202a3c5b",
   "metadata": {
    "ExecuteTime": {
     "end_time": "2021-11-16T04:08:25.303526Z",
     "start_time": "2021-11-16T04:08:25.288566Z"
    }
   },
   "outputs": [],
   "source": [
    "pre=run_model(x_test_tensor,annmodel)\n",
    "pre=torch.argmax(pre,1).unsqueeze(1).cpu().numpy()\n",
    "bool1=np.ones([len(pre),1])\n",
    "bool1[np.where(pre.ravel()!=y_test.ravel())]=0\n",
    "pred=pd.DataFrame(pre)\n",
    "para=s_test.iloc[:,range(96,99)].reset_index()\n",
    "bool2=pd.DataFrame(bool1.astype(int))\n",
    "a=pd.concat([pred,para,bool2],axis=1,ignore_index=True)\n",
    "a.columns=['pred','index','true','dn','time','bool']\n",
    "a=a[['index','pred','true','dn','time','bool']]\n",
    "a.to_csv(local_path+'\\\\blokagedata\\\\ann_test1.csv',encoding='ascii',index=True)"
   ]
  },
  {
   "cell_type": "markdown",
   "id": "d35f9516",
   "metadata": {},
   "source": [
    "# 思路5（116）"
   ]
  },
  {
   "cell_type": "code",
   "execution_count": null,
   "id": "3f5f28a8",
   "metadata": {},
   "outputs": [],
   "source": [
    "只训练一组，其余测试"
   ]
  },
  {
   "cell_type": "markdown",
   "id": "ddebd7df",
   "metadata": {},
   "source": [
    "## ANN"
   ]
  },
  {
   "cell_type": "code",
   "execution_count": 62,
   "id": "d4dd5998",
   "metadata": {
    "ExecuteTime": {
     "end_time": "2021-11-18T07:25:23.302603Z",
     "start_time": "2021-11-18T07:23:31.684566Z"
    }
   },
   "outputs": [
    {
     "data": {
      "image/png": "[encoded data removed]",
      "text/plain": [
       "<Figure size 864x576 with 2 Axes>"
      ]
     },
     "metadata": {
      "needs_background": "light"
     },
     "output_type": "display_data"
    },
    {
     "name": "stdout",
     "output_type": "stream",
     "text": [
      "train_loss:0.0391\n",
      "test_acc:0.9946\n",
      "best_acc:0.9953\n",
      "train_acc: 0.9929273555502277\n"
     ]
    }
   ],
   "source": [
    "#读取模型数据\n",
    "sample=pd.read_csv(local_path+'\\\\blokagedata\\\\Sample_116.csv',header=0)\n",
    "#划分样本和标签\n",
    "s1=sample.iloc[np.where(sample.loc[:,'dn']==1)[0],:]\n",
    "s2=sample.iloc[np.where(sample.loc[:,'dn']==2)[0],:]\n",
    "s3=sample.iloc[np.where(sample.loc[:,'dn']==3)[0],:]\n",
    "s4=sample.iloc[np.where(sample.loc[:,'dn']==4)[0],:]\n",
    "s5=sample.iloc[np.where(sample.loc[:,'dn']==5)[0],:]\n",
    "s6=sample.iloc[np.where(sample.loc[:,'dn']==6)[0],:]\n",
    "s7=sample.iloc[np.where(sample.loc[:,'dn']==7)[0],:]\n",
    "s8=sample.iloc[np.where(sample.loc[:,'dn']==8)[0],:]\n",
    "s9=sample.iloc[np.where(sample.loc[:,'dn']==9)[0],:]\n",
    "\n",
    "s_train=pd.concat([s3,s6,s9],axis=0)\n",
    "x_train=np.array(s_train.iloc[:,range(0,96)])\n",
    "\n",
    "s_test=pd.concat([s9],axis=0)\n",
    "x_test=np.array(s_test.iloc[:,range(0,96)])\n",
    "\n",
    "y_train=np.array(s_train.loc[:,'code']).reshape(-1,1).astype(int)\n",
    "y_test=np.array(s_test.loc[:,'code']).reshape(-1,1).astype(int)\n",
    "\n",
    "qt = QuantileTransformer(output_distribution = 'uniform' )\n",
    "x_train = qt.fit_transform(x_train)\n",
    "x_test = qt.transform(x_test)\n",
    "#numpy转为张量\n",
    "x_train_tensor=torch.from_numpy(x_train).float().to(device)\n",
    "y_train_tensor=torch.from_numpy(y_train).to(device)\n",
    "x_test_tensor=torch.from_numpy(x_test).float().to(device)\n",
    "y_test_tensor=torch.from_numpy(y_test).to(device)\n",
    "train_data=Data.TensorDataset(x_train_tensor,y_train_tensor.long().squeeze())\n",
    "#训练模型\n",
    "params={\n",
    "\"d1\":96,\n",
    "\"hidden_size\": 110,\n",
    "\"d2\":116,\n",
    "\"learning_rate\":0.01,\n",
    "\"epoches\":1500,\n",
    "\"weight_decay\":0.01\n",
    "}\n",
    "annmodel,best_acc=anntrain(params)\n",
    "train_acc=score_model(x_train_tensor,y_train_tensor,annmodel)\n",
    "print('train_acc:',train_acc)"
   ]
  },
  {
   "cell_type": "code",
   "execution_count": 63,
   "id": "ef1e054e",
   "metadata": {
    "ExecuteTime": {
     "end_time": "2021-11-18T07:25:28.395422Z",
     "start_time": "2021-11-18T07:25:28.078268Z"
    }
   },
   "outputs": [
    {
     "name": "stdout",
     "output_type": "stream",
     "text": [
      "test_acc: 0.9642585551330799\n",
      "test_acc: 0.985096328607779\n",
      "test_acc: 0.9906508450197771\n",
      "test_acc: 0.9852198990627253\n",
      "test_acc: 0.9831056793673616\n",
      "test_acc: 0.9935181850918257\n",
      "test_acc: 0.9629496402877697\n",
      "test_acc: 0.9579288025889967\n",
      "test_acc: 0.9946120689655172\n"
     ]
    }
   ],
   "source": [
    "for i in [s1,s2,s3,s4,s5,s6,s7,s8,s9]:\n",
    "    s_test=pd.concat([i],axis=0)\n",
    "    x_test=np.array(s_test.iloc[:,range(0,96)])\n",
    "    x_test = qt.transform(x_test)\n",
    "\n",
    "    y_test=np.array(s_test.loc[:,'code']).reshape(-1,1).astype(int)\n",
    "    x_test_tensor=torch.from_numpy(x_test).float().to(device)\n",
    "    y_test_tensor=torch.from_numpy(y_test).to(device)\n",
    "    test_acc=score_model(x_test_tensor,y_test_tensor,annmodel)\n",
    "    print('test_acc:',test_acc)"
   ]
  },
  {
   "cell_type": "markdown",
   "id": "322de711",
   "metadata": {},
   "source": [
    "# 思路6（9）"
   ]
  },
  {
   "cell_type": "code",
   "execution_count": null,
   "id": "f1fffdc9",
   "metadata": {},
   "outputs": [],
   "source": [
    "识别不同程度"
   ]
  },
  {
   "cell_type": "markdown",
   "id": "3e96edba",
   "metadata": {},
   "source": [
    "## ANN"
   ]
  },
  {
   "cell_type": "code",
   "execution_count": 30,
   "id": "dfdb8f1c",
   "metadata": {
    "ExecuteTime": {
     "end_time": "2021-11-21T12:46:08.108661Z",
     "start_time": "2021-11-21T12:46:07.718779Z"
    }
   },
   "outputs": [],
   "source": [
    "#读取模型数据\n",
    "sample=pd.read_csv(local_path+'\\\\blokagedata\\\\Sample_116.csv',header=0)"
   ]
  },
  {
   "cell_type": "code",
   "execution_count": 31,
   "id": "cde3630d",
   "metadata": {
    "ExecuteTime": {
     "end_time": "2021-11-21T12:46:08.216415Z",
     "start_time": "2021-11-21T12:46:08.205413Z"
    }
   },
   "outputs": [],
   "source": [
    "s=np.array(sample)"
   ]
  },
  {
   "cell_type": "code",
   "execution_count": 32,
   "id": "5593a94e",
   "metadata": {
    "ExecuteTime": {
     "end_time": "2021-11-21T12:46:16.522850Z",
     "start_time": "2021-11-21T12:46:16.515869Z"
    },
    "scrolled": true
   },
   "outputs": [],
   "source": [
    "for i in range(1,10):\n",
    "    s[np.where(sample.loc[:,'dn']==i),97]=i-1"
   ]
  },
  {
   "cell_type": "code",
   "execution_count": 36,
   "id": "992314bc",
   "metadata": {
    "ExecuteTime": {
     "end_time": "2021-11-21T14:24:48.932913Z",
     "start_time": "2021-11-21T14:05:29.237475Z"
    }
   },
   "outputs": [
    {
     "data": {
      "image/png": "[encoded data removed]",
      "text/plain": [
       "<Figure size 864x576 with 2 Axes>"
      ]
     },
     "metadata": {
      "needs_background": "light"
     },
     "output_type": "display_data"
    },
    {
     "name": "stdout",
     "output_type": "stream",
     "text": [
      "train_loss:0.8284\n",
      "test_acc:0.6363\n",
      "best_acc:0.6417\n",
      "train_acc: 0.6901167471819646\n",
      "acc: [0.6378824476650563, 0.6276167471819646, 0.6529790660225443, 0.6417069243156199]\n"
     ]
    },
    {
     "name": "stderr",
     "output_type": "stream",
     "text": [
      "  2%|▏         | 25/1500 [00:04<04:45,  5.16it/s]\n"
     ]
    },
    {
     "ename": "KeyboardInterrupt",
     "evalue": "",
     "output_type": "error",
     "traceback": [
      "\u001b[1;31m---------------------------------------------------------------------------\u001b[0m",
      "\u001b[1;31mKeyboardInterrupt\u001b[0m                         Traceback (most recent call last)",
      "\u001b[1;32m<ipython-input-36-f73b433b295f>\u001b[0m in \u001b[0;36m<module>\u001b[1;34m\u001b[0m\n\u001b[0;32m     32\u001b[0m         \u001b[0my_test_tensor\u001b[0m\u001b[1;33m=\u001b[0m\u001b[0mtorch\u001b[0m\u001b[1;33m.\u001b[0m\u001b[0mfrom_numpy\u001b[0m\u001b[1;33m(\u001b[0m\u001b[0my_test\u001b[0m\u001b[1;33m)\u001b[0m\u001b[1;33m.\u001b[0m\u001b[0mto\u001b[0m\u001b[1;33m(\u001b[0m\u001b[0mdevice\u001b[0m\u001b[1;33m)\u001b[0m\u001b[1;33m\u001b[0m\u001b[1;33m\u001b[0m\u001b[0m\n\u001b[0;32m     33\u001b[0m         \u001b[0mtrain_data\u001b[0m\u001b[1;33m=\u001b[0m\u001b[0mData\u001b[0m\u001b[1;33m.\u001b[0m\u001b[0mTensorDataset\u001b[0m\u001b[1;33m(\u001b[0m\u001b[0mx_train_tensor\u001b[0m\u001b[1;33m,\u001b[0m\u001b[0my_train_tensor\u001b[0m\u001b[1;33m.\u001b[0m\u001b[0mlong\u001b[0m\u001b[1;33m(\u001b[0m\u001b[1;33m)\u001b[0m\u001b[1;33m.\u001b[0m\u001b[0msqueeze\u001b[0m\u001b[1;33m(\u001b[0m\u001b[1;33m)\u001b[0m\u001b[1;33m)\u001b[0m\u001b[1;33m\u001b[0m\u001b[1;33m\u001b[0m\u001b[0m\n\u001b[1;32m---> 34\u001b[1;33m         \u001b[0mannmodel\u001b[0m\u001b[1;33m,\u001b[0m\u001b[0mbest_acc\u001b[0m\u001b[1;33m=\u001b[0m\u001b[0manntrain\u001b[0m\u001b[1;33m(\u001b[0m\u001b[0mparams\u001b[0m\u001b[1;33m)\u001b[0m\u001b[1;33m\u001b[0m\u001b[1;33m\u001b[0m\u001b[0m\n\u001b[0m\u001b[0;32m     35\u001b[0m         \u001b[0mtrain_acc\u001b[0m\u001b[1;33m=\u001b[0m\u001b[0mscore_model\u001b[0m\u001b[1;33m(\u001b[0m\u001b[0mx_train_tensor\u001b[0m\u001b[1;33m,\u001b[0m\u001b[0my_train_tensor\u001b[0m\u001b[1;33m,\u001b[0m\u001b[0mannmodel\u001b[0m\u001b[1;33m)\u001b[0m\u001b[1;33m\u001b[0m\u001b[1;33m\u001b[0m\u001b[0m\n\u001b[0;32m     36\u001b[0m         \u001b[0mprint\u001b[0m\u001b[1;33m(\u001b[0m\u001b[1;34m'train_acc:'\u001b[0m\u001b[1;33m,\u001b[0m\u001b[0mtrain_acc\u001b[0m\u001b[1;33m)\u001b[0m\u001b[1;33m\u001b[0m\u001b[1;33m\u001b[0m\u001b[0m\n",
      "\u001b[1;32m<ipython-input-4-80fcbbe5f91c>\u001b[0m in \u001b[0;36manntrain\u001b[1;34m(args)\u001b[0m\n\u001b[0;32m     28\u001b[0m     \u001b[0mbest_acc\u001b[0m\u001b[1;33m=\u001b[0m\u001b[1;36m0\u001b[0m\u001b[1;33m\u001b[0m\u001b[1;33m\u001b[0m\u001b[0m\n\u001b[0;32m     29\u001b[0m     \u001b[1;32mfor\u001b[0m \u001b[0mepoch\u001b[0m \u001b[1;32min\u001b[0m \u001b[0mtqdm\u001b[0m\u001b[1;33m(\u001b[0m\u001b[0mrange\u001b[0m\u001b[1;33m(\u001b[0m\u001b[0margs\u001b[0m\u001b[1;33m[\u001b[0m\u001b[1;34m'epoches'\u001b[0m\u001b[1;33m]\u001b[0m\u001b[1;33m)\u001b[0m\u001b[1;33m)\u001b[0m\u001b[1;33m:\u001b[0m\u001b[1;33m\u001b[0m\u001b[1;33m\u001b[0m\u001b[0m\n\u001b[1;32m---> 30\u001b[1;33m         \u001b[1;32mfor\u001b[0m \u001b[0mstep\u001b[0m\u001b[1;33m,\u001b[0m\u001b[1;33m(\u001b[0m\u001b[0mbatch_x\u001b[0m\u001b[1;33m,\u001b[0m\u001b[0mbatch_y\u001b[0m\u001b[1;33m)\u001b[0m \u001b[1;32min\u001b[0m \u001b[0menumerate\u001b[0m\u001b[1;33m(\u001b[0m\u001b[0mtrain_loader\u001b[0m\u001b[1;33m)\u001b[0m\u001b[1;33m:\u001b[0m\u001b[1;33m\u001b[0m\u001b[1;33m\u001b[0m\u001b[0m\n\u001b[0m\u001b[0;32m     31\u001b[0m             \u001b[1;31m#输出层与标签之间的误差\u001b[0m\u001b[1;33m\u001b[0m\u001b[1;33m\u001b[0m\u001b[1;33m\u001b[0m\u001b[0m\n\u001b[0;32m     32\u001b[0m             \u001b[0mmodel\u001b[0m\u001b[1;33m.\u001b[0m\u001b[0mtrain\u001b[0m\u001b[1;33m(\u001b[0m\u001b[1;33m)\u001b[0m\u001b[1;33m\u001b[0m\u001b[1;33m\u001b[0m\u001b[0m\n",
      "\u001b[1;32mE:\\Anaconda3\\lib\\site-packages\\torch\\utils\\data\\dataloader.py\u001b[0m in \u001b[0;36m__next__\u001b[1;34m(self)\u001b[0m\n\u001b[0;32m    519\u001b[0m             \u001b[1;32mif\u001b[0m \u001b[0mself\u001b[0m\u001b[1;33m.\u001b[0m\u001b[0m_sampler_iter\u001b[0m \u001b[1;32mis\u001b[0m \u001b[1;32mNone\u001b[0m\u001b[1;33m:\u001b[0m\u001b[1;33m\u001b[0m\u001b[1;33m\u001b[0m\u001b[0m\n\u001b[0;32m    520\u001b[0m                 \u001b[0mself\u001b[0m\u001b[1;33m.\u001b[0m\u001b[0m_reset\u001b[0m\u001b[1;33m(\u001b[0m\u001b[1;33m)\u001b[0m\u001b[1;33m\u001b[0m\u001b[1;33m\u001b[0m\u001b[0m\n\u001b[1;32m--> 521\u001b[1;33m             \u001b[0mdata\u001b[0m \u001b[1;33m=\u001b[0m \u001b[0mself\u001b[0m\u001b[1;33m.\u001b[0m\u001b[0m_next_data\u001b[0m\u001b[1;33m(\u001b[0m\u001b[1;33m)\u001b[0m\u001b[1;33m\u001b[0m\u001b[1;33m\u001b[0m\u001b[0m\n\u001b[0m\u001b[0;32m    522\u001b[0m             \u001b[0mself\u001b[0m\u001b[1;33m.\u001b[0m\u001b[0m_num_yielded\u001b[0m \u001b[1;33m+=\u001b[0m \u001b[1;36m1\u001b[0m\u001b[1;33m\u001b[0m\u001b[1;33m\u001b[0m\u001b[0m\n\u001b[0;32m    523\u001b[0m             \u001b[1;32mif\u001b[0m \u001b[0mself\u001b[0m\u001b[1;33m.\u001b[0m\u001b[0m_dataset_kind\u001b[0m \u001b[1;33m==\u001b[0m \u001b[0m_DatasetKind\u001b[0m\u001b[1;33m.\u001b[0m\u001b[0mIterable\u001b[0m \u001b[1;32mand\u001b[0m\u001b[0;31m \u001b[0m\u001b[0;31m\\\u001b[0m\u001b[1;33m\u001b[0m\u001b[1;33m\u001b[0m\u001b[0m\n",
      "\u001b[1;32mE:\\Anaconda3\\lib\\site-packages\\torch\\utils\\data\\dataloader.py\u001b[0m in \u001b[0;36m_next_data\u001b[1;34m(self)\u001b[0m\n\u001b[0;32m    559\u001b[0m     \u001b[1;32mdef\u001b[0m \u001b[0m_next_data\u001b[0m\u001b[1;33m(\u001b[0m\u001b[0mself\u001b[0m\u001b[1;33m)\u001b[0m\u001b[1;33m:\u001b[0m\u001b[1;33m\u001b[0m\u001b[1;33m\u001b[0m\u001b[0m\n\u001b[0;32m    560\u001b[0m         \u001b[0mindex\u001b[0m \u001b[1;33m=\u001b[0m \u001b[0mself\u001b[0m\u001b[1;33m.\u001b[0m\u001b[0m_next_index\u001b[0m\u001b[1;33m(\u001b[0m\u001b[1;33m)\u001b[0m  \u001b[1;31m# may raise StopIteration\u001b[0m\u001b[1;33m\u001b[0m\u001b[1;33m\u001b[0m\u001b[0m\n\u001b[1;32m--> 561\u001b[1;33m         \u001b[0mdata\u001b[0m \u001b[1;33m=\u001b[0m \u001b[0mself\u001b[0m\u001b[1;33m.\u001b[0m\u001b[0m_dataset_fetcher\u001b[0m\u001b[1;33m.\u001b[0m\u001b[0mfetch\u001b[0m\u001b[1;33m(\u001b[0m\u001b[0mindex\u001b[0m\u001b[1;33m)\u001b[0m  \u001b[1;31m# may raise StopIteration\u001b[0m\u001b[1;33m\u001b[0m\u001b[1;33m\u001b[0m\u001b[0m\n\u001b[0m\u001b[0;32m    562\u001b[0m         \u001b[1;32mif\u001b[0m \u001b[0mself\u001b[0m\u001b[1;33m.\u001b[0m\u001b[0m_pin_memory\u001b[0m\u001b[1;33m:\u001b[0m\u001b[1;33m\u001b[0m\u001b[1;33m\u001b[0m\u001b[0m\n\u001b[0;32m    563\u001b[0m             \u001b[0mdata\u001b[0m \u001b[1;33m=\u001b[0m \u001b[0m_utils\u001b[0m\u001b[1;33m.\u001b[0m\u001b[0mpin_memory\u001b[0m\u001b[1;33m.\u001b[0m\u001b[0mpin_memory\u001b[0m\u001b[1;33m(\u001b[0m\u001b[0mdata\u001b[0m\u001b[1;33m)\u001b[0m\u001b[1;33m\u001b[0m\u001b[1;33m\u001b[0m\u001b[0m\n",
      "\u001b[1;32mE:\\Anaconda3\\lib\\site-packages\\torch\\utils\\data\\_utils\\fetch.py\u001b[0m in \u001b[0;36mfetch\u001b[1;34m(self, possibly_batched_index)\u001b[0m\n\u001b[0;32m     42\u001b[0m     \u001b[1;32mdef\u001b[0m \u001b[0mfetch\u001b[0m\u001b[1;33m(\u001b[0m\u001b[0mself\u001b[0m\u001b[1;33m,\u001b[0m \u001b[0mpossibly_batched_index\u001b[0m\u001b[1;33m)\u001b[0m\u001b[1;33m:\u001b[0m\u001b[1;33m\u001b[0m\u001b[1;33m\u001b[0m\u001b[0m\n\u001b[0;32m     43\u001b[0m         \u001b[1;32mif\u001b[0m \u001b[0mself\u001b[0m\u001b[1;33m.\u001b[0m\u001b[0mauto_collation\u001b[0m\u001b[1;33m:\u001b[0m\u001b[1;33m\u001b[0m\u001b[1;33m\u001b[0m\u001b[0m\n\u001b[1;32m---> 44\u001b[1;33m             \u001b[0mdata\u001b[0m \u001b[1;33m=\u001b[0m \u001b[1;33m[\u001b[0m\u001b[0mself\u001b[0m\u001b[1;33m.\u001b[0m\u001b[0mdataset\u001b[0m\u001b[1;33m[\u001b[0m\u001b[0midx\u001b[0m\u001b[1;33m]\u001b[0m \u001b[1;32mfor\u001b[0m \u001b[0midx\u001b[0m \u001b[1;32min\u001b[0m \u001b[0mpossibly_batched_index\u001b[0m\u001b[1;33m]\u001b[0m\u001b[1;33m\u001b[0m\u001b[1;33m\u001b[0m\u001b[0m\n\u001b[0m\u001b[0;32m     45\u001b[0m         \u001b[1;32melse\u001b[0m\u001b[1;33m:\u001b[0m\u001b[1;33m\u001b[0m\u001b[1;33m\u001b[0m\u001b[0m\n\u001b[0;32m     46\u001b[0m             \u001b[0mdata\u001b[0m \u001b[1;33m=\u001b[0m \u001b[0mself\u001b[0m\u001b[1;33m.\u001b[0m\u001b[0mdataset\u001b[0m\u001b[1;33m[\u001b[0m\u001b[0mpossibly_batched_index\u001b[0m\u001b[1;33m]\u001b[0m\u001b[1;33m\u001b[0m\u001b[1;33m\u001b[0m\u001b[0m\n",
      "\u001b[1;32mE:\\Anaconda3\\lib\\site-packages\\torch\\utils\\data\\_utils\\fetch.py\u001b[0m in \u001b[0;36m<listcomp>\u001b[1;34m(.0)\u001b[0m\n\u001b[0;32m     42\u001b[0m     \u001b[1;32mdef\u001b[0m \u001b[0mfetch\u001b[0m\u001b[1;33m(\u001b[0m\u001b[0mself\u001b[0m\u001b[1;33m,\u001b[0m \u001b[0mpossibly_batched_index\u001b[0m\u001b[1;33m)\u001b[0m\u001b[1;33m:\u001b[0m\u001b[1;33m\u001b[0m\u001b[1;33m\u001b[0m\u001b[0m\n\u001b[0;32m     43\u001b[0m         \u001b[1;32mif\u001b[0m \u001b[0mself\u001b[0m\u001b[1;33m.\u001b[0m\u001b[0mauto_collation\u001b[0m\u001b[1;33m:\u001b[0m\u001b[1;33m\u001b[0m\u001b[1;33m\u001b[0m\u001b[0m\n\u001b[1;32m---> 44\u001b[1;33m             \u001b[0mdata\u001b[0m \u001b[1;33m=\u001b[0m \u001b[1;33m[\u001b[0m\u001b[0mself\u001b[0m\u001b[1;33m.\u001b[0m\u001b[0mdataset\u001b[0m\u001b[1;33m[\u001b[0m\u001b[0midx\u001b[0m\u001b[1;33m]\u001b[0m \u001b[1;32mfor\u001b[0m \u001b[0midx\u001b[0m \u001b[1;32min\u001b[0m \u001b[0mpossibly_batched_index\u001b[0m\u001b[1;33m]\u001b[0m\u001b[1;33m\u001b[0m\u001b[1;33m\u001b[0m\u001b[0m\n\u001b[0m\u001b[0;32m     45\u001b[0m         \u001b[1;32melse\u001b[0m\u001b[1;33m:\u001b[0m\u001b[1;33m\u001b[0m\u001b[1;33m\u001b[0m\u001b[0m\n\u001b[0;32m     46\u001b[0m             \u001b[0mdata\u001b[0m \u001b[1;33m=\u001b[0m \u001b[0mself\u001b[0m\u001b[1;33m.\u001b[0m\u001b[0mdataset\u001b[0m\u001b[1;33m[\u001b[0m\u001b[0mpossibly_batched_index\u001b[0m\u001b[1;33m]\u001b[0m\u001b[1;33m\u001b[0m\u001b[1;33m\u001b[0m\u001b[0m\n",
      "\u001b[1;32mE:\\Anaconda3\\lib\\site-packages\\torch\\utils\\data\\dataset.py\u001b[0m in \u001b[0;36m__getitem__\u001b[1;34m(self, index)\u001b[0m\n\u001b[0;32m    207\u001b[0m \u001b[1;33m\u001b[0m\u001b[0m\n\u001b[0;32m    208\u001b[0m     \u001b[1;32mdef\u001b[0m \u001b[0m__getitem__\u001b[0m\u001b[1;33m(\u001b[0m\u001b[0mself\u001b[0m\u001b[1;33m,\u001b[0m \u001b[0mindex\u001b[0m\u001b[1;33m)\u001b[0m\u001b[1;33m:\u001b[0m\u001b[1;33m\u001b[0m\u001b[1;33m\u001b[0m\u001b[0m\n\u001b[1;32m--> 209\u001b[1;33m         \u001b[1;32mreturn\u001b[0m \u001b[0mtuple\u001b[0m\u001b[1;33m(\u001b[0m\u001b[0mtensor\u001b[0m\u001b[1;33m[\u001b[0m\u001b[0mindex\u001b[0m\u001b[1;33m]\u001b[0m \u001b[1;32mfor\u001b[0m \u001b[0mtensor\u001b[0m \u001b[1;32min\u001b[0m \u001b[0mself\u001b[0m\u001b[1;33m.\u001b[0m\u001b[0mtensors\u001b[0m\u001b[1;33m)\u001b[0m\u001b[1;33m\u001b[0m\u001b[1;33m\u001b[0m\u001b[0m\n\u001b[0m\u001b[0;32m    210\u001b[0m \u001b[1;33m\u001b[0m\u001b[0m\n\u001b[0;32m    211\u001b[0m     \u001b[1;32mdef\u001b[0m \u001b[0m__len__\u001b[0m\u001b[1;33m(\u001b[0m\u001b[0mself\u001b[0m\u001b[1;33m)\u001b[0m\u001b[1;33m:\u001b[0m\u001b[1;33m\u001b[0m\u001b[1;33m\u001b[0m\u001b[0m\n",
      "\u001b[1;32mE:\\Anaconda3\\lib\\site-packages\\torch\\utils\\data\\dataset.py\u001b[0m in \u001b[0;36m<genexpr>\u001b[1;34m(.0)\u001b[0m\n\u001b[0;32m    207\u001b[0m \u001b[1;33m\u001b[0m\u001b[0m\n\u001b[0;32m    208\u001b[0m     \u001b[1;32mdef\u001b[0m \u001b[0m__getitem__\u001b[0m\u001b[1;33m(\u001b[0m\u001b[0mself\u001b[0m\u001b[1;33m,\u001b[0m \u001b[0mindex\u001b[0m\u001b[1;33m)\u001b[0m\u001b[1;33m:\u001b[0m\u001b[1;33m\u001b[0m\u001b[1;33m\u001b[0m\u001b[0m\n\u001b[1;32m--> 209\u001b[1;33m         \u001b[1;32mreturn\u001b[0m \u001b[0mtuple\u001b[0m\u001b[1;33m(\u001b[0m\u001b[0mtensor\u001b[0m\u001b[1;33m[\u001b[0m\u001b[0mindex\u001b[0m\u001b[1;33m]\u001b[0m \u001b[1;32mfor\u001b[0m \u001b[0mtensor\u001b[0m \u001b[1;32min\u001b[0m \u001b[0mself\u001b[0m\u001b[1;33m.\u001b[0m\u001b[0mtensors\u001b[0m\u001b[1;33m)\u001b[0m\u001b[1;33m\u001b[0m\u001b[1;33m\u001b[0m\u001b[0m\n\u001b[0m\u001b[0;32m    210\u001b[0m \u001b[1;33m\u001b[0m\u001b[0m\n\u001b[0;32m    211\u001b[0m     \u001b[1;32mdef\u001b[0m \u001b[0m__len__\u001b[0m\u001b[1;33m(\u001b[0m\u001b[0mself\u001b[0m\u001b[1;33m)\u001b[0m\u001b[1;33m:\u001b[0m\u001b[1;33m\u001b[0m\u001b[1;33m\u001b[0m\u001b[0m\n",
      "\u001b[1;31mKeyboardInterrupt\u001b[0m: "
     ]
    }
   ],
   "source": [
    "#读取模型数据\n",
    "sample=pd.read_csv(local_path+'\\\\blokagedata\\\\Sample_116.csv',header=0)\n",
    "#划分样本和标签\n",
    "x=s[:,range(0,96)]#.astype(int)\n",
    "y=s[:,97].reshape(-1,1).astype(int)\n",
    "#训练模型\n",
    "\n",
    "skf = StratifiedKFold(n_splits=5,shuffle=True,random_state=1)\n",
    "score_record=[]\n",
    "hs_record=[]\n",
    "for hs in range(100,300,10):\n",
    "    params={\n",
    "    \"d1\":96,\n",
    "    \"hidden_size\": hs,\n",
    "    \"d2\":9,\n",
    "    \"learning_rate\":0.01,\n",
    "    \"epoches\":1500,\n",
    "    \"weight_decay\":0.01\n",
    "    }\n",
    "    acc=[]\n",
    "    for train_index, test_index in skf.split(x,y):\n",
    "        x_train, x_test = x[train_index], x[test_index]\n",
    "        y_train, y_test = y[train_index], y[test_index]\n",
    "        #qt\n",
    "        qt = QuantileTransformer(output_distribution = 'uniform' )\n",
    "        x_train = qt.fit_transform(x_train)\n",
    "        x_test = qt.transform(x_test)\n",
    "        #numpy转为张量\n",
    "        x_train_tensor=torch.from_numpy(x_train).float().to(device)\n",
    "        y_train_tensor=torch.from_numpy(y_train).to(device)\n",
    "        x_test_tensor=torch.from_numpy(x_test).float().to(device)\n",
    "        y_test_tensor=torch.from_numpy(y_test).to(device)\n",
    "        train_data=Data.TensorDataset(x_train_tensor,y_train_tensor.long().squeeze())\n",
    "        annmodel,best_acc=anntrain(params)\n",
    "        train_acc=score_model(x_train_tensor,y_train_tensor,annmodel)\n",
    "        print('train_acc:',train_acc)\n",
    "        acc.append(best_acc)\n",
    "        print('acc:',acc)\n",
    "    ave_score=np.mean(acc)\n",
    "    print('ave_acc',ave_score)\n",
    "    score_record.append(ave_score)\n",
    "    hs_record.append(hs)\n",
    "    print('score_record:',score_record)\n",
    "    print('hs_record:',hs_record)"
   ]
  },
  {
   "cell_type": "code",
   "execution_count": null,
   "id": "4ceaf197",
   "metadata": {},
   "outputs": [],
   "source": []
  }
 ],
 "metadata": {
  "kernelspec": {
   "display_name": "Python 3",
   "language": "python",
   "name": "python3"
  },
  "language_info": {
   "codemirror_mode": {
    "name": "ipython",
    "version": 3
   },
   "file_extension": ".py",
   "mimetype": "text/x-python",
   "name": "python",
   "nbconvert_exporter": "python",
   "pygments_lexer": "ipython3",
   "version": "3.8.8"
  },
  "toc": {
   "base_numbering": 1,
   "nav_menu": {},
   "number_sections": true,
   "sideBar": true,
   "skip_h1_title": false,
   "title_cell": "Table of Contents",
   "title_sidebar": "Contents",
   "toc_cell": false,
   "toc_position": {
    "height": "calc(100% - 180px)",
    "left": "10px",
    "top": "150px",
    "width": "198px"
   },
   "toc_section_display": true,
   "toc_window_display": true
  },
  "varInspector": {
   "cols": {
    "lenName": 16,
    "lenType": 16,
    "lenVar": 40
   },
   "kernels_config": {
    "python": {
     "delete_cmd_postfix": "",
     "delete_cmd_prefix": "del ",
     "library": "var_list.py",
     "varRefreshCmd": "print(var_dic_list())"
    },
    "r": {
     "delete_cmd_postfix": ") ",
     "delete_cmd_prefix": "rm(",
     "library": "var_list.r",
     "varRefreshCmd": "cat(var_dic_list()) "
    }
   },
   "position": {
    "height": "762px",
    "left": "1606px",
    "right": "20px",
    "top": "121px",
    "width": "281px"
   },
   "types_to_exclude": [
    "module",
    "function",
    "builtin_function_or_method",
    "instance",
    "_Feature"
   ],
   "window_display": false
  }
 },
 "nbformat": 4,
 "nbformat_minor": 5
}
