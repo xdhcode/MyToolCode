{
 "cells": [
  {
   "cell_type": "code",
   "execution_count": null,
   "id": "91683c27",
   "metadata": {},
   "outputs": [],
   "source": [
    "import pandas as pd\n",
    "import numpy as np\n",
    "from tqdm import tqdm\n",
    "import os\n",
    "import matplotlib\n",
    "import matplotlib.pyplot as plt \n",
    "from sklearn.model_selection import train_test_split,RandomizedSearchCV,GridSearchCV,StratifiedKFold,cross_validate\n",
    "from sklearn.decomposition import PCA\n",
    "from sklearn.preprocessing import QuantileTransformer\n",
    "from sklearn.metrics import accuracy_score,confusion_matrix\n",
    "from sklearn.pipeline import Pipeline\n",
    "from scipy.stats import loguniform,uniform,randint\n",
    "from sklearn.svm import SVC\n",
    "from sklearn.ensemble import RandomForestClassifier\n",
    "from sklearn.neighbors import KNeighborsClassifier\n",
    "#准备文件夹保存数据\n",
    "local_path=os.getcwd()\n",
    "if not os.path.exists(local_path+'\\\\blokagedata'):\n",
    "    os.mkdir(local_path+'\\\\blokagedata')\n",
    "print(local_path+'\\\\blokagedata')\n",
    "#读取模型数据\n",
    "sample=pd.read_csv(local_path+'\\\\blokagedata\\\\Sample_116.csv',header=0)\n",
    "#划分样本和标签\n",
    "x=np.array(sample.iloc[:,range(0,96)])#.astype(int)\n",
    "y=np.array(sample.loc[:,'code']).reshape(-1,1).astype(int)"
   ]
  },
  {
   "cell_type": "code",
   "execution_count": null,
   "id": "cb9b71d7",
   "metadata": {},
   "outputs": [],
   "source": [
    "pipe = Pipeline([('scaler', QuantileTransformer(output_distribution = 'uniform')), ('rfc', RandomForestClassifier(criterion='gini',))])\n",
    "param_dist = {'rfc__n_estimators': randint(10, 1000),\n",
    " 'rfc__min_samples_split': randint(2, 1000),\n",
    " 'rfc__max_depth': randint(2, 1000),\n",
    " 'rfc__min_samples_leaf': randint(2, 1000)}\n",
    "splitter=StratifiedKFold(n_splits=5,random_state=1,shuffle=True)\n",
    "clf = RandomizedSearchCV(estimator=pipe,param_distributions=param_dist,n_iter=1000,cv=splitter,random_state=1,n_jobs=-1,scoring='accuracy',verbose=3)\n",
    "search = clf.fit(x, y.ravel())"
   ]
  },
  {
   "cell_type": "code",
   "execution_count": null,
   "id": "0953f61d",
   "metadata": {},
   "outputs": [],
   "source": [
    "print('网格搜索-度量记录：',search.cv_results_)  # 包含每次训练的相关信息\n",
    "print('网格搜索-最佳度量值:',search.best_score_)  # 获取最佳度量值\n",
    "print('网格搜索-最佳参数：',search.best_params_)  # 获取最佳度量值时的代定参数的值。是一个字典\n",
    "print('网格搜索-最佳模型：',search.best_estimator_)  # 获取最佳度量时的分类器模型"
   ]
  },
  {
   "cell_type": "code",
   "execution_count": null,
   "id": "08a5be3e",
   "metadata": {},
   "outputs": [],
   "source": [
    "q1=search.cv_results_['param_rfc__n_estimators'].data.astype(int)\n",
    "q2=search.cv_results_['param_rfc__min_samples_split'].data.astype(int)\n",
    "q3=search.cv_results_['param_rfc__max_depth'].data.astype(int)\n",
    "q4=search.cv_results_['param_rfc__min_samples_leaf'].data.astype(int)\n",
    "zz=search.cv_results_['mean_test_score'].astype(float)\n",
    "q1=np.expand_dims(q1,axis=1)\n",
    "q2=np.expand_dims(q2,axis=1)\n",
    "q3=np.expand_dims(q3,axis=1)\n",
    "\n",
    "zz=np.expand_dims(zz,axis=1)\n",
    "print(q1.shape)\n",
    "print(q2.shape)\n",
    "print(q3.shape)\n",
    "print(zz.shape)\n",
    "pd.DataFrame(np.hstack((q1,q2,q3,zz))).to_csv(local_path+'\\\\blokagedata\\\\rfc_finetune.csv',encoding='ascii',index=False)"
   ]
  },
  {
   "cell_type": "code",
   "execution_count": null,
   "id": "d18b3b25",
   "metadata": {},
   "outputs": [],
   "source": [
    "xx=search.cv_results_['param_svc__C'].data.astype(float)\n",
    "yy=search.cv_results_['param_svc__gamma'].data.astype(float)\n",
    "zz=search.cv_results_['mean_test_score'].astype(float)\n",
    "xx=np.expand_dims(xx,axis=1)\n",
    "yy=np.expand_dims(yy,axis=1)\n",
    "zz=np.expand_dims(zz,axis=1)\n",
    "print(xx.shape)\n",
    "print(yy.shape)\n",
    "print(zz.shape)\n",
    "zxc=pd.DataFrame(np.hstack((xx,yy,zz)))\n",
    "zxc.columns=['C','gamma','acc']\n",
    "zxc=pd.pivot_table(zxc,index=['C'],columns=['gamma'],values=['acc'])\n",
    "zxc.to_csv(local_path+'\\\\blokagedata\\\\svm_finetune_grid_b.csv',encoding='ascii',index=True)"
   ]
  }
 ],
 "metadata": {
  "kernelspec": {
   "display_name": "Python 3",
   "language": "python",
   "name": "python3"
  },
  "language_info": {
   "codemirror_mode": {
    "name": "ipython",
    "version": 3
   },
   "file_extension": ".py",
   "mimetype": "text/x-python",
   "name": "python",
   "nbconvert_exporter": "python",
   "pygments_lexer": "ipython3",
   "version": "3.8.8"
  },
  "toc": {
   "base_numbering": 1,
   "nav_menu": {},
   "number_sections": true,
   "sideBar": true,
   "skip_h1_title": false,
   "title_cell": "Table of Contents",
   "title_sidebar": "Contents",
   "toc_cell": false,
   "toc_position": {},
   "toc_section_display": true,
   "toc_window_display": false
  },
  "varInspector": {
   "cols": {
    "lenName": 16,
    "lenType": 16,
    "lenVar": 40
   },
   "kernels_config": {
    "python": {
     "delete_cmd_postfix": "",
     "delete_cmd_prefix": "del ",
     "library": "var_list.py",
     "varRefreshCmd": "print(var_dic_list())"
    },
    "r": {
     "delete_cmd_postfix": ") ",
     "delete_cmd_prefix": "rm(",
     "library": "var_list.r",
     "varRefreshCmd": "cat(var_dic_list()) "
    }
   },
   "types_to_exclude": [
    "module",
    "function",
    "builtin_function_or_method",
    "instance",
    "_Feature"
   ],
   "window_display": false
  }
 },
 "nbformat": 4,
 "nbformat_minor": 5
}
