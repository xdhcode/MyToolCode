{
 "cells": [
  {
   "cell_type": "code",
   "execution_count": null,
   "id": "7eac490c",
   "metadata": {},
   "outputs": [],
   "source": [
    "本节内容：\n",
    "将所需要的数据从仿真数据中提取出来构成样本集。"
   ]
  },
  {
   "cell_type": "code",
   "execution_count": null,
   "id": "04a399c5",
   "metadata": {},
   "outputs": [],
   "source": [
    "import os\n",
    "import pandas as pd\n",
    "import numpy as np\n",
    "from tqdm import tqdm\n",
    "#准备文件夹保存数据\n",
    "local_path=os.getcwd()\n",
    "if not os.path.exists(local_path+'\\\\blokagedata'):\n",
    "    os.mkdir(local_path+'\\\\blokagedata')\n",
    "print(local_path+'\\\\blokagedata')\n",
    "#指定Block数据文件夹\n",
    "file_path='C:\\\\Users\\\\XDHHome\\\\Desktop\\\\Block'"
   ]
  },
  {
   "cell_type": "markdown",
   "id": "b28a57af",
   "metadata": {},
   "source": [
    "# 整理样本标签"
   ]
  },
  {
   "cell_type": "code",
   "execution_count": null,
   "id": "349576de",
   "metadata": {},
   "outputs": [],
   "source": [
    "# 获取SamplePipeBlock中的管道编号\n",
    "for i in tqdm(range(24)):\n",
    "    Pipe_code=pd.read_csv(file_path+'\\\\net3-'+str(i)+'\\\\SamplePipeBlock.csv',header=0)\n",
    "    Pipe_code=Pipe_code.loc[:,'Code'].astype(int)-505000000\n",
    "    Pipe_code.to_csv(local_path+'\\\\blokagedata\\\\Pipe_code_'+str(i)+'.csv',encoding='ascii')\n",
    "#获取SamplePipeBlock中的管道管径\n",
    "for i in tqdm(range(24)):\n",
    "    Pipe_dn=pd.read_csv(file_path+'\\\\net3-0\\\\SamplePipeBlock.csv',header=0,usecols=[3])\n",
    "    Pipe_dn.to_csv(local_path+'\\\\blokagedata\\\\Pipe_dn_'+str(i)+'.csv',encoding='ascii')\n",
    "#获取时间节点\n",
    "for i in tqdm(range(24)):\n",
    "    Pipe_time=pd.DataFrame(np.ones([1160,1])*i).astype(int)\n",
    "    Pipe_time.to_csv(local_path+'\\\\blokagedata\\\\Pipe_time_'+str(i)+'.csv',encoding='ascii')\n",
    "#去掉没有模拟结果的样本\n",
    "for i in tqdm(range(24)):\n",
    "    num=[ ]\n",
    "    for j in range(1,1161):\n",
    "        if not os.path.exists(file_path+'\\\\net3-'+str(i)+'\\\\RsBlock\\\\Sample-Pipe-'+str(j)+'.Pipe.csv'):\n",
    "            num.append(j-1)\n",
    "    for name in ['code','dn','time']:\n",
    "        data=pd.read_csv(local_path+'\\\\blokagedata\\\\Pipe_'+name+'_'+str(i)+'.csv',header=0,usecols=[1])\n",
    "        data=data.drop(index=num)\n",
    "        data.to_csv(local_path+'\\\\blokagedata\\\\Pipe_'+name+'_clear_'+str(i)+'.csv',encoding='ascii',index=False)"
   ]
  },
  {
   "cell_type": "code",
   "execution_count": null,
   "id": "eb906e0a",
   "metadata": {},
   "outputs": [],
   "source": [
    "#合并24组数据\n",
    "for name in ['code','dn','time']:\n",
    "    data=pd.read_csv(local_path+'\\\\blokagedata\\\\Pipe_'+name+'_clear_0.csv',header=0)\n",
    "    for i in tqdm(range(1,24)):\n",
    "        data1=pd.read_csv(local_path+'\\\\blokagedata\\\\Pipe_'+name+'_clear_'+str(i)+'.csv',header=0)\n",
    "        data=data.append(data1)\n",
    "    data.to_csv(local_path+'\\\\blokagedata\\\\Pipe_'+name+'_clear_'+'24.csv',encoding='ascii',index=False)"
   ]
  },
  {
   "cell_type": "code",
   "execution_count": null,
   "id": "2ad1f498",
   "metadata": {},
   "outputs": [],
   "source": [
    "#把管道编号重编为连续整数\n",
    "data=pd.read_csv(local_path+'\\\\blokagedata\\\\Pipe_code_clear_24.csv',header=0)\n",
    "y=data.astype(int)\n",
    "table1=np.sort(np.unique(y))\n",
    "for i in tqdm(range(len(table1))):\n",
    "    for j in range(len(y)):\n",
    "        if y.iloc[j].item()==table1[i].item():\n",
    "            y.iloc[j]=i\n",
    "y.to_csv(local_path+'\\\\blokagedata\\\\Pipe_code_clear_24_sorted.csv',encoding='ascii',index=False)"
   ]
  },
  {
   "cell_type": "code",
   "execution_count": null,
   "id": "49e2b75d",
   "metadata": {},
   "outputs": [],
   "source": [
    "#合并三组标签\n",
    "a=pd.read_csv(local_path+'\\\\blokagedata\\\\Pipe_code_clear_24_sorted.csv',header=0)\n",
    "b=pd.read_csv(local_path+'\\\\blokagedata\\\\Pipe_dn_clear_24.csv',header=0)\n",
    "c=pd.read_csv(local_path+'\\\\blokagedata\\\\Pipe_time_clear_24.csv',header=0)\n",
    "abc=pd.concat([a,b,c],axis=1)\n",
    "abc.columns=['code','dn','time']\n",
    "abc.to_csv(local_path+'\\\\blokagedata\\\\Sample_label.csv',encoding='ascii',index=False)"
   ]
  },
  {
   "cell_type": "markdown",
   "id": "89c243ee",
   "metadata": {},
   "source": [
    "# 整理样本数据"
   ]
  },
  {
   "cell_type": "code",
   "execution_count": null,
   "id": "50555386",
   "metadata": {},
   "outputs": [],
   "source": [
    "#将每个时间点的Sink整理成样本\n",
    "for i in tqdm(range(24)):\n",
    "    sample=pd.DataFrame()\n",
    "    for j in range(1,1161):\n",
    "        if os.path.exists(file_path+'\\\\net3-'+str(i)+'\\\\RsBlock\\\\Sample-Pipe-'+str(j)+'.Sinks.csv'):\n",
    "            sample2=pd.read_csv(file_path+'\\\\net3-'+str(i)+'\\\\RsBlock\\\\Sample-Pipe-'+str(j)+'.Sinks.csv',header=0,usecols=[2])\n",
    "            sample2=sample2.drop(index=[0,1,2]).T\n",
    "            sample=pd.concat([sample,sample2],axis=0)\n",
    "    sample.to_csv(local_path+'\\\\blokagedata\\\\Sample_Sink_'+str(i)+'.csv',encoding='ascii',index=False)"
   ]
  },
  {
   "cell_type": "code",
   "execution_count": null,
   "id": "50294170",
   "metadata": {},
   "outputs": [],
   "source": [
    "#将每个时间点的Tank整理成样本\n",
    "for i in tqdm(range(24)):\n",
    "    sample=pd.DataFrame()\n",
    "    for j in range(1,1161):\n",
    "        if os.path.exists(file_path+'\\\\net3-'+str(i)+'\\\\RsBlock\\\\Sample-Pipe-'+str(j)+'.Sinks.csv'):\n",
    "            sample2=pd.read_csv(file_path+'\\\\net3-'+str(i)+'\\\\RsBlock\\\\Sample-Pipe-'+str(j)+'.Sinks.csv',header=0,usecols=[4],nrows=3)\n",
    "            sample2=sample2.T\n",
    "            sample=pd.concat([sample,sample2],axis=0)\n",
    "    sample.to_csv(local_path+'\\\\blokagedata\\\\Sample_Tank_'+str(i)+'.csv',encoding='ascii',index=False)"
   ]
  },
  {
   "cell_type": "code",
   "execution_count": null,
   "id": "48b3eb86",
   "metadata": {},
   "outputs": [],
   "source": [
    "#将每个时间点的Source整理成样本\n",
    "for i in tqdm(range(24)):\n",
    "    sample=pd.DataFrame()\n",
    "    for j in range(1,1161):\n",
    "        if os.path.exists(file_path+'\\\\net3-'+str(i)+'\\\\RsBlock\\\\Sample-Pipe-'+str(j)+'.Sources.csv'):\n",
    "            sample2=pd.read_csv(file_path+'\\\\net3-'+str(i)+'\\\\RsBlock\\\\Sample-Pipe-'+str(j)+'.Sources.csv',header=0,usecols=[4])\n",
    "            sample2=sample2.T\n",
    "            sample=pd.concat([sample,sample2],axis=0)\n",
    "    sample.to_csv(local_path+'\\\\blokagedata\\\\Sample_Source_'+str(i)+'.csv',encoding='ascii',index=False)"
   ]
  },
  {
   "cell_type": "code",
   "execution_count": null,
   "id": "777f5489",
   "metadata": {},
   "outputs": [],
   "source": [
    "#合并数据\n",
    "for i in tqdm(range(24)):\n",
    "    Sinksample=pd.read_csv(local_path+'\\\\blokagedata\\\\Sample_Sink_'+str(i)+'.csv',header=0)\n",
    "    Tanksample=pd.read_csv(local_path+'\\\\blokagedata\\\\Sample_Tank_'+str(i)+'.csv',header=0)\n",
    "    Sourcesample=pd.read_csv(local_path+'\\\\blokagedata\\\\Sample_Source_'+str(i)+'.csv',header=0)\n",
    "    abc=pd.concat([Sinksample,Tanksample,Sourcesample],axis=1)\n",
    "    abc.columns=range(0,96)\n",
    "    abc.to_csv(local_path+'\\\\blokagedata\\\\Sample_'+str(i)+'.csv',encoding='ascii',index=False)"
   ]
  },
  {
   "cell_type": "code",
   "execution_count": null,
   "id": "f6a640c8",
   "metadata": {},
   "outputs": [],
   "source": [
    "#合并24组数据\n",
    "sample=pd.DataFrame()\n",
    "for i in tqdm(range(0,24)):\n",
    "    sample2=pd.read_csv(local_path+'\\\\blokagedata\\\\Sample_'+str(i)+'.csv',header=0)\n",
    "    sample=pd.concat([sample,sample2],axis=0)\n",
    "sample.to_csv(local_path+'\\\\blokagedata\\\\Sample_24.csv',encoding='ascii',index=False)"
   ]
  },
  {
   "cell_type": "code",
   "execution_count": null,
   "id": "98ed2516",
   "metadata": {},
   "outputs": [],
   "source": [
    "#合并样本和标签\n",
    "a=pd.read_csv(local_path+'\\\\blokagedata\\\\Sample_24.csv',header=0)\n",
    "b=pd.read_csv(local_path+'\\\\blokagedata\\\\Sample_label.csv',header=0)\n",
    "ab=pd.concat([a,b],axis=1)\n",
    "ab.to_csv(local_path+'\\\\blokagedata\\\\Block_Sample.csv',encoding='ascii',index=False)"
   ]
  },
  {
   "cell_type": "markdown",
   "id": "db799ef1",
   "metadata": {},
   "source": [
    "# 整理正常数据"
   ]
  },
  {
   "cell_type": "code",
   "execution_count": null,
   "id": "e89a7ce2",
   "metadata": {},
   "outputs": [],
   "source": [
    "for i in tqdm(range(24)):\n",
    "    #将每个时间点的Sink整理成样本\n",
    "    sample=pd.read_csv(file_path+'\\\\net3-'+str(i)+'\\\\Result.0.Sinks.csv',header=0,usecols=[2])\n",
    "    sample=sample.drop(index=[0,1,2]).T\n",
    "    sample.to_csv(local_path+'\\\\blokagedata\\\\Normal_Sample_Sink_'+str(i)+'.csv',encoding='ascii',index=False)\n",
    "    #将每个时间点的Tank整理成样本\n",
    "    sample=pd.read_csv(file_path+'\\\\net3-'+str(i)+'\\\\Result.0.Sinks.csv',header=0,usecols=[4],nrows=3)\n",
    "    sample=sample.T\n",
    "    sample.to_csv(local_path+'\\\\blokagedata\\\\Normal_Sample_Tank_'+str(i)+'.csv',encoding='ascii',index=False)\n",
    "    #将每个时间点的Source整理成样本\n",
    "    sample=pd.read_csv(file_path+'\\\\net3-'+str(i)+'\\\\Result.0.Sources.csv',header=0,usecols=[4])\n",
    "    sample=sample.T\n",
    "    sample.to_csv(local_path+'\\\\blokagedata\\\\Normal_Sample_Source_'+str(i)+'.csv',encoding='ascii',index=False)"
   ]
  },
  {
   "cell_type": "code",
   "execution_count": null,
   "id": "72cd5c09",
   "metadata": {},
   "outputs": [],
   "source": [
    "#合并数据\n",
    "for i in tqdm(range(24)):\n",
    "    Sinksample=pd.read_csv(local_path+'\\\\blokagedata\\\\Normal_Sample_Sink_'+str(i)+'.csv',header=0)\n",
    "    Tanksample=pd.read_csv(local_path+'\\\\blokagedata\\\\Normal_Sample_Tank_'+str(i)+'.csv',header=0)\n",
    "    Sourcesample=pd.read_csv(local_path+'\\\\blokagedata\\\\Normal_Sample_Source_'+str(i)+'.csv',header=0)\n",
    "    abcd=pd.concat([Sinksample,Tanksample,Sourcesample],axis=1)\n",
    "    abcd.columns=range(0,96)\n",
    "    abcd.to_csv(local_path+'\\\\blokagedata\\\\Normal_Sample_'+str(i)+'.csv',encoding='ascii',index=False)"
   ]
  },
  {
   "cell_type": "code",
   "execution_count": null,
   "id": "cc37d739",
   "metadata": {},
   "outputs": [],
   "source": [
    "#合并24组数据\n",
    "sample=pd.DataFrame()\n",
    "for i in tqdm(range(1,24)):\n",
    "    sample2=pd.read_csv(local_path+'\\\\blokagedata\\\\Normal_Sample_'+str(i)+'.csv',header=0)\n",
    "    sample=pd.concat([sample,sample2],axis=0)\n",
    "sample.to_csv(local_path+'\\\\blokagedata\\\\Normal_Sample_24.csv',encoding='ascii',index=False)"
   ]
  },
  {
   "cell_type": "code",
   "execution_count": null,
   "id": "d33cc16b",
   "metadata": {},
   "outputs": [],
   "source": [
    "#生成标签\n",
    "a=pd.DataFrame(np.ones([24,1])*116).astype(int)\n",
    "b=pd.DataFrame(np.ones([24,1])*0).astype(int)#由于0%管径无模拟数据，所以用来指代正常数据\n",
    "c=pd.DataFrame(range(0,24))\n",
    "abc=pd.concat([a,b,c],axis=1)\n",
    "abc.columns=['code','dn','time']\n",
    "abc.to_csv(local_path+'\\\\blokagedata\\\\Normal_Sample_label.csv',encoding='ascii',index=False)"
   ]
  },
  {
   "cell_type": "code",
   "execution_count": null,
   "id": "21323f5c",
   "metadata": {},
   "outputs": [],
   "source": [
    "#合并样本和标签\n",
    "a=pd.read_csv(local_path+'\\\\blokagedata\\\\Normal_Sample_24.csv',header=0)\n",
    "b=pd.read_csv(local_path+'\\\\blokagedata\\\\Normal_Sample_label.csv',header=0)\n",
    "ab=pd.concat([a,b],axis=1)\n",
    "ab.to_csv(local_path+'\\\\blokagedata\\\\Normal_Sample.csv',encoding='ascii',index=False)"
   ]
  },
  {
   "cell_type": "code",
   "execution_count": null,
   "id": "087944de",
   "metadata": {},
   "outputs": [],
   "source": [
    "#过采样\n",
    "a=pd.read_csv(local_path+'\\\\blokagedata\\\\Normal_Sample.csv',header=0)\n",
    "b=a\n",
    "for i in range(8):\n",
    "    a=a.append(b)\n",
    "a.to_csv(local_path+'\\\\blokagedata\\\\Normal_Sample_oversample.csv',encoding='ascii',index=False)"
   ]
  },
  {
   "cell_type": "code",
   "execution_count": null,
   "id": "a3118ae4",
   "metadata": {},
   "outputs": [],
   "source": [
    "#合并三组标签\n",
    "a=pd.read_csv(local_path+'\\\\blokagedata\\\\Block_Sample.csv',header=0)\n",
    "b=pd.read_csv(local_path+'\\\\blokagedata\\\\Normal_Sample_oversample.csv',header=0)\n",
    "ab=pd.concat([a,b],axis=0)\n",
    "ab.to_csv(local_path+'\\\\blokagedata\\\\Sample.csv',encoding='ascii',index=False)"
   ]
  },
  {
   "cell_type": "markdown",
   "id": "a2ca1901",
   "metadata": {},
   "source": [
    "# 合并版"
   ]
  },
  {
   "cell_type": "code",
   "execution_count": null,
   "id": "0fc6fc81",
   "metadata": {},
   "outputs": [],
   "source": [
    "col_l=pd.DataFrame()#label\n",
    "col_b=pd.DataFrame()#block\n",
    "col_n=pd.DataFrame()#normal\n",
    "for i in tqdm(range(24)):\n",
    "    # 获取SamplePipeBlock中的管道编号\n",
    "    Pipe_code=pd.read_csv(file_path+'\\\\net3-'+str(i)+'\\\\SamplePipeBlock.csv',header=0)\n",
    "    Pipe_code=Pipe_code.loc[:,'Code'].astype(int)-505000000\n",
    "    #获取SamplePipeBlock中的管道管径比例\n",
    "    Pipe_dn=pd.read_csv(file_path+'\\\\net3-0\\\\SamplePipeBlock.csv',header=0,usecols=[3])#事先在该文件里生成了一列数据\n",
    "    #获取时间节点\n",
    "    Pipe_time=pd.DataFrame(np.ones([1160,1])*i).astype(int)\n",
    "    #去掉没有模拟结果的样本\n",
    "    num=[ ]\n",
    "    for j in range(1,1161):\n",
    "        if not os.path.exists(file_path+'\\\\net3-'+str(i)+'\\\\RsBlock\\\\Sample-Pipe-'+str(j)+'.Pipe.csv'):\n",
    "            num.append(j-1)\n",
    "    Pipe_code=Pipe_code.drop(index=num)\n",
    "    Pipe_dn=Pipe_dn.drop(index=num)\n",
    "    Pipe_time=Pipe_time.drop(index=num)\n",
    "    cat=pd.concat([Pipe_code,Pipe_dn,Pipe_time],axis=1)\n",
    "    col_l=pd.concat([col_l,cat],axis=0)\n",
    "    #获取堵塞数据\n",
    "    for j in range(1,1161):\n",
    "        if os.path.exists(file_path+'\\\\net3-'+str(i)+'\\\\RsBlock\\\\Sample-Pipe-'+str(j)+'.Sinks.csv'):\n",
    "            sink=pd.read_csv(file_path+'\\\\net3-'+str(i)+'\\\\RsBlock\\\\Sample-Pipe-'+str(j)+'.Sinks.csv',header=0,usecols=[2]).drop(index=[0,1,2]).T.reset_index(drop=True)\n",
    "            tank=pd.read_csv(file_path+'\\\\net3-'+str(i)+'\\\\RsBlock\\\\Sample-Pipe-'+str(j)+'.Sinks.csv',header=0,usecols=[4],nrows=3).T.reset_index(drop=True)\n",
    "            source=pd.read_csv(file_path+'\\\\net3-'+str(i)+'\\\\RsBlock\\\\Sample-Pipe-'+str(j)+'.Sources.csv',header=0,usecols=[4]).T.reset_index(drop=True)\n",
    "            cat=pd.concat([sink,tank,source],axis=1)\n",
    "            col_b=pd.concat([col_b,cat],axis=0)\n",
    "    #获取正常数据\n",
    "    sink=pd.read_csv(file_path+'\\\\net3-'+str(i)+'\\\\Result.0.Sinks.csv',header=0,usecols=[2]).drop(index=[0,1,2]).T.reset_index(drop=True)\n",
    "    tank=pd.read_csv(file_path+'\\\\net3-'+str(i)+'\\\\Result.0.Sinks.csv',header=0,usecols=[4],nrows=3).T.reset_index(drop=True)\n",
    "    source=pd.read_csv(file_path+'\\\\net3-'+str(i)+'\\\\Result.0.Sources.csv',header=0,usecols=[4]).T.reset_index(drop=True)\n",
    "    cat=pd.concat([sink,tank,source],axis=1)\n",
    "    col_n=pd.concat([col_n,cat],axis=0)\n",
    "#命名列名\n",
    "col_l=col_l.reset_index(drop=True) \n",
    "col_l.columns=['code','dn','time']\n",
    "col_b=col_b.reset_index(drop=True)\n",
    "col_b.columns=range(0,96)\n",
    "col_n=col_n.reset_index(drop=True)\n",
    "col_n.columns=range(0,96)\n",
    "#把管道编号重编为连续整数\n",
    "y=col_l.loc[:,'code'].astype(int)\n",
    "table=np.sort(np.unique(y))\n",
    "for i in tqdm(range(len(table))):\n",
    "    for j in range(len(y)):\n",
    "        if y.iloc[j].item()==table[i].item():\n",
    "            y.iloc[j]=i\n",
    "col_l.loc[:,'code']=y\n",
    "#生成正常样本的标签\n",
    "code_n=pd.DataFrame(np.ones([24,1])*116).astype(int)\n",
    "dn_n=pd.DataFrame(np.ones([24,1])*0).astype(int)#由于0%管径无模拟数据，所以用来指代正常数据\n",
    "time_n=pd.DataFrame(range(0,24))\n",
    "cat_nl=pd.concat([code_n,dn_n,time_n],axis=1)\n",
    "cat_nl.columns=['code','dn','time']\n",
    "#合并样本和标签\n",
    "sample_b=pd.concat([col_b,col_l],axis=1)\n",
    "sample_n=pd.concat([col_n,cat_nl],axis=1)\n",
    "#合并堵塞和正常数据，并过采样\n",
    "for i in range(9):\n",
    "    sample_b=pd.concat([sample_b,sample_n],axis=0)\n",
    "sample_b=sample_b.reset_index(drop=True)\n",
    "sample_b.to_csv(local_path+'\\\\blokagedata\\\\Sample.csv',encoding='ascii',index=False)"
   ]
  },
  {
   "cell_type": "markdown",
   "id": "165c0c9e",
   "metadata": {},
   "source": [
    "# 得到残差"
   ]
  },
  {
   "cell_type": "code",
   "execution_count": null,
   "id": "68e06489",
   "metadata": {},
   "outputs": [],
   "source": [
    "# 做残差\n",
    "z=np.array(sample.iloc[-24::,:])\n",
    "for i in tqdm(range(0,24)):\n",
    "    sample.iloc[np.where(sample.loc[:,'time']==i)[0],range(0,96)]=sample.iloc[np.where(sample.loc[:,'time']==i)[0],range(0,96)]-z[i,:]\n",
    "sample=sample.drop(np.where(sample.loc[:,'code']==116)[0])\n",
    "sample.to_csv(local_path+'\\\\blokagedata\\\\Sample_116.csv',encoding='ascii',index=False)"
   ]
  },
  {
   "cell_type": "code",
   "execution_count": null,
   "id": "db7254ec",
   "metadata": {},
   "outputs": [],
   "source": [
    "# 做残差，取变化百分比\n",
    "sample=pd.read_csv(local_path+'\\\\blokagedata\\\\Sample_96_117.csv',header=0)\n",
    "z=np.array(sample.iloc[-24::,range(0,96)])\n",
    "for i in tqdm(range(0,24)):\n",
    "    sample.iloc[np.where(sample.loc[:,'time']==i)[0],range(0,96)]=(sample.iloc[np.where(sample.loc[:,'time']==i)[0],range(0,96)]-z[i,:])/z[i,:]\n",
    "sample2=sample.drop(np.where(sample.loc[:,'code']==116)[0])\n",
    "sample.to_csv(local_path+'\\\\blokagedata\\\\Sample_116_percent.csv',encoding='ascii',index=False)"
   ]
  }
 ],
 "metadata": {
  "kernelspec": {
   "display_name": "Python 3",
   "language": "python",
   "name": "python3"
  },
  "language_info": {
   "codemirror_mode": {
    "name": "ipython",
    "version": 3
   },
   "file_extension": ".py",
   "mimetype": "text/x-python",
   "name": "python",
   "nbconvert_exporter": "python",
   "pygments_lexer": "ipython3",
   "version": "3.8.8"
  },
  "toc": {
   "base_numbering": 1,
   "nav_menu": {},
   "number_sections": true,
   "sideBar": true,
   "skip_h1_title": false,
   "title_cell": "Table of Contents",
   "title_sidebar": "Contents",
   "toc_cell": false,
   "toc_position": {},
   "toc_section_display": true,
   "toc_window_display": true
  },
  "varInspector": {
   "cols": {
    "lenName": 16,
    "lenType": 16,
    "lenVar": 40
   },
   "kernels_config": {
    "python": {
     "delete_cmd_postfix": "",
     "delete_cmd_prefix": "del ",
     "library": "var_list.py",
     "varRefreshCmd": "print(var_dic_list())"
    },
    "r": {
     "delete_cmd_postfix": ") ",
     "delete_cmd_prefix": "rm(",
     "library": "var_list.r",
     "varRefreshCmd": "cat(var_dic_list()) "
    }
   },
   "types_to_exclude": [
    "module",
    "function",
    "builtin_function_or_method",
    "instance",
    "_Feature"
   ],
   "window_display": false
  }
 },
 "nbformat": 4,
 "nbformat_minor": 5
}
