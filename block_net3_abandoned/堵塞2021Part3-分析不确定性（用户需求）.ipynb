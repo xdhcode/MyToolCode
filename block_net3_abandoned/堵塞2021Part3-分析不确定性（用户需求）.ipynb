{
 "cells": [
  {
   "cell_type": "code",
   "execution_count": null,
   "id": "1a1fd167",
   "metadata": {},
   "outputs": [],
   "source": [
    "本节内容：\n",
    "将样本的三个变量（堵塞大小、测量误差、用户需求）进行控制变量分析。\n",
    "选择用户需求作为不确定。"
   ]
  },
  {
   "cell_type": "code",
   "execution_count": 1,
   "id": "51a1df4a",
   "metadata": {
    "ExecuteTime": {
     "end_time": "2022-01-06T12:15:33.710293Z",
     "start_time": "2022-01-06T12:14:56.956984Z"
    }
   },
   "outputs": [
    {
     "name": "stdout",
     "output_type": "stream",
     "text": [
      "F:\\NBCode\\1-Blockage\\blokagedata\n"
     ]
    }
   ],
   "source": [
    "import torch\n",
    "import torch.nn as nn\n",
    "import torch.nn.functional as F\n",
    "import torch.utils.data as Data\n",
    "from torch.optim import Adam,AdamW\n",
    "from torch.optim.lr_scheduler import LambdaLR\n",
    "from torch.utils.data import DataLoader\n",
    "from prefetch_generator import BackgroundGenerator\n",
    "import pandas as pd\n",
    "import numpy as np\n",
    "from tqdm import tqdm\n",
    "import os\n",
    "import matplotlib\n",
    "import matplotlib.pyplot as plt \n",
    "import hiddenlayer as hl\n",
    "from sklearn.model_selection import train_test_split,StratifiedKFold\n",
    "from sklearn.decomposition import PCA\n",
    "from sklearn.preprocessing import QuantileTransformer,RobustScaler\n",
    "from sklearn.metrics import accuracy_score\n",
    "import lightgbm as lgb\n",
    "#准备文件夹保存数据\n",
    "local_path=os.getcwd()\n",
    "if not os.path.exists(local_path+'\\\\blokagedata'):\n",
    "    os.mkdir(local_path+'\\\\blokagedata')\n",
    "print(local_path+'\\\\blokagedata')\n",
    "#判断是否可以使用GPU\n",
    "device = torch.device(\"cuda:0\" if torch.cuda.is_available() else \"cpu\")"
   ]
  },
  {
   "cell_type": "code",
   "execution_count": 2,
   "id": "152d5295",
   "metadata": {
    "ExecuteTime": {
     "end_time": "2022-01-06T12:15:34.329607Z",
     "start_time": "2022-01-06T12:15:33.716248Z"
    }
   },
   "outputs": [
    {
     "name": "stdout",
     "output_type": "stream",
     "text": [
      "F:\\NBCode\\1-Blockage\\blokagedata\n"
     ]
    }
   ],
   "source": [
    "import pandas as pd\n",
    "import numpy as np\n",
    "from tqdm import tqdm\n",
    "import os\n",
    "import matplotlib\n",
    "import matplotlib.pyplot as plt \n",
    "from sklearn.model_selection import train_test_split,RandomizedSearchCV,GridSearchCV,StratifiedKFold,cross_validate\n",
    "from sklearn.decomposition import PCA\n",
    "from sklearn.preprocessing import QuantileTransformer\n",
    "from sklearn.metrics import accuracy_score,confusion_matrix\n",
    "from sklearn.pipeline import Pipeline\n",
    "from scipy.stats import loguniform,uniform,randint\n",
    "from sklearn.svm import SVC\n",
    "from sklearn.ensemble import RandomForestClassifier\n",
    "from sklearn.neighbors import KNeighborsClassifier\n",
    "#准备文件夹保存数据\n",
    "local_path=os.getcwd()\n",
    "if not os.path.exists(local_path+'\\\\blokagedata'):\n",
    "    os.mkdir(local_path+'\\\\blokagedata')\n",
    "print(local_path+'\\\\blokagedata')"
   ]
  },
  {
   "cell_type": "markdown",
   "id": "ca49b364",
   "metadata": {},
   "source": [
    "# ANN"
   ]
  },
  {
   "cell_type": "code",
   "execution_count": 3,
   "id": "d401993e",
   "metadata": {
    "ExecuteTime": {
     "end_time": "2022-01-06T12:16:23.833102Z",
     "start_time": "2022-01-06T12:16:23.823130Z"
    }
   },
   "outputs": [],
   "source": [
    "class DataLoaderX(DataLoader):\n",
    "    def __iter__(self):\n",
    "        return BackgroundGenerator(super().__iter__())\n",
    "#ANN\n",
    "class ANN(nn.Module):\n",
    "    def __init__(self,d1,hidden_size,d2):\n",
    "        super(ANN,self).__init__()\n",
    "        self.ann=nn.Sequential(nn.BatchNorm1d(d1,momentum=0.5),\n",
    "                               nn.Linear(d1,hidden_size),\n",
    "                               nn.LeakyReLU(),\n",
    "                               nn.BatchNorm1d(hidden_size,momentum=0.5),\n",
    "                               nn.Linear(hidden_size,d2),\n",
    "                               nn.LeakyReLU()\n",
    "                              )\n",
    "    def forward(self,x):\n",
    "        x = self.ann(x)\n",
    "        return x\n",
    "#训练模型\n",
    "def anntrain(args):\n",
    "    model=ANN(d1=args['d1'],hidden_size=args['hidden_size'],d2=args['d2']).to(device)\n",
    "    criterion=nn.CrossEntropyLoss().to(device)\n",
    "    optimizer=AdamW(model.parameters(),lr=args['learning_rate'],weight_decay=args['weight_decay'])\n",
    "    scheduler=LambdaLR(optimizer,verbose=False,lr_lambda=lambda epoch:1/(epoch/100+1))\n",
    "    train_loader=DataLoader(dataset=train_data,batch_size=len(x_train),\n",
    "                                  shuffle=True,num_workers=0)\n",
    "    history1=hl.History()\n",
    "    canvas1=hl.Canvas()\n",
    "    best_acc=0\n",
    "    for epoch in tqdm(range(args['epoches'])):\n",
    "        for step,(batch_x,batch_y) in enumerate(train_loader):\n",
    "            #输出层与标签之间的误差    \n",
    "            model.train()\n",
    "            prediction=model(batch_x)\n",
    "            loss=criterion(prediction,batch_y)\n",
    "            optimizer.zero_grad()\n",
    "            loss.backward()\n",
    "            optimizer.step()\n",
    "            #记录误差曲线和acc曲线\n",
    "            steps=epoch*len(train_loader)+step+1\n",
    "            if steps%25==0:\n",
    "                test_acc=score_model(x_test_tensor,y_test_tensor,model)\n",
    "                best_acc=test_acc if test_acc>best_acc else best_acc\n",
    "                history1.log(steps,train_loss=loss.item(),test_accuracy=test_acc)\n",
    "        scheduler.step()\n",
    "    with canvas1:\n",
    "        canvas1.draw_plot(history1['train_loss'])\n",
    "        canvas1.draw_plot(history1['test_accuracy'])\n",
    "    print('train_loss:%.4f'%loss.item())\n",
    "    print('test_acc:%.4f'%test_acc)\n",
    "    print('best_acc:%.4f'%best_acc)\n",
    "    return model,best_acc\n",
    "#测试数据\n",
    "def run_model(data,model):\n",
    "    model.eval()\n",
    "    torch.no_grad()\n",
    "    prediction=model(data)\n",
    "    return prediction.detach()\n",
    "def score_model(x_tensor,label_tensor,model):\n",
    "    x=run_model(x_tensor,model)\n",
    "    x=torch.argmax(x,1).unsqueeze(1)\n",
    "    score=(x==label_tensor).sum().item()/len(x)\n",
    "    return score"
   ]
  },
  {
   "cell_type": "markdown",
   "id": "f09216ea",
   "metadata": {},
   "source": [
    "## 得到模型"
   ]
  },
  {
   "cell_type": "code",
   "execution_count": 7,
   "id": "59c04048",
   "metadata": {
    "ExecuteTime": {
     "end_time": "2022-01-06T12:19:04.001722Z",
     "start_time": "2022-01-06T12:19:03.573862Z"
    }
   },
   "outputs": [],
   "source": [
    "#读取模型数据\n",
    "sample=pd.read_csv(local_path+'\\\\blokagedata\\\\Sample_116.csv',header=0)\n",
    "#划分样本和标签\n",
    "s1=sample.iloc[np.where(sample.loc[:,'dn']==1)[0],:]\n",
    "s2=sample.iloc[np.where(sample.loc[:,'dn']==2)[0],:]\n",
    "s3=sample.iloc[np.where(sample.loc[:,'dn']==3)[0],:]\n",
    "s4=sample.iloc[np.where(sample.loc[:,'dn']==4)[0],:]\n",
    "s5=sample.iloc[np.where(sample.loc[:,'dn']==5)[0],:]\n",
    "s6=sample.iloc[np.where(sample.loc[:,'dn']==6)[0],:]\n",
    "s7=sample.iloc[np.where(sample.loc[:,'dn']==7)[0],:]\n",
    "s8=sample.iloc[np.where(sample.loc[:,'dn']==8)[0],:]\n",
    "s9=sample.iloc[np.where(sample.loc[:,'dn']==9)[0],:]"
   ]
  },
  {
   "cell_type": "code",
   "execution_count": 9,
   "id": "39f3e9e4",
   "metadata": {
    "ExecuteTime": {
     "end_time": "2022-01-06T12:43:47.644014Z",
     "start_time": "2022-01-06T12:19:18.054373Z"
    }
   },
   "outputs": [
    {
     "data": {
      "image/png": "[encoded data removed]",
      "text/plain": [
       "<Figure size 864x576 with 2 Axes>"
      ]
     },
     "metadata": {
      "needs_background": "light"
     },
     "output_type": "display_data"
    },
    {
     "name": "stdout",
     "output_type": "stream",
     "text": [
      "train_loss:0.0065\n",
      "test_acc:0.9191\n",
      "best_acc:0.9227\n",
      "train_acc: 0.9991023339317774\n",
      "acc: [0.9156193895870736, 0.9245960502692998, 0.9281867145421903, 0.9192100538599641, 0.9226618705035972]\n",
      "ave_acc 0.9220548157524249\n",
      "score_record: [0.9220548157524249]\n",
      "hs_record: [110]\n",
      "8\n"
     ]
    }
   ],
   "source": [
    "t_score=[]\n",
    "for t,i in zip([s1,s2,s3,s4,s5,s6,s7,s8,s9],range(1,10)):\n",
    "    #划分样本和标签\n",
    "    x=np.array(t.iloc[:,range(0,96)])#.astype(int)\n",
    "    y=np.array(t.loc[:,'code']).reshape(-1,1).astype(int)\n",
    "    #训练模型\n",
    "    skf = StratifiedKFold(n_splits=5,shuffle=True,random_state=1)\n",
    "    score_record=[]\n",
    "    hs_record=[]\n",
    "    for hs in range(110,120,10):\n",
    "        params={\n",
    "        \"d1\":96,\n",
    "        \"hidden_size\": hs,\n",
    "        \"d2\":116,\n",
    "        \"learning_rate\":0.01,\n",
    "        \"epoches\":1500,\n",
    "        \"weight_decay\":0.01\n",
    "        }\n",
    "        acc=[]\n",
    "        for train_index, test_index in skf.split(x,y):\n",
    "            x_train, x_test = x[train_index], x[test_index]\n",
    "            y_train, y_test = y[train_index], y[test_index]\n",
    "            #qt\n",
    "            qt = QuantileTransformer(output_distribution = 'uniform' )\n",
    "            x_train = qt.fit_transform(x_train)\n",
    "            x_test = qt.transform(x_test)\n",
    "            #numpy转为张量\n",
    "            x_train_tensor=torch.from_numpy(x_train).float().to(device)\n",
    "            y_train_tensor=torch.from_numpy(y_train).to(device)\n",
    "            x_test_tensor=torch.from_numpy(x_test).float().to(device)\n",
    "            y_test_tensor=torch.from_numpy(y_test).to(device)\n",
    "            train_data=Data.TensorDataset(x_train_tensor,y_train_tensor.long().squeeze())\n",
    "            annmodel,best_acc=anntrain(params)\n",
    "            train_acc=score_model(x_train_tensor,y_train_tensor,annmodel)\n",
    "            print('train_acc:',train_acc)\n",
    "            acc.append(best_acc)\n",
    "            print('acc:',acc)\n",
    "        ave_score=np.mean(acc)\n",
    "        print('ave_acc',ave_score)\n",
    "        score_record.append(ave_score)\n",
    "        hs_record.append(hs)\n",
    "        print('score_record:',score_record)\n",
    "        print('hs_record:',hs_record)\n",
    "    t_score.append([i,ave_score])\n",
    "    print(i)"
   ]
  },
  {
   "cell_type": "code",
   "execution_count": 10,
   "id": "1d27af5c",
   "metadata": {
    "ExecuteTime": {
     "end_time": "2022-01-06T14:00:17.011368Z",
     "start_time": "2022-01-06T14:00:16.517280Z"
    }
   },
   "outputs": [
    {
     "data": {
      "text/plain": [
       "[[0, 0.9950570342205323],\n",
       " [1, 0.9909117307375019],\n",
       " [2, 0.9672784573059685],\n",
       " [3, 0.9722431456727486],\n",
       " [4, 0.9712449788822444],\n",
       " [5, 0.9643567308315509],\n",
       " [6, 0.9553956834532373],\n",
       " [7, 0.9474981594616587],\n",
       " [8, 0.9220548157524249]]"
      ]
     },
     "execution_count": 10,
     "metadata": {},
     "output_type": "execute_result"
    }
   ],
   "source": [
    "t_score"
   ]
  },
  {
   "cell_type": "markdown",
   "id": "108fbadd",
   "metadata": {},
   "source": [
    "## 处理结果"
   ]
  },
  {
   "cell_type": "code",
   "execution_count": null,
   "id": "8399c3c7",
   "metadata": {},
   "outputs": [],
   "source": [
    "torch.save(annmodel.state_dict(),local_path+'\\\\blokagedata\\\\annmodel_hid110.pkl')\n",
    "# model = TheModelClass(...)\n",
    "# model.load_state_dict(torch.load('\\parameter.pkl'))"
   ]
  },
  {
   "cell_type": "code",
   "execution_count": null,
   "id": "aa4e4584",
   "metadata": {},
   "outputs": [],
   "source": [
    "# model = TheModelClass(...)\n",
    "# model.load_state_dict(torch.load('\\parameter.pkl'))\n",
    "pre=run_model(x_test_tensor,annmodel)\n",
    "pre=torch.argmax(pre,1).unsqueeze(1).cpu().numpy()\n",
    "bool1=np.ones([len(pre),1])\n",
    "bool1[np.where(pre.ravel()!=y_test.ravel())]=0\n",
    "pred=pd.DataFrame(pre)\n",
    "S=sample.loc[test_index,:]\n",
    "para=S.iloc[:,range(96,99)].reset_index()\n",
    "bool2=pd.DataFrame(bool1.astype(int))\n",
    "a=pd.concat([pred,para,bool2],axis=1,ignore_index=True)\n",
    "a.columns=['pred','index','true','dn','time','bool']\n",
    "a=a[['index','pred','true','dn','time','bool']]\n",
    "a.to_csv(local_path+'\\\\blokagedata\\\\ann_hid110_test_result.csv',encoding='ascii',index=True)"
   ]
  },
  {
   "cell_type": "code",
   "execution_count": null,
   "id": "22c38943",
   "metadata": {},
   "outputs": [],
   "source": [
    "from sklearn.metrics import accuracy_score,confusion_matrix\n",
    "cm=pd.DataFrame(confusion_matrix(y_test.ravel(),pre))\n",
    "cm.to_csv(local_path+'\\\\blokagedata\\\\ann_hid110_cm.csv',encoding='ascii',index=True)"
   ]
  },
  {
   "cell_type": "markdown",
   "id": "efa9f8ea",
   "metadata": {},
   "source": [
    "# SVM"
   ]
  },
  {
   "cell_type": "code",
   "execution_count": 11,
   "id": "37cd1c9e",
   "metadata": {
    "ExecuteTime": {
     "end_time": "2022-01-06T14:04:27.604404Z",
     "start_time": "2022-01-06T14:03:13.431376Z"
    }
   },
   "outputs": [
    {
     "name": "stderr",
     "output_type": "stream",
     "text": [
      "E:\\Anaconda3\\lib\\site-packages\\sklearn\\model_selection\\_split.py:666: UserWarning: The least populated class in y has only 4 members, which is less than n_splits=5.\n",
      "  warnings.warn((\"The least populated class in y has only %d\"\n"
     ]
    },
    {
     "name": "stdout",
     "output_type": "stream",
     "text": [
      "train_acc: 1.0\n",
      "acc: [0.9885931558935361]\n",
      "train_acc: 1.0\n",
      "acc: [0.9885931558935361, 0.9885931558935361]\n",
      "train_acc: 1.0\n",
      "acc: [0.9885931558935361, 0.9885931558935361, 0.9866920152091255]\n",
      "train_acc: 1.0\n",
      "acc: [0.9885931558935361, 0.9885931558935361, 0.9866920152091255, 0.9885931558935361]\n",
      "train_acc: 1.0\n",
      "acc: [0.9885931558935361, 0.9885931558935361, 0.9866920152091255, 0.9885931558935361, 0.9885931558935361]\n",
      "ave_acc 0.9882129277566541\n",
      "score_record: [0.9882129277566541]\n",
      "1\n",
      "train_acc: 1.0\n",
      "acc: [0.9800362976406534]\n",
      "train_acc: 1.0\n",
      "acc: [0.9800362976406534, 0.9672727272727273]\n",
      "train_acc: 1.0\n",
      "acc: [0.9800362976406534, 0.9672727272727273, 0.9763636363636363]\n",
      "train_acc: 1.0\n",
      "acc: [0.9800362976406534, 0.9672727272727273, 0.9763636363636363, 0.9709090909090909]\n",
      "train_acc: 1.0\n",
      "acc: [0.9800362976406534, 0.9672727272727273, 0.9763636363636363, 0.9709090909090909, 0.9709090909090909]\n",
      "ave_acc 0.9730981686190396\n",
      "score_record: [0.9730981686190396]\n",
      "2\n",
      "train_acc: 1.0\n",
      "acc: [0.9353680430879713]\n",
      "train_acc: 1.0\n",
      "acc: [0.9353680430879713, 0.9190647482014388]\n",
      "train_acc: 1.0\n",
      "acc: [0.9353680430879713, 0.9190647482014388, 0.908273381294964]\n",
      "train_acc: 1.0\n",
      "acc: [0.9353680430879713, 0.9190647482014388, 0.908273381294964, 0.9370503597122302]\n",
      "train_acc: 1.0\n",
      "acc: [0.9353680430879713, 0.9190647482014388, 0.908273381294964, 0.9370503597122302, 0.9298561151079137]\n",
      "ave_acc 0.9259225294809035\n",
      "score_record: [0.9259225294809035]\n",
      "3\n",
      "train_acc: 1.0\n",
      "acc: [0.9153153153153153]\n",
      "train_acc: 1.0\n",
      "acc: [0.9153153153153153, 0.9297297297297298]\n",
      "train_acc: 1.0\n",
      "acc: [0.9153153153153153, 0.9297297297297298, 0.9225225225225225]\n",
      "train_acc: 1.0\n",
      "acc: [0.9153153153153153, 0.9297297297297298, 0.9225225225225225, 0.9387387387387387]\n",
      "train_acc: 1.0\n",
      "acc: [0.9153153153153153, 0.9297297297297298, 0.9225225225225225, 0.9387387387387387, 0.927797833935018]\n",
      "ave_acc 0.9268208280482648\n",
      "score_record: [0.9268208280482648]\n",
      "4\n",
      "train_acc: 1.0\n",
      "acc: [0.9245960502692998]\n",
      "train_acc: 1.0\n",
      "acc: [0.9245960502692998, 0.9120287253141831]\n",
      "train_acc: 1.0\n",
      "acc: [0.9245960502692998, 0.9120287253141831, 0.9190647482014388]\n",
      "train_acc: 1.0\n",
      "acc: [0.9245960502692998, 0.9120287253141831, 0.9190647482014388, 0.9172661870503597]\n",
      "train_acc: 1.0\n",
      "acc: [0.9245960502692998, 0.9120287253141831, 0.9190647482014388, 0.9172661870503597, 0.920863309352518]\n",
      "ave_acc 0.91876380403756\n",
      "score_record: [0.91876380403756]\n",
      "5\n",
      "train_acc: 1.0\n",
      "acc: [0.9136690647482014]\n",
      "train_acc: 1.0\n",
      "acc: [0.9136690647482014, 0.908273381294964]\n",
      "train_acc: 1.0\n",
      "acc: [0.9136690647482014, 0.908273381294964, 0.9261261261261261]\n",
      "train_acc: 1.0\n",
      "acc: [0.9136690647482014, 0.908273381294964, 0.9261261261261261, 0.9099099099099099]\n",
      "train_acc: 1.0\n",
      "acc: [0.9136690647482014, 0.908273381294964, 0.9261261261261261, 0.9099099099099099, 0.9279279279279279]\n",
      "ave_acc 0.9171812820014258\n",
      "score_record: [0.9171812820014258]\n",
      "6\n",
      "train_acc: 1.0\n",
      "acc: [0.9118705035971223]\n",
      "train_acc: 1.0\n",
      "acc: [0.9118705035971223, 0.9046762589928058]\n",
      "train_acc: 1.0\n",
      "acc: [0.9118705035971223, 0.9046762589928058, 0.9064748201438849]\n",
      "train_acc: 1.0\n",
      "acc: [0.9118705035971223, 0.9046762589928058, 0.9064748201438849, 0.8920863309352518]\n",
      "train_acc: 1.0\n",
      "acc: [0.9118705035971223, 0.9046762589928058, 0.9064748201438849, 0.8920863309352518, 0.8920863309352518]\n",
      "ave_acc 0.9014388489208633\n",
      "score_record: [0.9014388489208633]\n",
      "7\n",
      "train_acc: 1.0\n",
      "acc: [0.895870736086176]\n",
      "train_acc: 1.0\n",
      "acc: [0.895870736086176, 0.8812949640287769]\n",
      "train_acc: 1.0\n",
      "acc: [0.895870736086176, 0.8812949640287769, 0.8938848920863309]\n",
      "train_acc: 1.0\n",
      "acc: [0.895870736086176, 0.8812949640287769, 0.8938848920863309, 0.8938848920863309]\n",
      "train_acc: 1.0\n",
      "acc: [0.895870736086176, 0.8812949640287769, 0.8938848920863309, 0.8938848920863309, 0.8974820143884892]\n",
      "ave_acc 0.8924834997352207\n",
      "score_record: [0.8924834997352207]\n",
      "8\n",
      "train_acc: 1.0\n",
      "acc: [0.8617594254937163]\n",
      "train_acc: 1.0\n",
      "acc: [0.8617594254937163, 0.881508078994614]\n",
      "train_acc: 1.0\n",
      "acc: [0.8617594254937163, 0.881508078994614, 0.8635547576301615]\n",
      "train_acc: 1.0\n",
      "acc: [0.8617594254937163, 0.881508078994614, 0.8635547576301615, 0.8689407540394973]\n",
      "train_acc: 1.0\n",
      "acc: [0.8617594254937163, 0.881508078994614, 0.8635547576301615, 0.8689407540394973, 0.8723021582733813]\n",
      "ave_acc 0.8696130348862742\n",
      "score_record: [0.8696130348862742]\n",
      "9\n"
     ]
    }
   ],
   "source": [
    "t_score=[]\n",
    "for t,i in zip([s1,s2,s3,s4,s5,s6,s7,s8,s9],range(1,10)):\n",
    "    #划分样本和标签\n",
    "    x=np.array(t.iloc[:,range(0,96)])#.astype(int)\n",
    "    y=np.array(t.loc[:,'code']).reshape(-1,1).astype(int)\n",
    "    #训练模型\n",
    "    skf = StratifiedKFold(n_splits=5,shuffle=True,random_state=1)\n",
    "    score_record=[]\n",
    "    hs_record=[]\n",
    "    acc=[]\n",
    "    for train_index, test_index in skf.split(x,y):\n",
    "        x_train, x_test = x[train_index], x[test_index]\n",
    "        y_train, y_test = y[train_index], y[test_index]\n",
    "        #qt\n",
    "        qt = QuantileTransformer(output_distribution = 'uniform' )\n",
    "        x_train = qt.fit_transform(x_train)\n",
    "        x_test = qt.transform(x_test)\n",
    "        clf=SVC(decision_function_shape='ovr',kernel='rbf',C=500000,gamma=0.06)\n",
    "        clf.fit(x_train,y_train.ravel())\n",
    "        best_acc=clf.score(x_test,y_test.ravel())\n",
    "        train_acc=clf.score(x_train,y_train.ravel())\n",
    "        print('train_acc:',train_acc)\n",
    "        acc.append(best_acc)\n",
    "        print('acc:',acc)\n",
    "    ave_score=np.mean(acc)\n",
    "    print('ave_acc',ave_score)\n",
    "    score_record.append(ave_score)\n",
    "    print('score_record:',score_record)\n",
    "    t_score.append([i,ave_score])\n",
    "    print(i)"
   ]
  },
  {
   "cell_type": "code",
   "execution_count": 12,
   "id": "b4f0e1c2",
   "metadata": {
    "ExecuteTime": {
     "end_time": "2022-01-06T14:05:10.495958Z",
     "start_time": "2022-01-06T14:05:10.490971Z"
    }
   },
   "outputs": [
    {
     "data": {
      "text/plain": [
       "[[1, 0.9882129277566541],\n",
       " [2, 0.9730981686190396],\n",
       " [3, 0.9259225294809035],\n",
       " [4, 0.9268208280482648],\n",
       " [5, 0.91876380403756],\n",
       " [6, 0.9171812820014258],\n",
       " [7, 0.9014388489208633],\n",
       " [8, 0.8924834997352207],\n",
       " [9, 0.8696130348862742]]"
      ]
     },
     "execution_count": 12,
     "metadata": {},
     "output_type": "execute_result"
    }
   ],
   "source": [
    "t_score"
   ]
  },
  {
   "cell_type": "code",
   "execution_count": null,
   "id": "9fa05e80",
   "metadata": {},
   "outputs": [],
   "source": [
    "#读取模型数据\n",
    "sample=pd.read_csv(local_path+'\\\\blokagedata\\\\Sample_116.csv',header=0)\n",
    "#划分样本和标签\n",
    "x=np.array(sample.iloc[:,range(0,96)])#.astype(int)\n",
    "y=np.array(sample.loc[:,'code']).reshape(-1,1).astype(int)"
   ]
  },
  {
   "cell_type": "code",
   "execution_count": null,
   "id": "da719fbf",
   "metadata": {},
   "outputs": [],
   "source": [
    "pipe = Pipeline([('scaler', QuantileTransformer(output_distribution = 'uniform')), ('svc', SVC(decision_function_shape='ovr',kernel='rbf'))])\n",
    "param_dist = {'svc__C': [1,10,100,1000,10000,100000,500000,800000,1000000,1200000,1500000],\n",
    " 'svc__gamma': [0.01,0.02,0.03,0.04,0.05,0.06,0.07,0.08,0.09,0.01]}\n",
    "splitter=StratifiedKFold(n_splits=5,random_state=1,shuffle=True)\n",
    "clf = GridSearchCV(estimator=pipe,param_grid=param_dist,cv=splitter,n_jobs=-1,scoring='accuracy',verbose=3)\n",
    "search = clf.fit(x, y.ravel())"
   ]
  },
  {
   "cell_type": "code",
   "execution_count": null,
   "id": "0d33357f",
   "metadata": {},
   "outputs": [],
   "source": [
    "print('网格搜索-度量记录：',search.cv_results_)  # 包含每次训练的相关信息\n",
    "print('网格搜索-最佳度量值:',search.best_score_)  # 获取最佳度量值\n",
    "print('网格搜索-最佳参数：',search.best_params_)  # 获取最佳度量值时的代定参数的值。是一个字典\n",
    "print('网格搜索-最佳模型：',search.best_estimator_)  # 获取最佳度量时的分类器模型"
   ]
  },
  {
   "cell_type": "code",
   "execution_count": null,
   "id": "ded520f6",
   "metadata": {},
   "outputs": [],
   "source": [
    "xx=search.cv_results_['param_svc__C'].data.astype(float)\n",
    "yy=search.cv_results_['param_svc__gamma'].data.astype(float)\n",
    "zz=search.cv_results_['mean_test_score'].astype(float)\n",
    "xx=np.expand_dims(xx,axis=1)\n",
    "yy=np.expand_dims(yy,axis=1)\n",
    "zz=np.expand_dims(zz,axis=1)\n",
    "print(xx.shape)\n",
    "print(yy.shape)\n",
    "print(zz.shape)\n",
    "zxc=pd.DataFrame(np.hstack((xx,yy,zz)))\n",
    "zxc.columns=['C','gamma','acc']\n",
    "zxc=pd.pivot_table(zxc,index=['C'],columns=['gamma'],values=['acc'])\n",
    "zxc.to_csv(local_path+'\\\\blokagedata\\\\svm_finetune_grid_b.csv',encoding='ascii',index=True)"
   ]
  },
  {
   "cell_type": "code",
   "execution_count": null,
   "id": "c0076aec",
   "metadata": {},
   "outputs": [],
   "source": [
    "zxc=pd.DataFrame(np.hstack((xx,yy,zz)))\n",
    "zxc.columns=['C','gamma','acc']\n",
    "a=pd.pivot_table(zxc,index=['C'],columns=['gamma'],values=['acc'])\n",
    "a.to_csv(local_path+'\\\\blokagedata\\\\svm_finetune_grid_a.csv',encoding='ascii',index=False)"
   ]
  },
  {
   "cell_type": "markdown",
   "id": "26917499",
   "metadata": {},
   "source": [
    "# RF"
   ]
  },
  {
   "cell_type": "code",
   "execution_count": 34,
   "id": "be43cca8",
   "metadata": {
    "ExecuteTime": {
     "end_time": "2022-01-06T14:54:47.047855Z",
     "start_time": "2022-01-06T14:53:53.059959Z"
    },
    "scrolled": true
   },
   "outputs": [
    {
     "name": "stderr",
     "output_type": "stream",
     "text": [
      "E:\\Anaconda3\\lib\\site-packages\\sklearn\\model_selection\\_split.py:666: UserWarning: The least populated class in y has only 4 members, which is less than n_splits=5.\n",
      "  warnings.warn((\"The least populated class in y has only %d\"\n"
     ]
    },
    {
     "name": "stdout",
     "output_type": "stream",
     "text": [
      "train_acc: 1.0\n",
      "acc: [0.9790874524714829]\n",
      "train_acc: 1.0\n",
      "acc: [0.9790874524714829, 0.9657794676806084]\n",
      "train_acc: 1.0\n",
      "acc: [0.9790874524714829, 0.9657794676806084, 0.9714828897338403]\n",
      "train_acc: 1.0\n",
      "acc: [0.9790874524714829, 0.9657794676806084, 0.9714828897338403, 0.9847908745247148]\n",
      "train_acc: 1.0\n",
      "acc: [0.9790874524714829, 0.9657794676806084, 0.9714828897338403, 0.9847908745247148, 0.9828897338403042]\n",
      "ave_acc 0.9768060836501901\n",
      "score_record: [0.9768060836501901]\n",
      "1\n",
      "train_acc: 1.0\n",
      "acc: [0.9800362976406534]\n",
      "train_acc: 1.0\n",
      "acc: [0.9800362976406534, 0.98]\n",
      "train_acc: 1.0\n",
      "acc: [0.9800362976406534, 0.98, 0.9727272727272728]\n",
      "train_acc: 1.0\n",
      "acc: [0.9800362976406534, 0.98, 0.9727272727272728, 0.9818181818181818]\n",
      "train_acc: 1.0\n",
      "acc: [0.9800362976406534, 0.98, 0.9727272727272728, 0.9818181818181818, 0.9727272727272728]\n",
      "ave_acc 0.9774618049826762\n",
      "score_record: [0.9774618049826762]\n",
      "2\n",
      "train_acc: 1.0\n",
      "acc: [0.9533213644524237]\n",
      "train_acc: 1.0\n",
      "acc: [0.9533213644524237, 0.9658273381294964]\n",
      "train_acc: 1.0\n",
      "acc: [0.9533213644524237, 0.9658273381294964, 0.9496402877697842]\n",
      "train_acc: 1.0\n",
      "acc: [0.9533213644524237, 0.9658273381294964, 0.9496402877697842, 0.9676258992805755]\n",
      "train_acc: 1.0\n",
      "acc: [0.9533213644524237, 0.9658273381294964, 0.9496402877697842, 0.9676258992805755, 0.9712230215827338]\n",
      "ave_acc 0.9615275822430027\n",
      "score_record: [0.9615275822430027]\n",
      "3\n",
      "train_acc: 1.0\n",
      "acc: [0.9477477477477477]\n",
      "train_acc: 1.0\n",
      "acc: [0.9477477477477477, 0.9783783783783784]\n",
      "train_acc: 1.0\n",
      "acc: [0.9477477477477477, 0.9783783783783784, 0.9459459459459459]\n",
      "train_acc: 1.0\n",
      "acc: [0.9477477477477477, 0.9783783783783784, 0.9459459459459459, 0.972972972972973]\n",
      "train_acc: 1.0\n",
      "acc: [0.9477477477477477, 0.9783783783783784, 0.9459459459459459, 0.972972972972973, 0.9657039711191335]\n",
      "ave_acc 0.9621498032328357\n",
      "score_record: [0.9621498032328357]\n",
      "4\n",
      "train_acc: 1.0\n",
      "acc: [0.9569120287253142]\n",
      "train_acc: 1.0\n",
      "acc: [0.9569120287253142, 0.947935368043088]\n",
      "train_acc: 1.0\n",
      "acc: [0.9569120287253142, 0.947935368043088, 0.960431654676259]\n",
      "train_acc: 1.0\n",
      "acc: [0.9569120287253142, 0.947935368043088, 0.960431654676259, 0.9730215827338129]\n",
      "train_acc: 1.0\n",
      "acc: [0.9569120287253142, 0.947935368043088, 0.960431654676259, 0.9730215827338129, 0.9676258992805755]\n",
      "ave_acc 0.9611853066918099\n",
      "score_record: [0.9611853066918099]\n",
      "5\n",
      "train_acc: 1.0\n",
      "acc: [0.9568345323741008]\n",
      "train_acc: 1.0\n",
      "acc: [0.9568345323741008, 0.9460431654676259]\n",
      "train_acc: 1.0\n",
      "acc: [0.9568345323741008, 0.9460431654676259, 0.954954954954955]\n",
      "train_acc: 1.0\n",
      "acc: [0.9568345323741008, 0.9460431654676259, 0.954954954954955, 0.9621621621621622]\n",
      "train_acc: 1.0\n",
      "acc: [0.9568345323741008, 0.9460431654676259, 0.954954954954955, 0.9621621621621622, 0.9621621621621622]\n",
      "ave_acc 0.9564313954242012\n",
      "score_record: [0.9564313954242012]\n",
      "6\n",
      "train_acc: 1.0\n",
      "acc: [0.9334532374100719]\n",
      "train_acc: 1.0\n",
      "acc: [0.9334532374100719, 0.947841726618705]\n",
      "train_acc: 1.0\n",
      "acc: [0.9334532374100719, 0.947841726618705, 0.9514388489208633]\n",
      "train_acc: 1.0\n",
      "acc: [0.9334532374100719, 0.947841726618705, 0.9514388489208633, 0.9442446043165468]\n",
      "train_acc: 1.0\n",
      "acc: [0.9334532374100719, 0.947841726618705, 0.9514388489208633, 0.9442446043165468, 0.9298561151079137]\n",
      "ave_acc 0.9413669064748202\n",
      "score_record: [0.9413669064748202]\n",
      "7\n",
      "train_acc: 1.0\n",
      "acc: [0.926391382405745]\n",
      "train_acc: 1.0\n",
      "acc: [0.926391382405745, 0.9280575539568345]\n",
      "train_acc: 1.0\n",
      "acc: [0.926391382405745, 0.9280575539568345, 0.9280575539568345]\n",
      "train_acc: 1.0\n",
      "acc: [0.926391382405745, 0.9280575539568345, 0.9280575539568345, 0.9388489208633094]\n",
      "train_acc: 1.0\n",
      "acc: [0.926391382405745, 0.9280575539568345, 0.9280575539568345, 0.9388489208633094, 0.9046762589928058]\n",
      "ave_acc 0.9252063340351059\n",
      "score_record: [0.9252063340351059]\n",
      "8\n",
      "train_acc: 1.0\n",
      "acc: [0.8833034111310593]\n",
      "train_acc: 1.0\n",
      "acc: [0.8833034111310593, 0.9084380610412927]\n",
      "train_acc: 1.0\n",
      "acc: [0.8833034111310593, 0.9084380610412927, 0.9048473967684022]\n",
      "train_acc: 1.0\n",
      "acc: [0.8833034111310593, 0.9084380610412927, 0.9048473967684022, 0.8922800718132855]\n",
      "train_acc: 1.0\n",
      "acc: [0.8833034111310593, 0.9084380610412927, 0.9048473967684022, 0.8922800718132855, 0.8920863309352518]\n",
      "ave_acc 0.8961910543378583\n",
      "score_record: [0.8961910543378583]\n",
      "9\n"
     ]
    }
   ],
   "source": [
    "t_score=[]\n",
    "for t,i in zip([s1,s2,s3,s4,s5,s6,s7,s8,s9],range(1,10)):\n",
    "    #划分样本和标签\n",
    "    x=np.array(t.iloc[:,range(0,96)])#.astype(int)\n",
    "    y=np.array(t.loc[:,'code']).reshape(-1,1).astype(int)\n",
    "    #训练模型\n",
    "    skf = StratifiedKFold(n_splits=5,shuffle=True,random_state=1)\n",
    "    score_record=[]\n",
    "    hs_record=[]\n",
    "    acc=[]\n",
    "    for train_index, test_index in skf.split(x,y):\n",
    "        x_train, x_test = x[train_index], x[test_index]\n",
    "        y_train, y_test = y[train_index], y[test_index]\n",
    "        #qt\n",
    "        qt = QuantileTransformer(output_distribution = 'uniform' )\n",
    "        x_train = qt.fit_transform(x_train)\n",
    "        x_test = qt.transform(x_test)\n",
    "        clf=RandomForestClassifier(n_estimators=100,criterion='gini',max_depth=None,min_samples_split=2,n_jobs=-1)\n",
    "        clf.fit(x_train,y_train.ravel())\n",
    "        best_acc=clf.score(x_test,y_test.ravel())\n",
    "        train_acc=clf.score(x_train,y_train.ravel())\n",
    "        print('train_acc:',train_acc)\n",
    "        acc.append(best_acc)\n",
    "        print('acc:',acc)\n",
    "    ave_score=np.mean(acc)\n",
    "    print('ave_acc',ave_score)\n",
    "    score_record.append(ave_score)\n",
    "    print('score_record:',score_record)\n",
    "    t_score.append([i,ave_score])\n",
    "    print(i)"
   ]
  },
  {
   "cell_type": "code",
   "execution_count": 35,
   "id": "546b0469",
   "metadata": {
    "ExecuteTime": {
     "end_time": "2022-01-06T14:58:16.675474Z",
     "start_time": "2022-01-06T14:58:16.670487Z"
    }
   },
   "outputs": [
    {
     "data": {
      "text/plain": [
       "[[1, 0.9768060836501901],\n",
       " [2, 0.9774618049826762],\n",
       " [3, 0.9615275822430027],\n",
       " [4, 0.9621498032328357],\n",
       " [5, 0.9611853066918099],\n",
       " [6, 0.9564313954242012],\n",
       " [7, 0.9413669064748202],\n",
       " [8, 0.9252063340351059],\n",
       " [9, 0.8961910543378583]]"
      ]
     },
     "execution_count": 35,
     "metadata": {},
     "output_type": "execute_result"
    }
   ],
   "source": [
    "t_score"
   ]
  },
  {
   "cell_type": "code",
   "execution_count": null,
   "id": "745da43f",
   "metadata": {},
   "outputs": [],
   "source": [
    "pipe = Pipeline([('scaler', QuantileTransformer(output_distribution = 'uniform')), ('rfc', RandomForestClassifier(criterion='gini',))])\n",
    "param_dist = {'rfc__n_estimators': randint(10, 500),\n",
    " 'rfc__min_samples_split': randint(2, 1000),\n",
    " 'rfc__max_depth': randint(2, 100)}\n",
    "splitter=StratifiedKFold(n_splits=5,random_state=1,shuffle=True)\n",
    "clf = RandomizedSearchCV(estimator=pipe,param_distributions=param_dist,n_iter=10,cv=splitter,random_state=11,n_jobs=-1,scoring='accuracy',verbose=3)\n",
    "search = clf.fit(x, y.ravel())"
   ]
  },
  {
   "cell_type": "markdown",
   "id": "7da3b0d0",
   "metadata": {},
   "source": [
    "# KNN"
   ]
  },
  {
   "cell_type": "code",
   "execution_count": 42,
   "id": "42bbda85",
   "metadata": {
    "ExecuteTime": {
     "end_time": "2022-01-06T15:05:16.805426Z",
     "start_time": "2022-01-06T15:04:54.998803Z"
    },
    "scrolled": true
   },
   "outputs": [
    {
     "name": "stderr",
     "output_type": "stream",
     "text": [
      "E:\\Anaconda3\\lib\\site-packages\\sklearn\\model_selection\\_split.py:666: UserWarning: The least populated class in y has only 4 members, which is less than n_splits=5.\n",
      "  warnings.warn((\"The least populated class in y has only %d\"\n"
     ]
    },
    {
     "name": "stdout",
     "output_type": "stream",
     "text": [
      "train_acc: 0.967680608365019\n",
      "acc: [0.9448669201520913]\n",
      "train_acc: 0.970532319391635\n",
      "acc: [0.9448669201520913, 0.9486692015209125]\n",
      "train_acc: 0.969106463878327\n",
      "acc: [0.9448669201520913, 0.9486692015209125, 0.9334600760456274]\n",
      "train_acc: 0.967680608365019\n",
      "acc: [0.9448669201520913, 0.9486692015209125, 0.9334600760456274, 0.9505703422053232]\n",
      "train_acc: 0.967680608365019\n",
      "acc: [0.9448669201520913, 0.9486692015209125, 0.9334600760456274, 0.9505703422053232, 0.9429657794676806]\n",
      "ave_acc 0.9441064638783269\n",
      "score_record: [0.9441064638783269]\n",
      "1\n",
      "train_acc: 0.9531818181818181\n",
      "acc: [0.9292196007259528]\n",
      "train_acc: 0.951385733757383\n",
      "acc: [0.9292196007259528, 0.9]\n",
      "train_acc: 0.9536574284416175\n",
      "acc: [0.9292196007259528, 0.9, 0.9072727272727272]\n",
      "train_acc: 0.9536574284416175\n",
      "acc: [0.9292196007259528, 0.9, 0.9072727272727272, 0.9163636363636364]\n",
      "train_acc: 0.9500227169468424\n",
      "acc: [0.9292196007259528, 0.9, 0.9072727272727272, 0.9163636363636364, 0.8963636363636364]\n",
      "ave_acc 0.9098439201451904\n",
      "score_record: [0.9098439201451904]\n",
      "2\n",
      "train_acc: 0.9428956834532374\n",
      "acc: [0.8976660682226212]\n",
      "train_acc: 0.9496629213483146\n",
      "acc: [0.8976660682226212, 0.9028776978417267]\n",
      "train_acc: 0.9465168539325842\n",
      "acc: [0.8976660682226212, 0.9028776978417267, 0.8902877697841727]\n",
      "train_acc: 0.9415730337078652\n",
      "acc: [0.8976660682226212, 0.9028776978417267, 0.8902877697841727, 0.8992805755395683]\n",
      "train_acc: 0.9402247191011236\n",
      "acc: [0.8976660682226212, 0.9028776978417267, 0.8902877697841727, 0.8992805755395683, 0.9010791366906474]\n",
      "ave_acc 0.8982382496157472\n",
      "score_record: [0.8982382496157472]\n",
      "3\n",
      "train_acc: 0.9373591707976566\n",
      "acc: [0.8828828828828829]\n",
      "train_acc: 0.9391617845876521\n",
      "acc: [0.8828828828828829, 0.8936936936936937]\n",
      "train_acc: 0.9373591707976566\n",
      "acc: [0.8828828828828829, 0.8936936936936937, 0.8846846846846846]\n",
      "train_acc: 0.9315006759801713\n",
      "acc: [0.8828828828828829, 0.8936936936936937, 0.8846846846846846, 0.9045045045045045]\n",
      "train_acc: 0.9337837837837838\n",
      "acc: [0.8828828828828829, 0.8936936936936937, 0.8846846846846846, 0.9045045045045045, 0.8844765342960289]\n",
      "ave_acc 0.8900484600123588\n",
      "score_record: [0.8900484600123588]\n",
      "4\n",
      "train_acc: 0.9276404494382022\n",
      "acc: [0.8599640933572711]\n",
      "train_acc: 0.92\n",
      "acc: [0.8599640933572711, 0.8581687612208259]\n",
      "train_acc: 0.9236298292902066\n",
      "acc: [0.8599640933572711, 0.8581687612208259, 0.8830935251798561]\n",
      "train_acc: 0.9182389937106918\n",
      "acc: [0.8599640933572711, 0.8581687612208259, 0.8830935251798561, 0.8687050359712231]\n",
      "train_acc: 0.9191374663072777\n",
      "acc: [0.8599640933572711, 0.8581687612208259, 0.8830935251798561, 0.8687050359712231, 0.8758992805755396]\n",
      "ave_acc 0.8691661392609431\n",
      "score_record: [0.8691661392609431]\n",
      "5\n",
      "train_acc: 0.904997748761819\n",
      "acc: [0.8471223021582733]\n",
      "train_acc: 0.9117514633048176\n",
      "acc: [0.8471223021582733, 0.8507194244604317]\n",
      "train_acc: 0.9135913591359136\n",
      "acc: [0.8471223021582733, 0.8507194244604317, 0.8594594594594595]\n",
      "train_acc: 0.918991899189919\n",
      "acc: [0.8471223021582733, 0.8507194244604317, 0.8594594594594595, 0.8540540540540541]\n",
      "train_acc: 0.9068406840684068\n",
      "acc: [0.8471223021582733, 0.8507194244604317, 0.8594594594594595, 0.8540540540540541, 0.8522522522522522]\n",
      "ave_acc 0.8527214984768943\n",
      "score_record: [0.8527214984768943]\n",
      "6\n",
      "train_acc: 0.8983812949640287\n",
      "acc: [0.8201438848920863]\n",
      "train_acc: 0.9010791366906474\n",
      "acc: [0.8201438848920863, 0.8129496402877698]\n",
      "train_acc: 0.8983812949640287\n",
      "acc: [0.8201438848920863, 0.8129496402877698, 0.8345323741007195]\n",
      "train_acc: 0.9037769784172662\n",
      "acc: [0.8201438848920863, 0.8129496402877698, 0.8345323741007195, 0.8309352517985612]\n",
      "train_acc: 0.9006294964028777\n",
      "acc: [0.8201438848920863, 0.8129496402877698, 0.8345323741007195, 0.8309352517985612, 0.8381294964028777]\n",
      "ave_acc 0.8273381294964028\n",
      "score_record: [0.8273381294964028]\n",
      "7\n",
      "train_acc: 0.8844424460431655\n",
      "acc: [0.8061041292639138]\n",
      "train_acc: 0.88\n",
      "acc: [0.8061041292639138, 0.7985611510791367]\n",
      "train_acc: 0.8858426966292134\n",
      "acc: [0.8061041292639138, 0.7985611510791367, 0.8129496402877698]\n",
      "train_acc: 0.8831460674157303\n",
      "acc: [0.8061041292639138, 0.7985611510791367, 0.8129496402877698, 0.8255395683453237]\n",
      "train_acc: 0.8880898876404495\n",
      "acc: [0.8061041292639138, 0.7985611510791367, 0.8129496402877698, 0.8255395683453237, 0.8057553956834532]\n",
      "ave_acc 0.8097819769319194\n",
      "score_record: [0.8097819769319194]\n",
      "8\n",
      "train_acc: 0.8657386618769646\n",
      "acc: [0.7791741472172352]\n",
      "train_acc: 0.8572070049393803\n",
      "acc: [0.7791741472172352, 0.770197486535009]\n",
      "train_acc: 0.8612483161203413\n",
      "acc: [0.7791741472172352, 0.770197486535009, 0.7845601436265709]\n",
      "train_acc: 0.8661876964526268\n",
      "acc: [0.7791741472172352, 0.770197486535009, 0.7845601436265709, 0.7899461400359067]\n",
      "train_acc: 0.8631059245960503\n",
      "acc: [0.7791741472172352, 0.770197486535009, 0.7845601436265709, 0.7899461400359067, 0.7715827338129496]\n",
      "ave_acc 0.7790921302455344\n",
      "score_record: [0.7790921302455344]\n",
      "9\n"
     ]
    }
   ],
   "source": [
    "t_score=[]\n",
    "for t,i in zip([s1,s2,s3,s4,s5,s6,s7,s8,s9],range(1,10)):\n",
    "    #划分样本和标签\n",
    "    x=np.array(t.iloc[:,range(0,96)])#.astype(int)\n",
    "    y=np.array(t.loc[:,'code']).reshape(-1,1).astype(int)\n",
    "    #训练模型\n",
    "    skf = StratifiedKFold(n_splits=5,shuffle=True,random_state=1)\n",
    "    score_record=[]\n",
    "    hs_record=[]\n",
    "    acc=[]\n",
    "    for train_index, test_index in skf.split(x,y):\n",
    "        x_train, x_test = x[train_index], x[test_index]\n",
    "        y_train, y_test = y[train_index], y[test_index]\n",
    "        #qt\n",
    "        qt = QuantileTransformer(output_distribution = 'uniform' )\n",
    "        x_train = qt.fit_transform(x_train)\n",
    "        x_test = qt.transform(x_test)\n",
    "        clf=KNeighborsClassifier(n_neighbors=4)\n",
    "        clf.fit(x_train,y_train.ravel())\n",
    "        best_acc=clf.score(x_test,y_test.ravel())\n",
    "        train_acc=clf.score(x_train,y_train.ravel())\n",
    "        print('train_acc:',train_acc)\n",
    "        acc.append(best_acc)\n",
    "        print('acc:',acc)\n",
    "    ave_score=np.mean(acc)\n",
    "    print('ave_acc',ave_score)\n",
    "    score_record.append(ave_score)\n",
    "    print('score_record:',score_record)\n",
    "    t_score.append([i,ave_score])\n",
    "    print(i)"
   ]
  },
  {
   "cell_type": "code",
   "execution_count": 44,
   "id": "7723919c",
   "metadata": {
    "ExecuteTime": {
     "end_time": "2022-01-06T15:05:30.899808Z",
     "start_time": "2022-01-06T15:05:30.894822Z"
    }
   },
   "outputs": [
    {
     "data": {
      "text/plain": [
       "[[1, 0.9441064638783269],\n",
       " [2, 0.9098439201451904],\n",
       " [3, 0.8982382496157472],\n",
       " [4, 0.8900484600123588],\n",
       " [5, 0.8691661392609431],\n",
       " [6, 0.8527214984768943],\n",
       " [7, 0.8273381294964028],\n",
       " [8, 0.8097819769319194],\n",
       " [9, 0.7790921302455344]]"
      ]
     },
     "execution_count": 44,
     "metadata": {},
     "output_type": "execute_result"
    }
   ],
   "source": [
    "t_score"
   ]
  },
  {
   "cell_type": "code",
   "execution_count": null,
   "id": "855ea06a",
   "metadata": {},
   "outputs": [],
   "source": [
    "pipe = Pipeline([('scaler', QuantileTransformer(output_distribution = 'uniform')), ('knn', KNeighborsClassifier())])\n",
    "param_dist = {'knn__n_neighbors': [1,2,3,4,5,6,7,8,9]}\n",
    "splitter=StratifiedKFold(n_splits=5,random_state=1,shuffle=True)\n",
    "clf = RandomizedSearchCV(estimator=pipe,param_distributions=param_dist,n_iter=9,cv=splitter,random_state=1,n_jobs=-1,scoring='accuracy',verbose=3)\n",
    "search = clf.fit(x, y.ravel())"
   ]
  },
  {
   "cell_type": "code",
   "execution_count": null,
   "id": "6615556f",
   "metadata": {},
   "outputs": [],
   "source": [
    "print('网格搜索-度量记录：',search.cv_results_)  # 包含每次训练的相关信息\n",
    "print('网格搜索-最佳度量值:',search.best_score_)  # 获取最佳度量值\n",
    "print('网格搜索-最佳参数：',search.best_params_)  # 获取最佳度量值时的代定参数的值。是一个字典\n",
    "print('网格搜索-最佳模型：',search.best_estimator_)  # 获取最佳度量时的分类器模型"
   ]
  },
  {
   "cell_type": "code",
   "execution_count": null,
   "id": "ab91b676",
   "metadata": {},
   "outputs": [],
   "source": [
    "xx=search.cv_results_['param_knn__n_neighbors'].data.astype(float)\n",
    "zz=search.cv_results_['mean_test_score'].astype(float)\n",
    "xx=np.expand_dims(xx,axis=1)\n",
    "zz=np.expand_dims(zz,axis=1)\n",
    "print(xx.shape)\n",
    "print(zz.shape)\n",
    "zxc=pd.DataFrame(np.hstack((xx,zz)))\n",
    "zxc.columns=['k','acc']\n",
    "# zxc=pd.pivot_table(zxc,index=['C'],columns=['gamma'],values=['acc'])\n",
    "# zxc.to_csv(local_path+'\\\\blokagedata\\\\svm_finetune_grid_b.csv',encoding='ascii',index=True)"
   ]
  }
 ],
 "metadata": {
  "kernelspec": {
   "display_name": "Python 3",
   "language": "python",
   "name": "python3"
  },
  "language_info": {
   "codemirror_mode": {
    "name": "ipython",
    "version": 3
   },
   "file_extension": ".py",
   "mimetype": "text/x-python",
   "name": "python",
   "nbconvert_exporter": "python",
   "pygments_lexer": "ipython3",
   "version": "3.8.8"
  },
  "toc": {
   "base_numbering": 1,
   "nav_menu": {},
   "number_sections": true,
   "sideBar": true,
   "skip_h1_title": false,
   "title_cell": "Table of Contents",
   "title_sidebar": "Contents",
   "toc_cell": false,
   "toc_position": {},
   "toc_section_display": true,
   "toc_window_display": false
  },
  "varInspector": {
   "cols": {
    "lenName": 16,
    "lenType": 16,
    "lenVar": 40
   },
   "kernels_config": {
    "python": {
     "delete_cmd_postfix": "",
     "delete_cmd_prefix": "del ",
     "library": "var_list.py",
     "varRefreshCmd": "print(var_dic_list())"
    },
    "r": {
     "delete_cmd_postfix": ") ",
     "delete_cmd_prefix": "rm(",
     "library": "var_list.r",
     "varRefreshCmd": "cat(var_dic_list()) "
    }
   },
   "types_to_exclude": [
    "module",
    "function",
    "builtin_function_or_method",
    "instance",
    "_Feature"
   ],
   "window_display": false
  }
 },
 "nbformat": 4,
 "nbformat_minor": 5
}
