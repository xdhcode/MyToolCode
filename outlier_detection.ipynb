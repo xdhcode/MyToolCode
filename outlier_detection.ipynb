{
 "cells": [
  {
   "cell_type": "code",
   "execution_count": 2,
   "metadata": {},
   "outputs": [],
   "source": [
    "import pandas as pd\n",
    "import numpy as np\n",
    "import matplotlib\n",
    "import matplotlib.pyplot as plt \n",
    "import pywt\n",
    "import os"
   ]
  },
  {
   "cell_type": "code",
   "execution_count": 11,
   "metadata": {},
   "outputs": [],
   "source": [
    "#依次画出每个样本的数据\n",
    "def plot_all_data(data):\n",
    "    if not type(data)==pd.core.frame.DataFrame:\n",
    "        data=pd.DataFrame(data)\n",
    "        for i in range(len(data.index)):\n",
    "            data.iloc[i].plot()\n",
    "            plt.title(data.index[i])\n",
    "            plt.show()\n",
    "    elif type(data)==pd.core.frame.DataFrame:\n",
    "        for i in range(len(data.index)):\n",
    "            data.iloc[i].plot()\n",
    "            plt.title(data.index[i])\n",
    "            plt.show()\n",
    "    else:\n",
    "        print('请检查数据类型')"
   ]
  },
  {
   "cell_type": "code",
   "execution_count": 3,
   "metadata": {},
   "outputs": [],
   "source": [
    "local_path=os.getcwd()\n",
    "scada=pd.read_csv(local_path+'\\\\TYQdata\\\\scada.csv',usecols=[0,2],header=None,names=['Datetime','Pressure'])"
   ]
  },
  {
   "cell_type": "code",
   "execution_count": 4,
   "metadata": {},
   "outputs": [],
   "source": [
    "scada_reshaped_inter=pd.read_csv(local_path+'\\\\TYQdata\\\\scada_reshaped_inter.csv',parse_dates=[0],index_col=0)"
   ]
  },
  {
   "cell_type": "code",
   "execution_count": 8,
   "metadata": {},
   "outputs": [],
   "source": [
    "# 小波滤噪\n",
    "def wavelet_denoising(data):\n",
    "    # 小波函数取db4\n",
    "    db4 = pywt.Wavelet('db4')\n",
    "    # 分解\n",
    "    coeffs = pywt.wavedec(data, db4)\n",
    "    # 高频系数置零\n",
    "    coeffs[len(coeffs)-1] *= 0\n",
    "    coeffs[len(coeffs)-2] *= 0\n",
    "    # 重构\n",
    "    meta = pywt.waverec(coeffs, db4)\n",
    "    return meta"
   ]
  },
  {
   "cell_type": "code",
   "execution_count": 9,
   "metadata": {},
   "outputs": [],
   "source": [
    "wave=wavelet_denoising(scada_reshaped_inter)"
   ]
  },
  {
   "cell_type": "code",
   "execution_count": 17,
   "metadata": {},
   "outputs": [],
   "source": [
    "scada_reshaped_inter_diff=scada_reshaped_inter.diff(axis=1)"
   ]
  },
  {
   "cell_type": "code",
   "execution_count": 24,
   "metadata": {},
   "outputs": [],
   "source": [
    "scada_reshaped_inter_diff_abs=scada_reshaped_inter_diff.abs()"
   ]
  }
 ],
 "metadata": {
  "kernelspec": {
   "display_name": "Python 3",
   "language": "python",
   "name": "python3"
  },
  "language_info": {
   "codemirror_mode": {
    "name": "ipython",
    "version": 3
   },
   "file_extension": ".py",
   "mimetype": "text/x-python",
   "name": "python",
   "nbconvert_exporter": "python",
   "pygments_lexer": "ipython3",
   "version": "3.8.8"
  },
  "toc": {
   "base_numbering": 1,
   "nav_menu": {},
   "number_sections": true,
   "sideBar": true,
   "skip_h1_title": false,
   "title_cell": "Table of Contents",
   "title_sidebar": "Contents",
   "toc_cell": false,
   "toc_position": {},
   "toc_section_display": true,
   "toc_window_display": false
  },
  "varInspector": {
   "cols": {
    "lenName": 16,
    "lenType": 16,
    "lenVar": 40
   },
   "kernels_config": {
    "python": {
     "delete_cmd_postfix": "",
     "delete_cmd_prefix": "del ",
     "library": "var_list.py",
     "varRefreshCmd": "print(var_dic_list())"
    },
    "r": {
     "delete_cmd_postfix": ") ",
     "delete_cmd_prefix": "rm(",
     "library": "var_list.r",
     "varRefreshCmd": "cat(var_dic_list()) "
    }
   },
   "types_to_exclude": [
    "module",
    "function",
    "builtin_function_or_method",
    "instance",
    "_Feature"
   ],
   "window_display": false
  }
 },
 "nbformat": 4,
 "nbformat_minor": 4
}
