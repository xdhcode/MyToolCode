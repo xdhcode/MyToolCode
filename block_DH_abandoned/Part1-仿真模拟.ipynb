{
 "cells": [
  {
   "cell_type": "code",
   "execution_count": 11,
   "id": "4708716f",
   "metadata": {
    "ExecuteTime": {
     "end_time": "2022-02-12T05:52:53.299094Z",
     "start_time": "2022-02-12T05:52:53.283479Z"
    }
   },
   "outputs": [],
   "source": [
    "import os\n",
    "import sys\n",
    "import clr\n",
    "import time\n",
    "import pandas as pd\n",
    "import numpy as np\n",
    "from tqdm import tqdm\n",
    "\n",
    "clr.FindAssembly('PyConnDH')\n",
    "clr.AddReference('PyConnDH')\n",
    "from PyConnDH import *\n",
    "\n",
    "class mmm():\n",
    "    def __init__(self,):\n",
    "        self.path='E:\\\\Anaconda3\\\\PyComDH\\\\'\n",
    "        self.ppa=pd.read_csv(self.path+'1.Pipe.csv',header=0,encoding='gbk')  #读取原始管道数据\n",
    "        \n",
    "    def setpipe(self):\n",
    "        pp=self.ppa\n",
    "        ppdia=pd.concat([pp.loc[range(0,68),['内径']]*0.01*i for i in range(5,96)],axis=0).reset_index()  #设置管径\n",
    "        ppdia=ppdia['内径']\n",
    "        ppcoe=pd.concat([pd.DataFrame(np.ones([68,1]))*0.01*i for i in range(5,96)],axis=0).reset_index()#生成管径系数\n",
    "        ppcoe=ppcoe[0]\n",
    "        ppcode=(pd.concat([pp.loc[range(0,68),['编号']] for i in range(5,96)],axis=0)).reset_index()#生成管道编号\n",
    "        ppcode=ppcode['编号']\n",
    "        pplabel=(pd.concat([pp.loc[range(0,68),['编号']] for i in range(5,96)],axis=0)-1).reset_index()#生成管道标签\n",
    "        pplabel=pplabel['编号']\n",
    "\n",
    "        ppc=pd.concat([ppcode,pplabel,ppdia,ppcoe],axis=1)\n",
    "        ppc.columns=['Code','label','InnerDiameter','DN']\n",
    "        return ppc\n",
    "    def calc(self,i):\n",
    "        csvOutPath = sys.executable.split(\"python.exe\")[0] + \"PyComDH\\\\out\"\n",
    "        csvInPath = sys.executable.split(\"python.exe\")[0] + \"PyComDH\\\\in\"\n",
    "        if not os.path.exists(self.path+'out\\\\'+str(i)):\n",
    "            os.mkdir(self.path+'out\\\\'+str(i))\n",
    "            \n",
    "        calcInfo = calcDH.doCal(str(i))\n",
    "        if calcInfo.split(\",\")[0] == 'false':  # 计算异常\n",
    "            print('第'+str(i)+'次计算失败！'+ calcInfo.split(\",\")[1])  # 控制台输出异常问题\n",
    "        else:\n",
    "            print('第'+str(i)+'次计算：成功')\n",
    "            \n",
    "    def run(self):\n",
    "        ppcal=self.setpipe()\n",
    "        startT=time.time()\n",
    "        for i in range(2402,2403):\n",
    "            ppb=self.ppa.copy()#初始化管径数据\n",
    "            ppb.loc[ppcal.iloc[i,1],['内径']]=ppcal.iloc[i,2] #修改管径\n",
    "            ppb.to_csv(self.path+'in\\\\1.Pipe.csv',index=None,encoding='gbk')\n",
    "            \n",
    "            self.calc(i)\n",
    "            \n",
    "            stopT=time.time()\n",
    "            print('总共用时s：',round(stopT-startT,4))"
   ]
  },
  {
   "cell_type": "code",
   "execution_count": 12,
   "id": "92f5c039",
   "metadata": {
    "ExecuteTime": {
     "end_time": "2022-02-12T05:53:23.549273Z",
     "start_time": "2022-02-12T05:53:22.344265Z"
    },
    "scrolled": true
   },
   "outputs": [
    {
     "name": "stdout",
     "output_type": "stream",
     "text": [
      "第2284次计算：成功\n",
      "总共用时s： 1.0347\n"
     ]
    }
   ],
   "source": [
    "M=mmm()\n",
    "M.run()"
   ]
  },
  {
   "cell_type": "code",
   "execution_count": 10,
   "id": "3f372cc7",
   "metadata": {
    "ExecuteTime": {
     "end_time": "2022-02-12T05:26:38.347930Z",
     "start_time": "2022-02-12T05:26:37.328470Z"
    }
   },
   "outputs": [
    {
     "name": "stdout",
     "output_type": "stream",
     "text": [
      "调用计算成功\n"
     ]
    }
   ],
   "source": [
    "# 计算模块\n",
    "def calc():\n",
    "    csvOutPath = sys.executable.split(\"python.exe\")[0] + \"PyComDH\\\\out\"  # 获取csv所在文件夹路径的方法,DLL里是自动获取了Application的路径，所以py调用时就是在python.exe的那个目录\n",
    "    csvInPath = sys.executable.split(\"python.exe\")[0] + \"PyComDH\\\\in\"\n",
    "\n",
    "    calcInfo = calcDH.doCal('0')  # 开始计算\n",
    "    if calcInfo.split(\",\")[0] == 'false':  # 计算异常\n",
    "        print(\"调用计算失败：\" + calcInfo.split(\",\")[1])  # 控制台输出异常问题\n",
    "    else:\n",
    "        print(\"调用计算成功\")\n",
    "\n",
    "\n",
    "if __name__ == '__main__':\n",
    "    calc()"
   ]
  }
 ],
 "metadata": {
  "kernelspec": {
   "display_name": "Python 3",
   "language": "python",
   "name": "python3"
  },
  "language_info": {
   "codemirror_mode": {
    "name": "ipython",
    "version": 3
   },
   "file_extension": ".py",
   "mimetype": "text/x-python",
   "name": "python",
   "nbconvert_exporter": "python",
   "pygments_lexer": "ipython3",
   "version": "3.8.8"
  },
  "toc": {
   "base_numbering": 1,
   "nav_menu": {},
   "number_sections": true,
   "sideBar": true,
   "skip_h1_title": false,
   "title_cell": "Table of Contents",
   "title_sidebar": "Contents",
   "toc_cell": false,
   "toc_position": {},
   "toc_section_display": true,
   "toc_window_display": false
  },
  "varInspector": {
   "cols": {
    "lenName": 16,
    "lenType": 16,
    "lenVar": 40
   },
   "kernels_config": {
    "python": {
     "delete_cmd_postfix": "",
     "delete_cmd_prefix": "del ",
     "library": "var_list.py",
     "varRefreshCmd": "print(var_dic_list())"
    },
    "r": {
     "delete_cmd_postfix": ") ",
     "delete_cmd_prefix": "rm(",
     "library": "var_list.r",
     "varRefreshCmd": "cat(var_dic_list()) "
    }
   },
   "types_to_exclude": [
    "module",
    "function",
    "builtin_function_or_method",
    "instance",
    "_Feature"
   ],
   "window_display": false
  }
 },
 "nbformat": 4,
 "nbformat_minor": 5
}
