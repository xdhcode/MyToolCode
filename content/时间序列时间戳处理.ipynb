{
 "cells": [
  {
   "cell_type": "code",
   "execution_count": 1,
   "id": "1ddb846e",
   "metadata": {
    "ExecuteTime": {
     "end_time": "2021-11-15T09:38:34.765893Z",
     "start_time": "2021-11-15T09:38:32.805464Z"
    }
   },
   "outputs": [],
   "source": [
    "import os\n",
    "import numpy as np\n",
    "import matplotlib.pyplot as plt\n",
    "import pandas as pd\n",
    "import datetime as dt\n",
    "local_path=os.getcwd()"
   ]
  },
  {
   "cell_type": "code",
   "execution_count": 2,
   "id": "972d1729",
   "metadata": {
    "ExecuteTime": {
     "end_time": "2021-11-15T09:38:37.647767Z",
     "start_time": "2021-11-15T09:38:37.630228Z"
    }
   },
   "outputs": [],
   "source": [
    "scada1=pd.DataFrame([['2020/10/17 10:50:20',163.761],\n",
    "                     ['2020/10/17 10:49:30',-101],\n",
    "                     ['2020/10/17 10:48:40',0],\n",
    "                     ['2020/10/17 10:47:50',0],\n",
    "                     ['2020/10/17 10:46:10',160.551],\n",
    "                     ['2020/10/17 10:45:20',165.891],\n",
    "                     ['2020/10/17 10:44:30',162.676],\n",
    "                     ['2020/10/17 10:43:40',np.nan],\n",
    "                     ['2020/10/17 10:42:50',165.975],\n",
    "                     ['2020/10/17 10:41:10',163.275],\n",
    "                     ['2020/10/17 10:40:20',163.382]],columns=['Datetime','Pressure'])#.set_index(['Datetime'])\n",
    "scada2=pd.DataFrame([['2020/10/17 10:50:00',29.689],\n",
    "                     ['2020/10/17 10:45:00',29.604],\n",
    "                     ['2020/10/17 10:40:00',29.312]],columns=['Datetime','Temperature'])#.set_index(['Datetime'])"
   ]
  },
  {
   "cell_type": "code",
   "execution_count": 119,
   "id": "6f75a32a",
   "metadata": {
    "ExecuteTime": {
     "end_time": "2021-09-28T09:48:03.209434Z",
     "start_time": "2021-09-28T09:48:03.203170Z"
    }
   },
   "outputs": [],
   "source": [
    "scada1['Datetime']=pd.to_datetime(scada1['Datetime'])  "
   ]
  },
  {
   "cell_type": "code",
   "execution_count": 75,
   "id": "2092258e",
   "metadata": {
    "ExecuteTime": {
     "end_time": "2021-09-28T09:12:22.218098Z",
     "start_time": "2021-09-28T09:12:22.207448Z"
    }
   },
   "outputs": [
    {
     "data": {
      "text/plain": [
       "DatetimeIndex(['2020-10-17 00:00:00', '2020-10-17 00:01:00',\n",
       "               '2020-10-17 00:02:00', '2020-10-17 00:03:00',\n",
       "               '2020-10-17 00:04:00', '2020-10-17 00:05:00',\n",
       "               '2020-10-17 00:06:00', '2020-10-17 00:07:00',\n",
       "               '2020-10-17 00:08:00', '2020-10-17 00:09:00',\n",
       "               ...\n",
       "               '2020-10-17 23:50:00', '2020-10-17 23:51:00',\n",
       "               '2020-10-17 23:52:00', '2020-10-17 23:53:00',\n",
       "               '2020-10-17 23:54:00', '2020-10-17 23:55:00',\n",
       "               '2020-10-17 23:56:00', '2020-10-17 23:57:00',\n",
       "               '2020-10-17 23:58:00', '2020-10-17 23:59:00'],\n",
       "              dtype='datetime64[ns]', length=1440, freq='T')"
      ]
     },
     "execution_count": 75,
     "metadata": {},
     "output_type": "execute_result"
    }
   ],
   "source": [
    "pd.date_range(\"2020-10-17\", periods=1440, freq=\"min\")"
   ]
  },
  {
   "cell_type": "code",
   "execution_count": 120,
   "id": "53a79ad8",
   "metadata": {
    "ExecuteTime": {
     "end_time": "2021-09-28T09:48:05.254550Z",
     "start_time": "2021-09-28T09:48:05.246548Z"
    }
   },
   "outputs": [
    {
     "data": {
      "text/html": [
       "<div>\n",
       "<style scoped>\n",
       "    .dataframe tbody tr th:only-of-type {\n",
       "        vertical-align: middle;\n",
       "    }\n",
       "\n",
       "    .dataframe tbody tr th {\n",
       "        vertical-align: top;\n",
       "    }\n",
       "\n",
       "    .dataframe thead th {\n",
       "        text-align: right;\n",
       "    }\n",
       "</style>\n",
       "<table border=\"1\" class=\"dataframe\">\n",
       "  <thead>\n",
       "    <tr style=\"text-align: right;\">\n",
       "      <th></th>\n",
       "      <th>Datetime</th>\n",
       "      <th>Pressure</th>\n",
       "    </tr>\n",
       "  </thead>\n",
       "  <tbody>\n",
       "    <tr>\n",
       "      <th>0</th>\n",
       "      <td>2020-10-17 10:50:20</td>\n",
       "      <td>163.761</td>\n",
       "    </tr>\n",
       "    <tr>\n",
       "      <th>1</th>\n",
       "      <td>2020-10-17 10:49:30</td>\n",
       "      <td>-101.000</td>\n",
       "    </tr>\n",
       "    <tr>\n",
       "      <th>2</th>\n",
       "      <td>2020-10-17 10:48:40</td>\n",
       "      <td>0.000</td>\n",
       "    </tr>\n",
       "    <tr>\n",
       "      <th>3</th>\n",
       "      <td>2020-10-17 10:47:50</td>\n",
       "      <td>0.000</td>\n",
       "    </tr>\n",
       "    <tr>\n",
       "      <th>4</th>\n",
       "      <td>2020-10-17 10:46:10</td>\n",
       "      <td>160.551</td>\n",
       "    </tr>\n",
       "    <tr>\n",
       "      <th>5</th>\n",
       "      <td>2020-10-17 10:45:20</td>\n",
       "      <td>165.891</td>\n",
       "    </tr>\n",
       "    <tr>\n",
       "      <th>6</th>\n",
       "      <td>2020-10-17 10:44:30</td>\n",
       "      <td>162.676</td>\n",
       "    </tr>\n",
       "    <tr>\n",
       "      <th>7</th>\n",
       "      <td>2020-10-17 10:43:40</td>\n",
       "      <td>NaN</td>\n",
       "    </tr>\n",
       "    <tr>\n",
       "      <th>8</th>\n",
       "      <td>2020-10-17 10:42:50</td>\n",
       "      <td>165.975</td>\n",
       "    </tr>\n",
       "    <tr>\n",
       "      <th>9</th>\n",
       "      <td>2020-10-17 10:41:10</td>\n",
       "      <td>163.275</td>\n",
       "    </tr>\n",
       "    <tr>\n",
       "      <th>10</th>\n",
       "      <td>2020-10-17 10:40:20</td>\n",
       "      <td>163.382</td>\n",
       "    </tr>\n",
       "  </tbody>\n",
       "</table>\n",
       "</div>"
      ],
      "text/plain": [
       "              Datetime  Pressure\n",
       "0  2020-10-17 10:50:20   163.761\n",
       "1  2020-10-17 10:49:30  -101.000\n",
       "2  2020-10-17 10:48:40     0.000\n",
       "3  2020-10-17 10:47:50     0.000\n",
       "4  2020-10-17 10:46:10   160.551\n",
       "5  2020-10-17 10:45:20   165.891\n",
       "6  2020-10-17 10:44:30   162.676\n",
       "7  2020-10-17 10:43:40       NaN\n",
       "8  2020-10-17 10:42:50   165.975\n",
       "9  2020-10-17 10:41:10   163.275\n",
       "10 2020-10-17 10:40:20   163.382"
      ]
     },
     "execution_count": 120,
     "metadata": {},
     "output_type": "execute_result"
    }
   ],
   "source": [
    "scada1"
   ]
  },
  {
   "cell_type": "code",
   "execution_count": 114,
   "id": "4f5e0748",
   "metadata": {
    "ExecuteTime": {
     "end_time": "2021-09-28T09:34:41.397149Z",
     "start_time": "2021-09-28T09:34:41.378626Z"
    },
    "cell_style": "center"
   },
   "outputs": [
    {
     "data": {
      "text/html": [
       "<div>\n",
       "<style scoped>\n",
       "    .dataframe tbody tr th:only-of-type {\n",
       "        vertical-align: middle;\n",
       "    }\n",
       "\n",
       "    .dataframe tbody tr th {\n",
       "        vertical-align: top;\n",
       "    }\n",
       "\n",
       "    .dataframe thead th {\n",
       "        text-align: right;\n",
       "    }\n",
       "</style>\n",
       "<table border=\"1\" class=\"dataframe\">\n",
       "  <thead>\n",
       "    <tr style=\"text-align: right;\">\n",
       "      <th></th>\n",
       "      <th>Datetime</th>\n",
       "      <th>Pressure</th>\n",
       "    </tr>\n",
       "  </thead>\n",
       "  <tbody>\n",
       "    <tr>\n",
       "      <th>0</th>\n",
       "      <td>2020-10-17 10:50:00</td>\n",
       "      <td>163.761</td>\n",
       "    </tr>\n",
       "    <tr>\n",
       "      <th>1</th>\n",
       "      <td>2020-10-17 10:50:00</td>\n",
       "      <td>-101.000</td>\n",
       "    </tr>\n",
       "    <tr>\n",
       "      <th>2</th>\n",
       "      <td>2020-10-17 10:49:00</td>\n",
       "      <td>0.000</td>\n",
       "    </tr>\n",
       "    <tr>\n",
       "      <th>3</th>\n",
       "      <td>2020-10-17 10:48:00</td>\n",
       "      <td>0.000</td>\n",
       "    </tr>\n",
       "    <tr>\n",
       "      <th>4</th>\n",
       "      <td>2020-10-17 10:46:00</td>\n",
       "      <td>160.551</td>\n",
       "    </tr>\n",
       "    <tr>\n",
       "      <th>5</th>\n",
       "      <td>2020-10-17 10:45:00</td>\n",
       "      <td>165.891</td>\n",
       "    </tr>\n",
       "    <tr>\n",
       "      <th>6</th>\n",
       "      <td>2020-10-17 10:44:00</td>\n",
       "      <td>162.676</td>\n",
       "    </tr>\n",
       "    <tr>\n",
       "      <th>7</th>\n",
       "      <td>2020-10-17 10:44:00</td>\n",
       "      <td>NaN</td>\n",
       "    </tr>\n",
       "    <tr>\n",
       "      <th>8</th>\n",
       "      <td>2020-10-17 10:43:00</td>\n",
       "      <td>165.975</td>\n",
       "    </tr>\n",
       "    <tr>\n",
       "      <th>9</th>\n",
       "      <td>2020-10-17 10:41:00</td>\n",
       "      <td>163.275</td>\n",
       "    </tr>\n",
       "    <tr>\n",
       "      <th>10</th>\n",
       "      <td>2020-10-17 10:40:00</td>\n",
       "      <td>163.382</td>\n",
       "    </tr>\n",
       "  </tbody>\n",
       "</table>\n",
       "</div>"
      ],
      "text/plain": [
       "              Datetime  Pressure\n",
       "0  2020-10-17 10:50:00   163.761\n",
       "1  2020-10-17 10:50:00  -101.000\n",
       "2  2020-10-17 10:49:00     0.000\n",
       "3  2020-10-17 10:48:00     0.000\n",
       "4  2020-10-17 10:46:00   160.551\n",
       "5  2020-10-17 10:45:00   165.891\n",
       "6  2020-10-17 10:44:00   162.676\n",
       "7  2020-10-17 10:44:00       NaN\n",
       "8  2020-10-17 10:43:00   165.975\n",
       "9  2020-10-17 10:41:00   163.275\n",
       "10 2020-10-17 10:40:00   163.382"
      ]
     },
     "execution_count": 114,
     "metadata": {},
     "output_type": "execute_result"
    }
   ],
   "source": [
    "    scada1['Datetime']=scada1['Datetime'].dt.round(freq='min')\n",
    "    scada1"
   ]
  },
  {
   "cell_type": "code",
   "execution_count": 115,
   "id": "5951b60d",
   "metadata": {
    "ExecuteTime": {
     "end_time": "2021-09-28T09:35:04.908426Z",
     "start_time": "2021-09-28T09:35:04.885895Z"
    }
   },
   "outputs": [
    {
     "data": {
      "text/html": [
       "<div>\n",
       "<style scoped>\n",
       "    .dataframe tbody tr th:only-of-type {\n",
       "        vertical-align: middle;\n",
       "    }\n",
       "\n",
       "    .dataframe tbody tr th {\n",
       "        vertical-align: top;\n",
       "    }\n",
       "\n",
       "    .dataframe thead th {\n",
       "        text-align: right;\n",
       "    }\n",
       "</style>\n",
       "<table border=\"1\" class=\"dataframe\">\n",
       "  <thead>\n",
       "    <tr style=\"text-align: right;\">\n",
       "      <th></th>\n",
       "      <th>Pressure</th>\n",
       "    </tr>\n",
       "    <tr>\n",
       "      <th>Datetime</th>\n",
       "      <th></th>\n",
       "    </tr>\n",
       "  </thead>\n",
       "  <tbody>\n",
       "    <tr>\n",
       "      <th>2020-10-17 10:40:00</th>\n",
       "      <td>163.3820</td>\n",
       "    </tr>\n",
       "    <tr>\n",
       "      <th>2020-10-17 10:41:00</th>\n",
       "      <td>163.2750</td>\n",
       "    </tr>\n",
       "    <tr>\n",
       "      <th>2020-10-17 10:43:00</th>\n",
       "      <td>165.9750</td>\n",
       "    </tr>\n",
       "    <tr>\n",
       "      <th>2020-10-17 10:44:00</th>\n",
       "      <td>162.6760</td>\n",
       "    </tr>\n",
       "    <tr>\n",
       "      <th>2020-10-17 10:45:00</th>\n",
       "      <td>165.8910</td>\n",
       "    </tr>\n",
       "    <tr>\n",
       "      <th>2020-10-17 10:46:00</th>\n",
       "      <td>160.5510</td>\n",
       "    </tr>\n",
       "    <tr>\n",
       "      <th>2020-10-17 10:48:00</th>\n",
       "      <td>0.0000</td>\n",
       "    </tr>\n",
       "    <tr>\n",
       "      <th>2020-10-17 10:49:00</th>\n",
       "      <td>0.0000</td>\n",
       "    </tr>\n",
       "    <tr>\n",
       "      <th>2020-10-17 10:50:00</th>\n",
       "      <td>31.3805</td>\n",
       "    </tr>\n",
       "  </tbody>\n",
       "</table>\n",
       "</div>"
      ],
      "text/plain": [
       "                     Pressure\n",
       "Datetime                     \n",
       "2020-10-17 10:40:00  163.3820\n",
       "2020-10-17 10:41:00  163.2750\n",
       "2020-10-17 10:43:00  165.9750\n",
       "2020-10-17 10:44:00  162.6760\n",
       "2020-10-17 10:45:00  165.8910\n",
       "2020-10-17 10:46:00  160.5510\n",
       "2020-10-17 10:48:00    0.0000\n",
       "2020-10-17 10:49:00    0.0000\n",
       "2020-10-17 10:50:00   31.3805"
      ]
     },
     "execution_count": 115,
     "metadata": {},
     "output_type": "execute_result"
    }
   ],
   "source": [
    "scada1.groupby(scada1['Datetime']).mean()"
   ]
  },
  {
   "cell_type": "code",
   "execution_count": 40,
   "id": "fe23bcae",
   "metadata": {
    "ExecuteTime": {
     "end_time": "2021-09-28T08:45:31.256414Z",
     "start_time": "2021-09-28T08:45:31.241172Z"
    }
   },
   "outputs": [],
   "source": [
    "data['Datetime']=pd.to_datetime(data['Datetime'])                    \n",
    "data['Date']=data['Datetime'].dt.date                               \n",
    "data['Time']=data['Datetime'].dt.time\n",
    "# data=data.pivot(columns='Time', index='Date',values='Pressure')"
   ]
  },
  {
   "cell_type": "code",
   "execution_count": 41,
   "id": "f45592a1",
   "metadata": {
    "ExecuteTime": {
     "end_time": "2021-09-28T08:45:31.991869Z",
     "start_time": "2021-09-28T08:45:31.972161Z"
    }
   },
   "outputs": [
    {
     "data": {
      "text/html": [
       "<div>\n",
       "<style scoped>\n",
       "    .dataframe tbody tr th:only-of-type {\n",
       "        vertical-align: middle;\n",
       "    }\n",
       "\n",
       "    .dataframe tbody tr th {\n",
       "        vertical-align: top;\n",
       "    }\n",
       "\n",
       "    .dataframe thead th {\n",
       "        text-align: right;\n",
       "    }\n",
       "</style>\n",
       "<table border=\"1\" class=\"dataframe\">\n",
       "  <thead>\n",
       "    <tr style=\"text-align: right;\">\n",
       "      <th></th>\n",
       "      <th>Datetime</th>\n",
       "      <th>Pressure</th>\n",
       "      <th>Date</th>\n",
       "      <th>Time</th>\n",
       "    </tr>\n",
       "  </thead>\n",
       "  <tbody>\n",
       "    <tr>\n",
       "      <th>0</th>\n",
       "      <td>2020-10-17 10:50:00</td>\n",
       "      <td>163.761</td>\n",
       "      <td>2020-10-17</td>\n",
       "      <td>10:50:00</td>\n",
       "    </tr>\n",
       "    <tr>\n",
       "      <th>1</th>\n",
       "      <td>2020-10-17 10:49:00</td>\n",
       "      <td>-101.000</td>\n",
       "      <td>2020-10-17</td>\n",
       "      <td>10:49:00</td>\n",
       "    </tr>\n",
       "    <tr>\n",
       "      <th>2</th>\n",
       "      <td>2020-10-17 10:48:00</td>\n",
       "      <td>-101.000</td>\n",
       "      <td>2020-10-17</td>\n",
       "      <td>10:48:00</td>\n",
       "    </tr>\n",
       "    <tr>\n",
       "      <th>3</th>\n",
       "      <td>2020-10-17 10:47:00</td>\n",
       "      <td>-101.000</td>\n",
       "      <td>2020-10-17</td>\n",
       "      <td>10:47:00</td>\n",
       "    </tr>\n",
       "    <tr>\n",
       "      <th>4</th>\n",
       "      <td>2020-10-17 10:46:00</td>\n",
       "      <td>160.551</td>\n",
       "      <td>2020-10-17</td>\n",
       "      <td>10:46:00</td>\n",
       "    </tr>\n",
       "    <tr>\n",
       "      <th>5</th>\n",
       "      <td>2020-10-17 10:45:00</td>\n",
       "      <td>165.891</td>\n",
       "      <td>2020-10-17</td>\n",
       "      <td>10:45:00</td>\n",
       "    </tr>\n",
       "    <tr>\n",
       "      <th>6</th>\n",
       "      <td>2020-10-17 10:44:00</td>\n",
       "      <td>162.676</td>\n",
       "      <td>2020-10-17</td>\n",
       "      <td>10:44:00</td>\n",
       "    </tr>\n",
       "    <tr>\n",
       "      <th>7</th>\n",
       "      <td>2020-10-17 10:43:00</td>\n",
       "      <td>160.757</td>\n",
       "      <td>2020-10-17</td>\n",
       "      <td>10:43:00</td>\n",
       "    </tr>\n",
       "    <tr>\n",
       "      <th>8</th>\n",
       "      <td>2020-10-17 10:42:00</td>\n",
       "      <td>165.975</td>\n",
       "      <td>2020-10-17</td>\n",
       "      <td>10:42:00</td>\n",
       "    </tr>\n",
       "    <tr>\n",
       "      <th>9</th>\n",
       "      <td>2020-10-17 10:41:00</td>\n",
       "      <td>163.275</td>\n",
       "      <td>2020-10-17</td>\n",
       "      <td>10:41:00</td>\n",
       "    </tr>\n",
       "    <tr>\n",
       "      <th>10</th>\n",
       "      <td>2020-10-17 10:40:00</td>\n",
       "      <td>163.382</td>\n",
       "      <td>2020-10-17</td>\n",
       "      <td>10:40:00</td>\n",
       "    </tr>\n",
       "  </tbody>\n",
       "</table>\n",
       "</div>"
      ],
      "text/plain": [
       "              Datetime  Pressure        Date      Time\n",
       "0  2020-10-17 10:50:00   163.761  2020-10-17  10:50:00\n",
       "1  2020-10-17 10:49:00  -101.000  2020-10-17  10:49:00\n",
       "2  2020-10-17 10:48:00  -101.000  2020-10-17  10:48:00\n",
       "3  2020-10-17 10:47:00  -101.000  2020-10-17  10:47:00\n",
       "4  2020-10-17 10:46:00   160.551  2020-10-17  10:46:00\n",
       "5  2020-10-17 10:45:00   165.891  2020-10-17  10:45:00\n",
       "6  2020-10-17 10:44:00   162.676  2020-10-17  10:44:00\n",
       "7  2020-10-17 10:43:00   160.757  2020-10-17  10:43:00\n",
       "8  2020-10-17 10:42:00   165.975  2020-10-17  10:42:00\n",
       "9  2020-10-17 10:41:00   163.275  2020-10-17  10:41:00\n",
       "10 2020-10-17 10:40:00   163.382  2020-10-17  10:40:00"
      ]
     },
     "execution_count": 41,
     "metadata": {},
     "output_type": "execute_result"
    }
   ],
   "source": [
    "data"
   ]
  },
  {
   "cell_type": "code",
   "execution_count": 3,
   "id": "7b57bf7c",
   "metadata": {
    "ExecuteTime": {
     "end_time": "2021-09-28T08:36:10.962340Z",
     "start_time": "2021-09-28T08:36:10.909048Z"
    }
   },
   "outputs": [
    {
     "data": {
      "text/html": [
       "<div>\n",
       "<style scoped>\n",
       "    .dataframe tbody tr th:only-of-type {\n",
       "        vertical-align: middle;\n",
       "    }\n",
       "\n",
       "    .dataframe tbody tr th {\n",
       "        vertical-align: top;\n",
       "    }\n",
       "\n",
       "    .dataframe thead th {\n",
       "        text-align: right;\n",
       "    }\n",
       "</style>\n",
       "<table border=\"1\" class=\"dataframe\">\n",
       "  <thead>\n",
       "    <tr style=\"text-align: right;\">\n",
       "      <th></th>\n",
       "      <th>0</th>\n",
       "      <th>1</th>\n",
       "    </tr>\n",
       "  </thead>\n",
       "  <tbody>\n",
       "    <tr>\n",
       "      <th>0</th>\n",
       "      <td>2020/10/17 10:50:00</td>\n",
       "      <td>163.761</td>\n",
       "    </tr>\n",
       "    <tr>\n",
       "      <th>1</th>\n",
       "      <td>2020/10/17 10:49:00</td>\n",
       "      <td>-101.000</td>\n",
       "    </tr>\n",
       "    <tr>\n",
       "      <th>2</th>\n",
       "      <td>2020/10/17 10:48:00</td>\n",
       "      <td>-101.000</td>\n",
       "    </tr>\n",
       "    <tr>\n",
       "      <th>3</th>\n",
       "      <td>2020/10/17 10:47:00</td>\n",
       "      <td>-101.000</td>\n",
       "    </tr>\n",
       "    <tr>\n",
       "      <th>4</th>\n",
       "      <td>2020/10/17 10:46:00</td>\n",
       "      <td>160.551</td>\n",
       "    </tr>\n",
       "    <tr>\n",
       "      <th>5</th>\n",
       "      <td>2020/10/17 10:45:00</td>\n",
       "      <td>165.891</td>\n",
       "    </tr>\n",
       "    <tr>\n",
       "      <th>6</th>\n",
       "      <td>2020/10/17 10:44:00</td>\n",
       "      <td>162.676</td>\n",
       "    </tr>\n",
       "    <tr>\n",
       "      <th>7</th>\n",
       "      <td>2020/10/17 10:43:00</td>\n",
       "      <td>160.757</td>\n",
       "    </tr>\n",
       "    <tr>\n",
       "      <th>8</th>\n",
       "      <td>2020/10/17 10:42:00</td>\n",
       "      <td>165.975</td>\n",
       "    </tr>\n",
       "    <tr>\n",
       "      <th>9</th>\n",
       "      <td>2020/10/17 10:41:00</td>\n",
       "      <td>163.275</td>\n",
       "    </tr>\n",
       "    <tr>\n",
       "      <th>10</th>\n",
       "      <td>2020/10/17 10:40:00</td>\n",
       "      <td>163.382</td>\n",
       "    </tr>\n",
       "  </tbody>\n",
       "</table>\n",
       "</div>"
      ],
      "text/plain": [
       "                      0        1\n",
       "0   2020/10/17 10:50:00  163.761\n",
       "1   2020/10/17 10:49:00 -101.000\n",
       "2   2020/10/17 10:48:00 -101.000\n",
       "3   2020/10/17 10:47:00 -101.000\n",
       "4   2020/10/17 10:46:00  160.551\n",
       "5   2020/10/17 10:45:00  165.891\n",
       "6   2020/10/17 10:44:00  162.676\n",
       "7   2020/10/17 10:43:00  160.757\n",
       "8   2020/10/17 10:42:00  165.975\n",
       "9   2020/10/17 10:41:00  163.275\n",
       "10  2020/10/17 10:40:00  163.382"
      ]
     },
     "execution_count": 3,
     "metadata": {},
     "output_type": "execute_result"
    }
   ],
   "source": [
    "scada1"
   ]
  },
  {
   "cell_type": "code",
   "execution_count": 116,
   "id": "3dbbd1d7",
   "metadata": {
    "ExecuteTime": {
     "end_time": "2021-09-28T09:45:05.731979Z",
     "start_time": "2021-09-28T09:45:05.720977Z"
    }
   },
   "outputs": [],
   "source": [
    "scada1=pd.DataFrame([['2020/10/17 10:50:00',163.761],\n",
    "                     ['2020/10/17 10:49:00',-101],\n",
    "                     ['2020/10/17 10:48:00',0],\n",
    "                     ['2020/10/17 10:47:00',0],\n",
    "                     ['2020/10/17 10:46:00',160.551],\n",
    "                     ['2020/10/17 10:45:00',165.891],\n",
    "                     ['2020/10/17 10:44:00',162.676],\n",
    "                     ['2020/10/17 10:43:00',np.nan],\n",
    "                     ['2020/10/17 10:42:00',165.975],\n",
    "                     ['2020/10/17 10:41:00',163.275],\n",
    "                     ['2020/10/17 10:40:00',163.382]],columns=['Datetime','Pressure']).set_index(['Datetime'])\n",
    "scada2=pd.DataFrame([['2020/10/17 10:50:00',29.689],\n",
    "                     ['2020/10/17 10:45:00',29.604],\n",
    "                     ['2020/10/17 10:40:00',29.312]],columns=['Datetime','Temperature']).set_index(['Datetime'])"
   ]
  },
  {
   "cell_type": "code",
   "execution_count": 117,
   "id": "58d37997",
   "metadata": {
    "ExecuteTime": {
     "end_time": "2021-09-28T09:45:18.583237Z",
     "start_time": "2021-09-28T09:45:18.563810Z"
    }
   },
   "outputs": [
    {
     "data": {
      "text/html": [
       "<div>\n",
       "<style scoped>\n",
       "    .dataframe tbody tr th:only-of-type {\n",
       "        vertical-align: middle;\n",
       "    }\n",
       "\n",
       "    .dataframe tbody tr th {\n",
       "        vertical-align: top;\n",
       "    }\n",
       "\n",
       "    .dataframe thead th {\n",
       "        text-align: right;\n",
       "    }\n",
       "</style>\n",
       "<table border=\"1\" class=\"dataframe\">\n",
       "  <thead>\n",
       "    <tr style=\"text-align: right;\">\n",
       "      <th></th>\n",
       "      <th>Pressure</th>\n",
       "      <th>Temperature</th>\n",
       "    </tr>\n",
       "    <tr>\n",
       "      <th>Datetime</th>\n",
       "      <th></th>\n",
       "      <th></th>\n",
       "    </tr>\n",
       "  </thead>\n",
       "  <tbody>\n",
       "    <tr>\n",
       "      <th>2020/10/17 10:50:00</th>\n",
       "      <td>163.761</td>\n",
       "      <td>29.689</td>\n",
       "    </tr>\n",
       "    <tr>\n",
       "      <th>2020/10/17 10:49:00</th>\n",
       "      <td>-101.000</td>\n",
       "      <td>NaN</td>\n",
       "    </tr>\n",
       "    <tr>\n",
       "      <th>2020/10/17 10:48:00</th>\n",
       "      <td>0.000</td>\n",
       "      <td>NaN</td>\n",
       "    </tr>\n",
       "    <tr>\n",
       "      <th>2020/10/17 10:47:00</th>\n",
       "      <td>0.000</td>\n",
       "      <td>NaN</td>\n",
       "    </tr>\n",
       "    <tr>\n",
       "      <th>2020/10/17 10:46:00</th>\n",
       "      <td>160.551</td>\n",
       "      <td>NaN</td>\n",
       "    </tr>\n",
       "    <tr>\n",
       "      <th>2020/10/17 10:45:00</th>\n",
       "      <td>165.891</td>\n",
       "      <td>29.604</td>\n",
       "    </tr>\n",
       "    <tr>\n",
       "      <th>2020/10/17 10:44:00</th>\n",
       "      <td>162.676</td>\n",
       "      <td>NaN</td>\n",
       "    </tr>\n",
       "    <tr>\n",
       "      <th>2020/10/17 10:43:00</th>\n",
       "      <td>NaN</td>\n",
       "      <td>NaN</td>\n",
       "    </tr>\n",
       "    <tr>\n",
       "      <th>2020/10/17 10:42:00</th>\n",
       "      <td>165.975</td>\n",
       "      <td>NaN</td>\n",
       "    </tr>\n",
       "    <tr>\n",
       "      <th>2020/10/17 10:41:00</th>\n",
       "      <td>163.275</td>\n",
       "      <td>NaN</td>\n",
       "    </tr>\n",
       "    <tr>\n",
       "      <th>2020/10/17 10:40:00</th>\n",
       "      <td>163.382</td>\n",
       "      <td>29.312</td>\n",
       "    </tr>\n",
       "  </tbody>\n",
       "</table>\n",
       "</div>"
      ],
      "text/plain": [
       "                     Pressure  Temperature\n",
       "Datetime                                  \n",
       "2020/10/17 10:50:00   163.761       29.689\n",
       "2020/10/17 10:49:00  -101.000          NaN\n",
       "2020/10/17 10:48:00     0.000          NaN\n",
       "2020/10/17 10:47:00     0.000          NaN\n",
       "2020/10/17 10:46:00   160.551          NaN\n",
       "2020/10/17 10:45:00   165.891       29.604\n",
       "2020/10/17 10:44:00   162.676          NaN\n",
       "2020/10/17 10:43:00       NaN          NaN\n",
       "2020/10/17 10:42:00   165.975          NaN\n",
       "2020/10/17 10:41:00   163.275          NaN\n",
       "2020/10/17 10:40:00   163.382       29.312"
      ]
     },
     "execution_count": 117,
     "metadata": {},
     "output_type": "execute_result"
    }
   ],
   "source": [
    "pd.concat([scada1,scada2],axis=1)"
   ]
  },
  {
   "cell_type": "code",
   "execution_count": 194,
   "id": "02824fca",
   "metadata": {
    "ExecuteTime": {
     "end_time": "2021-09-26T10:10:09.096264Z",
     "start_time": "2021-09-26T10:10:07.928230Z"
    }
   },
   "outputs": [],
   "source": [
    "#data type: dataframe\n",
    "scada=pd.read_csv(local_path+'\\\\scada.csv',header=None)\n",
    "data=scada.iloc[:,range(1,4)]\n",
    "time_label=scada.iloc[:,0]\n",
    "def b_box(data):\n",
    "    data=data.replace(0,np.nan)                #先去掉0值\n",
    "    q3=data.quantile(0.75)                     #第三四分位\n",
    "    q1=data.quantile(0.25)                     #第一四分位\n",
    "    iqr=data.quantile(0.75)-data.quantile(0.25)#四分位距\n",
    "    maxd=q3+1.5*iqr                            #最大值\n",
    "    mind=q1-1.5*iqr                            #最小值\n",
    "    clean_data=time_label\n",
    "    for i in range(data.shape[1]):\n",
    "        data1=data.iloc[:,i]\n",
    "        data1=data1[data1.between(mind[i+1],maxd[i+1])]#留下最大值和最小值之间的数据\n",
    "        clean_data=pd.concat([clean_data,data1],axis=1)#由于dataframe的index相同，可以直接合并\n",
    "    #0上下插值，1左右插值\n",
    "    #bfill拿下方数据填上方数据\n",
    "    clean_data=clean_data.fillna(method='bfill',axis=0)\n",
    "    clean_data=clean_data.fillna(method='ffill',axis=0)\n",
    "    return clean_data\n",
    "pd.DataFrame(scada.iloc[:,3]).boxplot()\n",
    "plt.title('row data')\n",
    "plt.show()\n",
    "pd.DataFrame(clean_data.iloc[:,3]).boxplot()\n",
    "plt.title('clean data')\n",
    "plt.show()"
   ]
  }
 ],
 "metadata": {
  "kernelspec": {
   "display_name": "Python 3",
   "language": "python",
   "name": "python3"
  },
  "language_info": {
   "codemirror_mode": {
    "name": "ipython",
    "version": 3
   },
   "file_extension": ".py",
   "mimetype": "text/x-python",
   "name": "python",
   "nbconvert_exporter": "python",
   "pygments_lexer": "ipython3",
   "version": "3.8.8"
  },
  "toc": {
   "base_numbering": 1,
   "nav_menu": {},
   "number_sections": true,
   "sideBar": true,
   "skip_h1_title": false,
   "title_cell": "Table of Contents",
   "title_sidebar": "Contents",
   "toc_cell": false,
   "toc_position": {},
   "toc_section_display": true,
   "toc_window_display": false
  },
  "varInspector": {
   "cols": {
    "lenName": 16,
    "lenType": 16,
    "lenVar": 40
   },
   "kernels_config": {
    "python": {
     "delete_cmd_postfix": "",
     "delete_cmd_prefix": "del ",
     "library": "var_list.py",
     "varRefreshCmd": "print(var_dic_list())"
    },
    "r": {
     "delete_cmd_postfix": ") ",
     "delete_cmd_prefix": "rm(",
     "library": "var_list.r",
     "varRefreshCmd": "cat(var_dic_list()) "
    }
   },
   "types_to_exclude": [
    "module",
    "function",
    "builtin_function_or_method",
    "instance",
    "_Feature"
   ],
   "window_display": false
  }
 },
 "nbformat": 4,
 "nbformat_minor": 5
}
