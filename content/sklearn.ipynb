{
 "cells": [
  {
   "cell_type": "code",
   "execution_count": null,
   "metadata": {
    "ExecuteTime": {
     "end_time": "2021-05-20T05:10:06.324087Z",
     "start_time": "2021-05-20T05:10:04.556823Z"
    }
   },
   "outputs": [],
   "source": [
    "import os\n",
    "import nni\n",
    "import inspect\n",
    "import pandas as pd\n",
    "import numpy as np\n",
    "import matplotlib\n",
    "import matplotlib.pyplot as plt \n",
    "import datetime as dt\n",
    "import lightgbm as lgb\n",
    "from tqdm import tqdm\n",
    "from catboost import CatBoostClassifier\n",
    "from sklearn.model_selection import train_test_split,cross_val_score,cross_validate,KFold,GridSearchCV\n",
    "from sklearn.preprocessing import MinMaxScaler,StandardScaler,OneHotEncoder,PolynomialFeatures\n",
    "from sklearn.decomposition import PCA,TruncatedSVD,NMF\n",
    "from sklearn.manifold import TSNE\n",
    "from sklearn.metrics import classification_report,confusion_matrix,accuracy_score,mean_squared_error\n",
    "from sklearn import svm,linear_model,tree\n",
    "from sklearn.tree import DecisionTreeClassifier,DecisionTreeRegressor\n",
    "from sklearn.svm import SVC\n",
    "from sklearn.neural_network import MLPRegressor\n",
    "from sklearn.feature_selection import SelectFromModel\n",
    "from sklearn.linear_model import LogisticRegression,SGDClassifier,LinearRegression,Lasso,BayesianRidge\n",
    "from sklearn.ensemble import RandomForestClassifier,GradientBoostingClassifier,ExtraTreesClassifier\n",
    "from sklearn.gaussian_process import GaussianProcessClassifier,GaussianProcessRegressor\n",
    "from sklearn.gaussian_process.kernels import RBF\n",
    "from sklearn.neighbors import KNeighborsClassifier,KNeighborsRegressor\n",
    "from sklearn.pipeline import Pipeline,make_pipeline\n",
    "import joblib"
   ]
  },
  {
   "cell_type": "markdown",
   "metadata": {},
   "source": [
    "# 数据预处理"
   ]
  },
  {
   "cell_type": "code",
   "execution_count": null,
   "metadata": {
    "ExecuteTime": {
     "end_time": "2021-05-20T05:10:58.414470Z",
     "start_time": "2021-05-20T05:10:53.340426Z"
    }
   },
   "outputs": [],
   "source": [
    "#准备文件夹保存数据\n",
    "local_path=os.getcwd()\n",
    "if not os.path.exists(local_path+'\\\\blokagedata'):\n",
    "    os.mkdir(local_path+'\\\\blokagedata')\n",
    "print(local_path+'\\\\blokagedata')\n",
    "#读取模型数据\n",
    "traindata=pd.read_csv(local_path+'\\\\blokagedata\\\\sample_0123456789.csv',parse_dates=[0])\n",
    "trainlabel=pd.read_csv(local_path+'\\\\blokagedata\\\\y_0123456789.csv',parse_dates=[0])\n",
    "#改个名字\n",
    "x=traindata.drop(['32','205','375','408','414'],axis=1)\n",
    "y=np.array(trainlabel).astype(int)\n",
    "#划分训练集和测试集\n",
    "x_train,x_test,y_train,y_test=train_test_split(x,y,test_size=0.2,random_state=1,stratify=y)\n",
    "#归一化\n",
    "scaler1=MinMaxScaler()\n",
    "x_train=scaler1.fit_transform(x_train)\n",
    "x_test=scaler1.transform(x_test)\n",
    "#划分633和96\n",
    "x_train_633=x_train[:,0:628]\n",
    "x_test_633=x_test[:,0:628]\n",
    "x_train_96=x_train[:,628:724]\n",
    "x_test_96=x_test[:,628:724]"
   ]
  },
  {
   "cell_type": "code",
   "execution_count": null,
   "metadata": {
    "ExecuteTime": {
     "end_time": "2021-05-20T05:22:12.002046Z",
     "start_time": "2021-05-20T05:21:18.200576Z"
    }
   },
   "outputs": [],
   "source": [
    "#读取模型数据\n",
    "traindata=pd.read_csv(local_path+'\\\\blokagedata\\\\4191_sample_0123456789.csv',parse_dates=[0])\n",
    "trainlabel=pd.read_csv(local_path+'\\\\blokagedata\\\\y_0123456789.csv',parse_dates=[0])\n",
    "#改个名字\n",
    "x=traindata#.drop(['32','205','375','408','414'],axis=1)\n",
    "y=np.array(trainlabel).astype(int)\n",
    "#划分训练集和测试集\n",
    "x_train,x_test,y_train,y_test=train_test_split(x,y,test_size=0.2,random_state=1,stratify=y)\n",
    "#归一化\n",
    "scaler1=MinMaxScaler()\n",
    "x_train=scaler1.fit_transform(x_train)\n",
    "x_test=scaler1.transform(x_test)"
   ]
  },
  {
   "cell_type": "code",
   "execution_count": null,
   "metadata": {
    "ExecuteTime": {
     "end_time": "2021-05-20T05:23:18.441986Z",
     "start_time": "2021-05-20T05:22:12.004569Z"
    }
   },
   "outputs": [],
   "source": [
    "#PCA\n",
    "pca = PCA(n_components='mle')\n",
    "x_train = pca.fit_transform(x_train)\n",
    "x_test=pca.transform(x_test)\n",
    "print(pca.explained_variance_ratio_)\n",
    "# #SVD\n",
    "# svd=TruncatedSVD(n_components=50)\n",
    "# xx = svd.fit_transform(x_one)\n",
    "# #NMF\n",
    "# nmf=NMF(n_components=200)\n",
    "# x_train = nmf.fit_transform(x_train)\n",
    "# x_test=nmf.transform(x_test)\n",
    "#归一化\n",
    "scaler2=MinMaxScaler()\n",
    "x_train=scaler2.fit_transform(x_train)\n",
    "x_test=scaler2.transform(x_test)\n",
    "print(x_train.shape)"
   ]
  },
  {
   "cell_type": "markdown",
   "metadata": {},
   "source": [
    "# 回归拟合"
   ]
  },
  {
   "cell_type": "markdown",
   "metadata": {},
   "source": [
    "## Regression"
   ]
  },
  {
   "cell_type": "code",
   "execution_count": null,
   "metadata": {
    "ExecuteTime": {
     "end_time": "2021-05-19T02:38:41.754791Z",
     "start_time": "2021-05-19T02:38:40.928242Z"
    },
    "scrolled": true
   },
   "outputs": [],
   "source": [
    "reg = LinearRegression()\n",
    "reg.fit(x_train_96,x_train_633)\n",
    "score=reg.score(x_test_96,x_test_633)\n",
    "print(score)\n",
    "pre_train_633=reg.predict(x_train_96)\n",
    "pre_test_633=reg.predict(x_test_96)\n",
    "x1=np.concatenate((pre_train_633,x_train_96),axis=1)\n",
    "x2=np.concatenate((pre_test_633,x_test_96),axis=1)"
   ]
  },
  {
   "cell_type": "code",
   "execution_count": null,
   "metadata": {
    "ExecuteTime": {
     "end_time": "2021-05-20T01:48:33.986003Z",
     "start_time": "2021-05-20T01:48:25.613947Z"
    },
    "scrolled": false
   },
   "outputs": [],
   "source": [
    "reg = KNeighborsRegressor(n_neighbors=2)\n",
    "reg.fit(x_train_96,x_train_633)\n",
    "score=reg.score(x_test_96,x_test_633)\n",
    "print(score)\n",
    "pre_train_633=reg.predict(x_train_96)\n",
    "pre_test_633=reg.predict(x_test_96)\n",
    "x1=np.concatenate((pre_train_633,x_train_96),axis=1)\n",
    "x2=np.concatenate((pre_test_633,x_test_96),axis=1)"
   ]
  },
  {
   "cell_type": "code",
   "execution_count": null,
   "metadata": {
    "ExecuteTime": {
     "end_time": "2021-05-17T12:37:25.416878Z",
     "start_time": "2021-05-17T12:36:20.703046Z"
    },
    "collapsed": true
   },
   "outputs": [],
   "source": [
    "mlp = MLPRegressor(hidden_layer_sizes=(1000), activation='relu', tol=0.000001,\n",
    "                   solver='adam', alpha=0.01, batch_size='auto', \n",
    "                   learning_rate='constant', learning_rate_init=0.001, \n",
    "                   power_t=0.5, max_iter=50, shuffle=True,verbose=True)\n",
    "mlp.fit(x_train_96,x_train_633)\n",
    "score=mlp.score(x_test_96,x_test_633)\n",
    "print(score)"
   ]
  },
  {
   "cell_type": "code",
   "execution_count": null,
   "metadata": {
    "ExecuteTime": {
     "end_time": "2021-05-19T03:09:07.918498Z",
     "start_time": "2021-05-19T03:08:54.228534Z"
    }
   },
   "outputs": [],
   "source": [
    "x_train=x1\n",
    "x_test=x2\n",
    "print(x_train.shape)"
   ]
  },
  {
   "cell_type": "markdown",
   "metadata": {},
   "source": [
    "## PCA"
   ]
  },
  {
   "cell_type": "code",
   "execution_count": null,
   "metadata": {
    "ExecuteTime": {
     "end_time": "2021-05-19T03:10:22.164331Z",
     "start_time": "2021-05-19T03:10:19.561688Z"
    }
   },
   "outputs": [],
   "source": [
    "#PCA\n",
    "pca = PCA(n_components=200)\n",
    "x_train = pca.fit_transform(x_train)\n",
    "x_test=pca.transform(x_test)\n",
    "# #SVD\n",
    "# svd=TruncatedSVD(n_components=50)\n",
    "# xx = svd.fit_transform(x_one)\n",
    "# #NMF\n",
    "# nmf=NMF(n_components=200)\n",
    "# x_train = nmf.fit_transform(x_train)\n",
    "# x_test=nmf.transform(x_test)\n",
    "#归一化\n",
    "scaler2=MinMaxScaler()\n",
    "x_train=scaler2.fit_transform(x_train)\n",
    "x_test=scaler2.transform(x_test)\n",
    "print(x_train.shape)"
   ]
  },
  {
   "cell_type": "markdown",
   "metadata": {},
   "source": [
    "# 分类"
   ]
  },
  {
   "cell_type": "markdown",
   "metadata": {},
   "source": [
    "## SVM"
   ]
  },
  {
   "cell_type": "code",
   "execution_count": null,
   "metadata": {
    "ExecuteTime": {
     "end_time": "2021-05-19T03:12:50.164430Z",
     "start_time": "2021-05-19T03:10:55.142936Z"
    }
   },
   "outputs": [],
   "source": [
    "SVMclf=SVC(decision_function_shape='ovr',C=1000.0,gamma='auto',kernel='rbf')\n",
    "SVMclf.fit(x_train,y_train.ravel())\n",
    "score=SVMclf.score(x_test,y_test.ravel())\n",
    "print(score)"
   ]
  },
  {
   "cell_type": "markdown",
   "metadata": {},
   "source": [
    "## LogisticRegression"
   ]
  },
  {
   "cell_type": "code",
   "execution_count": null,
   "metadata": {
    "ExecuteTime": {
     "end_time": "2021-05-12T05:20:38.761384Z",
     "start_time": "2021-05-12T05:16:46.127439Z"
    }
   },
   "outputs": [],
   "source": [
    "LRclf=LogisticRegression(C=1.0,penalty='l1',solver='saga',multi_class='multinomial',max_iter=10000,n_jobs=-1)\n",
    "LRclf.fit(x_train,y_train.ravel())\n",
    "score=LRclf.score(x_test,y_test.ravel())\n",
    "print(score)"
   ]
  },
  {
   "cell_type": "code",
   "execution_count": null,
   "metadata": {
    "ExecuteTime": {
     "end_time": "2021-05-12T05:16:13.757041Z",
     "start_time": "2021-05-12T05:15:55.950142Z"
    }
   },
   "outputs": [],
   "source": [
    "LRclf=LogisticRegression(C=1.0,penalty='l2',solver='saga',multi_class='multinomial',max_iter=1000,n_jobs=-1)\n",
    "LRclf.fit(x_train,y_train.ravel())\n",
    "score=LRclf.score(x_test,y_test.ravel())\n",
    "print(score)"
   ]
  },
  {
   "cell_type": "code",
   "execution_count": null,
   "metadata": {
    "ExecuteTime": {
     "end_time": "2021-05-12T05:16:22.619236Z",
     "start_time": "2021-05-12T05:16:13.760058Z"
    }
   },
   "outputs": [],
   "source": [
    "LRclf=LogisticRegression(C=1.0,penalty='l2',solver='saga',multi_class='ovr',max_iter=1000,n_jobs=-1)\n",
    "LRclf.fit(x_train,y_train.ravel())\n",
    "score=LRclf.score(x_test,y_test.ravel())\n",
    "print(score)"
   ]
  },
  {
   "cell_type": "markdown",
   "metadata": {},
   "source": [
    "## SGD"
   ]
  },
  {
   "cell_type": "code",
   "execution_count": null,
   "metadata": {
    "ExecuteTime": {
     "end_time": "2021-05-17T07:54:00.779045Z",
     "start_time": "2021-05-17T07:54:00.027487Z"
    }
   },
   "outputs": [],
   "source": [
    "sgd=SGDClassifier(n_jobs=-1)\n",
    "sgd.fit(x_train,y_train.ravel())\n",
    "score=sgd.score(x_test,y_test.ravel())\n",
    "print(score)"
   ]
  },
  {
   "cell_type": "markdown",
   "metadata": {},
   "source": [
    "## GaussianProcess"
   ]
  },
  {
   "cell_type": "code",
   "execution_count": null,
   "metadata": {
    "ExecuteTime": {
     "end_time": "2021-05-12T05:21:26.445196Z",
     "start_time": "2021-05-12T05:21:26.443093Z"
    },
    "scrolled": true
   },
   "outputs": [],
   "source": [
    "# GPC=GaussianProcessClassifier(n_jobs=-1)\n",
    "# GPC.fit(x_train,y_train.ravel())\n",
    "# score=GPC.score(x_test,y_test.ravel())\n",
    "# print(score)"
   ]
  },
  {
   "cell_type": "markdown",
   "metadata": {},
   "source": [
    "## KNN"
   ]
  },
  {
   "cell_type": "code",
   "execution_count": null,
   "metadata": {
    "ExecuteTime": {
     "end_time": "2021-05-17T10:25:00.527598Z",
     "start_time": "2021-05-17T10:24:57.893217Z"
    }
   },
   "outputs": [],
   "source": [
    "knn=KNeighborsClassifier(n_neighbors=1)\n",
    "knn.fit(x_train,y_train.ravel())\n",
    "score=knn.score(x_test,y_test.ravel())\n",
    "print(score)"
   ]
  },
  {
   "cell_type": "markdown",
   "metadata": {},
   "source": [
    "## Tree"
   ]
  },
  {
   "cell_type": "code",
   "execution_count": null,
   "metadata": {
    "ExecuteTime": {
     "end_time": "2021-05-19T03:20:27.209059Z",
     "start_time": "2021-05-19T03:20:16.333193Z"
    }
   },
   "outputs": [],
   "source": [
    "tr = tree.DecisionTreeClassifier()\n",
    "tr.fit(x_train,y_train.ravel())\n",
    "score=tr.score(x_test,y_test.ravel())\n",
    "print(score)"
   ]
  },
  {
   "cell_type": "markdown",
   "metadata": {},
   "source": [
    "## RandomForest"
   ]
  },
  {
   "cell_type": "code",
   "execution_count": null,
   "metadata": {
    "ExecuteTime": {
     "end_time": "2021-05-19T03:18:47.933511Z",
     "start_time": "2021-05-19T03:18:45.847026Z"
    },
    "scrolled": true
   },
   "outputs": [],
   "source": [
    "rf = RandomForestClassifier(n_estimators=30,n_jobs=-1)\n",
    "rf.fit(x_train,y_train.ravel())\n",
    "score=rf.score(x_test,y_test.ravel())\n",
    "print(score)"
   ]
  },
  {
   "cell_type": "markdown",
   "metadata": {},
   "source": [
    "## LGBM"
   ]
  },
  {
   "cell_type": "code",
   "execution_count": null,
   "metadata": {
    "ExecuteTime": {
     "end_time": "2021-05-17T11:53:37.045694Z",
     "start_time": "2021-05-17T11:53:01.824060Z"
    },
    "scrolled": true
   },
   "outputs": [],
   "source": [
    "# score=[]\n",
    "# for n in range(10,100,5):\n",
    "#     for i in range(10,100,5):\n",
    "# #归一化\n",
    "# scaler=MinMaxScaler()\n",
    "# x_one=scaler.fit_transform(x)\n",
    "# #PCA\n",
    "# pca = PCA(n_components=n)\n",
    "# xx = pca.fit_transform(x_one)\n",
    "# #SVD\n",
    "# svd=TruncatedSVD(n_components=50)\n",
    "# xx = svd.fit_transform(x_one)\n",
    "# #归一化\n",
    "# scaler2=MinMaxScaler()\n",
    "# x_one=scaler2.fit_transform(xx)\n",
    "# #划分训练集和测试集\n",
    "# x_train,x_test,y_train,y_test=train_test_split(x_one,y,test_size=0.2,random_state=1,stratify=y)\n",
    "\n",
    "gbm = lgb.LGBMRegressor(objective='multiclass', num_leaves=100,max_depth=-1,num_class=10,boosting='gbdt',learning_rate=0.05, n_estimators=1000,nthread=-1)\n",
    "gbm.fit(x_train, y_train.ravel(), eval_set=[(x_test, y_test.ravel())], early_stopping_rounds=5)\n",
    "# 测试机预测\n",
    "y_pred = gbm.predict(x_test,num_iteration=gbm.best_iteration_)\n",
    "#     # 模型评估\n",
    "print('The accuracy of prediction is:',accuracy_score(y_test,np.argmax(y_pred,axis=1)))\n",
    "# # feature importances\n",
    "# print('Feature importances:', list(gbm.feature_importances_))\n",
    "# score.append([n,i,accuracy_score(y_test,np.argmax(y_pred,axis=1))])"
   ]
  },
  {
   "cell_type": "markdown",
   "metadata": {},
   "source": [
    "## CatBoost"
   ]
  },
  {
   "cell_type": "code",
   "execution_count": null,
   "metadata": {
    "ExecuteTime": {
     "end_time": "2021-05-12T05:31:47.033934Z",
     "start_time": "2021-05-12T05:24:29.387790Z"
    },
    "scrolled": true
   },
   "outputs": [],
   "source": [
    "cat = CatBoostClassifier(iterations=300, depth=10,learning_rate=0.05, loss_function='MultiClass',logging_level='Verbose')\n",
    "cat.fit(x_train,y_train,eval_set=(x_test, y_test),plot=True)\n",
    "score=cat.score(x_test,y_test.ravel())\n",
    "print('score:',score)"
   ]
  }
 ],
 "metadata": {
  "kernelspec": {
   "display_name": "Python 3",
   "language": "python",
   "name": "python3"
  },
  "language_info": {
   "codemirror_mode": {
    "name": "ipython",
    "version": 3
   },
   "file_extension": ".py",
   "mimetype": "text/x-python",
   "name": "python",
   "nbconvert_exporter": "python",
   "pygments_lexer": "ipython3",
   "version": "3.7.9"
  },
  "toc": {
   "base_numbering": 1,
   "nav_menu": {},
   "number_sections": true,
   "sideBar": true,
   "skip_h1_title": false,
   "title_cell": "Table of Contents",
   "title_sidebar": "Contents",
   "toc_cell": false,
   "toc_position": {
    "height": "calc(100% - 180px)",
    "left": "10px",
    "top": "150px",
    "width": "206px"
   },
   "toc_section_display": true,
   "toc_window_display": true
  }
 },
 "nbformat": 4,
 "nbformat_minor": 4
}
