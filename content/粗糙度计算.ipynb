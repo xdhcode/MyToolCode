{
 "cells": [
  {
   "cell_type": "code",
   "execution_count": 3,
   "id": "a2442360",
   "metadata": {
    "ExecuteTime": {
     "end_time": "2021-12-20T08:27:03.490765Z",
     "start_time": "2021-12-20T08:27:03.261639Z"
    }
   },
   "outputs": [],
   "source": [
    "import numpy as np\n",
    "import pandas as pd\n",
    "import math"
   ]
  },
  {
   "cell_type": "code",
   "execution_count": 14,
   "id": "14dc4649",
   "metadata": {
    "ExecuteTime": {
     "end_time": "2021-12-20T07:07:05.542388Z",
     "start_time": "2021-12-20T07:07:05.539387Z"
    }
   },
   "outputs": [
    {
     "name": "stdout",
     "output_type": "stream",
     "text": [
      "0.07207470640756379\n"
     ]
    }
   ],
   "source": [
    "计算内容如下：\n",
    "\n",
    "20度的水的运动粘滞系数：1.011*10-6\n",
    "70度的水的运动粘滞系数：0.415*10-6\n",
    "雷诺数=流速*管径/运动粘滞系数\n",
    "\n",
    "管道面积=pi*直径**2/4\n",
    "流速=流量/面积\n",
    "\n",
    "当量粗糙高度e由查表得到，这里采用材料为“新铸铁管”的中值=0.25mm\n",
    "于是，相对粗糙度e/D=0.25*e-3/直径（m）\n",
    "\n",
    "由雷诺数和相对粗糙度查莫迪图得到摩擦阻力系数f\n",
    "\n",
    "最后，沿程阻力损失=摩擦阻力系数*管道长度/管道直径*流速**2/2/重力加速度"
   ]
  },
  {
   "cell_type": "code",
   "execution_count": 57,
   "id": "53a479a3",
   "metadata": {
    "ExecuteTime": {
     "end_time": "2021-12-20T08:51:02.467340Z",
     "start_time": "2021-12-20T08:51:02.461345Z"
    }
   },
   "outputs": [],
   "source": [
    "def Loss(v,e,l,d,Q): \n",
    "    v=v*1e-6               \n",
    "    print('运动粘滞系数v:',v,'(m^2/s)')\n",
    "    u=4*Q/(math.pi)/d**2  \n",
    "    print('流体流速    u:',u,'(m/s)')\n",
    "    Re=u*d/v              \n",
    "    print('流体雷诺数 Re:',Re)\n",
    "    rr=e/d                \n",
    "    print('相对粗糙度 rr:',rr)\n",
    "    x=[e,d,Re]            \n",
    "    f=1/(-2*math.log10(x[0]/3.7065/x[1]-(5.0452/x[2])*math.log10(((x[0]/x[1])**1.1098)/2.8257+5.8506/(x[2]**0.8981))))**2\n",
    "    print('摩擦阻力系数f:',f)\n",
    "    h=f*l/d*u**2/19.8\n",
    "    print('沿程阻力损失h:',h,'(m)')\n",
    "    return f,h"
   ]
  },
  {
   "cell_type": "code",
   "execution_count": 58,
   "id": "27fee9b9",
   "metadata": {
    "ExecuteTime": {
     "end_time": "2021-12-20T08:51:02.766910Z",
     "start_time": "2021-12-20T08:51:02.760910Z"
    },
    "scrolled": false
   },
   "outputs": [
    {
     "name": "stdout",
     "output_type": "stream",
     "text": [
      "运动粘滞系数v: 1.31e-06 (m^2/s)\n",
      "流体流速    u: 1.6410643021030988 (m/s)\n",
      "流体雷诺数 Re: 93954.06309750566\n",
      "相对粗糙度 rr: 0.0033333333333333335\n",
      "摩擦阻力系数f: 0.028289283055254792\n",
      "沿程阻力损失h: 1.539103901339503 (m)\n"
     ]
    },
    {
     "data": {
      "text/plain": [
       "1.539103901339503"
      ]
     },
     "execution_count": 58,
     "metadata": {},
     "output_type": "execute_result"
    }
   ],
   "source": [
    "Loss(v=1.31,e=0.25e-3,l=30,d=0.075,Q=0.00725)"
   ]
  },
  {
   "cell_type": "code",
   "execution_count": 60,
   "id": "c5eef276",
   "metadata": {
    "ExecuteTime": {
     "end_time": "2021-12-20T09:39:01.121446Z",
     "start_time": "2021-12-20T09:39:01.109931Z"
    }
   },
   "outputs": [
    {
     "name": "stdout",
     "output_type": "stream",
     "text": [
      "运动粘滞系数v: 1.31e-06 (m^2/s)\n",
      "流体流速    u: 164.1064302103099 (m/s)\n",
      "流体雷诺数 Re: 939540.6309750566\n",
      "相对粗糙度 rr: 0.03333333333333333\n",
      "摩擦阻力系数f: 0.059747868548027355\n",
      "沿程阻力损失h: 325063.65537569625 (m)\n",
      "i: 1 - - - - - - - - - - - - - - - -\n",
      "运动粘滞系数v: 1.31e-06 (m^2/s)\n",
      "流体流速    u: 41.026607552577474 (m/s)\n",
      "流体雷诺数 Re: 469770.3154875283\n",
      "相对粗糙度 rr: 0.016666666666666666\n",
      "摩擦阻力系数f: 0.0454776062498837\n",
      "沿程阻力损失h: 7732.031537577275 (m)\n",
      "i: 2 - - - - - - - - - - - - - - - -\n",
      "运动粘滞系数v: 1.31e-06 (m^2/s)\n",
      "流体流速    u: 18.234047801145543 (m/s)\n",
      "流体雷诺数 Re: 313180.21032501885\n",
      "相对粗糙度 rr: 0.011111111111111112\n",
      "摩擦阻力系数f: 0.039456405883298705\n",
      "沿程阻力损失h: 883.3996986725613 (m)\n",
      "i: 3 - - - - - - - - - - - - - - - -\n",
      "运动粘滞系数v: 1.31e-06 (m^2/s)\n",
      "流体流速    u: 10.256651888144368 (m/s)\n",
      "流体雷诺数 Re: 234885.15774376414\n",
      "相对粗糙度 rr: 0.008333333333333333\n",
      "摩擦阻力系数f: 0.035953523276203235\n",
      "沿程阻力损失h: 191.0238073624237 (m)\n",
      "i: 4 - - - - - - - - - - - - - - - -\n",
      "运动粘滞系数v: 1.31e-06 (m^2/s)\n",
      "流体流速    u: 6.564257208412394 (m/s)\n",
      "流体雷诺数 Re: 187908.1261950113\n",
      "相对粗糙度 rr: 0.006666666666666666\n",
      "摩擦阻力系数f: 0.03361621611121283\n",
      "沿程阻力损失h: 58.525455609725114 (m)\n",
      "i: 5 - - - - - - - - - - - - - - - -\n",
      "运动粘滞系数v: 1.31e-06 (m^2/s)\n",
      "流体流速    u: 4.558511950286386 (m/s)\n",
      "流体雷诺数 Re: 156590.10516250943\n",
      "相对粗糙度 rr: 0.005555555555555556\n",
      "摩擦阻力系数f: 0.03193540542535594\n",
      "沿程阻力损失h: 22.34406468526628 (m)\n",
      "i: 6 - - - - - - - - - - - - - - - -\n",
      "运动粘滞系数v: 1.31e-06 (m^2/s)\n",
      "流体流速    u: 3.3491108206185682 (m/s)\n",
      "流体雷诺数 Re: 134220.09013929378\n",
      "相对粗糙度 rr: 0.0047619047619047615\n",
      "摩擦阻力系数f: 0.030670025467203734\n",
      "沿程阻力损失h: 9.928186675931027 (m)\n",
      "i: 7 - - - - - - - - - - - - - - - -\n",
      "运动粘滞系数v: 1.31e-06 (m^2/s)\n",
      "流体流速    u: 2.564162972036092 (m/s)\n",
      "流体雷诺数 Re: 117442.57887188207\n",
      "相对粗糙度 rr: 0.004166666666666667\n",
      "摩擦阻力系数f: 0.02968857749246408\n",
      "沿程阻力损失h: 4.929302289981075 (m)\n",
      "i: 8 - - - - - - - - - - - - - - - -\n",
      "运动粘滞系数v: 1.31e-06 (m^2/s)\n",
      "流体流速    u: 2.0260053112383942 (m/s)\n",
      "流体雷诺数 Re: 104393.40344167297\n",
      "相对粗糙度 rr: 0.0037037037037037043\n",
      "摩擦阻力系数f: 0.028912008680858633\n",
      "沿程阻力损失h: 2.663861961038285 (m)\n",
      "i: 9 - - - - - - - - - - - - - - - -\n"
     ]
    }
   ],
   "source": [
    "for i in range(1,10,1):\n",
    "    Loss(v=1.31,e=0.25e-3,l=30,d=0.075*i*0.1,Q=0.00725)\n",
    "    print('i:',i,'- - - - - - - - - - - - - - - -')"
   ]
  }
 ],
 "metadata": {
  "kernelspec": {
   "display_name": "Python 3",
   "language": "python",
   "name": "python3"
  },
  "language_info": {
   "codemirror_mode": {
    "name": "ipython",
    "version": 3
   },
   "file_extension": ".py",
   "mimetype": "text/x-python",
   "name": "python",
   "nbconvert_exporter": "python",
   "pygments_lexer": "ipython3",
   "version": "3.8.8"
  },
  "toc": {
   "base_numbering": 1,
   "nav_menu": {},
   "number_sections": true,
   "sideBar": true,
   "skip_h1_title": false,
   "title_cell": "Table of Contents",
   "title_sidebar": "Contents",
   "toc_cell": false,
   "toc_position": {},
   "toc_section_display": true,
   "toc_window_display": false
  },
  "varInspector": {
   "cols": {
    "lenName": 16,
    "lenType": 16,
    "lenVar": 40
   },
   "kernels_config": {
    "python": {
     "delete_cmd_postfix": "",
     "delete_cmd_prefix": "del ",
     "library": "var_list.py",
     "varRefreshCmd": "print(var_dic_list())"
    },
    "r": {
     "delete_cmd_postfix": ") ",
     "delete_cmd_prefix": "rm(",
     "library": "var_list.r",
     "varRefreshCmd": "cat(var_dic_list()) "
    }
   },
   "types_to_exclude": [
    "module",
    "function",
    "builtin_function_or_method",
    "instance",
    "_Feature"
   ],
   "window_display": false
  }
 },
 "nbformat": 4,
 "nbformat_minor": 5
}
